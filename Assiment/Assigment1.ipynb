{
 "cells": [
  {
   "cell_type": "markdown",
   "id": "aabd8acb",
   "metadata": {},
   "source": [
    "###  Arithmetic Operators (+, -, *, /, //, %, **)\n"
   ]
  },
  {
   "cell_type": "code",
   "execution_count": 1,
   "id": "7abde783",
   "metadata": {},
   "outputs": [
    {
     "name": "stdout",
     "output_type": "stream",
     "text": [
      "John has 13 fruits\n"
     ]
    }
   ],
   "source": [
    "# Q1. John has 6 apples and 7 bananas. How many fruits does John have?\n",
    "\n",
    "\n",
    "Apple = 6\n",
    "Banana = 7\n",
    "\n",
    "total_fruits = Apple+ Banana\n",
    "\n",
    "print(f'John has {total_fruits} fruits')"
   ]
  },
  {
   "cell_type": "code",
   "execution_count": 8,
   "id": "398c4e82",
   "metadata": {},
   "outputs": [
    {
     "name": "stdout",
     "output_type": "stream",
     "text": [
      "25\n"
     ]
    }
   ],
   "source": [
    "#  Q2. Emma read 15 pages yesterday and 10 pages today. Did she read more than 20 pages in total?\n",
    "\n",
    "pages_yesterday = 15\n",
    "pages_today = 10\n",
    "pages_yesterday = 15\n",
    "print(pages_yesterday+ pages_today)"
   ]
  },
  {
   "cell_type": "code",
   "execution_count": 9,
   "id": "e82d69b1",
   "metadata": {},
   "outputs": [
    {
     "name": "stdout",
     "output_type": "stream",
     "text": [
      "18\n"
     ]
    }
   ],
   "source": [
    "#Q4. Mike had 30 candies and gave 12 to his friend. How many does he have now?\n",
    "candies = 30\n",
    "candies_given = 12\n",
    "print(candies - candies_given)"
   ]
  },
  {
   "cell_type": "code",
   "execution_count": 10,
   "id": "545dd52c",
   "metadata": {},
   "outputs": [
    {
     "name": "stdout",
     "output_type": "stream",
     "text": [
      "15\n"
     ]
    }
   ],
   "source": [
    "#  Q5. Sarah bought 5 pens at $3 each. How much did she spend?\n",
    "\n",
    "pens = 5\n",
    "price_per_pen = 3\n",
    "print(pens * price_per_pen)"
   ]
  },
  {
   "cell_type": "code",
   "execution_count": 15,
   "id": "f6843695",
   "metadata": {},
   "outputs": [
    {
     "name": "stdout",
     "output_type": "stream",
     "text": [
      "no of cookies per kid:9.0\n"
     ]
    }
   ],
   "source": [
    "#  Q6. There are 45 cookies equally divided among 5 kids. How many does each get?\n",
    "\n",
    "no_of_cookies = 45\n",
    "no_of_kids = 5\n",
    "print('no of cookies per kid:' + str(no_of_cookies/no_of_kids))"
   ]
  },
  {
   "cell_type": "code",
   "execution_count": 18,
   "id": "05555366",
   "metadata": {},
   "outputs": [
    {
     "name": "stdout",
     "output_type": "stream",
     "text": [
      "False\n"
     ]
    }
   ],
   "source": [
    "#Q13. A chocolate costs $2. You have $9. Can you buy 5 chocolates\n",
    "chocolate_cost = 2\n",
    "money= 9\n",
    "no_of_chocolates = 5\n",
    "total_cost = chocolate_cost * no_of_chocolates\n",
    "print(total_cost<= money)\n"
   ]
  },
  {
   "cell_type": "code",
   "execution_count": 20,
   "id": "3aa5dcb2",
   "metadata": {},
   "outputs": [
    {
     "name": "stdout",
     "output_type": "stream",
     "text": [
      "False\n"
     ]
    }
   ],
   "source": [
    "#  Q16. Peter has 5 books, each weighing 1.2 kg. Is the total weight more than 6 kg?\n",
    "\n",
    "no_of_books = 5\n",
    "weight_per_book= 1.2\n",
    "total_weight = no_of_books * weight_per_book\n",
    "print(total_weight >6)"
   ]
  },
  {
   "cell_type": "code",
   "execution_count": 22,
   "id": "19493283",
   "metadata": {},
   "outputs": [
    {
     "name": "stdout",
     "output_type": "stream",
     "text": [
      "True\n"
     ]
    }
   ],
   "source": [
    "# Q20. A movie ticket costs $12. Can you buy 4 with $50?\n",
    "\n",
    "\n",
    "Ticket_cost = 12\n",
    "money = 50\n",
    "print(money >= Ticket_cost*4)"
   ]
  },
  {
   "cell_type": "code",
   "execution_count": 23,
   "id": "38b94341",
   "metadata": {},
   "outputs": [
    {
     "name": "stdout",
     "output_type": "stream",
     "text": [
      "True\n"
     ]
    }
   ],
   "source": [
    "# Q22. Is the difference between 100 and 37 greater than 60?\n",
    "diff = 100- 37\n",
    "print(diff > 60)"
   ]
  },
  {
   "cell_type": "code",
   "execution_count": 24,
   "id": "67e966d1",
   "metadata": {},
   "outputs": [
    {
     "name": "stdout",
     "output_type": "stream",
     "text": [
      "True\n"
     ]
    }
   ],
   "source": [
    "#  Q23. Does dividing 81 by 9 result in a number greater than 8?\n",
    "result = 81/9\n",
    "print(result> 8)"
   ]
  },
  {
   "cell_type": "code",
   "execution_count": 25,
   "id": "1704de4e",
   "metadata": {},
   "outputs": [
    {
     "name": "stdout",
     "output_type": "stream",
     "text": [
      "True\n"
     ]
    }
   ],
   "source": [
    "#  Q24. Are 5 multiplied by 6 and 30 equal?\n",
    "result = 5* 6\n",
    "print(result == 30)"
   ]
  },
  {
   "cell_type": "code",
   "execution_count": 26,
   "id": "5699bf68",
   "metadata": {},
   "outputs": [
    {
     "name": "stdout",
     "output_type": "stream",
     "text": [
      "True\n"
     ]
    }
   ],
   "source": [
    "#  Q26. A basket holds 18 apples. If you eat 6, do you have fewer than 15 left?\n",
    "\n",
    "baskt_apple = 18\n",
    "eaten_apple = 6\n",
    "print(baskt_apple - eaten_apple < 15)"
   ]
  },
  {
   "cell_type": "code",
   "execution_count": 27,
   "id": "b2790ba4",
   "metadata": {},
   "outputs": [
    {
     "name": "stdout",
     "output_type": "stream",
     "text": [
      "True\n"
     ]
    }
   ],
   "source": [
    "# Q27. Sam travels 120 km in 2 hours. Is his speed 60 km/hr?\n",
    "distance = 120\n",
    "time = 2\n",
    "print(distance/ time ==60)\n"
   ]
  },
  {
   "cell_type": "code",
   "execution_count": 30,
   "id": "35ddd580",
   "metadata": {},
   "outputs": [
    {
     "name": "stdout",
     "output_type": "stream",
     "text": [
      "False\n"
     ]
    }
   ],
   "source": [
    "#  Q28. Is 7 + 3 * 2 equal to 20?\n",
    "result = 7 + 3*2\n",
    "print(result ==20)"
   ]
  },
  {
   "cell_type": "code",
   "execution_count": 31,
   "id": "16827b74",
   "metadata": {},
   "outputs": [
    {
     "name": "stdout",
     "output_type": "stream",
     "text": [
      "False\n"
     ]
    }
   ],
   "source": [
    "# Q29. Jane bought 2 pens and 3 pencils. If a pen is $2 and pencil $1, did she spend $9?\n",
    "\n",
    "no_of_pens = 2\n",
    "no_of_pencils = 3\n",
    "cost_pen = 2\n",
    "cost_pencil = 1\n",
    "print((no_of_pens * cost_pen)+(no_of_pencils * cost_pencil)==9)\n",
    "\n"
   ]
  },
  {
   "cell_type": "code",
   "execution_count": 32,
   "id": "63726c6e",
   "metadata": {},
   "outputs": [
    {
     "name": "stdout",
     "output_type": "stream",
     "text": [
      "True\n"
     ]
    }
   ],
   "source": [
    "# Q30. You have 3 boxes, each holding 12 balls. Are total balls more than 35?\n",
    "\n",
    "no_of_boxes = 3\n",
    "balls_per_box = 12\n",
    "print(no_of_boxes*balls_per_box>35)"
   ]
  },
  {
   "cell_type": "code",
   "execution_count": 33,
   "id": "0833288c",
   "metadata": {},
   "outputs": [
    {
     "name": "stdout",
     "output_type": "stream",
     "text": [
      "True\n"
     ]
    }
   ],
   "source": [
    "#  Q34. Does subtracting 20 from 50 give 30?\n",
    "result = 50-20\n",
    "print(result == 30)"
   ]
  },
  {
   "cell_type": "code",
   "execution_count": 34,
   "id": "e1ad96a7",
   "metadata": {},
   "outputs": [
    {
     "name": "stdout",
     "output_type": "stream",
     "text": [
      "True\n"
     ]
    }
   ],
   "source": [
    "# Q35. Are 10 + 15 and 5 * 5 equal?\n",
    "\n",
    "result1 = 10+15\n",
    "result2 = 5* 5\n",
    "print(result1 == result2)"
   ]
  },
  {
   "cell_type": "code",
   "execution_count": 35,
   "id": "f2b837d8",
   "metadata": {},
   "outputs": [
    {
     "name": "stdout",
     "output_type": "stream",
     "text": [
      "True\n"
     ]
    }
   ],
   "source": [
    "#  Q36. If a packet has 48 candies, can 6 kids get more than 7 each?\n",
    "\n",
    "no_of_candies= 48\n",
    "no_of_kids = 6\n",
    "print((no_of_candies/no_of_kids) > 7)"
   ]
  },
  {
   "cell_type": "code",
   "execution_count": 36,
   "id": "6575c465",
   "metadata": {},
   "outputs": [
    {
     "name": "stdout",
     "output_type": "stream",
     "text": [
      "True\n"
     ]
    }
   ],
   "source": [
    "#Q41. Multiply 4 by 4. Is the result less than 20?\n",
    "mul = 4*4\n",
    "print(mul< 20) "
   ]
  },
  {
   "cell_type": "code",
   "execution_count": 37,
   "id": "d460bd15",
   "metadata": {},
   "outputs": [
    {
     "name": "stdout",
     "output_type": "stream",
     "text": [
      "True\n"
     ]
    }
   ],
   "source": [
    "#  Q42. Add 13 and 7. Is the result divisible by 5?\n",
    "add = 13+ 7\n",
    "print(add % 5 ==0)"
   ]
  },
  {
   "cell_type": "code",
   "execution_count": 38,
   "id": "6df79aae",
   "metadata": {},
   "outputs": [
    {
     "name": "stdout",
     "output_type": "stream",
     "text": [
      "True\n"
     ]
    }
   ],
   "source": [
    "#  Q43. 20 apples are equally shared between 5 students. Does each get 4?\n",
    "\n",
    "no_of_apples = 20\n",
    "no_of_students = 5\n",
    "print(no_of_apples/no_of_students == 4)"
   ]
  },
  {
   "cell_type": "code",
   "execution_count": 39,
   "id": "3a1079cf",
   "metadata": {},
   "outputs": [
    {
     "name": "stdout",
     "output_type": "stream",
     "text": [
      "True\n"
     ]
    }
   ],
   "source": [
    "#  Q44. Subtract 15 from 60. Is the result equal to 45?\n",
    "\n",
    "sub = 60- 15\n",
    "print(sub == 45)"
   ]
  },
  {
   "cell_type": "code",
   "execution_count": 40,
   "id": "93a8b9ab",
   "metadata": {},
   "outputs": [
    {
     "name": "stdout",
     "output_type": "stream",
     "text": [
      "False\n"
     ]
    }
   ],
   "source": [
    "#  Q46. If you double 12, is the result more than 25?\n",
    "\n",
    "num = 12\n",
    "print(num * 2 >25)"
   ]
  },
  {
   "cell_type": "code",
   "execution_count": 41,
   "id": "9827ff30",
   "metadata": {},
   "outputs": [
    {
     "name": "stdout",
     "output_type": "stream",
     "text": [
      "True\n"
     ]
    }
   ],
   "source": [
    "#  Q47. Are 100 divided by 4 and 25 equal?\n",
    "num = 100\n",
    "print(num/4 == 25)"
   ]
  },
  {
   "cell_type": "code",
   "execution_count": 42,
   "id": "d22dea3e",
   "metadata": {},
   "outputs": [
    {
     "name": "stdout",
     "output_type": "stream",
     "text": [
      "True\n"
     ]
    }
   ],
   "source": [
    "#  Q50. Add 5.5 and 4.5. Is the result 10?\n",
    "Add = 5.5 + 4.5\n",
    "print(Add == 10)"
   ]
  },
  {
   "cell_type": "code",
   "execution_count": 43,
   "id": "6156a8c5",
   "metadata": {},
   "outputs": [
    {
     "name": "stdout",
     "output_type": "stream",
     "text": [
      "True\n"
     ]
    }
   ],
   "source": [
    "#  Q51. A number is 25. If you divide it by 4 using floor division, is the result 6?\n",
    "num = 25//4\n",
    "print(num == 6) "
   ]
  },
  {
   "cell_type": "code",
   "execution_count": 44,
   "id": "ce7ac0c4",
   "metadata": {},
   "outputs": [
    {
     "name": "stdout",
     "output_type": "stream",
     "text": [
      "True\n"
     ]
    }
   ],
   "source": [
    "#  Q52. What is the remainder when 29 is divided by 5? Is it equal to 4?\n",
    "remainder = 29%5\n",
    "print(remainder == 4)"
   ]
  },
  {
   "cell_type": "code",
   "execution_count": 45,
   "id": "1498e36e",
   "metadata": {},
   "outputs": [
    {
     "name": "stdout",
     "output_type": "stream",
     "text": [
      "True\n"
     ]
    }
   ],
   "source": [
    "#  Q53. Is 3 ** 4 equal to 81?\n",
    "print(3**4 == 81)"
   ]
  },
  {
   "cell_type": "markdown",
   "id": "1387340c",
   "metadata": {},
   "source": [
    "### 2. Comparison Operators (==, !=, >, <, >=, <=)\n"
   ]
  },
  {
   "cell_type": "code",
   "execution_count": 46,
   "id": "375a2bd0",
   "metadata": {},
   "outputs": [
    {
     "name": "stdout",
     "output_type": "stream",
     "text": [
      "True\n"
     ]
    }
   ],
   "source": [
    "# Q3. A bag contains 12 red balls and 8 blue balls. Is the number of red balls greater than blue balls?\n",
    "\n",
    "no_of_red_balls = 12\n",
    "no_of_blue_balls = 8\n",
    "print(no_of_red_balls > no_of_blue_balls) "
   ]
  },
  {
   "cell_type": "code",
   "execution_count": 47,
   "id": "6f8e64d6",
   "metadata": {},
   "outputs": [
    {
     "name": "stdout",
     "output_type": "stream",
     "text": [
      "True\n"
     ]
    }
   ],
   "source": [
    "#  Q7. Tom scored 89 in math and 76 in science. Did he score more than 160 in total?\n",
    "\n",
    "maths =  89\n",
    "science = 76\n",
    "print(maths + science>160)"
   ]
  },
  {
   "cell_type": "code",
   "execution_count": 48,
   "id": "2f485301",
   "metadata": {},
   "outputs": [
    {
     "name": "stdout",
     "output_type": "stream",
     "text": [
      "False\n"
     ]
    }
   ],
   "source": [
    "# Q8. A store sells apples at $2.50 each. If you buy 4, is the total cost more than $10?\n",
    "apple_cost = 2.50\n",
    "no_of_apples = 4\n",
    "print(apple_cost * no_of_apples> 10)"
   ]
  },
  {
   "cell_type": "code",
   "execution_count": 50,
   "id": "88db15f7",
   "metadata": {},
   "outputs": [
    {
     "name": "stdout",
     "output_type": "stream",
     "text": [
      "True\n"
     ]
    }
   ],
   "source": [
    "# Q9. Alice has $100 and buys 3 books for $25 each. Will she have any money left?\n",
    "amount = 100\n",
    "book_cost = 25\n",
    "no_of_books = 3\n",
    "print(amount>(book_cost * no_of_books))"
   ]
  },
  {
   "cell_type": "code",
   "execution_count": 51,
   "id": "bbd5a1fc",
   "metadata": {},
   "outputs": [
    {
     "name": "stdout",
     "output_type": "stream",
     "text": [
      "True\n"
     ]
    }
   ],
   "source": [
    "#  Q10. A rectangle has length 10 and width 4. Is its area greater than its perimeter?\n",
    "length = 10\n",
    "width = 4\n",
    "area = length * width\n",
    "perimeter = 2*(length+width)\n",
    "print(area > perimeter)"
   ]
  },
  {
   "cell_type": "code",
   "execution_count": 52,
   "id": "5ed656f7",
   "metadata": {},
   "outputs": [
    {
     "name": "stdout",
     "output_type": "stream",
     "text": [
      "False\n"
     ]
    }
   ],
   "source": [
    "#  Q11. Two friends have 45 and 55 marbles respectively. Do they have equal number of marbles?\n",
    "friend1_marbles = 45\n",
    "friend2_marbles = 55\n",
    "print(friend1_marbles == friend2_marbles)"
   ]
  },
  {
   "cell_type": "code",
   "execution_count": 53,
   "id": "87d5438c",
   "metadata": {},
   "outputs": [
    {
     "name": "stdout",
     "output_type": "stream",
     "text": [
      "True\n"
     ]
    }
   ],
   "source": [
    " # Q12. A car travels 60 km in 1 hour and a bike 40 km in the same time. Is the car faster?\n",
    "\n",
    "car_speed = 60\n",
    "bike_speed = 40\n",
    "print(car_speed > bike_speed)"
   ]
  },
  {
   "cell_type": "code",
   "execution_count": 54,
   "id": "681fec58",
   "metadata": {},
   "outputs": [
    {
     "name": "stdout",
     "output_type": "stream",
     "text": [
      "True\n"
     ]
    }
   ],
   "source": [
    "#  Q15. Two numbers are 13 and 17. Is their sum an even number?\n",
    "num1 = 13\n",
    "num2 = 17\n",
    "print((num1+ num2)%2==0)"
   ]
  },
  {
   "cell_type": "code",
   "execution_count": 55,
   "id": "52d06b02",
   "metadata": {},
   "outputs": [
    {
     "name": "stdout",
     "output_type": "stream",
     "text": [
      "True\n"
     ]
    }
   ],
   "source": [
    "# Q17. A triangle has sides 3, 4, and 5. Is it a right-angled triangle?\n",
    "len1 = 3\n",
    "len2 = 4\n",
    "len3 = 5\n",
    "is_right_traingle =(len1**2 +len2 **2 == len3**2)\n",
    "print(is_right_traingle)"
   ]
  },
  {
   "cell_type": "code",
   "execution_count": 56,
   "id": "1e44e366",
   "metadata": {},
   "outputs": [
    {
     "name": "stdout",
     "output_type": "stream",
     "text": [
      "True\n"
     ]
    }
   ],
   "source": [
    "# Q18. Jenny had $50, bought items worth $35. Does she have less than $20 left?\n",
    "\n",
    "amount =50\n",
    "item_cost = 35\n",
    "print(amount-item_cost < 20)"
   ]
  },
  {
   "cell_type": "code",
   "execution_count": 57,
   "id": "4e0fb12f",
   "metadata": {},
   "outputs": [
    {
     "name": "stdout",
     "output_type": "stream",
     "text": [
      "False\n"
     ]
    }
   ],
   "source": [
    "#  Q19. A worker earns $80 per day. Is earning from 6 days more than $500?\n",
    "daily_amount = 80\n",
    "earning_from_6_days = daily_amount*6\n",
    "print(earning_from_6_days >500)"
   ]
  },
  {
   "cell_type": "code",
   "execution_count": 58,
   "id": "391963a8",
   "metadata": {},
   "outputs": [
    {
     "name": "stdout",
     "output_type": "stream",
     "text": [
      "False\n"
     ]
    }
   ],
   "source": [
    "#  Q21. If a bottle contains 750ml, do 4 bottles hold more than 3 liters?\n",
    "\n",
    "bottle_capacity =0.750\n",
    "no_of_bottles = 4\n",
    "print(bottle_capacity *no_of_bottles > 3)\n"
   ]
  },
  {
   "cell_type": "code",
   "execution_count": 59,
   "id": "2468f307",
   "metadata": {},
   "outputs": [
    {
     "name": "stdout",
     "output_type": "stream",
     "text": [
      "False\n"
     ]
    }
   ],
   "source": [
    "# Q25. Do two squares of side 4 and 5 have the same area?\n",
    "side1 = 4\n",
    "side2 = 5\n",
    "print(side1 **2 == side2**2)"
   ]
  },
  {
   "cell_type": "code",
   "execution_count": 61,
   "id": "a6a1eba7",
   "metadata": {},
   "outputs": [
    {
     "name": "stdout",
     "output_type": "stream",
     "text": [
      "True\n"
     ]
    }
   ],
   "source": [
    "# Q31. A triangle has angles 60, 60, and 60. Do they sum to 180?\n",
    "angle1 ,angle2, angle3 =60,60,60\n",
    "print(angle1 + angle2 +angle3 == 180)"
   ]
  },
  {
   "cell_type": "code",
   "execution_count": 62,
   "id": "862efc47",
   "metadata": {},
   "outputs": [
    {
     "name": "stdout",
     "output_type": "stream",
     "text": [
      "False\n"
     ]
    }
   ],
   "source": [
    "#  Q32. If you split 100 into two equal parts, is one part greater than 60?\n",
    "print(100/2 >60)"
   ]
  },
  {
   "cell_type": "code",
   "execution_count": 63,
   "id": "ec002a56",
   "metadata": {},
   "outputs": [
    {
     "name": "stdout",
     "output_type": "stream",
     "text": [
      "True\n"
     ]
    }
   ],
   "source": [
    "#  Q33. Mike earned $400 in 8 days. Did he earn $50 daily?\n",
    "daily_amount =400/8\n",
    "print(daily_amount == 50)"
   ]
  },
  {
   "cell_type": "code",
   "execution_count": 65,
   "id": "539d14c6",
   "metadata": {},
   "outputs": [
    {
     "name": "stdout",
     "output_type": "stream",
     "text": [
      "True\n"
     ]
    }
   ],
   "source": [
    "#  Q37. Compare 5 ** 2 and 25. Are they the same?\n",
    "print(5**2 == 25)"
   ]
  },
  {
   "cell_type": "code",
   "execution_count": 66,
   "id": "c2afbf67",
   "metadata": {},
   "outputs": [
    {
     "name": "stdout",
     "output_type": "stream",
     "text": [
      "True\n"
     ]
    }
   ],
   "source": [
    "# Q38. Is (10 + 2) * 3 greater than 35?\n",
    "print((10 +2) *3 >35)"
   ]
  },
  {
   "cell_type": "code",
   "execution_count": 67,
   "id": "4105bf1f",
   "metadata": {},
   "outputs": [
    {
     "name": "stdout",
     "output_type": "stream",
     "text": [
      "True\n"
     ]
    }
   ],
   "source": [
    "#  Q39. Do 8 and 8.0 compare equal?\n",
    "print(8==8.0)"
   ]
  },
  {
   "cell_type": "code",
   "execution_count": 68,
   "id": "493d3c40",
   "metadata": {},
   "outputs": [
    {
     "name": "stdout",
     "output_type": "stream",
     "text": [
      "True\n"
     ]
    }
   ],
   "source": [
    "#  Q40. A rope is cut into 3 pieces of 10, 15, and 25 meters. Is the total 50?\n",
    "print(10+15+25 == 50)"
   ]
  },
  {
   "cell_type": "code",
   "execution_count": 69,
   "id": "797ca544",
   "metadata": {},
   "outputs": [
    {
     "name": "stdout",
     "output_type": "stream",
     "text": [
      "True\n"
     ]
    }
   ],
   "source": [
    "#  Q45. Compare 3 * 3 + 1 and 10. Are they equal?\n",
    "print( 3 * 3 + 1 ==10)"
   ]
  },
  {
   "cell_type": "code",
   "execution_count": 70,
   "id": "54ca5d03",
   "metadata": {},
   "outputs": [
    {
     "name": "stdout",
     "output_type": "stream",
     "text": [
      "True\n"
     ]
    }
   ],
   "source": [
    "#  Is (9 - 3) * 2 greater than 10?\n",
    "print((9 - 3) * 2 >10)"
   ]
  },
  {
   "cell_type": "markdown",
   "id": "b3163ca4",
   "metadata": {},
   "source": [
    "### 3. Logical Operators (and, or, not)"
   ]
  },
  {
   "cell_type": "code",
   "execution_count": 2,
   "id": "8d43f237",
   "metadata": {},
   "outputs": [
    {
     "name": "stdout",
     "output_type": "stream",
     "text": [
      "True\n"
     ]
    }
   ],
   "source": [
    "# Q56. Given a = 10 and b = 5, is (a > 5 and b < 10) True?\n",
    "a = 10\n",
    "b = 5\n",
    "print((a > 5 and b < 10))"
   ]
  },
  {
   "cell_type": "code",
   "execution_count": 3,
   "id": "a2f641a3",
   "metadata": {},
   "outputs": [
    {
     "name": "stdout",
     "output_type": "stream",
     "text": [
      "True\n"
     ]
    }
   ],
   "source": [
    "#  Q57. If x = 8, is not (x > 10) True?\n",
    "x = 8\n",
    "print(not(x > 10))\n"
   ]
  },
  {
   "cell_type": "code",
   "execution_count": 4,
   "id": "491143b6",
   "metadata": {},
   "outputs": [
    {
     "name": "stdout",
     "output_type": "stream",
     "text": [
      "True\n"
     ]
    }
   ],
   "source": [
    "#  Q58. Is 5 < 3 or 7 == 7 True?\n",
    "\n",
    "print(5 < 3 or 7 == 7 )"
   ]
  },
  {
   "cell_type": "markdown",
   "id": "fab53852",
   "metadata": {},
   "source": [
    "###  4. Assignment Operators (=, +=, -=, *=)"
   ]
  },
  {
   "cell_type": "code",
   "execution_count": 5,
   "id": "f8c2907b",
   "metadata": {},
   "outputs": [
    {
     "name": "stdout",
     "output_type": "stream",
     "text": [
      "True\n"
     ]
    }
   ],
   "source": [
    "# Q54. If x = 10, and you do x += 5, is the new value of x equal to 15?\n",
    "\n",
    "x = 10\n",
    "x += 5\n",
    "print(x ==15)"
   ]
  },
  {
   "cell_type": "code",
   "execution_count": 6,
   "id": "de99c993",
   "metadata": {},
   "outputs": [
    {
     "name": "stdout",
     "output_type": "stream",
     "text": [
      "True\n"
     ]
    }
   ],
   "source": [
    "#  Q55. If y = 20, and you do y -= 7, is the result less than 15?\n",
    "y = 20\n",
    "y -= 7\n",
    "print(y <15)"
   ]
  },
  {
   "cell_type": "code",
   "execution_count": 7,
   "id": "d2a21861",
   "metadata": {},
   "outputs": [
    {
     "name": "stdout",
     "output_type": "stream",
     "text": [
      "True\n"
     ]
    }
   ],
   "source": [
    "#  Q59. Given x = 12, and x *= 2, is x equal to 24?\n",
    "\n",
    "x = 12\n",
    "x*= 2\n",
    "print(x == 24)"
   ]
  },
  {
   "cell_type": "markdown",
   "id": "70625125",
   "metadata": {},
   "source": [
    "###  5. Operator Precedence (Mixed Operators)\n"
   ]
  },
  {
   "cell_type": "code",
   "execution_count": 8,
   "id": "48b50f8a",
   "metadata": {},
   "outputs": [
    {
     "name": "stdout",
     "output_type": "stream",
     "text": [
      "False\n"
     ]
    }
   ],
   "source": [
    "# Q28. Is 7 + 3 * 2 equal to 20?\n",
    "\n",
    "print(7 + 3 * 2 == 20)"
   ]
  },
  {
   "cell_type": "code",
   "execution_count": 9,
   "id": "d967c5ee",
   "metadata": {},
   "outputs": [
    {
     "name": "stdout",
     "output_type": "stream",
     "text": [
      "True\n"
     ]
    }
   ],
   "source": [
    "# Q45. Compare 3 * 3 + 1 and 10. Are they equal?\n",
    "print(3 * 3 + 1  == 10)"
   ]
  },
  {
   "cell_type": "code",
   "execution_count": 10,
   "id": "3970c177",
   "metadata": {},
   "outputs": [
    {
     "name": "stdout",
     "output_type": "stream",
     "text": [
      "True\n"
     ]
    }
   ],
   "source": [
    "# Q48. Is (9 - 3) * 2 greater than 10?\n",
    "print((9 - 3) * 2 > 10)"
   ]
  },
  {
   "cell_type": "code",
   "execution_count": 11,
   "id": "2bee7e2c",
   "metadata": {},
   "outputs": [
    {
     "name": "stdout",
     "output_type": "stream",
     "text": [
      "True\n"
     ]
    }
   ],
   "source": [
    "#  Q60. Evaluate the expression 4 + 3 * 2 - 1. Is the result 9?\n",
    "print(4 + 3 * 2 - 1 ==9)"
   ]
  },
  {
   "cell_type": "markdown",
   "id": "0d376a68",
   "metadata": {},
   "source": [
    "### 6. Bitwise Operators (&, |, ^, ~, <<, >>)\n"
   ]
  },
  {
   "cell_type": "code",
   "execution_count": 12,
   "id": "314d4e18",
   "metadata": {},
   "outputs": [
    {
     "name": "stdout",
     "output_type": "stream",
     "text": [
      "True\n"
     ]
    }
   ],
   "source": [
    "# Q61. If a = 6 and b = 3, is a & b equal to 2?\n",
    "a = 6\n",
    "b = 3\n",
    "print(a & b == 2)"
   ]
  },
  {
   "cell_type": "code",
   "execution_count": 13,
   "id": "2818b90b",
   "metadata": {},
   "outputs": [
    {
     "name": "stdout",
     "output_type": "stream",
     "text": [
      "True\n"
     ]
    }
   ],
   "source": [
    "# Q62. If a = 6 and b = 3, is a | b equal to 7?\n",
    "\n",
    "a = 6\n",
    "b = 3\n",
    "print(a | b ==7)"
   ]
  },
  {
   "cell_type": "code",
   "execution_count": 14,
   "id": "0e5b2fd9",
   "metadata": {},
   "outputs": [
    {
     "name": "stdout",
     "output_type": "stream",
     "text": [
      "True\n"
     ]
    }
   ],
   "source": [
    "#  Q63. If a = 6 and b = 3, is a ^ b equal to 5?\n",
    "a = 6\n",
    "b = 3\n",
    "print(a ^ b == 5)"
   ]
  },
  {
   "cell_type": "code",
   "execution_count": 15,
   "id": "f15dca8a",
   "metadata": {},
   "outputs": [
    {
     "name": "stdout",
     "output_type": "stream",
     "text": [
      "True\n"
     ]
    }
   ],
   "source": [
    "#  Q64. If a = 4, is ~a equal to -5?\n",
    "a = 4\n",
    "print(~a ==-5)"
   ]
  },
  {
   "cell_type": "code",
   "execution_count": 16,
   "id": "7b3831e9",
   "metadata": {},
   "outputs": [
    {
     "name": "stdout",
     "output_type": "stream",
     "text": [
      "True\n"
     ]
    }
   ],
   "source": [
    "#  Q65. If a = 5, is a << 1 equal to 10?\n",
    "\n",
    "a = 5\n",
    "a = a<<1\n",
    "print(a == 10)\n",
    "\n",
    "\n"
   ]
  },
  {
   "cell_type": "code",
   "execution_count": 17,
   "id": "e093de0d",
   "metadata": {},
   "outputs": [
    {
     "name": "stdout",
     "output_type": "stream",
     "text": [
      "True\n"
     ]
    }
   ],
   "source": [
    "#  Q66. If a = 8, is a >> 2 equal to 2?\n",
    "a = 8\n",
    "print(a >> 2 ==2)"
   ]
  },
  {
   "cell_type": "markdown",
   "id": "bc0e711d",
   "metadata": {},
   "source": [
    "###  7. Identity Operators (is, is not)\n"
   ]
  },
  {
   "cell_type": "code",
   "execution_count": 18,
   "id": "eefdfd06",
   "metadata": {},
   "outputs": [
    {
     "name": "stdout",
     "output_type": "stream",
     "text": [
      "True\n"
     ]
    }
   ],
   "source": [
    "# Q67. If x = [1, 2, 3] and y = x, is x is y True?\n",
    "\n",
    "x = [1,2,3]\n",
    "y =x\n",
    "print(x is y)"
   ]
  },
  {
   "cell_type": "code",
   "execution_count": 19,
   "id": "899cf3bc",
   "metadata": {},
   "outputs": [
    {
     "name": "stdout",
     "output_type": "stream",
     "text": [
      "True\n"
     ]
    }
   ],
   "source": [
    "#  Q68. If a = [10, 20] and b = [10, 20], is a is not b True?\n",
    "\n",
    "a = [10,20]\n",
    "b = [10,20]\n",
    "print(a is not b)"
   ]
  },
  {
   "cell_type": "markdown",
   "id": "d6fa49bb",
   "metadata": {},
   "source": [
    "###  8. Membership Operators (in, not in)\n"
   ]
  },
  {
   "cell_type": "code",
   "execution_count": 21,
   "id": "3f0c1811",
   "metadata": {},
   "outputs": [
    {
     "name": "stdout",
     "output_type": "stream",
     "text": [
      "True\n"
     ]
    }
   ],
   "source": [
    "# Q69. Is 'a' in 'data' True?\n",
    "\n",
    "print('a' in 'data')"
   ]
  },
  {
   "cell_type": "code",
   "execution_count": 22,
   "id": "f9495143",
   "metadata": {},
   "outputs": [
    {
     "name": "stdout",
     "output_type": "stream",
     "text": [
      "True\n"
     ]
    }
   ],
   "source": [
    "# Q70. Is 5 not in [1, 2, 3, 4] True?\n",
    "\n",
    "print(5 not in [1,2,3,])"
   ]
  },
  {
   "cell_type": "code",
   "execution_count": null,
   "id": "128f77ca",
   "metadata": {},
   "outputs": [],
   "source": []
  }
 ],
 "metadata": {
  "kernelspec": {
   "display_name": "Python 3",
   "language": "python",
   "name": "python3"
  },
  "language_info": {
   "codemirror_mode": {
    "name": "ipython",
    "version": 3
   },
   "file_extension": ".py",
   "mimetype": "text/x-python",
   "name": "python",
   "nbconvert_exporter": "python",
   "pygments_lexer": "ipython3",
   "version": "3.11.9"
  }
 },
 "nbformat": 4,
 "nbformat_minor": 5
}
