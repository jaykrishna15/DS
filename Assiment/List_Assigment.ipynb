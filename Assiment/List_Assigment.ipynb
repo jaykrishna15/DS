{
 "cells": [
  {
   "cell_type": "markdown",
   "id": "0fccad64",
   "metadata": {},
   "source": [
    "##  Foundational List Questions "
   ]
  },
  {
   "cell_type": "markdown",
   "id": "537f585a",
   "metadata": {},
   "source": [
    "###  Basic List Usage"
   ]
  },
  {
   "cell_type": "code",
   "execution_count": null,
   "id": "67400ea5",
   "metadata": {},
   "outputs": [
    {
     "name": "stdout",
     "output_type": "stream",
     "text": [
      "['apple', 'banana', 'cherry']\n"
     ]
    }
   ],
   "source": [
    "# 1 How do you create a list of 3 fruits: \"apple\", \"banana\", and \"cherry\"?\n",
    "\n",
    "lst=[\"apple\", \"banana\", \"cherry\"]\n",
    "print(lst)"
   ]
  },
  {
   "cell_type": "code",
   "execution_count": 3,
   "id": "894e0da1",
   "metadata": {},
   "outputs": [
    {
     "name": "stdout",
     "output_type": "stream",
     "text": [
      "4\n"
     ]
    }
   ],
   "source": [
    "# 2 What is the output of len([\"a\", \"b\", \"c\", \"d\"])?\n",
    "\n",
    "lst =[\"a\", \"b\", \"c\", \"d\"]\n",
    "print(len(lst))\n"
   ]
  },
  {
   "cell_type": "code",
   "execution_count": 4,
   "id": "15538c2f",
   "metadata": {},
   "outputs": [
    {
     "name": "stdout",
     "output_type": "stream",
     "text": [
      "red\n"
     ]
    }
   ],
   "source": [
    "# 3 How do you access the first item in the list colors = [\"red\", \"green\", \"blue\"]?\n",
    "\n",
    "colors = [\"red\", \"green\", \"blue\"]\n",
    "print(colors[0]) "
   ]
  },
  {
   "cell_type": "code",
   "execution_count": null,
   "id": "ce9efe1c",
   "metadata": {},
   "outputs": [
    {
     "name": "stdout",
     "output_type": "stream",
     "text": [
      "30\n"
     ]
    }
   ],
   "source": [
    "#4  How do you get the last item from numbers = [10, 20, 30] using a negative index?\n",
    "\n",
    "numbers =[10,20,30]\n",
    "print(numbers[-1])"
   ]
  },
  {
   "cell_type": "code",
   "execution_count": 7,
   "id": "40d068ee",
   "metadata": {},
   "outputs": [
    {
     "name": "stdout",
     "output_type": "stream",
     "text": [
      "green\n"
     ]
    }
   ],
   "source": [
    "# 5 What does colors[1] return from colors = [\"red\", \"green\", \"blue\"]?\n",
    "\n",
    "colors = ['red','green','blue']\n",
    "print(colors[1])"
   ]
  },
  {
   "cell_type": "markdown",
   "id": "a434a585",
   "metadata": {},
   "source": [
    "###  List Modification Methods"
   ]
  },
  {
   "cell_type": "code",
   "execution_count": 10,
   "id": "0728fc9e",
   "metadata": {},
   "outputs": [
    {
     "name": "stdout",
     "output_type": "stream",
     "text": [
      "['apple', 'banana', 'orange']\n"
     ]
    }
   ],
   "source": [
    "# 6  Use append() to add \"orange\" to the list fruits = [\"apple\", \"banana\"].\n",
    "\n",
    "fruits = [\"apple\", \"banana\"]\n",
    "fruits.append(\"orange\")\n",
    "print(fruits)"
   ]
  },
  {
   "cell_type": "code",
   "execution_count": 12,
   "id": "bd7846e6",
   "metadata": {},
   "outputs": [
    {
     "data": {
      "text/plain": [
       "['apple', 'kiwi', 'banana']"
      ]
     },
     "execution_count": 12,
     "metadata": {},
     "output_type": "execute_result"
    }
   ],
   "source": [
    "# 7 Use insert() to add \"grapes\" at index 1 in the list fruits = [\"apple\", \"banana\"].\n",
    "\n",
    "fruits = [\"apple\", \"banana\"]\n",
    "fruits.insert(1,'kiwi')\n",
    "fruits"
   ]
  },
  {
   "cell_type": "code",
   "execution_count": 14,
   "id": "453ca0be",
   "metadata": {},
   "outputs": [
    {
     "data": {
      "text/plain": [
       "['apple', 'banana', 'kiwi', 'mango']"
      ]
     },
     "execution_count": 14,
     "metadata": {},
     "output_type": "execute_result"
    }
   ],
   "source": [
    "# 8 Use extend() to add [\"kiwi\", \"mango\"] to the end of fruits = [\"apple\", \"banana\"].\n",
    "\n",
    "\n",
    "fruits = ['apple','banana']\n",
    "fruits.extend([\"kiwi\", \"mango\"])\n",
    "fruits"
   ]
  },
  {
   "cell_type": "markdown",
   "id": "cbf50b8e",
   "metadata": {},
   "source": [
    "###  Removing Elements"
   ]
  },
  {
   "cell_type": "code",
   "execution_count": 16,
   "id": "d73fcad4",
   "metadata": {},
   "outputs": [
    {
     "data": {
      "text/plain": [
       "['apple', 'grapes']"
      ]
     },
     "execution_count": 16,
     "metadata": {},
     "output_type": "execute_result"
    }
   ],
   "source": [
    "# 9 Use remove() to delete \"banana\" from the list [\"apple\", \"banana\", \"grapes\"].\n",
    "\n",
    "\n",
    "fruits = [\"apple\", \"banana\", \"grapes\"]\n",
    "fruits.remove('banana')\n",
    "fruits"
   ]
  },
  {
   "cell_type": "code",
   "execution_count": 17,
   "id": "a045ad71",
   "metadata": {},
   "outputs": [
    {
     "name": "stdout",
     "output_type": "stream",
     "text": [
      "['a', 'b']\n"
     ]
    }
   ],
   "source": [
    "# 10 Use pop() to remove the last item from the list [\"a\", \"b\", \"c\"]. What is the list after this?\n",
    "\n",
    "lst = ['a','b','c']\n",
    "lst.pop()\n",
    "print(lst)"
   ]
  },
  {
   "cell_type": "code",
   "execution_count": 18,
   "id": "02ca6846",
   "metadata": {},
   "outputs": [
    {
     "name": "stdout",
     "output_type": "stream",
     "text": [
      "['a', 'c']\n"
     ]
    }
   ],
   "source": [
    "# 11 What is the output of x = [\"a\", \"b\", \"c\"]; x.pop(1)? What will be the new list?\n",
    "\n",
    "\n",
    "x = ['a','b','c']\n",
    "x.pop(1)\n",
    "print(x)"
   ]
  },
  {
   "cell_type": "code",
   "execution_count": 19,
   "id": "5ca3d533",
   "metadata": {},
   "outputs": [
    {
     "ename": "ValueError",
     "evalue": "list.remove(x): x not in list",
     "output_type": "error",
     "traceback": [
      "\u001b[1;31m---------------------------------------------------------------------------\u001b[0m",
      "\u001b[1;31mValueError\u001b[0m                                Traceback (most recent call last)",
      "Cell \u001b[1;32mIn[19], line 5\u001b[0m\n\u001b[0;32m      1\u001b[0m \u001b[38;5;66;03m# 12  What happens if you call remove(\"z\") on the list [\"x\", \"y\"] and \"z\" is not in it?\u001b[39;00m\n\u001b[0;32m      4\u001b[0m lst \u001b[38;5;241m=\u001b[39m [\u001b[38;5;124m'\u001b[39m\u001b[38;5;124mx\u001b[39m\u001b[38;5;124m'\u001b[39m,\u001b[38;5;124m'\u001b[39m\u001b[38;5;124my\u001b[39m\u001b[38;5;124m'\u001b[39m]\n\u001b[1;32m----> 5\u001b[0m \u001b[43mlst\u001b[49m\u001b[38;5;241;43m.\u001b[39;49m\u001b[43mremove\u001b[49m\u001b[43m(\u001b[49m\u001b[38;5;124;43m'\u001b[39;49m\u001b[38;5;124;43mz\u001b[39;49m\u001b[38;5;124;43m'\u001b[39;49m\u001b[43m)\u001b[49m\n\u001b[0;32m      6\u001b[0m \u001b[38;5;28mprint\u001b[39m(lst)\n",
      "\u001b[1;31mValueError\u001b[0m: list.remove(x): x not in list"
     ]
    }
   ],
   "source": [
    "# 12  What happens if you call remove(\"z\") on the list [\"x\", \"y\"] and \"z\" is not in it?\n",
    "\n",
    "\n",
    "lst = ['x','y']\n",
    "lst.remove('z')\n",
    "print(lst)"
   ]
  },
  {
   "cell_type": "markdown",
   "id": "04cedab9",
   "metadata": {},
   "source": [
    "when we are remove an element in the list it throw the error. for the we can use the dicard()"
   ]
  },
  {
   "cell_type": "markdown",
   "id": "c1bba4a6",
   "metadata": {},
   "source": [
    "###  Searching and Counting"
   ]
  },
  {
   "cell_type": "code",
   "execution_count": 20,
   "id": "1fff17ca",
   "metadata": {},
   "outputs": [
    {
     "data": {
      "text/plain": [
       "1"
      ]
     },
     "execution_count": 20,
     "metadata": {},
     "output_type": "execute_result"
    }
   ],
   "source": [
    "# 13 Use index() to find the position of \"python\" in the list [\"java\", \"python\", \"c++\"].\n",
    "\n",
    "lst = [\"java\", \"python\", \"c++\"]\n",
    "lst.index('python')"
   ]
  },
  {
   "cell_type": "code",
   "execution_count": 21,
   "id": "1e292dfd",
   "metadata": {},
   "outputs": [
    {
     "name": "stdout",
     "output_type": "stream",
     "text": [
      "2\n"
     ]
    }
   ],
   "source": [
    "# 14 Use count() to count how many times \"apple\" appears in [\"apple\", \"banana\", \"apple\", \"cherry\"].\n",
    "\n",
    "\n",
    "lst = [\"apple\", \"banana\", \"apple\", \"cherry\"]\n",
    "\n",
    "print(lst.count('apple'))"
   ]
  },
  {
   "cell_type": "markdown",
   "id": "d429e74b",
   "metadata": {},
   "source": [
    "###  Sorting and Reversing"
   ]
  },
  {
   "cell_type": "code",
   "execution_count": 23,
   "id": "c858d895",
   "metadata": {},
   "outputs": [
    {
     "name": "stdout",
     "output_type": "stream",
     "text": [
      "[60, 70, 90]\n"
     ]
    }
   ],
   "source": [
    "# 15 Sort the list marks = [60, 90, 70] in ascending order using sort().\n",
    "\n",
    "\n",
    "marks = [60,90,70]\n",
    "marks.sort()\n",
    "print(marks)"
   ]
  },
  {
   "cell_type": "code",
   "execution_count": 24,
   "id": "49b948fc",
   "metadata": {},
   "outputs": [
    {
     "name": "stdout",
     "output_type": "stream",
     "text": [
      "[90, 70, 60]\n"
     ]
    }
   ],
   "source": [
    "# 16 Sort the list marks = [60, 90, 70] in descending order using sort(reverse=True)\n",
    "\n",
    "marks = [60,90,70]\n",
    "marks.sort(reverse=True)\n",
    "print(marks)"
   ]
  },
  {
   "cell_type": "code",
   "execution_count": 13,
   "id": "dbfbc947",
   "metadata": {},
   "outputs": [
    {
     "name": "stdout",
     "output_type": "stream",
     "text": [
      "['c', 'b', 'a']\n"
     ]
    }
   ],
   "source": [
    "# 17 Use reverse() to reverse the list [\"a\", \"b\", \"c\"].\n",
    "\n",
    "lst =  [\"a\", \"b\", \"c\"]\n",
    "lst.reverse()\n",
    "print(lst)"
   ]
  },
  {
   "cell_type": "code",
   "execution_count": 14,
   "id": "2d7534a4",
   "metadata": {},
   "outputs": [
    {
     "name": "stdout",
     "output_type": "stream",
     "text": [
      "[1, 2, 3, 4]\n",
      "[4, 3, 2, 1]\n"
     ]
    }
   ],
   "source": [
    "# 18 What is the difference between sort() and reverse()?\n",
    "nums = [3, 1, 4, 2]\n",
    "nums.sort()       # Ascending order\n",
    "print(nums)       # [1, 2, 3, 4]\n",
    "\n",
    "nums.sort(reverse=True)  # Descending order\n",
    "print(nums)              # [4, 3, 2, 1]\n"
   ]
  },
  {
   "cell_type": "markdown",
   "id": "506c5648",
   "metadata": {},
   "source": [
    "###   Copying Lists"
   ]
  },
  {
   "cell_type": "code",
   "execution_count": null,
   "id": "9e45716f",
   "metadata": {},
   "outputs": [
    {
     "data": {
      "text/plain": [
       "[1, 2, 3]"
      ]
     },
     "execution_count": 28,
     "metadata": {},
     "output_type": "execute_result"
    }
   ],
   "source": [
    "# 19 Create a copy of a = [1, 2, 3] using copy() method.\n",
    "a = [1,2,3]\n",
    "a.copy()\n",
    "a"
   ]
  },
  {
   "cell_type": "code",
   "execution_count": 11,
   "id": "c11fbc0f",
   "metadata": {},
   "outputs": [
    {
     "name": "stdout",
     "output_type": "stream",
     "text": [
      "[1, 2, 3, 4]\n",
      "[1, 2, 3, 4]\n"
     ]
    }
   ],
   "source": [
    "# 20 What is the difference between a = b and a = b.copy()?\n",
    "b = [1, 2, 3]\n",
    "a = b       # No copy, just reference\n",
    "a.append(4)\n",
    "\n",
    "print(b)  # [1, 2, 3, 4]  ← b also changes\n",
    "print(a)  # [1, 2, 3, 4]\n"
   ]
  },
  {
   "cell_type": "code",
   "execution_count": null,
   "id": "f3329cf5",
   "metadata": {},
   "outputs": [
    {
     "name": "stdout",
     "output_type": "stream",
     "text": [
      "[1, 2, 3]\n",
      "[1, 2, 3, 4]\n"
     ]
    }
   ],
   "source": [
    "b = [1, 2, 3]\n",
    "a = b.copy()  # Creates a new list\n",
    "a.append(4)\n",
    "\n",
    "print(b)  # [1, 2, 3]  ← unaffected\n",
    "print(a)  # [1, 2, 3, 4]\n",
    "\n",
    "# can show a visual memory diagram of a = b vs a = b.copy() so it’s crystal clear\n"
   ]
  },
  {
   "cell_type": "markdown",
   "id": "b69eb3a8",
   "metadata": {},
   "source": [
    "### Clearing List"
   ]
  },
  {
   "cell_type": "code",
   "execution_count": null,
   "id": "f923e8f2",
   "metadata": {},
   "outputs": [
    {
     "data": {
      "text/plain": [
       "[]"
      ]
     },
     "execution_count": 29,
     "metadata": {},
     "output_type": "execute_result"
    }
   ],
   "source": [
    "# 21 Use clear() to remove all items from a = [1, 2, 3].\n",
    "a = [1,2,3]\n",
    "a.clear()\n",
    "a"
   ]
  },
  {
   "cell_type": "markdown",
   "id": "7b055f65",
   "metadata": {},
   "source": [
    "### List Arithmetic (Concatenation and Repetition)"
   ]
  },
  {
   "cell_type": "code",
   "execution_count": null,
   "id": "6f9d9c33",
   "metadata": {},
   "outputs": [
    {
     "data": {
      "text/plain": [
       "[1, 2, 3, 4]"
      ]
     },
     "execution_count": 30,
     "metadata": {},
     "output_type": "execute_result"
    }
   ],
   "source": [
    "# 22 What is the result of [1, 2] + [3, 4]?\n",
    "\n",
    "[1, 2] + [3, 4]\n"
   ]
  },
  {
   "cell_type": "code",
   "execution_count": 31,
   "id": "f2985679",
   "metadata": {},
   "outputs": [
    {
     "data": {
      "text/plain": [
       "['x', 'x', 'x']"
      ]
     },
     "execution_count": 31,
     "metadata": {},
     "output_type": "execute_result"
    }
   ],
   "source": [
    "# 23 What is the result of [\"x\"] * 3?\n",
    "\n",
    "[\"x\"] * 3\n"
   ]
  },
  {
   "cell_type": "markdown",
   "id": "a188db1e",
   "metadata": {},
   "source": [
    "### Membership Test"
   ]
  },
  {
   "cell_type": "code",
   "execution_count": 32,
   "id": "6675e2dd",
   "metadata": {},
   "outputs": [
    {
     "name": "stdout",
     "output_type": "stream",
     "text": [
      "True\n"
     ]
    }
   ],
   "source": [
    "# 24 Use the in keyword to check if \"AI\" exists in the list [\"Python\", \"ML\", \"AI\"].\n",
    "\n",
    "lst =[\"Python\", \"ML\", \"AI\"]\n",
    "\n",
    "print(\"AI\" in lst)\n"
   ]
  },
  {
   "cell_type": "code",
   "execution_count": 33,
   "id": "d6789ffd",
   "metadata": {},
   "outputs": [
    {
     "name": "stdout",
     "output_type": "stream",
     "text": [
      "False\n"
     ]
    }
   ],
   "source": [
    "# 25 What will \"SQL\" not in [\"Python\", \"ML\", \"AI\"] return?\n",
    "\n",
    "lst =[\"Python\", \"ML\", \"AI\"]\n",
    "print(\"SQL\" in lst)"
   ]
  },
  {
   "cell_type": "markdown",
   "id": "79baa292",
   "metadata": {},
   "source": [
    "###  Indexing and Slicing"
   ]
  },
  {
   "cell_type": "code",
   "execution_count": 2,
   "id": "49cd9278",
   "metadata": {},
   "outputs": [
    {
     "name": "stdout",
     "output_type": "stream",
     "text": [
      "[10, 20, 30]\n"
     ]
    }
   ],
   "source": [
    "# 26 How do you get the first three elements from a = [10, 20, 30, 40, 50] using slicing?\n",
    "\n",
    "a =  [10, 20, 30, 40, 50]\n",
    "print(a[:3])"
   ]
  },
  {
   "cell_type": "code",
   "execution_count": 3,
   "id": "5af66cd9",
   "metadata": {},
   "outputs": [
    {
     "name": "stdout",
     "output_type": "stream",
     "text": [
      "[0, 2, 4]\n"
     ]
    }
   ],
   "source": [
    "# 27 What is the output of a[::2] for a = [0, 1, 2, 3, 4, 5]?\n",
    "\n",
    "a = [0, 1, 2, 3, 4, 5]\n",
    "print(a[::2])"
   ]
  },
  {
   "cell_type": "markdown",
   "id": "c4cee5fc",
   "metadata": {},
   "source": [
    "### Nested Lists (Minimal)"
   ]
  },
  {
   "cell_type": "code",
   "execution_count": 4,
   "id": "a269a4fb",
   "metadata": {},
   "outputs": [
    {
     "name": "stdout",
     "output_type": "stream",
     "text": [
      "3\n"
     ]
    }
   ],
   "source": [
    "# 28 What is the output of a = [[1, 2], [3, 4]]; a[1][0]?\n",
    "\n",
    "a = [[1, 2], [3, 4]]\n",
    "print(a[1][0])"
   ]
  },
  {
   "cell_type": "code",
   "execution_count": 6,
   "id": "d7f45b68",
   "metadata": {},
   "outputs": [
    {
     "name": "stdout",
     "output_type": "stream",
     "text": [
      "4\n"
     ]
    }
   ],
   "source": [
    "# 29 How do you access 4 in the list [[1, 2], [3, 4]]?\n",
    "\n",
    "a = [[1, 2], [3, 4]]\n",
    "print(a[1][1])"
   ]
  },
  {
   "cell_type": "markdown",
   "id": "c77df2ba",
   "metadata": {},
   "source": [
    "###  Min, Max, Sum"
   ]
  },
  {
   "cell_type": "code",
   "execution_count": null,
   "id": "126a03e9",
   "metadata": {},
   "outputs": [
    {
     "name": "stdout",
     "output_type": "stream",
     "text": [
      "20\n"
     ]
    }
   ],
   "source": [
    "# 30 find the largest number in the list [10, 20, 5].\n",
    "\n",
    "lst = [10, 20, 5]\n",
    "print(max(lst))"
   ]
  },
  {
   "cell_type": "code",
   "execution_count": 9,
   "id": "253ab022",
   "metadata": {},
   "outputs": [
    {
     "name": "stdout",
     "output_type": "stream",
     "text": [
      "5\n"
     ]
    }
   ],
   "source": [
    "# 31 find the smallest number in the list [10, 20, 5].\n",
    "\n",
    "lst = [10, 20, 5]\n",
    "print(min(lst))"
   ]
  },
  {
   "cell_type": "code",
   "execution_count": 10,
   "id": "937d1d16",
   "metadata": {},
   "outputs": [
    {
     "name": "stdout",
     "output_type": "stream",
     "text": [
      "4\n"
     ]
    }
   ],
   "source": [
    "# 32 get the total of numbers in the list [1, 2, 3, 4].\n",
    "\n",
    "lst = [1, 2, 3, 4]\n",
    "print(len(lst))"
   ]
  },
  {
   "cell_type": "code",
   "execution_count": null,
   "id": "68197a35",
   "metadata": {},
   "outputs": [],
   "source": []
  }
 ],
 "metadata": {
  "kernelspec": {
   "display_name": "Python 3",
   "language": "python",
   "name": "python3"
  },
  "language_info": {
   "codemirror_mode": {
    "name": "ipython",
    "version": 3
   },
   "file_extension": ".py",
   "mimetype": "text/x-python",
   "name": "python",
   "nbconvert_exporter": "python",
   "pygments_lexer": "ipython3",
   "version": "3.11.9"
  }
 },
 "nbformat": 4,
 "nbformat_minor": 5
}
