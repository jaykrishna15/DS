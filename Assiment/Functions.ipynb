{
 "cells": [
  {
   "cell_type": "markdown",
   "id": "5ca2d697",
   "metadata": {},
   "source": [
    "### 10 Functions Questions"
   ]
  },
  {
   "cell_type": "markdown",
   "id": "8fdc530f",
   "metadata": {},
   "source": [
    "1 Why Return?  \n",
    " Write a function add(a, b) that returns the sum of two numbers. Call it and print the returned value. Why is return used instead of print inside the function?"
   ]
  },
  {
   "cell_type": "code",
   "execution_count": 1,
   "id": "3d6b8ebc",
   "metadata": {},
   "outputs": [
    {
     "data": {
      "text/plain": [
       "5"
      ]
     },
     "execution_count": 1,
     "metadata": {},
     "output_type": "execute_result"
    }
   ],
   "source": [
    "def addition(a,b):\n",
    "    return a+b\n",
    "\n",
    "addition(2,3)"
   ]
  },
  {
   "cell_type": "markdown",
   "id": "b4cc771a",
   "metadata": {},
   "source": [
    "return gives the result back to the caller so it can be stored, reused, or passed into another function.\n",
    "\n",
    "print only displays the value on screen, you cannot use it later."
   ]
  },
  {
   "cell_type": "markdown",
   "id": "3317bafb",
   "metadata": {},
   "source": [
    "2 Return vs. None  \n",
    " Write a function without a return statement. Call it and check what it prints. Why does it show None?"
   ]
  },
  {
   "cell_type": "code",
   "execution_count": 3,
   "id": "9540d318",
   "metadata": {},
   "outputs": [
    {
     "name": "stdout",
     "output_type": "stream",
     "text": [
      "hi this is function\n",
      "None\n"
     ]
    }
   ],
   "source": [
    "def fun():\n",
    "    print('hi this is function')\n",
    "value = fun()\n",
    "print(value)# This will print None because the function does not return anything"
   ]
  },
  {
   "cell_type": "markdown",
   "id": "e43870df",
   "metadata": {},
   "source": [
    "3 Positional Arguments  \n",
    " Write a function greet(first, last) that prints \"Hello, first last!\". Call it with different names, maintaining order."
   ]
  },
  {
   "cell_type": "code",
   "execution_count": 6,
   "id": "865191bf",
   "metadata": {},
   "outputs": [
    {
     "name": "stdout",
     "output_type": "stream",
     "text": [
      "Hello, Jay Gupta!\n",
      "Hello, Eswar Gupta!\n"
     ]
    }
   ],
   "source": [
    "def greet(first, last):\n",
    "    return(f\"Hello, {first} {last}!\")\n",
    "\n",
    "print(greet('Jay','Gupta'))\n",
    "print(greet('Eswar','Gupta'))"
   ]
  },
  {
   "cell_type": "markdown",
   "id": "0212f644",
   "metadata": {},
   "source": [
    "4 Keyword Arguments  \n",
    " Using the same greet function, call it using greet(last=\"Smith\", first=\"John\"). What happens if the order changes?"
   ]
  },
  {
   "cell_type": "code",
   "execution_count": 9,
   "id": "ec47350a",
   "metadata": {},
   "outputs": [
    {
     "data": {
      "text/plain": [
       "'Hello, Jay Gupta!'"
      ]
     },
     "execution_count": 9,
     "metadata": {},
     "output_type": "execute_result"
    }
   ],
   "source": [
    "greet(last='Gupta', first='Jay')\n",
    "# Order doesn’t matter with keyword arguments because you explicitly assign values"
   ]
  },
  {
   "cell_type": "markdown",
   "id": "87746b63",
   "metadata": {},
   "source": [
    "5 Default Values  \n",
    " Create a function welcome(name, city=\"Hyderabad\") that prints \"{name} is from {city}\". Call it with and without providing city."
   ]
  },
  {
   "cell_type": "code",
   "execution_count": 11,
   "id": "e653dde4",
   "metadata": {},
   "outputs": [
    {
     "name": "stdout",
     "output_type": "stream",
     "text": [
      "Jay is from Hyderabad\n"
     ]
    }
   ],
   "source": [
    "def welcome(name, city=\"Hyderabad\"):\n",
    "    return(f\"{name} is from {city}\")\n",
    "print(welcome('Jay'))"
   ]
  },
  {
   "cell_type": "markdown",
   "id": "4e0e2c70",
   "metadata": {},
   "source": [
    "6 Using args  \n",
    " Write a function multiply(*nums) that multiplies all numbers passed to it. Call it with 2, 3, 4 and print the result"
   ]
  },
  {
   "cell_type": "code",
   "execution_count": 12,
   "id": "5f2ad43e",
   "metadata": {},
   "outputs": [
    {
     "name": "stdout",
     "output_type": "stream",
     "text": [
      "24\n"
     ]
    }
   ],
   "source": [
    "def multiply(*nums):\n",
    "    result = 1\n",
    "    for num in nums:\n",
    "        result *= num\n",
    "    return result\n",
    "print(multiply(2, 3, 4))"
   ]
  },
  {
   "cell_type": "markdown",
   "id": "6f3b803c",
   "metadata": {},
   "source": [
    "7 Using kwargs  \n",
    " Write a function student_info(**details) that prints each key-value pair passed (e.g., name=\"Anu\", age=20)."
   ]
  },
  {
   "cell_type": "code",
   "execution_count": 15,
   "id": "1d5493bf",
   "metadata": {},
   "outputs": [
    {
     "name": "stdout",
     "output_type": "stream",
     "text": [
      "name:Jay\n",
      "age:24\n",
      "city:Hyderabad\n"
     ]
    }
   ],
   "source": [
    "def student_info(**details):\n",
    "    for k,v in details.items():\n",
    "        print(f'{k}:{v}')\n",
    "\n",
    "              \n",
    "student_info(name='Jay',age=24,city='Hyderabad')\n",
    "\n"
   ]
  },
  {
   "cell_type": "markdown",
   "id": "1023a1f1",
   "metadata": {},
   "source": [
    "8 Mixing Positional and Keyword Arguments  \n",
    " Create a function order(item, price, quantity=1) and call it with a mix of positional and keyword arguments."
   ]
  },
  {
   "cell_type": "code",
   "execution_count": 16,
   "id": "125c0545",
   "metadata": {},
   "outputs": [
    {
     "data": {
      "text/plain": [
       "'Pizza 10 1'"
      ]
     },
     "execution_count": 16,
     "metadata": {},
     "output_type": "execute_result"
    }
   ],
   "source": [
    "def order(item,price,quantity=1):\n",
    "    return f'{item} {price} {quantity}'\n",
    "\n",
    "order('Pizza',10)"
   ]
  },
  {
   "cell_type": "markdown",
   "id": "fabb45c5",
   "metadata": {},
   "source": [
    "9 Returning Multiple Values  \n",
    " Write a function calculate(a, b) that returns both the sum and product of a and b. How do you capture both values"
   ]
  },
  {
   "cell_type": "code",
   "execution_count": 18,
   "id": "30fa885e",
   "metadata": {},
   "outputs": [
    {
     "data": {
      "text/plain": [
       "'sum is 5 and product is 6'"
      ]
     },
     "execution_count": 18,
     "metadata": {},
     "output_type": "execute_result"
    }
   ],
   "source": [
    "def calculate(a,b):\n",
    "    return f'sum is {a+b} and product is {a*b}'\n",
    "calculate(2,3)"
   ]
  },
  {
   "cell_type": "markdown",
   "id": "63761cf1",
   "metadata": {},
   "source": [
    "10 Function that Does Nothing  \n",
    " Define a function placeholder() with pass. What happens when you call it? Why is it sometimes used in code?"
   ]
  },
  {
   "cell_type": "code",
   "execution_count": 19,
   "id": "5e930e4c",
   "metadata": {},
   "outputs": [],
   "source": [
    "def placeholder():\n",
    "    pass\n",
    "placeholder()  # Calling the function does nothing and returns None"
   ]
  },
  {
   "cell_type": "code",
   "execution_count": null,
   "id": "75340b0e",
   "metadata": {},
   "outputs": [],
   "source": []
  }
 ],
 "metadata": {
  "kernelspec": {
   "display_name": "base",
   "language": "python",
   "name": "python3"
  },
  "language_info": {
   "codemirror_mode": {
    "name": "ipython",
    "version": 3
   },
   "file_extension": ".py",
   "mimetype": "text/x-python",
   "name": "python",
   "nbconvert_exporter": "python",
   "pygments_lexer": "ipython3",
   "version": "3.13.5"
  }
 },
 "nbformat": 4,
 "nbformat_minor": 5
}
