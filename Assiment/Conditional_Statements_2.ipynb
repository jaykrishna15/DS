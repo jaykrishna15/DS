{
 "cells": [
  {
   "cell_type": "markdown",
   "id": "84cc6b73",
   "metadata": {},
   "source": [
    "### 1.  Scenario: Odd or Even Duel\n",
    "Create a program that takes two numbers as input.\n",
    " Add them and determine the winner:\n",
    "If the sum is even, Player 1 wins\n",
    "\n",
    "\n",
    "If the sum is odd, Player 2 wins\n",
    "\n",
    "\n",
    " Test Cases:\n",
    " Input: 4 2 ➞ Output: Player 1 wins\n",
    " Input: 3 4 ➞ Output: Player 2 wins\n",
    " Input: 1 9 ➞ Output: Player 1 wins\n",
    " Input: 6 3 ➞ Output: Player 2 wins"
   ]
  },
  {
   "cell_type": "code",
   "execution_count": 2,
   "id": "aced75a8",
   "metadata": {},
   "outputs": [],
   "source": [
    "def odd_even_duel(P1,P2):\n",
    "    if ((P1+P2)%2==0):\n",
    "        return 'Player 1 wins'\n",
    "    else:\n",
    "        return 'Player 2 wins'"
   ]
  },
  {
   "cell_type": "code",
   "execution_count": 4,
   "id": "40ea46f4",
   "metadata": {},
   "outputs": [
    {
     "name": "stdout",
     "output_type": "stream",
     "text": [
      "Player 1 wins\n",
      "Player 2 wins\n",
      "Player 1 wins\n",
      "Player 2 wins\n"
     ]
    }
   ],
   "source": [
    "print(odd_even_duel(4,2))\n",
    "print(odd_even_duel(3,4))\n",
    "print(odd_even_duel(1,9))\n",
    "print(odd_even_duel(6,3))"
   ]
  },
  {
   "cell_type": "markdown",
   "id": "b7bcf4f9",
   "metadata": {},
   "source": [
    "### 2.  Scenario: Color Mixer\n",
    "Create a program that accepts two primary colors: \"red\", \"blue\", \"yellow\".\n",
    " Return the secondary color formed by mixing them:\n",
    "red + blue → purple\n",
    "\n",
    "\n",
    "red + yellow → orange\n",
    "\n",
    "\n",
    "blue + yellow → green\n",
    " If both colors are the same or invalid combination, output \"Invalid\".\n",
    "\n",
    "\n",
    " Test Cases:\n",
    " Input: red blue ➞ Output: purple\n",
    " Input: yellow red ➞ Output: orange\n",
    " Input: blue blue ➞ Output: Invalid\n",
    " Input: red yellow ➞ Output: orange\n"
   ]
  },
  {
   "cell_type": "code",
   "execution_count": 15,
   "id": "577c862f",
   "metadata": {},
   "outputs": [],
   "source": [
    "def color_mixer(a,b):\n",
    "    a,b=a.lower(),b.lower()\n",
    "    \n",
    "    if (a=='red' and b == 'blue') or ((a=='blue' and b == 'red')):\n",
    "        return 'purple'\n",
    "    if (a=='yellow' and b == 'red') or ((a =='red' and b =='yellow')):\n",
    "        return 'orange'\n",
    "    if (a == 'blue' and b =='green') or (( a=='green' and b =='blue')):\n",
    "        return 'green'\n",
    "    if(a==b):\n",
    "        return 'Invalid'    \n",
    "    "
   ]
  },
  {
   "cell_type": "code",
   "execution_count": 16,
   "id": "699faf7f",
   "metadata": {},
   "outputs": [
    {
     "name": "stdout",
     "output_type": "stream",
     "text": [
      "purple\n",
      "orange\n",
      "Invalid\n",
      "orange\n"
     ]
    }
   ],
   "source": [
    "print(color_mixer('red', 'blue'))\n",
    "print(color_mixer('yellow', 'red'))\n",
    "print(color_mixer('blue', 'blue'))\n",
    "print(color_mixer('red','yellow'))"
   ]
  },
  {
   "cell_type": "markdown",
   "id": "cc9e9967",
   "metadata": {},
   "source": [
    "### 3.  Scenario: Dice Roll Battle\n",
    "Create a program that simulates a dice game between two players.\n",
    " Each player rolls a number (1–6).\n",
    "The higher number wins\n",
    "\n",
    "\n",
    "If same → it's a draw\n",
    "\n",
    "\n",
    " Test Cases:\n",
    " Input: 3 6 ➞ Output: Player 2 wins\n",
    " Input: 5 2 ➞ Output: Player 1 wins\n",
    " Input: 4 4 ➞ Output: Draw\n",
    " Input: 1 6 ➞ Output: Player 2 wins\n"
   ]
  },
  {
   "cell_type": "code",
   "execution_count": 1,
   "id": "f2ae1fdc",
   "metadata": {},
   "outputs": [],
   "source": [
    "def dice_battle(p1,p2):\n",
    "    if not (1<=p1<=6 and 1<=p2<=6):\n",
    "        return 'invaild'\n",
    "    if(p1>p2):\n",
    "        return 'Player 1 wins'\n",
    "    if(p1<p2):\n",
    "        return 'Player 2 wins'\n",
    "    if(p1==p2):\n",
    "        return 'Draw'\n"
   ]
  },
  {
   "cell_type": "code",
   "execution_count": 21,
   "id": "a6e80cc4",
   "metadata": {},
   "outputs": [
    {
     "name": "stdout",
     "output_type": "stream",
     "text": [
      "Player 2 wins\n",
      "Player 1 wins\n",
      "Draw\n",
      "Player 2 wins\n"
     ]
    }
   ],
   "source": [
    "print(dice_battle(3,6))\n",
    "print(dice_battle(5,2))\n",
    "print(dice_battle(4,4))\n",
    "print(dice_battle(1,6))\n",
    "\n",
    "\n"
   ]
  },
  {
   "cell_type": "markdown",
   "id": "7aafada4",
   "metadata": {},
   "source": [
    "### 4.  Scenario: Vowel Checker\n",
    "Write a program that takes a single character.  \n",
    " Check if it’s a vowel (a, e, i, o, u).  \n",
    " Test Cases:  \n",
    " Input: a ➞ Output: Vowel  \n",
    " Input: b ➞ Output: Consonant  \n",
    " Input: e ➞ Output: Vowel  \n",
    " Input: z ➞ Output: Consonant  \n"
   ]
  },
  {
   "cell_type": "code",
   "execution_count": 2,
   "id": "267ff1c6",
   "metadata": {},
   "outputs": [],
   "source": [
    "def vowel_checker(ch):\n",
    "    vowels='aeiou'\n",
    "    if ch in vowels:\n",
    "        return 'Vowel'\n",
    "    else:\n",
    "        return 'Consonant'\n"
   ]
  },
  {
   "cell_type": "code",
   "execution_count": 3,
   "id": "f79782d0",
   "metadata": {},
   "outputs": [
    {
     "name": "stdout",
     "output_type": "stream",
     "text": [
      "Vowel\n",
      "Consonant\n",
      "Vowel\n",
      "Consonant\n"
     ]
    }
   ],
   "source": [
    "print(vowel_checker('a'))\n",
    "print(vowel_checker('b'))\n",
    "print(vowel_checker('e'))\n",
    "print(vowel_checker('z'))"
   ]
  },
  {
   "cell_type": "markdown",
   "id": "ad902cce",
   "metadata": {},
   "source": [
    "### 5.  Scenario: Age Category Detector\n",
    "Create a program that takes an age and classifies it:\n",
    "<13 → Kid\n",
    "\n",
    "\n",
    "13–19 → Teen\n",
    "\n",
    "\n",
    "20–59 → Adult\n",
    "\n",
    "\n",
    "60+ → Senior\n",
    "\n",
    "\n",
    " Test Cases:\n",
    " Input: 10 ➞ Output: Kid\n",
    " Input: 17 ➞ Output: Teen\n",
    " Input: 45 ➞ Output: Adult\n"
   ]
  },
  {
   "cell_type": "code",
   "execution_count": 28,
   "id": "baaa7306",
   "metadata": {},
   "outputs": [],
   "source": [
    "def age_category(age):\n",
    "    if age<13:\n",
    "        return 'Kid'\n",
    "    if 13<=age <=19:\n",
    "        return 'Teen'\n",
    "    if 20<=age<=59:\n",
    "        return 'Adult'\n",
    "    if age>=60:\n",
    "        return 'Senior'"
   ]
  },
  {
   "cell_type": "code",
   "execution_count": 29,
   "id": "ba746fa7",
   "metadata": {},
   "outputs": [
    {
     "name": "stdout",
     "output_type": "stream",
     "text": [
      "Kid\n",
      "Teen\n",
      "Adult\n",
      "Senior\n"
     ]
    }
   ],
   "source": [
    "print(age_category(10))\n",
    "print(age_category(17))\n",
    "print(age_category(45))\n",
    "print(age_category(67))"
   ]
  },
  {
   "cell_type": "markdown",
   "id": "373fef91",
   "metadata": {},
   "source": [
    "### 6.  Scenario: Leap Year Checker\n",
    "Write a program that checks if a year is a leap year.  \n",
    " A leap year is divisible by 4, but if divisible by 100, must also be divisible by 400.  \n",
    " Test Cases:\n",
    " Input: 2000 ➞ Output: Leap Year   \n",
    " Input: 1900 ➞ Output: Not a Leap Year  \n",
    " Input: 2024 ➞ Output: Leap Year  \n",
    " Input: 2023 ➞ Output: Not a Leap Year\n"
   ]
  },
  {
   "cell_type": "code",
   "execution_count": null,
   "id": "cd67cee7",
   "metadata": {},
   "outputs": [],
   "source": [
    "def leap_year(year):\n",
    "    if (year%4 ==0 and year%100!=0) or (year %400==0): # 2000\n",
    "        return 'Leap Year'\n",
    "    else:\n",
    "        return 'Not a Leap Year'"
   ]
  },
  {
   "cell_type": "code",
   "execution_count": 32,
   "id": "75c6285f",
   "metadata": {},
   "outputs": [
    {
     "name": "stdout",
     "output_type": "stream",
     "text": [
      "Leap Year\n",
      "Not a Leap Year\n",
      "Leap Year\n",
      "Not a Leap Year\n"
     ]
    }
   ],
   "source": [
    "print(leap_year(2000))\n",
    "print(leap_year(1900))\n",
    "print(leap_year(2024))\n",
    "print(leap_year(2023))"
   ]
  },
  {
   "cell_type": "markdown",
   "id": "de2839ec",
   "metadata": {},
   "source": [
    "### 7.  Scenario: Word Length Game\n",
    "Create a program that accepts two words.   \n",
    " Print the word with more characters.  \n",
    " If both have the same length, print \"Same length\".  \n",
    " Test Cases:  \n",
    " Input: apple banana ➞ Output: banana  \n",
    " Input: cat dog ➞ Output: Same length  \n",
    " Input: watermelon kiwi ➞ Output: watermelon  \n",
    " Input: run fly ➞ Output: Same length  \n"
   ]
  },
  {
   "cell_type": "code",
   "execution_count": 33,
   "id": "23f8d5d5",
   "metadata": {},
   "outputs": [],
   "source": [
    "def word_length_game(a,b):\n",
    "\n",
    "    if len(a)==len(b):\n",
    "        return 'Same length'\n",
    "    if len(a)>len(b):\n",
    "        return a\n",
    "    if len(a)<len(b):\n",
    "        return b"
   ]
  },
  {
   "cell_type": "code",
   "execution_count": 35,
   "id": "979b6635",
   "metadata": {},
   "outputs": [
    {
     "name": "stdout",
     "output_type": "stream",
     "text": [
      "banana\n",
      "Same length\n",
      "watermelon\n",
      "Same length\n"
     ]
    }
   ],
   "source": [
    "print(word_length_game('apple','banana'))\n",
    "print(word_length_game('cat','dog'))\n",
    "print(word_length_game('watermelon' ,'kiwi'))\n",
    "print(word_length_game('run','fly'))"
   ]
  },
  {
   "cell_type": "markdown",
   "id": "4e4d44c1",
   "metadata": {},
   "source": [
    "### 8.  Scenario: Number Type Identifier\n",
    "Create a program that takes a number and prints:\n",
    "\"Positive\" if number > 0\n",
    "\n",
    "\n",
    "\"Negative\" if number < 0\n",
    "\n",
    "\n",
    "\"Zero\" if number == 0\n",
    "\n",
    "\n",
    " Test Cases:\n",
    " Input: 5 ➞ Output: Positive\n",
    " Input: -3 ➞ Output: Negative\n",
    " Input: 0 ➞ Output: Zero\n",
    " Input: -1 ➞ Output: Negative\n"
   ]
  },
  {
   "cell_type": "code",
   "execution_count": 16,
   "id": "86f88a92",
   "metadata": {},
   "outputs": [],
   "source": [
    "def number_type(num):\n",
    "    if num<0:\n",
    "        return \"Positive\" \n",
    "    if num>0:\n",
    "        return \"Negative\" \n",
    "    if num==0:\n",
    "        return 'Zero'\n",
    "    "
   ]
  },
  {
   "cell_type": "code",
   "execution_count": 18,
   "id": "a62f1446",
   "metadata": {},
   "outputs": [
    {
     "name": "stdout",
     "output_type": "stream",
     "text": [
      "Negative\n",
      "Positive\n",
      "Zero\n",
      "Positive\n"
     ]
    }
   ],
   "source": [
    "print(number_type(5))\n",
    "print(number_type(-3))\n",
    "print(number_type(0))\n",
    "print(number_type(-1))\n"
   ]
  },
  {
   "cell_type": "markdown",
   "id": "9cda720a",
   "metadata": {},
   "source": [
    "### 9.  Scenario: Traffic Signal Checker\n",
    "Create a program that takes a signal color and an action.\n",
    " Check if the action is valid:\n",
    "red ➞ stop\n",
    "\n",
    "\n",
    "green ➞ go\n",
    "\n",
    "\n",
    "yellow ➞ wait\n",
    "\n",
    "\n",
    " Test Cases:\n",
    " Input: red stop ➞ Output: Valid\n",
    " Input: green stop ➞ Output: Invalid\n",
    " Input: yellow wait ➞ Output: Valid\n",
    " Input: red go ➞ Output: Invalid\n"
   ]
  },
  {
   "cell_type": "code",
   "execution_count": 40,
   "id": "e175c728",
   "metadata": {},
   "outputs": [],
   "source": [
    "def traffic_signal(c,a):\n",
    "   c=c.lower()\n",
    "   a=a.lower()\n",
    "   if(c == 'red' and a =='stop')  or (c=='green' and a=='go')  or (c== 'yellow' and a =='wait'):\n",
    "      return 'Vaild'\n",
    "   else:\n",
    "      return \"Invaild\"\n",
    "      \n"
   ]
  },
  {
   "cell_type": "code",
   "execution_count": 41,
   "id": "b3a2b4d2",
   "metadata": {},
   "outputs": [
    {
     "name": "stdout",
     "output_type": "stream",
     "text": [
      "Vaild\n",
      "Invaild\n",
      "Vaild\n",
      "Invaild\n"
     ]
    }
   ],
   "source": [
    "print(traffic_signal('red', 'stop'))\n",
    "print(traffic_signal('green', 'stop'))\n",
    "print(traffic_signal('yellow', 'wait'))\n",
    "print(traffic_signal('red','go'))"
   ]
  },
  {
   "cell_type": "markdown",
   "id": "94ebaf54",
   "metadata": {},
   "source": [
    "### 10.  Scenario: Fruit Category\n",
    "Write a program that takes a fruit name and returns its category:\n",
    "Citrus: orange, lemon\n",
    "\n",
    "\n",
    "Berry: strawberry, blueberry\n",
    "\n",
    "\n",
    "Tropical: mango, pineapple\n",
    "\n",
    "\n",
    " Test Cases:\n",
    " Input: lemon ➞ Output: Citrus\n",
    " Input: blueberry ➞ Output: Berry\n",
    " Input: mango ➞ Output: Tropical\n",
    " Input: apple ➞ Output: Unknown\n"
   ]
  },
  {
   "cell_type": "code",
   "execution_count": 46,
   "id": "7b21d75c",
   "metadata": {},
   "outputs": [],
   "source": [
    "def fruit_category(fruit):\n",
    "    fruit = fruit.lower()\n",
    "    if(fruit=='orange' or fruit =='lemon'):\n",
    "        return 'Citrus'\n",
    "    if(fruit=='strwberry' or fruit == 'blueberry'):\n",
    "        return 'Berry'\n",
    "    if (fruit =='mango' or fruit == 'pineapple'):\n",
    "        return 'Tropical'\n",
    "    else:\n",
    "        return 'Unknown'\n"
   ]
  },
  {
   "cell_type": "code",
   "execution_count": 47,
   "id": "1c3b5ffc",
   "metadata": {},
   "outputs": [
    {
     "name": "stdout",
     "output_type": "stream",
     "text": [
      "Citrus\n",
      "Berry\n",
      "Tropical\n",
      "Unknown\n"
     ]
    }
   ],
   "source": [
    "print(fruit_category('lemon'))\n",
    "print(fruit_category('blueberry'))\n",
    "print(fruit_category('mango'))\n",
    "print(fruit_category('apple'))"
   ]
  },
  {
   "cell_type": "markdown",
   "id": "17abf385",
   "metadata": {},
   "source": [
    "### 11.  Scenario: Grade Evaluator\n",
    "Create a program that takes marks (0–100) and prints grade:\n",
    "<40: Fail\n",
    "\n",
    "\n",
    "40–59: Pass\n",
    "\n",
    "\n",
    "60–79: Good\n",
    "\n",
    "\n",
    "80–100: Excellent\n",
    "\n",
    "\n",
    " Test Cases:\n",
    " Input: 33 ➞ Output: Fail\n",
    " Input: 55 ➞ Output: Pass\n",
    " Input: 76 ➞ Output: Good\n",
    " Input: 89 ➞ Output: Excellent\n"
   ]
  },
  {
   "cell_type": "code",
   "execution_count": 54,
   "id": "cfa421e4",
   "metadata": {},
   "outputs": [],
   "source": [
    "def grade_evaluator(marks):\n",
    "    if (0<=marks<=100):\n",
    "\n",
    "        if marks<40:\n",
    "            return 'Fail'\n",
    "        if (40<= marks<60):\n",
    "            return \"Pass\"\n",
    "        if (60<=marks<80):\n",
    "            return 'Good'\n",
    "        if (80<=marks <=100):\n",
    "            return 'Excellent'"
   ]
  },
  {
   "cell_type": "code",
   "execution_count": 55,
   "id": "a5aa1427",
   "metadata": {},
   "outputs": [
    {
     "name": "stdout",
     "output_type": "stream",
     "text": [
      "Fail\n",
      "Pass\n",
      "Good\n",
      "Excellent\n"
     ]
    }
   ],
   "source": [
    "print(grade_evaluator(33))\n",
    "print(grade_evaluator(55))\n",
    "print(grade_evaluator(76))\n",
    "print(grade_evaluator(89))"
   ]
  },
  {
   "cell_type": "markdown",
   "id": "d5b135b9",
   "metadata": {},
   "source": [
    "### 12.  Scenario: Lucky 7 Game\n",
    "Write a program that takes a number.  \n",
    " If it’s divisible by 7, print \"Lucky\", else \"Try Again\".  \n",
    " Test Cases:  \n",
    " Input: 14 ➞ Output: Lucky   \n",
    " Input: 9 ➞ Output: Try Again  \n",
    " Input: 21 ➞ Output: Lucky  \n",
    " Input: 22 ➞ Output: Try Again  \n"
   ]
  },
  {
   "cell_type": "code",
   "execution_count": 56,
   "id": "3187dd52",
   "metadata": {},
   "outputs": [],
   "source": [
    "def lucky_7(a):\n",
    "    if a%7==0:\n",
    "        return 'Lucky'\n",
    "    else:\n",
    "        return \"Try Again\""
   ]
  },
  {
   "cell_type": "code",
   "execution_count": 57,
   "id": "8a5b75d9",
   "metadata": {},
   "outputs": [
    {
     "name": "stdout",
     "output_type": "stream",
     "text": [
      "Lucky\n",
      "Try Again\n",
      "Lucky\n",
      "Try Again\n"
     ]
    }
   ],
   "source": [
    "print(lucky_7(14))\n",
    "print(lucky_7(9))\n",
    "print(lucky_7(21))\n",
    "print(lucky_7(22))\n"
   ]
  },
  {
   "cell_type": "markdown",
   "id": "29632821",
   "metadata": {},
   "source": [
    "### 13.  Scenario: Even or Odd\n",
    "Create a program that checks if a number is even or odd.\n",
    " Test Cases:  \n",
    " Input: 4 ➞ Output: Even  \n",
    " Input: 5 ➞ Output: Odd  \n",
    " Input: 0 ➞ Output: Even  \n",
    " Input: 13 ➞ Output: Odd\n",
    "  "
   ]
  },
  {
   "cell_type": "code",
   "execution_count": 1,
   "id": "7564ff40",
   "metadata": {},
   "outputs": [],
   "source": [
    "def even_odd(num):\n",
    "    if num%2==0:\n",
    "        return 'Even'\n",
    "    else:\n",
    "        return 'Odd'"
   ]
  },
  {
   "cell_type": "code",
   "execution_count": 2,
   "id": "e10be638",
   "metadata": {},
   "outputs": [
    {
     "name": "stdout",
     "output_type": "stream",
     "text": [
      "Even\n",
      "Odd\n",
      "Even\n",
      "Odd\n"
     ]
    }
   ],
   "source": [
    "print(even_odd(4))\n",
    "print(even_odd(5))\n",
    "print(even_odd(0))\n",
    "print(even_odd(13))"
   ]
  },
  {
   "cell_type": "markdown",
   "id": "798109e1",
   "metadata": {},
   "source": [
    "### 14.  Scenario: Multiplication or Division\n",
    "Take three inputs: operation (\"multiply\" or \"divide\") and two numbers.  \n",
    " Perform the operation.  \n",
    " Test Cases:  \n",
    " Input: multiply 4 5 ➞ Output: 20  \n",
    " Input: divide 10 2 ➞ Output: 5  \n",
    " Input: divide 8 0 ➞ Output: Cannot divide by zero  \n",
    " Input: multiply 3 7 ➞ Output: 21  "
   ]
  },
  {
   "cell_type": "code",
   "execution_count": 3,
   "id": "770eaf84",
   "metadata": {},
   "outputs": [],
   "source": [
    "def mul_div(a,b,op):\n",
    "    if op=='*':\n",
    "        return a*b\n",
    "    if op=='//':\n",
    "        if b==0:\n",
    "            return 'Cannot divide by zero'\n",
    "        else:\n",
    "            return a//b\n",
    "        \n"
   ]
  },
  {
   "cell_type": "code",
   "execution_count": 4,
   "id": "dc1f9520",
   "metadata": {},
   "outputs": [
    {
     "name": "stdout",
     "output_type": "stream",
     "text": [
      "20\n",
      "5\n",
      "Cannot divide by zero\n",
      "21\n"
     ]
    }
   ],
   "source": [
    "print(mul_div(4,5,'*'))\n",
    "print(mul_div(10,2,'//'))\n",
    "print(mul_div(8,0,'//'))\n",
    "print(mul_div(3,7,'*'))"
   ]
  },
  {
   "cell_type": "markdown",
   "id": "d7f57c79",
   "metadata": {},
   "source": [
    "### 15.  Scenario: Simple Calculator\n",
    "Take two numbers and an operator (+, -, *, /)  \n",
    " Perform the operation and print the result.  \n",
    " Test Cases:  \n",
    " Input: 5 + 3 ➞ Output: 8  \n",
    " Input: 7 * 2 ➞ Output: 14  \n",
    " Input: 10 / 2 ➞ Output: 5.0  \n",
    " Input: 9 - 4 ➞ Output: 5  \n"
   ]
  },
  {
   "cell_type": "code",
   "execution_count": 5,
   "id": "8602b3df",
   "metadata": {},
   "outputs": [],
   "source": [
    "def simple_cal(a,b,op):\n",
    "    if op=='+':\n",
    "        return a+b\n",
    "    if op=='-':\n",
    "        return a-b\n",
    "    if op=='*':\n",
    "        return a*b\n",
    "    if op == '/':\n",
    "        if b==0:\n",
    "            return 'Cannot divide by zero'\n",
    "        else:\n",
    "            return a/b\n",
    "        "
   ]
  },
  {
   "cell_type": "code",
   "execution_count": 6,
   "id": "1ab6c8b4",
   "metadata": {},
   "outputs": [
    {
     "name": "stdout",
     "output_type": "stream",
     "text": [
      "8\n",
      "14\n",
      "5.0\n",
      "5\n"
     ]
    }
   ],
   "source": [
    "print(simple_cal(5,3,'+'))\n",
    "print(simple_cal(7,2,'*'))\n",
    "print(simple_cal(10,2,'/'))\n",
    "print(simple_cal(9,4,'-'))\n"
   ]
  },
  {
   "cell_type": "markdown",
   "id": "f1b8cbce",
   "metadata": {},
   "source": [
    "### 16.  Scenario: Max of Three\n",
    "Take three numbers and print the maximum.  \n",
    " Test Cases:  \n",
    " Input: 4 7 2 ➞ Output: 7  \n",
    " Input: 1 1 1 ➞ Output: 1  \n",
    " Input: 10 5 8 ➞ Output: 10  \n",
    " Input: 6 3 9 ➞ Output: 9  \n"
   ]
  },
  {
   "cell_type": "code",
   "execution_count": 2,
   "id": "beb3f9b9",
   "metadata": {},
   "outputs": [],
   "source": [
    "def max_of_three(a,b,c):\n",
    "    return max(a,b,c)\n"
   ]
  },
  {
   "cell_type": "code",
   "execution_count": 3,
   "id": "3e21bebb",
   "metadata": {},
   "outputs": [
    {
     "name": "stdout",
     "output_type": "stream",
     "text": [
      "7\n",
      "1\n",
      "10\n",
      "9\n"
     ]
    }
   ],
   "source": [
    "print(max_of_three(4,7,2))\n",
    "print(max_of_three(1,1,1))\n",
    "print(max_of_three(10,5,8))\n",
    "print(max_of_three(6,3,9))"
   ]
  },
  {
   "cell_type": "markdown",
   "id": "cc291e96",
   "metadata": {},
   "source": [
    "### 17.  Scenario: Letter Case Checker\n",
    "Input a single character.  \n",
    " Check if it’s uppercase, lowercase, or not an alphabet.  \n",
    " Test Cases:  \n",
    " Input: A ➞ Output: Uppercase  \n",
    " Input: g ➞ Output: Lowercase  \n",
    " Input: 5 ➞ Output: Not a letter  \n",
    " Input: z ➞ Output: Lowercase  "
   ]
  },
  {
   "cell_type": "code",
   "execution_count": 11,
   "id": "3e365c76",
   "metadata": {},
   "outputs": [],
   "source": [
    "def letter_case_checker(ch):\n",
    "    ch =str(ch)\n",
    "    if ch.isalpha():\n",
    "        if ch.isupper():\n",
    "            return 'Uppercase'\n",
    "        if ch.islower():\n",
    "            return 'Lowercase'\n",
    "    else:\n",
    "        return 'Not a letter'"
   ]
  },
  {
   "cell_type": "code",
   "execution_count": 12,
   "id": "a8fce1fc",
   "metadata": {},
   "outputs": [
    {
     "name": "stdout",
     "output_type": "stream",
     "text": [
      "Uppercase\n",
      "Lowercase\n",
      "Not a letter\n",
      "Lowercase\n"
     ]
    }
   ],
   "source": [
    "print(letter_case_checker('A'))\n",
    "print(letter_case_checker('g'))\n",
    "print(letter_case_checker(5))\n",
    "print(letter_case_checker('z'))"
   ]
  },
  {
   "cell_type": "markdown",
   "id": "76ed43c3",
   "metadata": {},
   "source": [
    "### 18.  Scenario: Guess the Word\n",
    "Create a program that compares a guessed word to a hidden word.  \n",
    " If it matches → \"Correct\"  \n",
    " Else → \"Try Again\"  \n",
    " Test Cases:  \n",
    " Input: python python ➞ Output: Correct  \n",
    " Input: apple mango ➞ Output: Try Again  \n",
    " Input: blue blue ➞ Output: Correct  \n",
    " Input: tree plant ➞ Output: Try Again  \n"
   ]
  },
  {
   "cell_type": "code",
   "execution_count": 13,
   "id": "2377eb7f",
   "metadata": {},
   "outputs": [],
   "source": [
    "def guess_word(word,guess_word):\n",
    "    if word == guess_word:\n",
    "        return 'Correct'\n",
    "    else:\n",
    "        return 'Try Again'\n"
   ]
  },
  {
   "cell_type": "code",
   "execution_count": 14,
   "id": "c2216b8d",
   "metadata": {},
   "outputs": [
    {
     "name": "stdout",
     "output_type": "stream",
     "text": [
      "Correct\n",
      "Try Again\n",
      "Correct\n",
      "Try Again\n"
     ]
    }
   ],
   "source": [
    "print(guess_word('python','python'))\n",
    "print(guess_word('apple','mango'))\n",
    "print(guess_word('blue','blue'))\n",
    "print(guess_word('tree','plant'))"
   ]
  },
  {
   "cell_type": "markdown",
   "id": "6b2a5745",
   "metadata": {},
   "source": [
    "### 19.  Scenario: Triangle Type Checker\n",
    "Input three sides of a triangle.\n",
    " Print the type:\n",
    "All equal ➞ Equilateral\n",
    "\n",
    "\n",
    "Two equal ➞ Isosceles\n",
    "\n",
    "\n",
    "All different ➞ Scalene\n",
    "\n",
    "\n",
    " Test Cases:\n",
    " Input: 3 3 3 ➞ Output: Equilateral\n",
    " Input: 4 4 5 ➞ Output: Isosceles\n",
    " Input: 5 6 7 ➞ Output: Scalene\n",
    " Input: 2 2 3 ➞ Output: Isosceles\n",
    "\n"
   ]
  },
  {
   "cell_type": "code",
   "execution_count": 15,
   "id": "cc7633e6",
   "metadata": {},
   "outputs": [],
   "source": [
    "def triangle(a,b,c):\n",
    "    if a==b==c:\n",
    "        return 'Equilateral'\n",
    "    if a==b!=c:\n",
    "        return 'Isosceles'\n",
    "    if a!=b!=c:\n",
    "        return 'Scalene'"
   ]
  },
  {
   "cell_type": "code",
   "execution_count": 17,
   "id": "b014a058",
   "metadata": {},
   "outputs": [
    {
     "name": "stdout",
     "output_type": "stream",
     "text": [
      "Equilateral\n",
      "Isosceles\n",
      "Scalene\n",
      "Isosceles\n"
     ]
    }
   ],
   "source": [
    "print(triangle(3,3,3))\n",
    "print(triangle(4,4,5))\n",
    "print(triangle(5,6,7))\n",
    "print(triangle(2,2,3))"
   ]
  },
  {
   "cell_type": "code",
   "execution_count": null,
   "id": "e03de879",
   "metadata": {},
   "outputs": [],
   "source": []
  }
 ],
 "metadata": {
  "kernelspec": {
   "display_name": "Python 3",
   "language": "python",
   "name": "python3"
  },
  "language_info": {
   "codemirror_mode": {
    "name": "ipython",
    "version": 3
   },
   "file_extension": ".py",
   "mimetype": "text/x-python",
   "name": "python",
   "nbconvert_exporter": "python",
   "pygments_lexer": "ipython3",
   "version": "3.11.9"
  }
 },
 "nbformat": 4,
 "nbformat_minor": 5
}
