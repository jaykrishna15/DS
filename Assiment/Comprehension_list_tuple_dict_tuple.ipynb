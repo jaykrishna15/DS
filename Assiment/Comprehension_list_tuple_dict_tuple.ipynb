{
 "cells": [
  {
   "cell_type": "markdown",
   "id": "5308b319",
   "metadata": {},
   "source": [
    "### 20 Dictionary Comprehension Questions\n"
   ]
  },
  {
   "cell_type": "markdown",
   "id": "1cf31b05",
   "metadata": {},
   "source": [
    "1 Create a dictionary from a list [1, 2, 3, 4, 5] where each element is the key and its cube is the value."
   ]
  },
  {
   "cell_type": "code",
   "execution_count": 1,
   "id": "ccb229c0",
   "metadata": {},
   "outputs": [],
   "source": [
    "def cube(lst):\n",
    "    return {x:x**3 for x in lst}"
   ]
  },
  {
   "cell_type": "code",
   "execution_count": 3,
   "id": "97282973",
   "metadata": {},
   "outputs": [
    {
     "data": {
      "text/plain": [
       "{1: 1, 2: 8, 3: 27, 4: 64, 5: 125}"
      ]
     },
     "execution_count": 3,
     "metadata": {},
     "output_type": "execute_result"
    }
   ],
   "source": [
    "cube([1,2,3,4,5])"
   ]
  },
  {
   "cell_type": "markdown",
   "id": "2d01fb2f",
   "metadata": {},
   "source": [
    "2 From a list of words [\"apple\", \"banana\", \"cherry\"], generate a dictionary with words as keys and their lengths as values."
   ]
  },
  {
   "cell_type": "code",
   "execution_count": 7,
   "id": "faa936b9",
   "metadata": {},
   "outputs": [],
   "source": [
    "def words(lst):\n",
    "    return {x:len(x) for x in lst}"
   ]
  },
  {
   "cell_type": "code",
   "execution_count": 8,
   "id": "d88798a8",
   "metadata": {},
   "outputs": [
    {
     "data": {
      "text/plain": [
       "{'apple': 5, 'banana': 6, 'cherry': 6}"
      ]
     },
     "execution_count": 8,
     "metadata": {},
     "output_type": "execute_result"
    }
   ],
   "source": [
    "words([\"apple\", \"banana\", \"cherry\"])"
   ]
  },
  {
   "cell_type": "markdown",
   "id": "a7aca8b3",
   "metadata": {},
   "source": [
    "3 Given a list [10, 20, 30, 40], create a dictionary with index as key and element as value."
   ]
  },
  {
   "cell_type": "code",
   "execution_count": 11,
   "id": "6f08be47",
   "metadata": {},
   "outputs": [],
   "source": [
    "def index_key(lst):\n",
    "    return ({i:lst[i] for i in range(len(lst))})"
   ]
  },
  {
   "cell_type": "code",
   "execution_count": 12,
   "id": "242efc2f",
   "metadata": {},
   "outputs": [
    {
     "data": {
      "text/plain": [
       "{0: 10, 1: 20, 2: 30, 3: 40}"
      ]
     },
     "execution_count": 12,
     "metadata": {},
     "output_type": "execute_result"
    }
   ],
   "source": [
    "index_key([10,20,30,40])"
   ]
  },
  {
   "cell_type": "markdown",
   "id": "d79ba722",
   "metadata": {},
   "source": [
    "4 From a list [2, 4, 6, 8], generate a dictionary with numbers as keys and \"Even\" as values.\n",
    "\n",
    "\n",
    "\n"
   ]
  },
  {
   "cell_type": "code",
   "execution_count": 13,
   "id": "d594cad7",
   "metadata": {},
   "outputs": [],
   "source": [
    "def even_dict(lst):\n",
    "    return {x:'Even' for x in lst if x%2==0}"
   ]
  },
  {
   "cell_type": "code",
   "execution_count": 14,
   "id": "cd425ea0",
   "metadata": {},
   "outputs": [
    {
     "data": {
      "text/plain": [
       "{2: 'Even', 4: 'Even', 6: 'Even', 8: 'Even'}"
      ]
     },
     "execution_count": 14,
     "metadata": {},
     "output_type": "execute_result"
    }
   ],
   "source": [
    "even_dict([2,4,6,8])"
   ]
  },
  {
   "cell_type": "markdown",
   "id": "67f86751",
   "metadata": {},
   "source": [
    "5 Given a list of names [\"Alice\", \"Bob\", \"Charlie\"], create a dictionary with names as keys and the first letter as value."
   ]
  },
  {
   "cell_type": "code",
   "execution_count": 15,
   "id": "dbd80305",
   "metadata": {},
   "outputs": [],
   "source": [
    "def names(lst):\n",
    "    return {x:x[0] for x in lst}"
   ]
  },
  {
   "cell_type": "code",
   "execution_count": 16,
   "id": "a5650944",
   "metadata": {},
   "outputs": [
    {
     "data": {
      "text/plain": [
       "{'Alice': 'A', 'Bob': 'B', 'Charlie': 'C'}"
      ]
     },
     "execution_count": 16,
     "metadata": {},
     "output_type": "execute_result"
    }
   ],
   "source": [
    "names([\"Alice\", \"Bob\", \"Charlie\"])"
   ]
  },
  {
   "cell_type": "markdown",
   "id": "f881b8c2",
   "metadata": {},
   "source": [
    "6 Convert a tuple (1, 2, 3, 4) into a dictionary with number as key and its double as value."
   ]
  },
  {
   "cell_type": "code",
   "execution_count": 17,
   "id": "7d30afbd",
   "metadata": {},
   "outputs": [],
   "source": [
    "def dict_tup(tup):\n",
    "    return {x:x*2 for x in tup}"
   ]
  },
  {
   "cell_type": "code",
   "execution_count": 18,
   "id": "18efa228",
   "metadata": {},
   "outputs": [
    {
     "data": {
      "text/plain": [
       "{1: 2, 2: 4, 3: 6, 4: 8}"
      ]
     },
     "execution_count": 18,
     "metadata": {},
     "output_type": "execute_result"
    }
   ],
   "source": [
    "dict_tup((1,2,3,4))"
   ]
  },
  {
   "cell_type": "markdown",
   "id": "d1c36fdf",
   "metadata": {},
   "source": [
    "7 From a tuple (\"x\", \"y\", \"z\"), create a dictionary where keys are elements and values are uppercase versions."
   ]
  },
  {
   "cell_type": "code",
   "execution_count": 19,
   "id": "eee30cf8",
   "metadata": {},
   "outputs": [],
   "source": [
    "def dict_tuple(tup):\n",
    "    return {x:x.upper() for x in tup}"
   ]
  },
  {
   "cell_type": "code",
   "execution_count": 20,
   "id": "76b50442",
   "metadata": {},
   "outputs": [
    {
     "data": {
      "text/plain": [
       "{'x': 'X', 'y': 'Y', 'z': 'Z'}"
      ]
     },
     "execution_count": 20,
     "metadata": {},
     "output_type": "execute_result"
    }
   ],
   "source": [
    "dict_tuple((\"x\",\"y\",\"z\"))"
   ]
  },
  {
   "cell_type": "markdown",
   "id": "2fdc582e",
   "metadata": {},
   "source": [
    "8 Given a tuple of numbers (5, 10, 15, 20), create a dictionary with numbers as keys and \"Multiple of 5\" as value."
   ]
  },
  {
   "cell_type": "code",
   "execution_count": 21,
   "id": "31731432",
   "metadata": {},
   "outputs": [],
   "source": [
    "def tup_num(tup):\n",
    "    return {x:\"Multiple of 5\" for x in tup if x%5==0}"
   ]
  },
  {
   "cell_type": "code",
   "execution_count": 22,
   "id": "bd42452d",
   "metadata": {},
   "outputs": [
    {
     "data": {
      "text/plain": [
       "{5: 'Multiple of 5',\n",
       " 10: 'Multiple of 5',\n",
       " 15: 'Multiple of 5',\n",
       " 20: 'Multiple of 5'}"
      ]
     },
     "execution_count": 22,
     "metadata": {},
     "output_type": "execute_result"
    }
   ],
   "source": [
    "tup_num((5,10,15,20))"
   ]
  },
  {
   "cell_type": "markdown",
   "id": "f6e554d5",
   "metadata": {},
   "source": [
    "9 From a tuple (\"a\", \"e\", \"i\", \"o\", \"u\"), create a dictionary with vowel as key and its ASCII code as value."
   ]
  },
  {
   "cell_type": "code",
   "execution_count": 23,
   "id": "85d59a6c",
   "metadata": {},
   "outputs": [],
   "source": [
    "def ASCII_dict(tup):\n",
    "    return {x:ord(x) for x in tup}"
   ]
  },
  {
   "cell_type": "code",
   "execution_count": 24,
   "id": "23fc971e",
   "metadata": {},
   "outputs": [
    {
     "data": {
      "text/plain": [
       "{'a': 97, 'e': 101, 'i': 105, 'o': 111, 'u': 117}"
      ]
     },
     "execution_count": 24,
     "metadata": {},
     "output_type": "execute_result"
    }
   ],
   "source": [
    "ASCII_dict((\"a\",\"e\",\"i\",\"o\",\"u\"))"
   ]
  },
  {
   "cell_type": "markdown",
   "id": "cff7ce35",
   "metadata": {},
   "source": [
    "10 Given two tuples (1, 2, 3) and (10, 20, 30), create a dictionary mapping first tuple elements to second tuple elements."
   ]
  },
  {
   "cell_type": "code",
   "execution_count": 44,
   "id": "080d7bda",
   "metadata": {},
   "outputs": [],
   "source": [
    "def tup(t1,t2):\n",
    "    return({x:y for x,y in zip(t1,t2)})"
   ]
  },
  {
   "cell_type": "code",
   "execution_count": 45,
   "id": "63e49b3e",
   "metadata": {},
   "outputs": [
    {
     "data": {
      "text/plain": [
       "{1: 10, 2: 20, 3: 30}"
      ]
     },
     "execution_count": 45,
     "metadata": {},
     "output_type": "execute_result"
    }
   ],
   "source": [
    "tup((1,2,3),(10,20,30))"
   ]
  },
  {
   "cell_type": "markdown",
   "id": "44f48fe3",
   "metadata": {},
   "source": [
    "11 Given a dictionary {\"a\": 1, \"b\": 2, \"c\": 3}, create a new dictionary with keys same but values squared"
   ]
  },
  {
   "cell_type": "code",
   "execution_count": 29,
   "id": "f24f708b",
   "metadata": {},
   "outputs": [],
   "source": [
    "def square_dict(dict):\n",
    "    return {k:v**2 for k,v in dict.items()}"
   ]
  },
  {
   "cell_type": "code",
   "execution_count": 30,
   "id": "7d839658",
   "metadata": {},
   "outputs": [
    {
     "data": {
      "text/plain": [
       "{'a': 1, 'b': 4, 'c': 9}"
      ]
     },
     "execution_count": 30,
     "metadata": {},
     "output_type": "execute_result"
    }
   ],
   "source": [
    "square_dict({\"a\":1,\"b\":2,\"c\":3})"
   ]
  },
  {
   "cell_type": "markdown",
   "id": "7c25247c",
   "metadata": {},
   "source": [
    "12 From a dictionary {\"cat\": 4, \"spider\": 8}, generate a dictionary with animal name as key and \"Legs: X\" as value.\n"
   ]
  },
  {
   "cell_type": "code",
   "execution_count": 35,
   "id": "3de2d9df",
   "metadata": {},
   "outputs": [],
   "source": [
    "def animal_legs(dict):\n",
    "    return {k:f\"Legs: {v}\" for k,v in dict.items()}"
   ]
  },
  {
   "cell_type": "code",
   "execution_count": 36,
   "id": "004abdd8",
   "metadata": {},
   "outputs": [
    {
     "data": {
      "text/plain": [
       "{'cat': 'Legs: 4', 'spider': 'Legs: 8'}"
      ]
     },
     "execution_count": 36,
     "metadata": {},
     "output_type": "execute_result"
    }
   ],
   "source": [
    "animal_legs({\"cat\":4,\"spider\":8})"
   ]
  },
  {
   "cell_type": "markdown",
   "id": "5681ff82",
   "metadata": {},
   "source": [
    "13 Create a dictionary from {\"x\": 5, \"y\": 10, \"z\": 15} where only items with values greater than 7 are included."
   ]
  },
  {
   "cell_type": "code",
   "execution_count": 41,
   "id": "25e53e0b",
   "metadata": {},
   "outputs": [],
   "source": [
    "def greater_than_7(dict):\n",
    "    return {k:v for k,v in dict.items() if v>7}"
   ]
  },
  {
   "cell_type": "code",
   "execution_count": 42,
   "id": "9f44693b",
   "metadata": {},
   "outputs": [
    {
     "data": {
      "text/plain": [
       "{'y': 10, 'z': 15}"
      ]
     },
     "execution_count": 42,
     "metadata": {},
     "output_type": "execute_result"
    }
   ],
   "source": [
    "greater_than_7({\"x\":5,\"y\":10,\"z\":15})"
   ]
  },
  {
   "cell_type": "markdown",
   "id": "256ab27d",
   "metadata": {},
   "source": [
    "14 From a dictionary {\"math\": 90, \"science\": 80, \"history\": 70}, generate a dictionary where subjects are keys and \"Pass\"/\"Fail\" is value (pass ≥ 75)."
   ]
  },
  {
   "cell_type": "code",
   "execution_count": 50,
   "id": "9e0787ff",
   "metadata": {},
   "outputs": [],
   "source": [
    "def pass_fail(dict):\n",
    "    return {k:'Pass' if x>=75 else 'Fail' for k,x in dict.items()}"
   ]
  },
  {
   "cell_type": "code",
   "execution_count": 51,
   "id": "4542e428",
   "metadata": {},
   "outputs": [
    {
     "data": {
      "text/plain": [
       "{'math': 'Pass', 'science': 'Pass', 'history': 'Fail'}"
      ]
     },
     "execution_count": 51,
     "metadata": {},
     "output_type": "execute_result"
    }
   ],
   "source": [
    "pass_fail({\"math\": 90, \"science\": 80, \"history\": 70})"
   ]
  },
  {
   "cell_type": "markdown",
   "id": "2cc6b896",
   "metadata": {},
   "source": [
    "15 Given a dictionary {\"pen\": 20, \"book\": 50, \"eraser\": 5}, create a dictionary with items as keys and price+10 as value.\n",
    "\n",
    "\n"
   ]
  },
  {
   "cell_type": "code",
   "execution_count": 52,
   "id": "dff26933",
   "metadata": {},
   "outputs": [],
   "source": [
    "def things(dict):\n",
    "    return {k:v+10 for k,v in dict.items()}"
   ]
  },
  {
   "cell_type": "code",
   "execution_count": 53,
   "id": "9f9150e8",
   "metadata": {},
   "outputs": [
    {
     "data": {
      "text/plain": [
       "{'pen': 30, 'book': 60, 'eraser': 15}"
      ]
     },
     "execution_count": 53,
     "metadata": {},
     "output_type": "execute_result"
    }
   ],
   "source": [
    "things({\"pen\": 20, \"book\": 50, \"eraser\": 5})"
   ]
  },
  {
   "cell_type": "markdown",
   "id": "27ca1df8",
   "metadata": {},
   "source": [
    "16 Convert a set {1, 2, 3, 4} into a dictionary with element as key and its factorial as value."
   ]
  },
  {
   "cell_type": "code",
   "execution_count": 1,
   "id": "bf17aa87",
   "metadata": {},
   "outputs": [],
   "source": [
    "import math\n",
    "def set_dict(s):\n",
    "    return {x:math.factorial(x) for x in s}"
   ]
  },
  {
   "cell_type": "code",
   "execution_count": 2,
   "id": "75838707",
   "metadata": {},
   "outputs": [
    {
     "data": {
      "text/plain": [
       "{1: 1, 2: 2, 3: 6, 4: 24, 5: 120}"
      ]
     },
     "execution_count": 2,
     "metadata": {},
     "output_type": "execute_result"
    }
   ],
   "source": [
    "set_dict({1,2,3,4,5})"
   ]
  },
  {
   "cell_type": "markdown",
   "id": "e8b4af71",
   "metadata": {},
   "source": [
    "17 From a set {\"red\", \"green\", \"blue\"}, create a dictionary with color as key and length of color name as value.\n"
   ]
  },
  {
   "cell_type": "code",
   "execution_count": 3,
   "id": "042ea37c",
   "metadata": {},
   "outputs": [],
   "source": [
    "def color_length(s):\n",
    "    return {x:len(x) for x in s}"
   ]
  },
  {
   "cell_type": "code",
   "execution_count": 4,
   "id": "b3b45315",
   "metadata": {},
   "outputs": [
    {
     "data": {
      "text/plain": [
       "{'blue': 4, 'green': 5, 'red': 3}"
      ]
     },
     "execution_count": 4,
     "metadata": {},
     "output_type": "execute_result"
    }
   ],
   "source": [
    "color_length({\"red\", \"green\", \"blue\"})"
   ]
  },
  {
   "cell_type": "markdown",
   "id": "d2ac0208",
   "metadata": {},
   "source": [
    "18 Given two sets {1, 2, 3} and {10, 20, 30}, create a dictionary mapping first set elements to second set elements."
   ]
  },
  {
   "cell_type": "code",
   "execution_count": 5,
   "id": "aba52c37",
   "metadata": {},
   "outputs": [],
   "source": [
    "def elements(t1,t2):\n",
    "    return {x:y for x,y in zip(t1,t2)}"
   ]
  },
  {
   "cell_type": "code",
   "execution_count": 6,
   "id": "77d82de8",
   "metadata": {},
   "outputs": [
    {
     "data": {
      "text/plain": [
       "{1: 10, 2: 20, 3: 30}"
      ]
     },
     "execution_count": 6,
     "metadata": {},
     "output_type": "execute_result"
    }
   ],
   "source": [
    "elements({1,2,3},{10,20,30})"
   ]
  },
  {
   "cell_type": "markdown",
   "id": "8ae9b3f8",
   "metadata": {},
   "source": [
    "19 From a set of numbers {2, 3, 5, 7}, generate a dictionary with prime number as key and \"Prime\" as value."
   ]
  },
  {
   "cell_type": "code",
   "execution_count": 7,
   "id": "d69cd580",
   "metadata": {},
   "outputs": [
    {
     "name": "stdout",
     "output_type": "stream",
     "text": [
      "{2: 'Prime', 3: 'Prime', 5: 'Prime', 7: 'Prime'}\n"
     ]
    }
   ],
   "source": [
    "s = {2, 3, 5, 7}\n",
    "\n",
    "prime_dict = {x: \"Prime\" for x in s}\n",
    "\n",
    "print(prime_dict)"
   ]
  },
  {
   "cell_type": "markdown",
   "id": "a4788f57",
   "metadata": {},
   "source": [
    "20 From a set {\"car\", \"bike\", \"bus\"}, create a dictionary with vehicle as key and uppercase as value."
   ]
  },
  {
   "cell_type": "code",
   "execution_count": 8,
   "id": "5e2d3c45",
   "metadata": {},
   "outputs": [],
   "source": [
    "def color_length(s):\n",
    "    return {x:len(x) for x in s}"
   ]
  },
  {
   "cell_type": "code",
   "execution_count": 9,
   "id": "70fd7272",
   "metadata": {},
   "outputs": [
    {
     "data": {
      "text/plain": [
       "{'blue': 4, 'green': 5, 'red': 3}"
      ]
     },
     "execution_count": 9,
     "metadata": {},
     "output_type": "execute_result"
    }
   ],
   "source": [
    "color_length({\"red\", \"green\", \"blue\"})"
   ]
  },
  {
   "cell_type": "code",
   "execution_count": null,
   "id": "96a710be",
   "metadata": {},
   "outputs": [],
   "source": [
    "import copy"
   ]
  },
  {
   "cell_type": "code",
   "execution_count": 15,
   "id": "2d2b3c73",
   "metadata": {},
   "outputs": [
    {
     "name": "stdout",
     "output_type": "stream",
     "text": [
      "without using  copy module\n",
      "[1, 2, 3, 4, 5]\n",
      "[1, 2, 3, 4, 5]\n",
      "[1, 2, 3, 4, 5, 6] [1, 2, 3, 4, 5, 6]\n",
      "\n",
      "After using copy.copy() module\n",
      "[1, 2, 3, 4, 5, 6]\n",
      "[1, 2, 3, 4, 5, 6] [1, 2, 3, 4, 5, 6, 6]\n",
      "\n",
      "[[1, 2], [3, 4]]\n",
      "[[10, 2], [3, 4]] [[10, 2], [3, 4]]\n",
      "\n",
      "After using copy.deepcopy() module\n",
      "[[1, 2], [3, 4]]\n",
      "[[1, 2], [3, 4]] [[100, 2], [3, 4]]\n"
     ]
    }
   ],
   "source": [
    "import copy\n",
    "\n",
    "print(\"without using  copy module\")\n",
    "a = [1,2,3,4,5]\n",
    "print(a)\n",
    "b = a\n",
    "print(a)\n",
    "b.append(6)\n",
    "print(a,b)\n",
    "\n",
    "print()\n",
    "print(\"After using copy.copy() module\")\n",
    "\n",
    "c=copy.copy(a)\n",
    "print(c)\n",
    "c.append(6)\n",
    "print(a,c)\n",
    "print()\n",
    "\n",
    "\n",
    "a = [[1,2],[3,4]]\n",
    "print(a)\n",
    "b = copy.copy(a)\n",
    "b[0][0] = 10\n",
    "print(a,b)\n",
    "print()\n",
    "print(\"After using copy.deepcopy() module\")\n",
    "\n",
    "a = [[1,2],[3,4]]\n",
    "print(a)\n",
    "b = copy.deepcopy(a)\n",
    "b[0][0] = 100\n",
    "print(a,b)\n"
   ]
  },
  {
   "cell_type": "code",
   "execution_count": null,
   "id": "980c8b78",
   "metadata": {},
   "outputs": [],
   "source": []
  }
 ],
 "metadata": {
  "kernelspec": {
   "display_name": "base",
   "language": "python",
   "name": "python3"
  },
  "language_info": {
   "codemirror_mode": {
    "name": "ipython",
    "version": 3
   },
   "file_extension": ".py",
   "mimetype": "text/x-python",
   "name": "python",
   "nbconvert_exporter": "python",
   "pygments_lexer": "ipython3",
   "version": "3.13.5"
  }
 },
 "nbformat": 4,
 "nbformat_minor": 5
}
