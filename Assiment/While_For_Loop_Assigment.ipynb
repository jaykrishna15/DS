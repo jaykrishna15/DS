{
 "cells": [
  {
   "cell_type": "markdown",
   "id": "f2ae0ff5",
   "metadata": {},
   "source": [
    "### WHILE LOOP QUESTIONS"
   ]
  },
  {
   "cell_type": "markdown",
   "id": "d6352e82",
   "metadata": {},
   "source": [
    "1. Countdown Printer\n",
    " Test Case 1  \n",
    " Input: -10  \n",
    " Output:  \n",
    " 10 9 8 7 6 5 4 3 2 1  \n",
    " Test Case 2  \n",
    " Input: -5  \n",
    " Output:  \n",
    " 5 4 3 2 1  \n",
    " Test Case 3  \n",
    " Input: -3  \n",
    " Output:  \n",
    " 3 2 1  \n"
   ]
  },
  {
   "cell_type": "code",
   "execution_count": 1,
   "id": "47dac5b6",
   "metadata": {},
   "outputs": [],
   "source": [
    "def countdown(num):\n",
    "    while num>0:\n",
    "        print(num,end = ' ')\n",
    "        num-=1\n",
    "\n"
   ]
  },
  {
   "cell_type": "code",
   "execution_count": 2,
   "id": "da1f7b5a",
   "metadata": {},
   "outputs": [
    {
     "name": "stdout",
     "output_type": "stream",
     "text": [
      "10 9 8 7 6 5 4 3 2 1 "
     ]
    }
   ],
   "source": [
    "countdown(10)"
   ]
  },
  {
   "cell_type": "code",
   "execution_count": 3,
   "id": "b249c212",
   "metadata": {},
   "outputs": [
    {
     "name": "stdout",
     "output_type": "stream",
     "text": [
      "5 4 3 2 1 "
     ]
    }
   ],
   "source": [
    "countdown(5)"
   ]
  },
  {
   "cell_type": "code",
   "execution_count": 4,
   "id": "2d4d7d87",
   "metadata": {},
   "outputs": [
    {
     "name": "stdout",
     "output_type": "stream",
     "text": [
      "3 2 1 "
     ]
    }
   ],
   "source": [
    "countdown(3)"
   ]
  },
  {
   "cell_type": "markdown",
   "id": "ffae651f",
   "metadata": {},
   "source": [
    "2. Sum of Even Numbers  \n",
    " Test Case 1  \n",
    " Input: Range 1..50  \n",
    " Output:  \n",
    " Sum = 650  \n",
    " Test Case 2  \n",
    " Input: Range 1..10  \n",
    " Output:  \n",
    " Sum = 30  \n",
    " Test Case 3  \n",
    " Input: Range 1..100   \n",
    " Output:  \n",
    " Sum = 2550\n",
    "  "
   ]
  },
  {
   "cell_type": "code",
   "execution_count": 26,
   "id": "066dd681",
   "metadata": {},
   "outputs": [],
   "source": [
    "def sum_even(num):\n",
    "    i=1\n",
    "    sum =0\n",
    "    while num>=i:\n",
    "        if i%2==0:\n",
    "            sum+=i\n",
    "        i+=1\n",
    "    print(sum)"
   ]
  },
  {
   "cell_type": "code",
   "execution_count": 27,
   "id": "c696107f",
   "metadata": {},
   "outputs": [
    {
     "name": "stdout",
     "output_type": "stream",
     "text": [
      "650\n"
     ]
    }
   ],
   "source": [
    "sum_even(50)"
   ]
  },
  {
   "cell_type": "code",
   "execution_count": 28,
   "id": "d63ea9ed",
   "metadata": {},
   "outputs": [
    {
     "name": "stdout",
     "output_type": "stream",
     "text": [
      "30\n"
     ]
    }
   ],
   "source": [
    "sum_even(10)"
   ]
  },
  {
   "cell_type": "code",
   "execution_count": 29,
   "id": "66da74ea",
   "metadata": {},
   "outputs": [
    {
     "name": "stdout",
     "output_type": "stream",
     "text": [
      "2550\n"
     ]
    }
   ],
   "source": [
    "sum_even(100)"
   ]
  },
  {
   "cell_type": "markdown",
   "id": "877ccfe1",
   "metadata": {},
   "source": [
    "3. Digit Counter  \n",
    " Test Case 1  \n",
    " Input: 40856  \n",
    " Output:  \n",
    " Digits = 5  \n",
    " Test Case 2  \n",
    " Input: 7  \n",
    " Output:  \n",
    " Digits = 1  \n",
    " Test Case 3  \n",
    " Input: 1234567890  \n",
    " Output:  \n",
    " Digits = 10  \n"
   ]
  },
  {
   "cell_type": "code",
   "execution_count": 30,
   "id": "9134d8f1",
   "metadata": {},
   "outputs": [],
   "source": [
    "def Digit(num):\n",
    "    count=0\n",
    "    while num>0:\n",
    "        num//=10\n",
    "        count+=1\n",
    "    print(count)"
   ]
  },
  {
   "cell_type": "code",
   "execution_count": 31,
   "id": "ff6a4d4a",
   "metadata": {},
   "outputs": [
    {
     "name": "stdout",
     "output_type": "stream",
     "text": [
      "5\n"
     ]
    }
   ],
   "source": [
    "Digit(40856)"
   ]
  },
  {
   "cell_type": "code",
   "execution_count": 32,
   "id": "9cec222c",
   "metadata": {},
   "outputs": [
    {
     "name": "stdout",
     "output_type": "stream",
     "text": [
      "1\n"
     ]
    }
   ],
   "source": [
    "Digit(7)"
   ]
  },
  {
   "cell_type": "code",
   "execution_count": 33,
   "id": "22c9bf36",
   "metadata": {},
   "outputs": [
    {
     "name": "stdout",
     "output_type": "stream",
     "text": [
      "10\n"
     ]
    }
   ],
   "source": [
    "Digit(1234567890)"
   ]
  },
  {
   "cell_type": "markdown",
   "id": "34ed1ecf",
   "metadata": {},
   "source": [
    "4. Repeated Addition (add 10 until ≥ 100)\n",
    " Test Case 1  \n",
    " Input: Start = 73  \n",
    " Output:  \n",
    " Final Number = 103  \n",
    " Test Case 2  \n",
    " Input: Start = 95  \n",
    " Output:  \n",
    " Final Number = 105  \n",
    " Test Case 3    \n",
    " Input: Start = 100  \n",
    " Output:  \n",
    " Final Number = 100  \n"
   ]
  },
  {
   "cell_type": "code",
   "execution_count": 1,
   "id": "3864288b",
   "metadata": {},
   "outputs": [],
   "source": [
    "def Addition(num):\n",
    "    while num<100:\n",
    "        num+=10\n",
    "    print('Final Number',num)"
   ]
  },
  {
   "cell_type": "code",
   "execution_count": 2,
   "id": "bcb812a5",
   "metadata": {},
   "outputs": [
    {
     "name": "stdout",
     "output_type": "stream",
     "text": [
      "Final Number 103\n"
     ]
    }
   ],
   "source": [
    "Addition(73)"
   ]
  },
  {
   "cell_type": "code",
   "execution_count": 3,
   "id": "19018dfd",
   "metadata": {},
   "outputs": [
    {
     "name": "stdout",
     "output_type": "stream",
     "text": [
      "Final Number 105\n"
     ]
    }
   ],
   "source": [
    "Addition(95)"
   ]
  },
  {
   "cell_type": "code",
   "execution_count": 4,
   "id": "dc3c2d44",
   "metadata": {},
   "outputs": [
    {
     "name": "stdout",
     "output_type": "stream",
     "text": [
      "Final Number 100\n"
     ]
    }
   ],
   "source": [
    "Addition(100)"
   ]
  },
  {
   "cell_type": "markdown",
   "id": "8227aa78",
   "metadata": {},
   "source": [
    "5. Table Generator (first 10 multiples)\n",
    " Test Case 1   \n",
    " Input: Number: 6  \n",
    " Output:  \n",
    " 6 12 18 24 30 36 42 48 54 60  \n",
    " Test Case 2  \n",
    " Input: Number: 9  \n",
    " Output:  \n",
    " 9 18 27 36 45 54 63 72 81 90  \n",
    " Test Case 3  \n",
    " Input: Number: 3  \n",
    " Output:  \n",
    " 3 6 9 12 15 18 21 24 27 30  \n"
   ]
  },
  {
   "cell_type": "code",
   "execution_count": 45,
   "id": "1b859f1d",
   "metadata": {},
   "outputs": [],
   "source": [
    "def Table(num):\n",
    "    i=1\n",
    "    while i<=10:\n",
    "        print(num*i,end =' ')\n",
    "        i+=1\n",
    "    "
   ]
  },
  {
   "cell_type": "code",
   "execution_count": 46,
   "id": "4039dddc",
   "metadata": {},
   "outputs": [
    {
     "name": "stdout",
     "output_type": "stream",
     "text": [
      "6 12 18 24 30 36 42 48 54 60 "
     ]
    }
   ],
   "source": [
    "Table(6)"
   ]
  },
  {
   "cell_type": "code",
   "execution_count": 47,
   "id": "afdef1fd",
   "metadata": {},
   "outputs": [
    {
     "name": "stdout",
     "output_type": "stream",
     "text": [
      "9 18 27 36 45 54 63 72 81 90 "
     ]
    }
   ],
   "source": [
    "Table(9)"
   ]
  },
  {
   "cell_type": "code",
   "execution_count": 48,
   "id": "94857293",
   "metadata": {},
   "outputs": [
    {
     "name": "stdout",
     "output_type": "stream",
     "text": [
      "3 6 9 12 15 18 21 24 27 30 "
     ]
    }
   ],
   "source": [
    "Table(3)"
   ]
  },
  {
   "cell_type": "markdown",
   "id": "b2b9886f",
   "metadata": {},
   "source": [
    "6. Number Reverser\n",
    " Test Case 1  \n",
    " Input: Number: 12345  \n",
    " Output:  \n",
    " Reversed = 54321  \n",
    " Test Case 2  \n",
    " Input: Number: 400  \n",
    " Output:    \n",
    " Reversed = 4  \n",
    " Test Case 3  \n",
    " Input: Number: -120  \n",
    " Output:  \n",
    " Reversed = 21  \n"
   ]
  },
  {
   "cell_type": "code",
   "execution_count": 5,
   "id": "0ecb5eb9",
   "metadata": {},
   "outputs": [
    {
     "name": "stdout",
     "output_type": "stream",
     "text": [
      "Reversed= 54321\n"
     ]
    }
   ],
   "source": [
    "def number_reverser(num):\n",
    "    rev = 0\n",
    "    while num > 0:\n",
    "        digit = num % 10       \n",
    "        rev = rev * 10 + digit \n",
    "        num //= 10             \n",
    "    print('Reversed=',rev)\n",
    "\n",
    "\n",
    "(number_reverser(12345))  \n",
    " \n"
   ]
  },
  {
   "cell_type": "code",
   "execution_count": 6,
   "id": "b82304ad",
   "metadata": {},
   "outputs": [
    {
     "name": "stdout",
     "output_type": "stream",
     "text": [
      "Reversed= 4\n"
     ]
    }
   ],
   "source": [
    "(number_reverser(400))    \n"
   ]
  },
  {
   "cell_type": "code",
   "execution_count": 7,
   "id": "487502ec",
   "metadata": {},
   "outputs": [
    {
     "name": "stdout",
     "output_type": "stream",
     "text": [
      "Reversed= 0\n"
     ]
    }
   ],
   "source": [
    "(number_reverser(-120))  "
   ]
  },
  {
   "cell_type": "markdown",
   "id": "59061f2d",
   "metadata": {},
   "source": [
    "7. Odd Number Collector  \n",
    " Test Case 1  \n",
    " Input: Start: 15 End: 25  \n",
    " Output:  \n",
    " 15 17 19 21 23 25  \n",
    " Test Case 2  \n",
    " Input: Start: 2 End: 9  \n",
    " Output:  \n",
    " 3 5 7 9  \n",
    " Test Case 3  \n",
    " Input: Start: 7 End: 7  \n",
    " Output:  \n",
    " 7\n"
   ]
  },
  {
   "cell_type": "code",
   "execution_count": null,
   "id": "979819f0",
   "metadata": {},
   "outputs": [],
   "source": [
    "def odd_number(start_num,end_num):\n",
    "    if start_num %2==0:\n",
    "        start_num+=1\n",
    "    while(start_num<=end_num):\n",
    "        print(start_num,end =' ')\n",
    "        start_num+=2"
   ]
  },
  {
   "cell_type": "code",
   "execution_count": 65,
   "id": "d4bf26f5",
   "metadata": {},
   "outputs": [
    {
     "name": "stdout",
     "output_type": "stream",
     "text": [
      "15 17 19 21 23 25 "
     ]
    }
   ],
   "source": [
    "odd_number(15, 25)"
   ]
  },
  {
   "cell_type": "code",
   "execution_count": 66,
   "id": "9188fa47",
   "metadata": {},
   "outputs": [
    {
     "name": "stdout",
     "output_type": "stream",
     "text": [
      "3 5 7 9 "
     ]
    }
   ],
   "source": [
    "odd_number(2, 9)"
   ]
  },
  {
   "cell_type": "code",
   "execution_count": 67,
   "id": "e0473a7d",
   "metadata": {},
   "outputs": [
    {
     "name": "stdout",
     "output_type": "stream",
     "text": [
      "7 "
     ]
    }
   ],
   "source": [
    "odd_number(7, 7)"
   ]
  },
  {
   "cell_type": "markdown",
   "id": "355a3e4d",
   "metadata": {},
   "source": [
    "8. Factorial Finder\n",
    " Test Case 1  \n",
    " Input: Number: 5  \n",
    " Output:  \n",
    " Factorial = 120  \n",
    " Test Case 2  \n",
    " Input: Number: 3  \n",
    " Output:  \n",
    " Factorial = 6  \n",
    " Test Case 3  \n",
    " Input: Number: 7  \n",
    " Output:  \n",
    " Factorial = 5040  \n"
   ]
  },
  {
   "cell_type": "code",
   "execution_count": 15,
   "id": "525e2a24",
   "metadata": {},
   "outputs": [],
   "source": [
    "def fact(num):\n",
    "    product=1\n",
    "    i=1\n",
    "    while(num>=i):\n",
    "        product*=i\n",
    "        i+=1\n",
    "    return f'Factorial {product}'"
   ]
  },
  {
   "cell_type": "code",
   "execution_count": 16,
   "id": "0159f8aa",
   "metadata": {},
   "outputs": [
    {
     "data": {
      "text/plain": [
       "'Factorial 120'"
      ]
     },
     "execution_count": 16,
     "metadata": {},
     "output_type": "execute_result"
    }
   ],
   "source": [
    "fact(5)"
   ]
  },
  {
   "cell_type": "code",
   "execution_count": 17,
   "id": "081284ba",
   "metadata": {},
   "outputs": [
    {
     "data": {
      "text/plain": [
       "'Factorial 6'"
      ]
     },
     "execution_count": 17,
     "metadata": {},
     "output_type": "execute_result"
    }
   ],
   "source": [
    "fact(3)"
   ]
  },
  {
   "cell_type": "code",
   "execution_count": 18,
   "id": "44385280",
   "metadata": {},
   "outputs": [
    {
     "data": {
      "text/plain": [
       "'Factorial 5040'"
      ]
     },
     "execution_count": 18,
     "metadata": {},
     "output_type": "execute_result"
    }
   ],
   "source": [
    "fact(7)"
   ]
  },
  {
   "cell_type": "markdown",
   "id": "e2e5def8",
   "metadata": {},
   "source": [
    "9. Divisible by 7 (list up to 200)\n",
    " Test Case 1  \n",
    " Input: Up to 200  \n",
    " Output:\n",
    " 7 14 21 28 35 42 49 56 63 70 77 84 91 98 105 112 119 126 133 140 147 154 161 168 175 182 189 196\n",
    " Test Case 2  \n",
    " Input: Up to 50  \n",
    " Output:\n",
    " 7 14 21 28 35 42 49\n",
    " Test Case 3  \n",
    " Input: Up to 30  \n",
    " Output:\n",
    " 7 14 21 28\n"
   ]
  },
  {
   "cell_type": "code",
   "execution_count": 78,
   "id": "8460c129",
   "metadata": {},
   "outputs": [],
   "source": [
    "def Divisible7(num):\n",
    "    i =7\n",
    "    while i<=num:\n",
    "        print(i,end =' ')\n",
    "        i+=7\n",
    "    "
   ]
  },
  {
   "cell_type": "code",
   "execution_count": 79,
   "id": "3f0879c9",
   "metadata": {},
   "outputs": [
    {
     "name": "stdout",
     "output_type": "stream",
     "text": [
      "7 14 21 28 35 42 49 56 63 70 77 84 91 98 105 112 119 126 133 140 147 154 161 168 175 182 189 196 "
     ]
    }
   ],
   "source": [
    "Divisible7(200)"
   ]
  },
  {
   "cell_type": "code",
   "execution_count": 80,
   "id": "ba7d4338",
   "metadata": {},
   "outputs": [
    {
     "name": "stdout",
     "output_type": "stream",
     "text": [
      "7 14 21 28 35 42 49 "
     ]
    }
   ],
   "source": [
    "Divisible7(50)"
   ]
  },
  {
   "cell_type": "code",
   "execution_count": 81,
   "id": "d7f9b770",
   "metadata": {},
   "outputs": [
    {
     "name": "stdout",
     "output_type": "stream",
     "text": [
      "7 14 21 28 "
     ]
    }
   ],
   "source": [
    "Divisible7(30)"
   ]
  },
  {
   "cell_type": "markdown",
   "id": "3313c0b6",
   "metadata": {},
   "source": [
    "10. First N Squares\n",
    " Test Case 1  \n",
    " Input: N = 5  \n",
    " Output:\n",
    " 1 4 9 16 25  \n",
    " Test Case 2   \n",
    " Input: N = 3  \n",
    " Output:\n",
    " 1 4 9  \n",
    " Test Case 3  \n",
    " Input: N = 7  \n",
    " Output:\n",
    " 1 4 9 16 25 36 49\n"
   ]
  },
  {
   "cell_type": "code",
   "execution_count": 82,
   "id": "47760fe9",
   "metadata": {},
   "outputs": [],
   "source": [
    "def Square(num):\n",
    "    i=1\n",
    "    while(i<=num):\n",
    "        print(i**2,end =' ')\n",
    "        i+=1"
   ]
  },
  {
   "cell_type": "code",
   "execution_count": 83,
   "id": "8e3d3305",
   "metadata": {},
   "outputs": [
    {
     "name": "stdout",
     "output_type": "stream",
     "text": [
      "1 4 9 16 25 "
     ]
    }
   ],
   "source": [
    "Square(5)"
   ]
  },
  {
   "cell_type": "code",
   "execution_count": 84,
   "id": "20b903c7",
   "metadata": {},
   "outputs": [
    {
     "name": "stdout",
     "output_type": "stream",
     "text": [
      "1 4 9 "
     ]
    }
   ],
   "source": [
    "Square(3)"
   ]
  },
  {
   "cell_type": "code",
   "execution_count": 85,
   "id": "aeaad03d",
   "metadata": {},
   "outputs": [
    {
     "name": "stdout",
     "output_type": "stream",
     "text": [
      "1 4 9 16 25 36 49 "
     ]
    }
   ],
   "source": [
    "Square(7)"
   ]
  },
  {
   "cell_type": "markdown",
   "id": "5d128800",
   "metadata": {},
   "source": [
    "11. Sum of Digits  \n",
    " Test Case 1  \n",
    " Input: Number: 928\n",
    " Output:\n",
    " Sum = 19  \n",
    " Test Case 2  \n",
    " Input: Number: 1001\n",
    " Output:\n",
    " Sum = 2  \n",
    " Test Case 3  \n",
    " Input: Number: 7\n",
    " Output:  \n",
    " Sum = 7"
   ]
  },
  {
   "cell_type": "code",
   "execution_count": 21,
   "id": "c52a6984",
   "metadata": {},
   "outputs": [],
   "source": [
    "def sum_digit(num):\n",
    "    sum=0\n",
    "    while num>0:\n",
    "        digit =num%10\n",
    "        sum+=digit\n",
    "        num=num//10\n",
    "    return sum\n",
    "   "
   ]
  },
  {
   "cell_type": "code",
   "execution_count": 22,
   "id": "2f02a235",
   "metadata": {},
   "outputs": [
    {
     "name": "stdout",
     "output_type": "stream",
     "text": [
      "Sum = 19\n"
     ]
    }
   ],
   "source": [
    "print('Sum =',sum_digit(928))"
   ]
  },
  {
   "cell_type": "code",
   "execution_count": 23,
   "id": "984bf26f",
   "metadata": {},
   "outputs": [
    {
     "name": "stdout",
     "output_type": "stream",
     "text": [
      "Sum = 2\n"
     ]
    }
   ],
   "source": [
    "print('Sum =',sum_digit(1001))"
   ]
  },
  {
   "cell_type": "code",
   "execution_count": 24,
   "id": "5fe26bf0",
   "metadata": {},
   "outputs": [
    {
     "name": "stdout",
     "output_type": "stream",
     "text": [
      "Sum= 7\n"
     ]
    }
   ],
   "source": [
    "print('Sum=',sum_digit(7))"
   ]
  },
  {
   "cell_type": "markdown",
   "id": "50c1e677",
   "metadata": {},
   "source": [
    "12. Cumulative Product (product 1..n)\n",
    " Test Case 1  \n",
    " Input: Product 1..7  \n",
    " Output: \n",
    " Final Product = 5040  \n",
    " Test Case 2  \n",
    " Input: Product 1..5  \n",
    " Output:\n",
    " Final Product = 120  \n",
    " Test Case 3  \n",
    " Input: Product 1..3  \n",
    " Output:\n",
    " Final Product = 6  "
   ]
  },
  {
   "cell_type": "code",
   "execution_count": 106,
   "id": "e258ea58",
   "metadata": {},
   "outputs": [],
   "source": [
    "def Product(num):\n",
    "    start =1\n",
    "    mul=1\n",
    "    while(start<=num):\n",
    "        mul*=start\n",
    "        start+=1\n",
    "    return mul"
   ]
  },
  {
   "cell_type": "code",
   "execution_count": 107,
   "id": "e68ce81b",
   "metadata": {},
   "outputs": [
    {
     "name": "stdout",
     "output_type": "stream",
     "text": [
      "Final Product= 5040\n"
     ]
    }
   ],
   "source": [
    "print('Final Product=',Product(7))"
   ]
  },
  {
   "cell_type": "code",
   "execution_count": 108,
   "id": "11042081",
   "metadata": {},
   "outputs": [
    {
     "name": "stdout",
     "output_type": "stream",
     "text": [
      "Final Product 120\n"
     ]
    }
   ],
   "source": [
    "print('Final Product',Product(5))"
   ]
  },
  {
   "cell_type": "code",
   "execution_count": 109,
   "id": "b039107d",
   "metadata": {},
   "outputs": [
    {
     "name": "stdout",
     "output_type": "stream",
     "text": [
      "Final Product= 6\n"
     ]
    }
   ],
   "source": [
    "print('Final Product=',Product(3))"
   ]
  },
  {
   "cell_type": "markdown",
   "id": "67f92ac9",
   "metadata": {},
   "source": [
    "13. Power of Two Checker\n",
    " Test Case 1  \n",
    " Input: Number: 64  \n",
    " Output:\n",
    " Yes, it's a power of two  \n",
    " Test Case 2  \n",
    " Input: Number: 20  \n",
    " Output:\n",
    " No   \n",
    " Test Case 3  \n",
    " Input: Number: 1  \n",
    " Output:\n",
    " Yes, it's a power of two  "
   ]
  },
  {
   "cell_type": "code",
   "execution_count": 8,
   "id": "6f370704",
   "metadata": {},
   "outputs": [],
   "source": [
    "def is_power_of_two(n):\n",
    "    if n <= 0:\n",
    "        return \"No\"\n",
    "    while n % 2 == 0:\n",
    "        n = n // 2\n",
    "    if n == 1:\n",
    "        return \"Yes, it's a power of two\"\n",
    "    else:\n",
    "        return \"No\""
   ]
  },
  {
   "cell_type": "code",
   "execution_count": 9,
   "id": "8ea62d61",
   "metadata": {},
   "outputs": [
    {
     "data": {
      "text/plain": [
       "\"Yes, it's a power of two\""
      ]
     },
     "execution_count": 9,
     "metadata": {},
     "output_type": "execute_result"
    }
   ],
   "source": [
    "is_power_of_two(64)"
   ]
  },
  {
   "cell_type": "code",
   "execution_count": 10,
   "id": "7c8c510a",
   "metadata": {},
   "outputs": [
    {
     "data": {
      "text/plain": [
       "'No'"
      ]
     },
     "execution_count": 10,
     "metadata": {},
     "output_type": "execute_result"
    }
   ],
   "source": [
    "is_power_of_two(20)"
   ]
  },
  {
   "cell_type": "code",
   "execution_count": 11,
   "id": "2eb2b10f",
   "metadata": {},
   "outputs": [
    {
     "data": {
      "text/plain": [
       "\"Yes, it's a power of two\""
      ]
     },
     "execution_count": 11,
     "metadata": {},
     "output_type": "execute_result"
    }
   ],
   "source": [
    "is_power_of_two(1)"
   ]
  },
  {
   "cell_type": "markdown",
   "id": "b4bc7158",
   "metadata": {},
   "source": [
    "14. Character Counter (stop on \"STOP\")  \n",
    " Test Case 1  \n",
    " Input: hello STOP  \n",
    " Output:\n",
    " Characters Entered = 5  \n",
    " Test Case 2  \n",
    " Input: hi there STOP  \n",
    " Output:\n",
    " Characters Entered = 7  \n",
    " Test Case 3  \n",
    " Input: abc STOP  \n",
    " Output:\n",
    " Characters Entered = 3  \n"
   ]
  },
  {
   "cell_type": "code",
   "execution_count": 27,
   "id": "e021bf36",
   "metadata": {},
   "outputs": [],
   "source": [
    "def ch_counter(sent):\n",
    "    parts = sent.split('STOP')\n",
    "    before_stop = parts[0].strip()\n",
    "    count= len(before_stop.replace(' ',''))\n",
    "    return f'Characters Entered = {count}'"
   ]
  },
  {
   "cell_type": "code",
   "execution_count": 28,
   "id": "a332fd33",
   "metadata": {},
   "outputs": [
    {
     "data": {
      "text/plain": [
       "'Characters Entered = 5'"
      ]
     },
     "execution_count": 28,
     "metadata": {},
     "output_type": "execute_result"
    }
   ],
   "source": [
    "ch_counter('hello STOP')"
   ]
  },
  {
   "cell_type": "code",
   "execution_count": 29,
   "id": "53477e21",
   "metadata": {},
   "outputs": [
    {
     "data": {
      "text/plain": [
       "'Characters Entered = 7'"
      ]
     },
     "execution_count": 29,
     "metadata": {},
     "output_type": "execute_result"
    }
   ],
   "source": [
    "ch_counter('hi there STOP')"
   ]
  },
  {
   "cell_type": "code",
   "execution_count": 30,
   "id": "442b805c",
   "metadata": {},
   "outputs": [
    {
     "data": {
      "text/plain": [
       "'Characters Entered = 3'"
      ]
     },
     "execution_count": 30,
     "metadata": {},
     "output_type": "execute_result"
    }
   ],
   "source": [
    "ch_counter('abc STOP')"
   ]
  },
  {
   "cell_type": "markdown",
   "id": "f0491399",
   "metadata": {},
   "source": [
    "15. Guess the Number  \n",
    "(assume a secret — returns \"Correct Guess!\" if any guess matches the secret)\n",
    " Test Case 1  \n",
    " Input: Guess: 10, 20, 25 (secret 20)  \n",
    " Output:\n",
    " Correct Guess!  \n",
    " Test Case 2  \n",
    " Input: Guess: 5, 7, 9 (secret 7)  \n",
    " Output:\n",
    " Correct Guess!  \n",
    " Test Case 3  \n",
    " Input: Guess: 1, 2, 3 (secret 10)  \n",
    " Output:\n",
    " Try Again  \n"
   ]
  },
  {
   "cell_type": "code",
   "execution_count": 34,
   "id": "d0b8b1d9",
   "metadata": {},
   "outputs": [],
   "source": [
    "def Guess(secret):\n",
    "    while True:\n",
    "        guess = eval(input('Enter the numbers'))\n",
    "        print(guess)\n",
    "        if  secret in guess:\n",
    "            return 'Correct Guess!'\n",
    "        else:\n",
    "            return 'Try Again'\n",
    "    "
   ]
  },
  {
   "cell_type": "code",
   "execution_count": 35,
   "id": "ab486711",
   "metadata": {},
   "outputs": [
    {
     "name": "stdout",
     "output_type": "stream",
     "text": [
      "(10, 20, 25)\n"
     ]
    },
    {
     "data": {
      "text/plain": [
       "'Correct Guess!'"
      ]
     },
     "execution_count": 35,
     "metadata": {},
     "output_type": "execute_result"
    }
   ],
   "source": [
    "Guess(20)"
   ]
  },
  {
   "cell_type": "code",
   "execution_count": 36,
   "id": "c8962168",
   "metadata": {},
   "outputs": [
    {
     "name": "stdout",
     "output_type": "stream",
     "text": [
      "(5, 7, 9)\n"
     ]
    },
    {
     "data": {
      "text/plain": [
       "'Correct Guess!'"
      ]
     },
     "execution_count": 36,
     "metadata": {},
     "output_type": "execute_result"
    }
   ],
   "source": [
    "Guess(7)"
   ]
  },
  {
   "cell_type": "code",
   "execution_count": 37,
   "id": "51cb10dd",
   "metadata": {},
   "outputs": [
    {
     "name": "stdout",
     "output_type": "stream",
     "text": [
      "(1, 2, 3)\n"
     ]
    },
    {
     "data": {
      "text/plain": [
       "'Try Again'"
      ]
     },
     "execution_count": 37,
     "metadata": {},
     "output_type": "execute_result"
    }
   ],
   "source": [
    "Guess(10)"
   ]
  },
  {
   "cell_type": "markdown",
   "id": "868d0014",
   "metadata": {},
   "source": [
    "16. Decimal to Binary Converter\n",
    " Test Case 1  \n",
    " Input: Number: 13  \n",
    " Output:\n",
    " Binary = 1101  \n",
    " Test Case 2  \n",
    " Input: Number: 8  \n",
    " Output:\n",
    " Binary = 1000  \n",
    " Test Case 3  \n",
    " Input: Number: 1  \n",
    " Output:\n",
    " Binary = 1\n"
   ]
  },
  {
   "cell_type": "code",
   "execution_count": 41,
   "id": "34698693",
   "metadata": {},
   "outputs": [],
   "source": [
    "def decimal_binary(n):\n",
    "    binary=''\n",
    "    while n>0:\n",
    "        rem= n%2\n",
    "        binary=str(rem)+binary\n",
    "        n = n//2\n",
    "    return f'Binary ={binary}'"
   ]
  },
  {
   "cell_type": "code",
   "execution_count": 42,
   "id": "ab96301c",
   "metadata": {},
   "outputs": [
    {
     "data": {
      "text/plain": [
       "'Binary =1101'"
      ]
     },
     "execution_count": 42,
     "metadata": {},
     "output_type": "execute_result"
    }
   ],
   "source": [
    "decimal_binary(13)"
   ]
  },
  {
   "cell_type": "code",
   "execution_count": 43,
   "id": "7d5a0c5c",
   "metadata": {},
   "outputs": [
    {
     "data": {
      "text/plain": [
       "'Binary =1000'"
      ]
     },
     "execution_count": 43,
     "metadata": {},
     "output_type": "execute_result"
    }
   ],
   "source": [
    "decimal_binary(8)"
   ]
  },
  {
   "cell_type": "code",
   "execution_count": 44,
   "id": "a5a858b6",
   "metadata": {},
   "outputs": [
    {
     "data": {
      "text/plain": [
       "'Binary =11'"
      ]
     },
     "execution_count": 44,
     "metadata": {},
     "output_type": "execute_result"
    }
   ],
   "source": [
    "decimal_binary(3)"
   ]
  },
  {
   "cell_type": "markdown",
   "id": "0fd937aa",
   "metadata": {},
   "source": [
    "17. First N Cubes  \n",
    " Test Case 1  \n",
    " Input: N = 4  \n",
    " Output:\n",
    " 1 8 27 64  \n",
    " Test Case 2  \n",
    " Input: N = 1  \n",
    " Output:\n",
    " 1  \n",
    " Test Case 3  \n",
    " Input: N = 6  \n",
    " Output:\n",
    " 1 8 27 64 125 216  \n"
   ]
  },
  {
   "cell_type": "code",
   "execution_count": 45,
   "id": "ef98717e",
   "metadata": {},
   "outputs": [],
   "source": [
    "def cubes(n):\n",
    "    i =1\n",
    "    while(i<=n):\n",
    "        print(i**3,end=' ')\n",
    "        i+=1"
   ]
  },
  {
   "cell_type": "code",
   "execution_count": 46,
   "id": "3f4be7c2",
   "metadata": {},
   "outputs": [
    {
     "name": "stdout",
     "output_type": "stream",
     "text": [
      "1 8 27 64 "
     ]
    }
   ],
   "source": [
    "cubes(4)"
   ]
  },
  {
   "cell_type": "code",
   "execution_count": 47,
   "id": "a9760dec",
   "metadata": {},
   "outputs": [
    {
     "name": "stdout",
     "output_type": "stream",
     "text": [
      "1 "
     ]
    }
   ],
   "source": [
    "cubes(1)"
   ]
  },
  {
   "cell_type": "code",
   "execution_count": 48,
   "id": "a40be438",
   "metadata": {},
   "outputs": [
    {
     "name": "stdout",
     "output_type": "stream",
     "text": [
      "1 8 27 64 125 216 "
     ]
    }
   ],
   "source": [
    "cubes(6)"
   ]
  },
  {
   "cell_type": "markdown",
   "id": "853a0a56",
   "metadata": {},
   "source": [
    "18. Number Palindrome Checker  \n",
    " Test Case 1  \n",
    " Input: Number: 1221  \n",
    " Output:  \n",
    " Palindrome  \n",
    " Test Case 2  \n",
    " Input: Number: 1234  \n",
    " Output:\n",
    " Not Palindrome  \n",
    " Test Case 3  \n",
    " Input: Number: 7  \n",
    " Output:\n",
    " Palindrome"
   ]
  },
  {
   "cell_type": "code",
   "execution_count": 51,
   "id": "2a254287",
   "metadata": {},
   "outputs": [],
   "source": [
    "def is_palindrome(n):\n",
    "    temp = n\n",
    "    rev =0\n",
    "    while n>0:\n",
    "        rem = n%10\n",
    "        rev = rev*10+rem\n",
    "        n = n//10\n",
    "    \n",
    "    if temp==rev:\n",
    "        return \"Palindrome\"\n",
    "    else:\n",
    "        return 'Not Palindrome'\n"
   ]
  },
  {
   "cell_type": "code",
   "execution_count": 52,
   "id": "a51e2e6c",
   "metadata": {},
   "outputs": [
    {
     "data": {
      "text/plain": [
       "'Palindrome'"
      ]
     },
     "execution_count": 52,
     "metadata": {},
     "output_type": "execute_result"
    }
   ],
   "source": [
    "is_palindrome(1221)"
   ]
  },
  {
   "cell_type": "code",
   "execution_count": 53,
   "id": "0aa383eb",
   "metadata": {},
   "outputs": [
    {
     "data": {
      "text/plain": [
       "'Not Palindrome'"
      ]
     },
     "execution_count": 53,
     "metadata": {},
     "output_type": "execute_result"
    }
   ],
   "source": [
    "is_palindrome(1234)"
   ]
  },
  {
   "cell_type": "code",
   "execution_count": 54,
   "id": "30b95741",
   "metadata": {},
   "outputs": [
    {
     "data": {
      "text/plain": [
       "'Palindrome'"
      ]
     },
     "execution_count": 54,
     "metadata": {},
     "output_type": "execute_result"
    }
   ],
   "source": [
    "is_palindrome(7)"
   ]
  },
  {
   "cell_type": "markdown",
   "id": "7d06032e",
   "metadata": {},
   "source": [
    "19. Sum Until Negative  \n",
    " Test Case 1  \n",
    " Input: 5 8 10 -1  \n",
    " Output:\n",
    " Sum = 23  \n",
    " Test Case 2  \n",
    " Input: 1 2 3 0 -5  \n",
    " Output:\n",
    " Sum = 6  \n",
    " Test Case 3  \n",
    " Input: -1  \n",
    " Output:\n",
    " Sum = 0\n"
   ]
  },
  {
   "cell_type": "code",
   "execution_count": 57,
   "id": "e77a2f18",
   "metadata": {},
   "outputs": [],
   "source": [
    "def  sum_until_negative(n):\n",
    "    total =0\n",
    "    i =0\n",
    "    while(i<len(n) and n[i]>=0):\n",
    "        total += n[i]\n",
    "        i+=1\n",
    "    return f'Sum ={total}'"
   ]
  },
  {
   "cell_type": "code",
   "execution_count": 58,
   "id": "9471e16f",
   "metadata": {},
   "outputs": [
    {
     "data": {
      "text/plain": [
       "'Sum =23'"
      ]
     },
     "execution_count": 58,
     "metadata": {},
     "output_type": "execute_result"
    }
   ],
   "source": [
    "sum_until_negative([5,8,10,-1])"
   ]
  },
  {
   "cell_type": "code",
   "execution_count": 59,
   "id": "1cf6603a",
   "metadata": {},
   "outputs": [
    {
     "data": {
      "text/plain": [
       "'Sum =6'"
      ]
     },
     "execution_count": 59,
     "metadata": {},
     "output_type": "execute_result"
    }
   ],
   "source": [
    "sum_until_negative([1, 2, 3, 0, -5])"
   ]
  },
  {
   "cell_type": "code",
   "execution_count": 60,
   "id": "40bcd122",
   "metadata": {},
   "outputs": [
    {
     "data": {
      "text/plain": [
       "'Sum =0'"
      ]
     },
     "execution_count": 60,
     "metadata": {},
     "output_type": "execute_result"
    }
   ],
   "source": [
    "sum_until_negative([-1])"
   ]
  },
  {
   "cell_type": "markdown",
   "id": "1d44178b",
   "metadata": {},
   "source": [
    "20. Prime Number Finder  \n",
    " Test Case 1  \n",
    " Input: Number: 17  \n",
    " Output:\n",
    " Prime  \n",
    " Test Case 2  \n",
    " Input: Number: 18  \n",
    " Output:\n",
    " Not Prime  \n",
    " Test Case 3  \n",
    " Input: Number: 2  \n"
   ]
  },
  {
   "cell_type": "code",
   "execution_count": 67,
   "id": "9b923d1d",
   "metadata": {},
   "outputs": [],
   "source": [
    "def prime_num(n):\n",
    "    if n==1:\n",
    "        return 'Not Prime'\n",
    "    i=2\n",
    "    while i<n:\n",
    "        if n%i==0:\n",
    "            return 'Not Prime'\n",
    "        else:\n",
    "            return 'Prime'\n",
    "        i+=1\n",
    "    return \"Prime\""
   ]
  },
  {
   "cell_type": "code",
   "execution_count": 68,
   "id": "841e9d17",
   "metadata": {},
   "outputs": [
    {
     "data": {
      "text/plain": [
       "'Prime'"
      ]
     },
     "execution_count": 68,
     "metadata": {},
     "output_type": "execute_result"
    }
   ],
   "source": [
    "prime_num(17)"
   ]
  },
  {
   "cell_type": "code",
   "execution_count": 69,
   "id": "4788f9f5",
   "metadata": {},
   "outputs": [
    {
     "data": {
      "text/plain": [
       "'Not Prime'"
      ]
     },
     "execution_count": 69,
     "metadata": {},
     "output_type": "execute_result"
    }
   ],
   "source": [
    "prime_num(18)"
   ]
  },
  {
   "cell_type": "code",
   "execution_count": 70,
   "id": "cfffb753",
   "metadata": {},
   "outputs": [
    {
     "data": {
      "text/plain": [
       "'Prime'"
      ]
     },
     "execution_count": 70,
     "metadata": {},
     "output_type": "execute_result"
    }
   ],
   "source": [
    "prime_num(2)"
   ]
  },
  {
   "cell_type": "markdown",
   "id": "c9151894",
   "metadata": {},
   "source": [
    "21. Series Generator (odd numbers)  \n",
    " Test Case 1  \n",
    " Input: N = 6  \n",
    " Output:\n",
    " 1 3 5 7 9 11  \n",
    " Test Case 2  \n",
    " Input: N = 3  \n",
    " Output:\n",
    " 1 3 5  \n",
    " Test Case 3  \n",
    " Input: N = 1  \n",
    " Output:\n",
    " 1  \n"
   ]
  },
  {
   "cell_type": "code",
   "execution_count": 71,
   "id": "e016807f",
   "metadata": {},
   "outputs": [],
   "source": [
    "def Odd_series(n):\n",
    "    i = 1\n",
    "    count=0\n",
    "    while count<n:\n",
    "        print(i,end=' ')\n",
    "        i+=2\n",
    "        count+=1"
   ]
  },
  {
   "cell_type": "code",
   "execution_count": 72,
   "id": "ce98907f",
   "metadata": {},
   "outputs": [
    {
     "name": "stdout",
     "output_type": "stream",
     "text": [
      "1 3 5 7 9 11 "
     ]
    }
   ],
   "source": [
    "Odd_series(6)"
   ]
  },
  {
   "cell_type": "code",
   "execution_count": 73,
   "id": "8e4c18d8",
   "metadata": {},
   "outputs": [
    {
     "name": "stdout",
     "output_type": "stream",
     "text": [
      "1 3 5 "
     ]
    }
   ],
   "source": [
    "Odd_series(3)"
   ]
  },
  {
   "cell_type": "code",
   "execution_count": 74,
   "id": "ed2c2c7f",
   "metadata": {},
   "outputs": [
    {
     "name": "stdout",
     "output_type": "stream",
     "text": [
      "1 "
     ]
    }
   ],
   "source": [
    "Odd_series(1)"
   ]
  },
  {
   "cell_type": "markdown",
   "id": "2f13179f",
   "metadata": {},
   "source": [
    "22. Repeated Subtraction (subtract fixed amount until remainder)  \n",
    "(Example uses subtract 7 until < 7)  \n",
    " Test Case 1  \n",
    " Input: Number: 45 (subtract 7)  \n",
    " Output:\n",
    " Final Value = 3  \n",
    " Test Case 2  \n",
    " Input: Number: 20 (subtract 6)  \n",
    " Output:\n",
    " Final Value = 2  \n",
    " Test Case 3  \n",
    " Input: Number: 13 (subtract 5)  \n",
    " Output:\n",
    " Final Value = 3  \n"
   ]
  },
  {
   "cell_type": "code",
   "execution_count": 75,
   "id": "a1babe8e",
   "metadata": {},
   "outputs": [],
   "source": [
    "def repeated_subtraction(n,s):\n",
    "    while n>=s:\n",
    "        n-=s\n",
    "    return f'Final Value ={n}'\n"
   ]
  },
  {
   "cell_type": "code",
   "execution_count": 76,
   "id": "ab8a417b",
   "metadata": {},
   "outputs": [
    {
     "data": {
      "text/plain": [
       "'Final Value =3'"
      ]
     },
     "execution_count": 76,
     "metadata": {},
     "output_type": "execute_result"
    }
   ],
   "source": [
    "repeated_subtraction(45,7)"
   ]
  },
  {
   "cell_type": "code",
   "execution_count": 77,
   "id": "4b79465b",
   "metadata": {},
   "outputs": [
    {
     "data": {
      "text/plain": [
       "'Final Value =2'"
      ]
     },
     "execution_count": 77,
     "metadata": {},
     "output_type": "execute_result"
    }
   ],
   "source": [
    "repeated_subtraction(20,6)"
   ]
  },
  {
   "cell_type": "code",
   "execution_count": 78,
   "id": "3a81dea6",
   "metadata": {},
   "outputs": [
    {
     "data": {
      "text/plain": [
       "'Final Value =3'"
      ]
     },
     "execution_count": 78,
     "metadata": {},
     "output_type": "execute_result"
    }
   ],
   "source": [
    "repeated_subtraction(13,5)"
   ]
  },
  {
   "cell_type": "markdown",
   "id": "d2b678bb",
   "metadata": {},
   "source": [
    "23. LCM Calculator  \n",
    " Test Case 1  \n",
    " Input: A = 12, B = 15  \n",
    " Output:\n",
    " LCM = 60  \n",
    " Test Case 2  \n",
    " Input: A = 7, B = 5  \n",
    " Output:\n",
    " LCM = 35  \n",
    " Test Case 3  \n",
    " Input: A = 8, B = 12  \n",
    " Output:\n",
    " LCM = 24  \n"
   ]
  },
  {
   "cell_type": "code",
   "execution_count": 79,
   "id": "be8a528d",
   "metadata": {},
   "outputs": [],
   "source": [
    "def LCM(n1,n2):\n",
    "    result = max(n1,n2)\n",
    "\n",
    "    while True:\n",
    "        if result %n1 ==0 and result%n2==0 :\n",
    "            return f'LCM={result}'\n",
    "        result+=1\n"
   ]
  },
  {
   "cell_type": "code",
   "execution_count": 80,
   "id": "a2456ed8",
   "metadata": {},
   "outputs": [
    {
     "name": "stdout",
     "output_type": "stream",
     "text": [
      "LCM=60\n"
     ]
    }
   ],
   "source": [
    "print(LCM(12, 15)) "
   ]
  },
  {
   "cell_type": "code",
   "execution_count": 81,
   "id": "1e92515b",
   "metadata": {},
   "outputs": [
    {
     "name": "stdout",
     "output_type": "stream",
     "text": [
      "LCM=35\n"
     ]
    }
   ],
   "source": [
    "print(LCM(7, 5)) "
   ]
  },
  {
   "cell_type": "code",
   "execution_count": 82,
   "id": "2bbfdcee",
   "metadata": {},
   "outputs": [
    {
     "name": "stdout",
     "output_type": "stream",
     "text": [
      "LCM=24\n"
     ]
    }
   ],
   "source": [
    "print(LCM(8, 12)) "
   ]
  },
  {
   "cell_type": "code",
   "execution_count": 2,
   "id": "fe2a3ba7",
   "metadata": {},
   "outputs": [],
   "source": [
    "def sqrt_floor(num):\n",
    "    i = 0\n",
    "    while i * i <= num:\n",
    "        i += 1\n",
    "    return f\"Approximate Square Root = {i-1}\"\n",
    "\n",
    "  "
   ]
  },
  {
   "cell_type": "code",
   "execution_count": 3,
   "id": "8f0357f2",
   "metadata": {},
   "outputs": [
    {
     "name": "stdout",
     "output_type": "stream",
     "text": [
      "Approximate Square Root = 4\n"
     ]
    }
   ],
   "source": [
    "print(sqrt_floor(20))"
   ]
  },
  {
   "cell_type": "code",
   "execution_count": 4,
   "id": "c6f2565c",
   "metadata": {},
   "outputs": [
    {
     "name": "stdout",
     "output_type": "stream",
     "text": [
      "Approximate Square Root = 4\n"
     ]
    }
   ],
   "source": [
    "\n",
    "print(sqrt_floor(16))  \n"
   ]
  },
  {
   "cell_type": "code",
   "execution_count": 5,
   "id": "c125c096",
   "metadata": {},
   "outputs": [
    {
     "name": "stdout",
     "output_type": "stream",
     "text": [
      "Approximate Square Root = 1\n"
     ]
    }
   ],
   "source": [
    "\n",
    "print(sqrt_floor(2))  "
   ]
  },
  {
   "cell_type": "markdown",
   "id": "219423ae",
   "metadata": {},
   "source": [
    "25. Password Retry    \n",
    "(returns \"Access Granted\" if correct password appears in attempts)  \n",
    " Test Case 1  \n",
    " Input: pass123, admin, letmein (correct=admin)  \n",
    " Output:\n",
    " Access Granted  \n",
    " Test Case 2  \n",
    " Input: 1234, password, letmein (correct=letmein)  \n",
    " Output:\n",
    " Access Granted  \n",
    " Test Case 3  \n",
    " Input: a, b, c (correct=secret)  \n",
    " Output:\n",
    " Access Denied\n"
   ]
  },
  {
   "cell_type": "code",
   "execution_count": 6,
   "id": "b22cccb1",
   "metadata": {},
   "outputs": [],
   "source": [
    "def password_retry(attempts, correct):\n",
    "    i = 0\n",
    "    while i < len(attempts):\n",
    "        if attempts[i] == correct:\n",
    "            return \"Access Granted\"\n",
    "        i += 1\n",
    "    return \"Access Denied\""
   ]
  },
  {
   "cell_type": "code",
   "execution_count": 7,
   "id": "0cadf8cf",
   "metadata": {},
   "outputs": [
    {
     "data": {
      "text/plain": [
       "'Access Granted'"
      ]
     },
     "execution_count": 7,
     "metadata": {},
     "output_type": "execute_result"
    }
   ],
   "source": [
    "password_retry([\"pass123\", \"admin\", \"letmein\"], \"admin\")"
   ]
  },
  {
   "cell_type": "code",
   "execution_count": 8,
   "id": "6e840f6d",
   "metadata": {},
   "outputs": [
    {
     "data": {
      "text/plain": [
       "'Access Granted'"
      ]
     },
     "execution_count": 8,
     "metadata": {},
     "output_type": "execute_result"
    }
   ],
   "source": [
    "password_retry([\"1234\", \"password\", \"letmein\"], \"letmein\")"
   ]
  },
  {
   "cell_type": "code",
   "execution_count": 9,
   "id": "c0342fc8",
   "metadata": {},
   "outputs": [
    {
     "data": {
      "text/plain": [
       "'Access Denied'"
      ]
     },
     "execution_count": 9,
     "metadata": {},
     "output_type": "execute_result"
    }
   ],
   "source": [
    "password_retry([\"a\", \"b\", \"c\"], \"secret\")"
   ]
  },
  {
   "cell_type": "markdown",
   "id": "3772d7d5",
   "metadata": {},
   "source": [
    "### FOR LOOP QUESTIONS"
   ]
  },
  {
   "cell_type": "markdown",
   "id": "d2580636",
   "metadata": {},
   "source": [
    "\n",
    "1. Print Alphabets  \n",
    " Test Case 1  \n",
    " Input: –\n",
    " Output:  \n",
    " A B C D E F G H I J K L M N O P Q R S T U V W X Y Z\n",
    " Test Case 2\n",
    " Input: lower  \n",
    " Output:\n",
    " a b c d e f g h i j k l m n o p q r s t u v w x y z  \n",
    " Test Case 3  \n",
    " Input: A..F  \n",
    " Output:\n",
    " A B C D E F  "
   ]
  },
  {
   "cell_type": "code",
   "execution_count": 16,
   "id": "ab9fa305",
   "metadata": {},
   "outputs": [],
   "source": [
    "def alphabets(s,e):\n",
    "    for i in range(s,e):\n",
    "        print(chr(i),end =' ')"
   ]
  },
  {
   "cell_type": "code",
   "execution_count": 17,
   "id": "a1b0a6bb",
   "metadata": {},
   "outputs": [
    {
     "name": "stdout",
     "output_type": "stream",
     "text": [
      "A B C D E F G H I J K L M N O P Q R S T U V W X Y Z "
     ]
    }
   ],
   "source": [
    "alphabets(65,91)"
   ]
  },
  {
   "cell_type": "code",
   "execution_count": 18,
   "id": "e288c8ef",
   "metadata": {},
   "outputs": [
    {
     "name": "stdout",
     "output_type": "stream",
     "text": [
      "a b c d e f g h i j k l m n o p q r s t u v w x y "
     ]
    }
   ],
   "source": [
    "alphabets(97,122)"
   ]
  },
  {
   "cell_type": "code",
   "execution_count": 20,
   "id": "2612a4ee",
   "metadata": {},
   "outputs": [
    {
     "name": "stdout",
     "output_type": "stream",
     "text": [
      "A B C D E F "
     ]
    }
   ],
   "source": [
    "alphabets(65, 71)  "
   ]
  },
  {
   "cell_type": "markdown",
   "id": "550b062c",
   "metadata": {},
   "source": [
    "2. Sum of First N Numbers  \n",
    " Test Case 1  \n",
    " Input: N = 10  \n",
    " Output:\n",
    " Sum = 55  \n",
    " Test Case 2  \n",
    " Input: N = 5  \n",
    " Output:\n",
    " Sum = 15  \n",
    " Test Case 3  \n",
    " Input: N = 1  \n",
    " Output:\n",
    " Sum = 1  "
   ]
  },
  {
   "cell_type": "code",
   "execution_count": 24,
   "id": "95b32625",
   "metadata": {},
   "outputs": [],
   "source": [
    "def sum_n_number(s,t):\n",
    "    sum = 0\n",
    "    for i in range(s,t+1):\n",
    "        sum+=i\n",
    "    print(sum)\n"
   ]
  },
  {
   "cell_type": "code",
   "execution_count": 25,
   "id": "66f68061",
   "metadata": {},
   "outputs": [
    {
     "name": "stdout",
     "output_type": "stream",
     "text": [
      "55\n"
     ]
    }
   ],
   "source": [
    "sum_n_number(1,10)"
   ]
  },
  {
   "cell_type": "code",
   "execution_count": 26,
   "id": "94452efa",
   "metadata": {},
   "outputs": [
    {
     "name": "stdout",
     "output_type": "stream",
     "text": [
      "15\n"
     ]
    }
   ],
   "source": [
    "sum_n_number(1,5)"
   ]
  },
  {
   "cell_type": "code",
   "execution_count": 28,
   "id": "8b9a9264",
   "metadata": {},
   "outputs": [
    {
     "name": "stdout",
     "output_type": "stream",
     "text": [
      "1\n"
     ]
    }
   ],
   "source": [
    "sum_n_number(1,1)"
   ]
  },
  {
   "cell_type": "markdown",
   "id": "c535f0e3",
   "metadata": {},
   "source": [
    "3. Factorial with For  \n",
    " Test Case 1  \n",
    " Input: Number: 6  \n",
    " Output:\n",
    " Factorial = 720  \n",
    " Test Case 2  \n",
    " Input: Number: 4  \n",
    " Output:\n",
    " Factorial = 24  \n",
    " Test Case 3  \n",
    " Input: Number: 0  \n",
    " Output:\n",
    " Factorial = 1\n"
   ]
  },
  {
   "cell_type": "code",
   "execution_count": 35,
   "id": "f9e2b979",
   "metadata": {},
   "outputs": [],
   "source": [
    "def fact(s,e):\n",
    "    product= 1\n",
    "    for i in range(s,e+1):\n",
    "        product*=i\n",
    "    print(product)"
   ]
  },
  {
   "cell_type": "code",
   "execution_count": 36,
   "id": "c3dede4e",
   "metadata": {},
   "outputs": [
    {
     "name": "stdout",
     "output_type": "stream",
     "text": [
      "720\n"
     ]
    }
   ],
   "source": [
    "fact(1,6)"
   ]
  },
  {
   "cell_type": "code",
   "execution_count": 37,
   "id": "2e5aa486",
   "metadata": {},
   "outputs": [
    {
     "name": "stdout",
     "output_type": "stream",
     "text": [
      "24\n"
     ]
    }
   ],
   "source": [
    "fact(1,4)"
   ]
  },
  {
   "cell_type": "code",
   "execution_count": 38,
   "id": "ce434c8e",
   "metadata": {},
   "outputs": [
    {
     "name": "stdout",
     "output_type": "stream",
     "text": [
      "1\n"
     ]
    }
   ],
   "source": [
    "fact(1,1)"
   ]
  },
  {
   "cell_type": "markdown",
   "id": "c1f9f309",
   "metadata": {},
   "source": [
    "4. Count Vowels  \n",
    " Test Case 1  \n",
    " Input: Education\n",
    " Output:  \n",
    " Vowels = 5  \n",
    " Test Case 2  \n",
    " Input: Sky  \n",
    " Output:\n",
    " Vowels = 0  \n",
    " Test Case 3  \n",
    " Input: AEIOU  \n",
    " Output:\n",
    " Vowels = 5  \n"
   ]
  },
  {
   "cell_type": "code",
   "execution_count": 41,
   "id": "1d69ff07",
   "metadata": {},
   "outputs": [],
   "source": [
    "def Count_vowels(s):\n",
    "    s=s.lower()\n",
    "    v= 'aeiou'\n",
    "    count=0\n",
    "    for i in s:\n",
    "        if i in v:\n",
    "            count+=1\n",
    "    print(count)"
   ]
  },
  {
   "cell_type": "code",
   "execution_count": 42,
   "id": "a5153835",
   "metadata": {},
   "outputs": [
    {
     "name": "stdout",
     "output_type": "stream",
     "text": [
      "5\n"
     ]
    }
   ],
   "source": [
    "Count_vowels('Education')"
   ]
  },
  {
   "cell_type": "code",
   "execution_count": 43,
   "id": "154923b7",
   "metadata": {},
   "outputs": [
    {
     "name": "stdout",
     "output_type": "stream",
     "text": [
      "0\n"
     ]
    }
   ],
   "source": [
    "Count_vowels('Sky')"
   ]
  },
  {
   "cell_type": "code",
   "execution_count": 44,
   "id": "cfe1bad8",
   "metadata": {},
   "outputs": [
    {
     "name": "stdout",
     "output_type": "stream",
     "text": [
      "5\n"
     ]
    }
   ],
   "source": [
    "Count_vowels('AEIOU')"
   ]
  },
  {
   "cell_type": "markdown",
   "id": "8c3eb5f9",
   "metadata": {},
   "source": [
    "5. Multiples of 3  \n",
    " Test Case 1  \n",
    " Input: –  \n",
    " Output:\n",
    " 3 6 9 12 15 18 21 24 27 30 33 36 39 42 45 48 51 54 57 60 63 66 69 72 75 78 81 84 87 90 93 96 99  \n",
    " Test Case 2  \n",
    " Input: limit=30  \n",
    " Output:\n",
    " 3 6 9 12 15 18 21 24 27 30  \n",
    " Test Case 3  \n",
    " Input: limit=15  \n",
    " Output:\n",
    " 3 6 9 12 15  \n"
   ]
  },
  {
   "cell_type": "code",
   "execution_count": 47,
   "id": "a4ddd70d",
   "metadata": {},
   "outputs": [],
   "source": [
    "def Mul3(limit):\n",
    "    for i in range(3,limit+1,3):\n",
    "        print(i,end=' ')\n",
    "\n"
   ]
  },
  {
   "cell_type": "code",
   "execution_count": 48,
   "id": "73470f01",
   "metadata": {},
   "outputs": [
    {
     "name": "stdout",
     "output_type": "stream",
     "text": [
      "3 6 9 12 15 18 21 24 27 30 33 36 39 42 45 48 51 54 57 60 63 66 69 72 75 78 81 84 87 90 93 96 99 "
     ]
    }
   ],
   "source": [
    "Mul3(100)"
   ]
  },
  {
   "cell_type": "code",
   "execution_count": 49,
   "id": "0bdefe09",
   "metadata": {},
   "outputs": [
    {
     "name": "stdout",
     "output_type": "stream",
     "text": [
      "3 6 9 12 15 18 21 24 27 30 "
     ]
    }
   ],
   "source": [
    "Mul3(30)"
   ]
  },
  {
   "cell_type": "code",
   "execution_count": 50,
   "id": "3d609f08",
   "metadata": {},
   "outputs": [
    {
     "name": "stdout",
     "output_type": "stream",
     "text": [
      "3 6 9 12 15 "
     ]
    }
   ],
   "source": [
    "Mul3(15)"
   ]
  },
  {
   "cell_type": "markdown",
   "id": "54602058",
   "metadata": {},
   "source": [
    "6. Power Table (powers of base)  \n",
    " Test Case 1  \n",
    " Input: – (2^1..2^10)\n",
    " Output:  \n",
    " 2 4 8 16 32 64 128 256 512 1024  \n",
    " Test Case 2  \n",
    " Input: base=3,count=6  \n",
    " Output:  \n",
    " 3 9 27 81 243 729  \n",
    " Test Case 3  \n",
    " Input: base=5,count=5  \n",
    " Output:  \n",
    " 5 25 125 625 3125  \n"
   ]
  },
  {
   "cell_type": "code",
   "execution_count": 51,
   "id": "df7218fc",
   "metadata": {},
   "outputs": [],
   "source": [
    "def power1(base,count):\n",
    "    for i in range(1,count+1):\n",
    "        print(base**i,end =' ')"
   ]
  },
  {
   "cell_type": "code",
   "execution_count": 52,
   "id": "2fd2765b",
   "metadata": {},
   "outputs": [
    {
     "name": "stdout",
     "output_type": "stream",
     "text": [
      "2 4 8 16 32 64 128 256 512 1024 "
     ]
    }
   ],
   "source": [
    "power1(2,10)"
   ]
  },
  {
   "cell_type": "code",
   "execution_count": 53,
   "id": "e17f81f8",
   "metadata": {},
   "outputs": [
    {
     "name": "stdout",
     "output_type": "stream",
     "text": [
      "3 9 27 81 243 729 "
     ]
    }
   ],
   "source": [
    "power1(3,6)"
   ]
  },
  {
   "cell_type": "code",
   "execution_count": 54,
   "id": "cd78b617",
   "metadata": {},
   "outputs": [
    {
     "name": "stdout",
     "output_type": "stream",
     "text": [
      "5 25 125 625 3125 "
     ]
    }
   ],
   "source": [
    "power1(5,5)"
   ]
  },
  {
   "cell_type": "markdown",
   "id": "745ca219",
   "metadata": {},
   "source": [
    "7. List Reverser  \n",
    " Test Case 1  \n",
    " Input: List: [10, 20, 30, 40]  \n",
    " Output:\n",
    " [40, 30, 20, 10]  \n",
    " Test Case 2  \n",
    " Input: List: [1, 2, 3]  \n",
    " Output:\n",
    " [3, 2, 1]  \n",
    " Test Case 3  \n",
    " Input: List: []  \n",
    " Output:\n",
    " []  "
   ]
  },
  {
   "cell_type": "code",
   "execution_count": 55,
   "id": "5be4af04",
   "metadata": {},
   "outputs": [],
   "source": [
    "def Reverse(lst):\n",
    "    Reverse=[]\n",
    "    for i in range(len(lst)-1,-1,-1):\n",
    "        Reverse.append(lst[i])\n",
    "    print(Reverse)\n"
   ]
  },
  {
   "cell_type": "code",
   "execution_count": 56,
   "id": "e704acd6",
   "metadata": {},
   "outputs": [
    {
     "name": "stdout",
     "output_type": "stream",
     "text": [
      "[40, 30, 20, 10]\n"
     ]
    }
   ],
   "source": [
    "Reverse([10,20,30,40])"
   ]
  },
  {
   "cell_type": "code",
   "execution_count": 57,
   "id": "1c32ac5c",
   "metadata": {},
   "outputs": [
    {
     "name": "stdout",
     "output_type": "stream",
     "text": [
      "[3, 2, 1]\n"
     ]
    }
   ],
   "source": [
    "Reverse([1, 2, 3])"
   ]
  },
  {
   "cell_type": "code",
   "execution_count": 58,
   "id": "5f9b7a09",
   "metadata": {},
   "outputs": [
    {
     "name": "stdout",
     "output_type": "stream",
     "text": [
      "[]\n"
     ]
    }
   ],
   "source": [
    "Reverse([])"
   ]
  },
  {
   "cell_type": "markdown",
   "id": "df9952e8",
   "metadata": {},
   "source": [
    "8. ASCII Values Printer  \n",
    " Test Case 1  \n",
    " Input: String: Hi  \n",
    " Output:\n",
    " H: 72\n",
    " i: 105  \n",
    " Test Case 2  \n",
    " Input: String: A  \n",
    " Output:\n",
    " A: 65  \n",
    " Test Case 3  \n",
    " Input: String: aZ  \n",
    " Output:\n",
    " a: 97\n",
    " Z: 90\n"
   ]
  },
  {
   "cell_type": "code",
   "execution_count": 64,
   "id": "63804fc2",
   "metadata": {},
   "outputs": [],
   "source": [
    "def ASCII_value(s):\n",
    "    for i in s:\n",
    "        print(i, \":\", ord(i))\n",
    "\n"
   ]
  },
  {
   "cell_type": "code",
   "execution_count": 65,
   "id": "57ae602c",
   "metadata": {},
   "outputs": [
    {
     "name": "stdout",
     "output_type": "stream",
     "text": [
      "H : 72\n",
      "i : 105\n"
     ]
    }
   ],
   "source": [
    "ASCII_value(\"Hi\")"
   ]
  },
  {
   "cell_type": "code",
   "execution_count": 66,
   "id": "3f2ab5aa",
   "metadata": {},
   "outputs": [
    {
     "name": "stdout",
     "output_type": "stream",
     "text": [
      "A : 65\n"
     ]
    }
   ],
   "source": [
    "ASCII_value('A')"
   ]
  },
  {
   "cell_type": "code",
   "execution_count": 67,
   "id": "d60ff346",
   "metadata": {},
   "outputs": [
    {
     "name": "stdout",
     "output_type": "stream",
     "text": [
      "a : 97\n",
      "Z : 90\n"
     ]
    }
   ],
   "source": [
    "ASCII_value('aZ')"
   ]
  },
  {
   "cell_type": "markdown",
   "id": "bc949b92",
   "metadata": {},
   "source": [
    "9. Even Index Characters  \n",
    " Test Case 1  \n",
    " Input: String: Python  \n",
    " Output:\n",
    " P t o  \n",
    " Test Case 2  \n",
    " Input: String: Hello  \n",
    " Output:\n",
    " H l o  \n",
    " Test Case 3  \n",
    " Input: String: A\n",
    " Output:\n",
    " A  "
   ]
  },
  {
   "cell_type": "code",
   "execution_count": 70,
   "id": "274e4f91",
   "metadata": {},
   "outputs": [],
   "source": [
    "def Even_index_char(A):\n",
    "    for i in range(0,len(A),2):\n",
    "        print(A[i],end = ' ' )"
   ]
  },
  {
   "cell_type": "code",
   "execution_count": 71,
   "id": "80b8cd78",
   "metadata": {},
   "outputs": [
    {
     "name": "stdout",
     "output_type": "stream",
     "text": [
      "P t o "
     ]
    }
   ],
   "source": [
    "Even_index_char('Python')"
   ]
  },
  {
   "cell_type": "code",
   "execution_count": 72,
   "id": "64bfff7f",
   "metadata": {},
   "outputs": [
    {
     "name": "stdout",
     "output_type": "stream",
     "text": [
      "H l o "
     ]
    }
   ],
   "source": [
    "Even_index_char(\"Hello\")"
   ]
  },
  {
   "cell_type": "code",
   "execution_count": 73,
   "id": "2d767837",
   "metadata": {},
   "outputs": [
    {
     "name": "stdout",
     "output_type": "stream",
     "text": [
      "A "
     ]
    }
   ],
   "source": [
    "Even_index_char(\"A\")"
   ]
  },
  {
   "cell_type": "markdown",
   "id": "7777643d",
   "metadata": {},
   "source": [
    "10. Sum of Odd Numbers (odd ≤ N)  \n",
    " Test Case 1  \n",
    " Input: N = 10  \n",
    " Output:\n",
    " Sum = 25  \n",
    " Test Case 2  \n",
    " Input: N = 5  \n",
    " Output:\n",
    " Sum = 9  \n",
    " Test Case 3  \n",
    " Input: N = 1\n",
    " Output:\n",
    " Sum = 1  \n"
   ]
  },
  {
   "cell_type": "code",
   "execution_count": 80,
   "id": "37921396",
   "metadata": {},
   "outputs": [],
   "source": [
    "def Sum_Odd_number(n):\n",
    "    sum=0\n",
    "    for i in range(n+1):\n",
    "        if i%2!=0:\n",
    "            sum+=i\n",
    "    print(sum)"
   ]
  },
  {
   "cell_type": "code",
   "execution_count": 81,
   "id": "6a37004b",
   "metadata": {},
   "outputs": [
    {
     "name": "stdout",
     "output_type": "stream",
     "text": [
      "25\n"
     ]
    }
   ],
   "source": [
    "Sum_Odd_number(10)"
   ]
  },
  {
   "cell_type": "code",
   "execution_count": 82,
   "id": "ed2ab3f8",
   "metadata": {},
   "outputs": [
    {
     "name": "stdout",
     "output_type": "stream",
     "text": [
      "9\n"
     ]
    }
   ],
   "source": [
    "Sum_Odd_number(5)"
   ]
  },
  {
   "cell_type": "code",
   "execution_count": 83,
   "id": "ab26d08f",
   "metadata": {},
   "outputs": [
    {
     "name": "stdout",
     "output_type": "stream",
     "text": [
      "1\n"
     ]
    }
   ],
   "source": [
    "Sum_Odd_number(1)"
   ]
  },
  {
   "cell_type": "code",
   "execution_count": null,
   "id": "89e8c31a",
   "metadata": {},
   "outputs": [],
   "source": []
  },
  {
   "cell_type": "markdown",
   "id": "47792077",
   "metadata": {},
   "source": [
    "11. Perfect Square Checker  \n",
    " Test Case 1  \n",
    " Input: Number: 49  \n",
    " Output:\n",
    " Perfect Square  \n",
    " Test Case 2  \n",
    " Input: Number: 50  \n",
    " Output:\n",
    " Not Perfect Square  \n",
    " Test Case 3  \n",
    " Input: Number: 1  \n",
    " Output:\n",
    " Perfect Square \n"
   ]
  },
  {
   "cell_type": "code",
   "execution_count": 1,
   "id": "ea1e1f2b",
   "metadata": {},
   "outputs": [],
   "source": [
    "def perfect_square_checker(num):\n",
    "    for i in range(num + 1):  \n",
    "        if i * i == num:\n",
    "            return \"Perfect Square\"\n",
    "    return \"Not Perfect Square\""
   ]
  },
  {
   "cell_type": "code",
   "execution_count": 2,
   "id": "267d0b08",
   "metadata": {},
   "outputs": [
    {
     "data": {
      "text/plain": [
       "'Perfect Square'"
      ]
     },
     "execution_count": 2,
     "metadata": {},
     "output_type": "execute_result"
    }
   ],
   "source": [
    "perfect_square_checker(49)"
   ]
  },
  {
   "cell_type": "code",
   "execution_count": 3,
   "id": "890641ad",
   "metadata": {},
   "outputs": [
    {
     "data": {
      "text/plain": [
       "'Not Perfect Square'"
      ]
     },
     "execution_count": 3,
     "metadata": {},
     "output_type": "execute_result"
    }
   ],
   "source": [
    "perfect_square_checker(50)"
   ]
  },
  {
   "cell_type": "code",
   "execution_count": 4,
   "id": "88cc7511",
   "metadata": {},
   "outputs": [
    {
     "data": {
      "text/plain": [
       "'Perfect Square'"
      ]
     },
     "execution_count": 4,
     "metadata": {},
     "output_type": "execute_result"
    }
   ],
   "source": [
    "perfect_square_checker(1)"
   ]
  },
  {
   "cell_type": "markdown",
   "id": "cf6a51d5",
   "metadata": {},
   "source": [
    "12. Prime Numbers Up to N  \n",
    " Test Case 1  \n",
    " Input: N = 20  \n",
    " Output:\n",
    " 2 3 5 7 11 13 17 19 \n",
    " Test Case 2 \n",
    " Input: N = 10 \n",
    " Output:\n",
    " 2 3 5 7  \n",
    " Test Case 3  \n",
    " Input: N = 2  \n",
    " Output:\n",
    " 2  \n"
   ]
  },
  {
   "cell_type": "code",
   "execution_count": null,
   "id": "b981d9f9",
   "metadata": {},
   "outputs": [],
   "source": [
    "def is_prime(num):\n",
    "    if num<=1:\n",
    "        return 'Not Prime'\n",
    "    for i in range(2,num):\n",
    "        if num%i==0:\n",
    "            return \n",
    "       "
   ]
  },
  {
   "cell_type": "code",
   "execution_count": 2,
   "id": "babc14e3",
   "metadata": {},
   "outputs": [
    {
     "data": {
      "text/plain": [
       "2"
      ]
     },
     "execution_count": 2,
     "metadata": {},
     "output_type": "execute_result"
    }
   ],
   "source": [
    "is_prime(20)"
   ]
  },
  {
   "cell_type": "markdown",
   "id": "c374effe",
   "metadata": {},
   "source": [
    "13. Fibonacci Series  \n",
    " Test Case 1  \n",
    " Input: N = 7\n",
    " Output:\n",
    " 0 1 1 2 3 5 8  \n",
    " Test Case 2  \n",
    " Input: N = 1\n",
    " Output:\n",
    " 0  \n",
    " Test Case 3  \n",
    " Input: N = 5\n",
    " Output:\n",
    " 0 1 1 2 3  "
   ]
  },
  {
   "cell_type": "code",
   "execution_count": 1,
   "id": "1c20dc3e",
   "metadata": {},
   "outputs": [],
   "source": [
    "def fab(n):\n",
    "    a,b =0,1\n",
    "    for i in range(n):\n",
    "        print(a,end = ' ')\n",
    "        a,b = b,a+b"
   ]
  },
  {
   "cell_type": "code",
   "execution_count": 2,
   "id": "18f271c9",
   "metadata": {},
   "outputs": [
    {
     "name": "stdout",
     "output_type": "stream",
     "text": [
      "0 1 1 2 3 5 8 "
     ]
    }
   ],
   "source": [
    "fab(7)"
   ]
  },
  {
   "cell_type": "code",
   "execution_count": 3,
   "id": "15a7af53",
   "metadata": {},
   "outputs": [
    {
     "name": "stdout",
     "output_type": "stream",
     "text": [
      "0 "
     ]
    }
   ],
   "source": [
    "fab(1)"
   ]
  },
  {
   "cell_type": "code",
   "execution_count": 4,
   "id": "e8fb8708",
   "metadata": {},
   "outputs": [
    {
     "name": "stdout",
     "output_type": "stream",
     "text": [
      "0 1 1 2 3 "
     ]
    }
   ],
   "source": [
    "fab(5)"
   ]
  },
  {
   "cell_type": "code",
   "execution_count": 5,
   "id": "0018d0d9",
   "metadata": {},
   "outputs": [],
   "source": [
    "def is_armstrong(n):\n",
    "    digits = str(n)\n",
    "    power = len(digits)\n",
    "    s = 0\n",
    "    for i in digits:\n",
    "        s+=int(i)**power\n",
    "        \n",
    "    \n",
    "\n",
    "    if s==n:\n",
    "        print('Armstrong')\n",
    "    else:\n",
    "        print('Not Armstrong')\n",
    "\n"
   ]
  },
  {
   "cell_type": "code",
   "execution_count": 6,
   "id": "133409f1",
   "metadata": {},
   "outputs": [
    {
     "name": "stdout",
     "output_type": "stream",
     "text": [
      "Armstrong\n"
     ]
    }
   ],
   "source": [
    "is_armstrong(153)"
   ]
  },
  {
   "cell_type": "code",
   "execution_count": 7,
   "id": "60bf35b2",
   "metadata": {},
   "outputs": [
    {
     "name": "stdout",
     "output_type": "stream",
     "text": [
      "Armstrong\n"
     ]
    }
   ],
   "source": [
    "is_armstrong(370)"
   ]
  },
  {
   "cell_type": "code",
   "execution_count": 8,
   "id": "a9cf0382",
   "metadata": {},
   "outputs": [
    {
     "name": "stdout",
     "output_type": "stream",
     "text": [
      "Not Armstrong\n"
     ]
    }
   ],
   "source": [
    "is_armstrong(123)"
   ]
  },
  {
   "cell_type": "markdown",
   "id": "d1a3f03e",
   "metadata": {},
   "source": [
    "15. Frequency Counter  \n",
    " Test Case 1   \n",
    " Input: List: [2, 3, 2, 5, 2] Find: 2  \n",
    " Output:\n",
    " Count = 3  \n",
    " Test Case 2  \n",
    " Input: List: [1, 1, 1] Find: 1  \n",
    " Output:\n",
    " Count = 3  \n",
    " Test Case 3  \n",
    " Input: List: [] Find: 5  \n",
    " Output:\n",
    " Count = 0  "
   ]
  },
  {
   "cell_type": "code",
   "execution_count": 9,
   "id": "2eabe59d",
   "metadata": {},
   "outputs": [],
   "source": [
    "def f_counter(lst,find_n):\n",
    "    count=0\n",
    "    for i in lst:\n",
    "        if i==find_n:\n",
    "            count+=1\n",
    "    print(f'Count = {count}')"
   ]
  },
  {
   "cell_type": "code",
   "execution_count": 10,
   "id": "1c484e00",
   "metadata": {},
   "outputs": [
    {
     "name": "stdout",
     "output_type": "stream",
     "text": [
      "Count = 3\n"
     ]
    }
   ],
   "source": [
    "f_counter([2, 3, 2, 5, 2] ,2)"
   ]
  },
  {
   "cell_type": "code",
   "execution_count": 11,
   "id": "172ed9f1",
   "metadata": {},
   "outputs": [
    {
     "name": "stdout",
     "output_type": "stream",
     "text": [
      "Count = 3\n"
     ]
    }
   ],
   "source": [
    "f_counter([1, 1, 1] ,1)"
   ]
  },
  {
   "cell_type": "code",
   "execution_count": 12,
   "id": "4f64247d",
   "metadata": {},
   "outputs": [
    {
     "name": "stdout",
     "output_type": "stream",
     "text": [
      "Count = 0\n"
     ]
    }
   ],
   "source": [
    "f_counter([],5)"
   ]
  },
  {
   "cell_type": "markdown",
   "id": "6b7b1911",
   "metadata": {},
   "source": [
    "16. Sum of Digits with For  \n",
    " Test Case 1   \n",
    " Input: Number: 562  \n",
    " Output:\n",
    " Sum = 13  \n",
    " Test Case 2  \n",
    " Input: Number: 100  \n",
    " Output:\n",
    " Sum = 1  \n",
    " Test Case 3  \n",
    " Input: Number: 9  \n",
    " Output:\n",
    " Sum = 9\n"
   ]
  },
  {
   "cell_type": "code",
   "execution_count": 14,
   "id": "a3282e2e",
   "metadata": {},
   "outputs": [],
   "source": [
    "def sum_digits(n):\n",
    "    sum=0\n",
    "    for i in str(n):\n",
    "        sum+=int(i)\n",
    "    print('Sum =',sum)"
   ]
  },
  {
   "cell_type": "code",
   "execution_count": 16,
   "id": "d8fd9a0a",
   "metadata": {},
   "outputs": [
    {
     "name": "stdout",
     "output_type": "stream",
     "text": [
      "Sum = 13\n"
     ]
    }
   ],
   "source": [
    "sum_digits(562)"
   ]
  },
  {
   "cell_type": "code",
   "execution_count": 17,
   "id": "2f513ad5",
   "metadata": {},
   "outputs": [
    {
     "name": "stdout",
     "output_type": "stream",
     "text": [
      "Sum = 1\n"
     ]
    }
   ],
   "source": [
    "sum_digits(100)"
   ]
  },
  {
   "cell_type": "code",
   "execution_count": 18,
   "id": "448085e8",
   "metadata": {},
   "outputs": [
    {
     "name": "stdout",
     "output_type": "stream",
     "text": [
      "Sum = 9\n"
     ]
    }
   ],
   "source": [
    "sum_digits(9)"
   ]
  },
  {
   "cell_type": "markdown",
   "id": "4c023ddc",
   "metadata": {},
   "source": [
    "17. Star Pattern Triangle  \n",
    " Test Case 1  \n",
    " Input: N = 4  \n",
    " Output:\n",
    " *   \n",
    " **  \n",
    "\n",
    " Test Case 2  \n",
    " Input: N = 1  \n",
    " Output: \n",
    " *  \n",
    " Test Case 3  \n",
    " Input: N = 3  \n",
    " Output:\n",
    " *\n",
    " **  "
   ]
  },
  {
   "cell_type": "code",
   "execution_count": 21,
   "id": "a90458bc",
   "metadata": {},
   "outputs": [],
   "source": [
    "def triangle(n):\n",
    "    for i in range(1,n+1):\n",
    "        print('*'*i,end=' ')\n",
    "        print()"
   ]
  },
  {
   "cell_type": "code",
   "execution_count": 22,
   "id": "55f0bfb1",
   "metadata": {},
   "outputs": [
    {
     "name": "stdout",
     "output_type": "stream",
     "text": [
      "* \n",
      "** \n",
      "*** \n",
      "**** \n"
     ]
    }
   ],
   "source": [
    "triangle(4)"
   ]
  },
  {
   "cell_type": "code",
   "execution_count": 23,
   "id": "fcb970cb",
   "metadata": {},
   "outputs": [
    {
     "name": "stdout",
     "output_type": "stream",
     "text": [
      "* \n"
     ]
    }
   ],
   "source": [
    "triangle(1)"
   ]
  },
  {
   "cell_type": "code",
   "execution_count": 24,
   "id": "c8adfcab",
   "metadata": {},
   "outputs": [
    {
     "name": "stdout",
     "output_type": "stream",
     "text": [
      "* \n",
      "** \n",
      "*** \n"
     ]
    }
   ],
   "source": [
    "triangle(3)"
   ]
  },
  {
   "cell_type": "markdown",
   "id": "9459c81b",
   "metadata": {},
   "source": [
    "18. Common Elements Finder  \n",
    " Test Case 1  \n",
    " Input: List1 = [1, 2, 3], List2 = [2, 3, 4]  \n",
    " Output:\n",
    " [2, 3]    \n",
    " Test Case 2  \n",
    " Input: List1 = [5, 6], List2 = [7, 8]  \n",
    " Output:\n",
    " []  \n",
    " Test Case 3  \n",
    " Input: List1 = [1, 2, 2], List2 = [2]\n",
    " Output:\n",
    " [2]"
   ]
  },
  {
   "cell_type": "code",
   "execution_count": 27,
   "id": "f5f90c89",
   "metadata": {},
   "outputs": [],
   "source": [
    "def common_elements(l1,l2):\n",
    "    common=[]\n",
    "    for i in l1:\n",
    "        if i in l2:\n",
    "            common.append(i)\n",
    "    print(common)"
   ]
  },
  {
   "cell_type": "code",
   "execution_count": 28,
   "id": "ef3f33f3",
   "metadata": {},
   "outputs": [
    {
     "name": "stdout",
     "output_type": "stream",
     "text": [
      "[2, 3]\n"
     ]
    }
   ],
   "source": [
    "common_elements(  [1, 2, 3],[2, 3, 4])"
   ]
  },
  {
   "cell_type": "code",
   "execution_count": 29,
   "id": "9c85d8dd",
   "metadata": {},
   "outputs": [
    {
     "name": "stdout",
     "output_type": "stream",
     "text": [
      "[]\n"
     ]
    }
   ],
   "source": [
    "common_elements( [5, 6], [7, 8])"
   ]
  },
  {
   "cell_type": "code",
   "execution_count": 30,
   "id": "75ec8ddc",
   "metadata": {},
   "outputs": [
    {
     "name": "stdout",
     "output_type": "stream",
     "text": [
      "[2, 2]\n"
     ]
    }
   ],
   "source": [
    "common_elements([1, 2, 2], [2])"
   ]
  },
  {
   "cell_type": "markdown",
   "id": "94387486",
   "metadata": {},
   "source": [
    "19. Cube of Numbers (first n cubes)  \n",
    " Test Case 1  \n",
    " Input: –  \n",
    " Output:\n",
    " 1 8 27 64 125 216 343 512 729 1000  \n",
    " Test Case 2  \n",
    " Input: first 5  \n",
    " Output:\n",
    " 1 8 27 64 125  \n",
    " Test Case 3  \n",
    " Input: first 3  \n",
    " Output:\n",
    " 1 8 27  \n"
   ]
  },
  {
   "cell_type": "code",
   "execution_count": 31,
   "id": "9893c1b4",
   "metadata": {},
   "outputs": [],
   "source": [
    "def cube_number(n):\n",
    "    for i in range(1,n+1):\n",
    "        print(i**3,end = ' ')"
   ]
  },
  {
   "cell_type": "code",
   "execution_count": 32,
   "id": "9788fef4",
   "metadata": {},
   "outputs": [
    {
     "name": "stdout",
     "output_type": "stream",
     "text": [
      "1 8 27 64 125 216 343 512 729 1000 "
     ]
    }
   ],
   "source": [
    "cube_number(10)"
   ]
  },
  {
   "cell_type": "code",
   "execution_count": 33,
   "id": "c7f40ffe",
   "metadata": {},
   "outputs": [
    {
     "name": "stdout",
     "output_type": "stream",
     "text": [
      "1 8 27 64 125 "
     ]
    }
   ],
   "source": [
    "cube_number(5)"
   ]
  },
  {
   "cell_type": "code",
   "execution_count": 34,
   "id": "4281f144",
   "metadata": {},
   "outputs": [
    {
     "name": "stdout",
     "output_type": "stream",
     "text": [
      "1 8 27 "
     ]
    }
   ],
   "source": [
    "cube_number(3)"
   ]
  },
  {
   "cell_type": "markdown",
   "id": "eccf3563",
   "metadata": {},
   "source": [
    "20. Palindrome Word Checker  \n",
    " Test Case 1  \n",
    " Input: Word: level  \n",
    " Output:  \n",
    " Palindrome  \n",
    " Test Case 2  \n",
    " Input: Word: hello  \n",
    " Output:\n",
    " Not Palindrome  \n",
    " Test Case 3  \n",
    " Input: Word: madam  \n",
    " Output:\n",
    " Palindrome  \n"
   ]
  },
  {
   "cell_type": "code",
   "execution_count": 35,
   "id": "b9e7a0ba",
   "metadata": {},
   "outputs": [],
   "source": [
    "def is_palindrome(word):\n",
    "    length = len(word)\n",
    "    flag = True\n",
    "    for i in range(length // 2):\n",
    "        if word[i] != word[length - i - 1]:\n",
    "            flag = False\n",
    "            break\n",
    "    if flag:\n",
    "        print(\"Palindrome\")\n",
    "    else:\n",
    "        print(\"Not Palindrome\")\n"
   ]
  },
  {
   "cell_type": "code",
   "execution_count": 37,
   "id": "b01fe5c3",
   "metadata": {},
   "outputs": [
    {
     "name": "stdout",
     "output_type": "stream",
     "text": [
      "Palindrome\n"
     ]
    }
   ],
   "source": [
    "is_palindrome('level')"
   ]
  },
  {
   "cell_type": "code",
   "execution_count": 38,
   "id": "e8890613",
   "metadata": {},
   "outputs": [
    {
     "name": "stdout",
     "output_type": "stream",
     "text": [
      "Not Palindrome\n"
     ]
    }
   ],
   "source": [
    "is_palindrome('hello')"
   ]
  },
  {
   "cell_type": "code",
   "execution_count": 39,
   "id": "f7570346",
   "metadata": {},
   "outputs": [
    {
     "name": "stdout",
     "output_type": "stream",
     "text": [
      "Palindrome\n"
     ]
    }
   ],
   "source": [
    "is_palindrome(\"madam\")"
   ]
  },
  {
   "cell_type": "markdown",
   "id": "c18c8140",
   "metadata": {},
   "source": [
    "21. Number Pyramid  \n",
    " Test Case 1  \n",
    " Input: N = 4  \n",
    " Output:\n",
    " 1  \n",
    " 1 2  \n",
    " 1 2 3  \n",
    " 1 2 3 4    \n",
    " Test Case 2  \n",
    " Input: N = 2  \n",
    " Output:  \n",
    " 1  \n",
    " 1 2  \n",
    " Test Case 3  \n",
    " Input: N = 1  \n",
    " Output:\n",
    " 1  \n"
   ]
  },
  {
   "cell_type": "code",
   "execution_count": 43,
   "id": "25042046",
   "metadata": {},
   "outputs": [],
   "source": [
    "def number_pyramid(N):\n",
    "    for i in range(1, N + 1):\n",
    "        for j in range(1, i + 1):\n",
    "            print(j, end=\" \")\n",
    "        print()"
   ]
  },
  {
   "cell_type": "code",
   "execution_count": 45,
   "id": "bd29a3a9",
   "metadata": {},
   "outputs": [
    {
     "name": "stdout",
     "output_type": "stream",
     "text": [
      "1 \n",
      "1 2 \n",
      "1 2 3 \n",
      "1 2 3 4 \n"
     ]
    }
   ],
   "source": [
    "number_pyramid(4)"
   ]
  },
  {
   "cell_type": "code",
   "execution_count": 46,
   "id": "c2fbd5b4",
   "metadata": {},
   "outputs": [
    {
     "name": "stdout",
     "output_type": "stream",
     "text": [
      "1 \n",
      "1 2 \n"
     ]
    }
   ],
   "source": [
    "number_pyramid(2)"
   ]
  },
  {
   "cell_type": "code",
   "execution_count": 47,
   "id": "bfdc94b8",
   "metadata": {},
   "outputs": [
    {
     "name": "stdout",
     "output_type": "stream",
     "text": [
      "1 \n"
     ]
    }
   ],
   "source": [
    "number_pyramid(1)"
   ]
  },
  {
   "cell_type": "markdown",
   "id": "95f4d9f3",
   "metadata": {},
   "source": [
    "22. Greatest Number in List  \n",
    " Test Case 1  \n",
    " Input: [10, 35, 7, 99]  \n",
    " Output:\n",
    " Greatest = 99  \n",
    " Test Case 2  \n",
    " Input: [1, 2, 3]  \n",
    " Output:\n",
    " Greatest = 3  \n",
    " Test Case 3    \n",
    " Input: [-5, -2, -9]  \n",
    " Output:\n",
    " Greatest = -2  \n"
   ]
  },
  {
   "cell_type": "code",
   "execution_count": 52,
   "id": "6e61950b",
   "metadata": {},
   "outputs": [],
   "source": [
    "def max_num(lst):\n",
    "    greater = lst[0]\n",
    "    for i in lst:\n",
    "        if i>greater:\n",
    "            greater= i\n",
    "    print('Greater = ',greater)"
   ]
  },
  {
   "cell_type": "code",
   "execution_count": 53,
   "id": "872b0ebd",
   "metadata": {},
   "outputs": [
    {
     "name": "stdout",
     "output_type": "stream",
     "text": [
      "Greater =  99\n"
     ]
    }
   ],
   "source": [
    "max_num([10, 35, 7, 99])"
   ]
  },
  {
   "cell_type": "code",
   "execution_count": 54,
   "id": "23ba7755",
   "metadata": {},
   "outputs": [
    {
     "name": "stdout",
     "output_type": "stream",
     "text": [
      "Greater =  3\n"
     ]
    }
   ],
   "source": [
    "max_num([1, 2, 3])"
   ]
  },
  {
   "cell_type": "code",
   "execution_count": 55,
   "id": "9ed9d6b8",
   "metadata": {},
   "outputs": [
    {
     "name": "stdout",
     "output_type": "stream",
     "text": [
      "Greater =  -2\n"
     ]
    }
   ],
   "source": [
    "max_num([-5, -2, -9])"
   ]
  },
  {
   "cell_type": "markdown",
   "id": "0fcc4b26",
   "metadata": {},
   "source": [
    "23. Sum of Series (harmonic sum)\n",
    "(H_n = 1 + 1/2 + 1/3 + ... + 1/n)  \n",
    " Test Case 1  \n",
    " Input: N = 5  \n",
    " Output:  \n",
    " Sum = 2.2833  \n",
    " Test Case 2  \n",
    " Input: N = 3  \n",
    " Output:  \n",
    " Sum = 1.8333  \n",
    " Test Case 3  \n",
    " Input: N = 1  \n",
    " Output:\n",
    " Sum = 1.0000  \n"
   ]
  },
  {
   "cell_type": "code",
   "execution_count": 56,
   "id": "265b3cfb",
   "metadata": {},
   "outputs": [],
   "source": [
    "def H_sum(n):\n",
    "    total= 0\n",
    "    for i in range(1,n+1):\n",
    "        total+=1/i\n",
    "    print(f\"Sum = {total:.4f}\")"
   ]
  },
  {
   "cell_type": "code",
   "execution_count": 57,
   "id": "58535352",
   "metadata": {},
   "outputs": [
    {
     "name": "stdout",
     "output_type": "stream",
     "text": [
      "Sum = 2.2833\n"
     ]
    }
   ],
   "source": [
    "H_sum(5)"
   ]
  },
  {
   "cell_type": "code",
   "execution_count": 58,
   "id": "9d2ea383",
   "metadata": {},
   "outputs": [
    {
     "name": "stdout",
     "output_type": "stream",
     "text": [
      "Sum = 1.8333\n"
     ]
    }
   ],
   "source": [
    "H_sum(3)"
   ]
  },
  {
   "cell_type": "code",
   "execution_count": 59,
   "id": "e75984bd",
   "metadata": {},
   "outputs": [
    {
     "name": "stdout",
     "output_type": "stream",
     "text": [
      "Sum = 1.0000\n"
     ]
    }
   ],
   "source": [
    "H_sum(1)"
   ]
  },
  {
   "cell_type": "markdown",
   "id": "9f35711e",
   "metadata": {},
   "source": [
    "24. Character Frequency in String  \n",
    " Test Case 1  \n",
    " Input: String: apple  \n",
    " Output:\n",
    " a:1 e:1 l:1 p:2  \n",
    " Test Case 2  \n",
    " Input: String: banana  \n",
    " Output:\n",
    " a:3 b:1 n:2  \n",
    " Test Case 3  \n",
    " Input: String: a \n",
    " Output:\n",
    " a:1  \n"
   ]
  },
  {
   "cell_type": "code",
   "execution_count": 61,
   "id": "93d41f70",
   "metadata": {},
   "outputs": [],
   "source": [
    "def frequency(word):\n",
    "    freq = {}\n",
    "    for i in word:\n",
    "        if i in freq:\n",
    "            freq[i]+=1\n",
    "        else:\n",
    "            freq[i]=1\n",
    "    print(freq)"
   ]
  },
  {
   "cell_type": "code",
   "execution_count": 62,
   "id": "6a592639",
   "metadata": {},
   "outputs": [
    {
     "name": "stdout",
     "output_type": "stream",
     "text": [
      "{'a': 1, 'p': 2, 'l': 1, 'e': 1}\n"
     ]
    }
   ],
   "source": [
    "frequency('apple')"
   ]
  },
  {
   "cell_type": "code",
   "execution_count": 63,
   "id": "f4bbf4c9",
   "metadata": {},
   "outputs": [
    {
     "name": "stdout",
     "output_type": "stream",
     "text": [
      "{'b': 1, 'a': 3, 'n': 2}\n"
     ]
    }
   ],
   "source": [
    "frequency('banana')"
   ]
  },
  {
   "cell_type": "code",
   "execution_count": 65,
   "id": "ba5de6f6",
   "metadata": {},
   "outputs": [
    {
     "name": "stdout",
     "output_type": "stream",
     "text": [
      "{'a': 1}\n"
     ]
    }
   ],
   "source": [
    "frequency('a')"
   ]
  },
  {
   "cell_type": "markdown",
   "id": "d32f7c40",
   "metadata": {},
   "source": [
    "25. Square Matrix Diagonal Sum  \n",
    " Test Case 1  \n",
    " Input: Matrix:  \n",
    " 1 2 3  \n",
    " 4 5 6  \n",
    " 7 8 9  \n",
    " Output:  \n",
    " Diagonal Sum = 15  \n",
    " Test Case 2  \n",
    " Input: Matrix:  \n",
    " 2 0  \n",
    " 0 3  \n",
    " Output:  \n",
    " Diagonal Sum = 5  \n",
    " Test Case 3  \n",
    " Input: Matrix:  \n",
    " 5  \n",
    " Output:  \n",
    " Diagonal Sum = 5  "
   ]
  },
  {
   "cell_type": "code",
   "execution_count": 72,
   "id": "329994eb",
   "metadata": {},
   "outputs": [],
   "source": [
    "def dia_sum(matrix):\n",
    "    n = int(len(matrix) ** 0.5)  \n",
    "    total = 0\n",
    "    for i in range(n):\n",
    "        total += matrix[i * n + i]  \n",
    "    print(f\"Diagonal Sum = {total}\")"
   ]
  },
  {
   "cell_type": "code",
   "execution_count": 73,
   "id": "9bd02328",
   "metadata": {},
   "outputs": [
    {
     "name": "stdout",
     "output_type": "stream",
     "text": [
      "Diagonal Sum = 15\n"
     ]
    }
   ],
   "source": [
    "dia_sum([1, 2, 3, 4, 5, 6, 7, 8, 9])"
   ]
  },
  {
   "cell_type": "code",
   "execution_count": 74,
   "id": "da323b1f",
   "metadata": {},
   "outputs": [
    {
     "name": "stdout",
     "output_type": "stream",
     "text": [
      "Diagonal Sum = 5\n"
     ]
    }
   ],
   "source": [
    "dia_sum([2, 0, 0, 3]) "
   ]
  },
  {
   "cell_type": "code",
   "execution_count": 75,
   "id": "540f4086",
   "metadata": {},
   "outputs": [
    {
     "name": "stdout",
     "output_type": "stream",
     "text": [
      "Diagonal Sum = 5\n"
     ]
    }
   ],
   "source": [
    "dia_sum([5]) "
   ]
  },
  {
   "cell_type": "code",
   "execution_count": null,
   "id": "c93ac5ab",
   "metadata": {},
   "outputs": [],
   "source": []
  }
 ],
 "metadata": {
  "kernelspec": {
   "display_name": "Python 3",
   "language": "python",
   "name": "python3"
  },
  "language_info": {
   "codemirror_mode": {
    "name": "ipython",
    "version": 3
   },
   "file_extension": ".py",
   "mimetype": "text/x-python",
   "name": "python",
   "nbconvert_exporter": "python",
   "pygments_lexer": "ipython3",
   "version": "3.11.9"
  }
 },
 "nbformat": 4,
 "nbformat_minor": 5
}
