{
 "cells": [
  {
   "cell_type": "markdown",
   "id": "2a64e7e5",
   "metadata": {},
   "source": [
    "### Class with Objects"
   ]
  },
  {
   "cell_type": "markdown",
   "id": "ad133906",
   "metadata": {},
   "source": [
    "Q1. Create a class Car with attributes brand and model. Assign values using an object and print them."
   ]
  },
  {
   "cell_type": "code",
   "execution_count": 2,
   "id": "0d64a8c5",
   "metadata": {},
   "outputs": [
    {
     "name": "stdout",
     "output_type": "stream",
     "text": [
      "BMW x5\n"
     ]
    }
   ],
   "source": [
    "class Car:\n",
    "    def car_deatils(self,brand,model):\n",
    "        self.brand=brand\n",
    "        self.model= model\n",
    "        print(self.brand,self.model)\n",
    "\n",
    "c=Car()\n",
    "c.car_deatils('BMW','x5')"
   ]
  },
  {
   "cell_type": "markdown",
   "id": "18748ac0",
   "metadata": {},
   "source": [
    "Q2. Define a class Fan with a method rotate() that prints \"Fan is rotating\". Call this method using an object."
   ]
  },
  {
   "cell_type": "code",
   "execution_count": 3,
   "id": "da6bc7d0",
   "metadata": {},
   "outputs": [
    {
     "name": "stdout",
     "output_type": "stream",
     "text": [
      "Fan is rotating\n"
     ]
    }
   ],
   "source": [
    "class Fan:\n",
    "    def rotate(self):\n",
    "        print('Fan is rotating')\n",
    "\n",
    "\n",
    "F=Fan()\n",
    "F.rotate()"
   ]
  },
  {
   "cell_type": "markdown",
   "id": "abe3ccdb",
   "metadata": {},
   "source": [
    "Q3. Write a class Book with __init__() to take title and author as input. Create two Book objects and print their information."
   ]
  },
  {
   "cell_type": "code",
   "execution_count": 6,
   "id": "06117280",
   "metadata": {},
   "outputs": [
    {
     "name": "stdout",
     "output_type": "stream",
     "text": [
      "Title: Wings of Fire, Author: A.P.J. Abdul Kalam\n"
     ]
    }
   ],
   "source": [
    "class Book:\n",
    "    def __init__(self,title,auther):\n",
    "        self.title=title\n",
    "        self.auther=auther\n",
    "    \n",
    "    def display(self):\n",
    "        print(f\"Title: {self.title}, Author: {self.auther}\")\n",
    "\n",
    "\n",
    "b=Book(\"Wings of Fire\", \"A.P.J. Abdul Kalam\")\n",
    "b.display()\n",
    "\n"
   ]
  },
  {
   "cell_type": "markdown",
   "id": "d009da04",
   "metadata": {},
   "source": [
    "Q4. Create a class Laptop with a method specs() that prints RAM and processor details. Set the values using an object."
   ]
  },
  {
   "cell_type": "code",
   "execution_count": 7,
   "id": "ed24fdb0",
   "metadata": {},
   "outputs": [
    {
     "name": "stdout",
     "output_type": "stream",
     "text": [
      "Laptop specs -> RAM :16Gb,Processor:Ryzen7\n"
     ]
    }
   ],
   "source": [
    "class Laptop:\n",
    "    def specs(self,RAM,processor):\n",
    "        self.RAM = RAM\n",
    "        self.processor = processor\n",
    "        print(f'Laptop specs -> RAM :{self.RAM},Processor:{self.processor}')\n",
    "\n",
    "l=Laptop()\n",
    "l.specs('16Gb','Ryzen7')"
   ]
  },
  {
   "cell_type": "markdown",
   "id": "fb474dc7",
   "metadata": {},
   "source": [
    "### Single Inheritance (3 Questions)"
   ]
  },
  {
   "cell_type": "markdown",
   "id": "6894d4a8",
   "metadata": {},
   "source": [
    "Q5. Create a base class Animal with a method make_sound(). Inherit it in class Cat and call make_sound() using a Cat object."
   ]
  },
  {
   "cell_type": "code",
   "execution_count": 11,
   "id": "8a161305",
   "metadata": {},
   "outputs": [
    {
     "name": "stdout",
     "output_type": "stream",
     "text": [
      "Meow\n"
     ]
    }
   ],
   "source": [
    "class Animal:\n",
    "    def make_sound(self):\n",
    "        pass  \n",
    "\n",
    "class Cat(Animal):\n",
    "    def make_sound(self):\n",
    "        print(\"Meow\")\n",
    "\n",
    "\n",
    "\n",
    "c = Cat()\n",
    "c.make_sound()\n"
   ]
  },
  {
   "cell_type": "markdown",
   "id": "eb2e7fe9",
   "metadata": {},
   "source": [
    "Q6. Define a class Employee with method details(). Inherit it in class Manager and add a method assign_task(). Use a Manager object to call both methods."
   ]
  },
  {
   "cell_type": "code",
   "execution_count": 16,
   "id": "bb329f54",
   "metadata": {},
   "outputs": [
    {
     "name": "stdout",
     "output_type": "stream",
     "text": [
      "Employee name:Jay,Employee_id:4870\n",
      "Manager Jay is assigning task: Zoho Analytics\n"
     ]
    }
   ],
   "source": [
    "class Employee:\n",
    "    def details(self,emp_name,emp_id):\n",
    "        self.emp_name=emp_name\n",
    "        self.emp_id=emp_id\n",
    "        print(f'Employee name:{self.emp_name},Employee_id:{self.emp_id}')\n",
    "\n",
    "class Manager(Employee):\n",
    "    def work(self,task):\n",
    "        self.task=task\n",
    "        print(f\"Manager {self.emp_name} is assigning task: {self.task}\")\n",
    "m=Manager()\n",
    "m.details(\"Jay\", 4870)\n",
    "m.work(\"Zoho Analytics\")"
   ]
  },
  {
   "cell_type": "markdown",
   "id": "b704c5c1",
   "metadata": {},
   "source": [
    "Q7. Write a program where class Account has a method deposit(). Inherit it in class SavingsAccount and add a method add_interest(). Demonstrate both methods using a SavingsAccount object.\n"
   ]
  },
  {
   "cell_type": "code",
   "execution_count": 17,
   "id": "921006c6",
   "metadata": {},
   "outputs": [
    {
     "name": "stdout",
     "output_type": "stream",
     "text": [
      "Deposited:10000,current Balance:10000\n",
      "Interest Added:500.0, and Nerw Balance:10500.0\n"
     ]
    }
   ],
   "source": [
    "class Account:\n",
    "    def __init__(self,balance=0):\n",
    "        self.balance=balance\n",
    "    \n",
    "    def deposit(self,amount):\n",
    "        self.balance+=amount\n",
    "        print(f'Deposited:{amount},current Balance:{self.balance}')\n",
    "\n",
    "class Savingaccount(Account):\n",
    "    def interest(self,rate_interset):\n",
    "        rate_interset=self.balance*(rate_interset/100)\n",
    "        self.balance+=rate_interset\n",
    "        print(f'Interest Added:{rate_interset}, and Nerw Balance:{self.balance}')\n",
    "    \n",
    "s=Savingaccount()\n",
    "s.deposit(10000)\n",
    "s.interest(5)"
   ]
  },
  {
   "cell_type": "markdown",
   "id": "c6d21e04",
   "metadata": {},
   "source": [
    "### Multiple Inheritance (3 Questions)"
   ]
  },
  {
   "cell_type": "markdown",
   "id": "fd0c2c95",
   "metadata": {},
   "source": [
    "Q8. Create class Father with method work() and class Mother with method care(). Inherit both into class Child and call both methods using a Child object"
   ]
  },
  {
   "cell_type": "code",
   "execution_count": 20,
   "id": "329efc61",
   "metadata": {},
   "outputs": [
    {
     "name": "stdout",
     "output_type": "stream",
     "text": [
      "father is working\n",
      "Mother is very caring\n",
      "child is playing in the ground\n"
     ]
    }
   ],
   "source": [
    "class Father:\n",
    "    def work(self):\n",
    "        print('father is working')\n",
    "\n",
    "class Mother:\n",
    "    def care(self):\n",
    "        print('Mother is very caring')\n",
    "class child(Father,Mother):\n",
    "    def play(self):\n",
    "        print('child is playing in the ground')\n",
    "\n",
    "c=child()\n",
    "c.work()\n",
    "c.care()\n",
    "c.play()\n"
   ]
  },
  {
   "cell_type": "markdown",
   "id": "a8027777",
   "metadata": {},
   "source": [
    "Q9. Define class Teacher with method teach(), and class Mentor with method guide(). Inherit both in class Trainer. Create a Trainer object and call both methods."
   ]
  },
  {
   "cell_type": "code",
   "execution_count": 21,
   "id": "f1b290c0",
   "metadata": {},
   "outputs": [
    {
     "name": "stdout",
     "output_type": "stream",
     "text": [
      "The Trainer doing the task \n",
      "The Teacher teach the subject\n",
      "The Mentor is guiding the student\n"
     ]
    }
   ],
   "source": [
    "class Teacher:\n",
    "    def teach(self):\n",
    "        print('The Teacher teach the subject')\n",
    "    \n",
    "class Mentor:\n",
    "    def guide(self):\n",
    "        print('The Mentor is guiding the student')\n",
    "\n",
    "class Trainer(Teacher,Mentor):\n",
    "    def train(self):\n",
    "        print('The Trainer doing the task ')\n",
    "\n",
    "t=Trainer()\n",
    "t.train()\n",
    "t.teach()\n",
    "t.guide()\n"
   ]
  },
  {
   "cell_type": "markdown",
   "id": "b94f1b7c",
   "metadata": {},
   "source": [
    "Q10. Create classes A and B each with methods showA() and showB() respectively. Inherit both in class C. Demonstrate method resolution order (MRO) by calling both methods using a C object."
   ]
  },
  {
   "cell_type": "code",
   "execution_count": 23,
   "id": "3e8a7ce9",
   "metadata": {},
   "outputs": [
    {
     "name": "stdout",
     "output_type": "stream",
     "text": [
      "Class C\n",
      "Class B\n",
      "Class A\n"
     ]
    }
   ],
   "source": [
    "class A:\n",
    "    def a(self):\n",
    "        print('Class A')\n",
    "\n",
    "class B:\n",
    "    def b(self):\n",
    "        print('Class B')\n",
    "\n",
    "class C(A,B):\n",
    "    def c(self):\n",
    "        print('Class C')\n",
    "\n",
    "x=C()\n",
    "x.c()\n",
    "x.b()\n",
    "x.a()"
   ]
  },
  {
   "cell_type": "markdown",
   "id": "2c8895f8",
   "metadata": {},
   "source": [
    "### Multilevel Inheritance (3 Questions)"
   ]
  },
  {
   "cell_type": "markdown",
   "id": "f27dbb4d",
   "metadata": {},
   "source": [
    "Q11. Create class Person with method show_name(). Inherit class Student from Person, and then class CollegeStudent from Student. Call the method chain using a CollegeStudent object."
   ]
  },
  {
   "cell_type": "code",
   "execution_count": 26,
   "id": "f7b553b6",
   "metadata": {},
   "outputs": [
    {
     "name": "stdout",
     "output_type": "stream",
     "text": [
      "Person Name:Jay The Enroll_id :4870 college name :KARE\n"
     ]
    }
   ],
   "source": [
    "class Person:\n",
    "    def show_name(self,name):\n",
    "        self.name = name\n",
    "     \n",
    "    \n",
    "class Student(Person):\n",
    "    def show_student(self,Enroll_id):\n",
    "        self.Enroll_id =Enroll_id\n",
    "        \n",
    "\n",
    "class CollegeStudent(Student):\n",
    "    def show_college(self,college):\n",
    "        self.college = college\n",
    "        print(f'Person Name:{self.name} The Enroll_id :{self.Enroll_id} college name :{self.college}')\n",
    "\n",
    "p=CollegeStudent()\n",
    "p.show_name('Jay')\n",
    "p.show_student('4870')\n",
    "p.show_college(\"KARE\")"
   ]
  },
  {
   "cell_type": "markdown",
   "id": "f0d5aab5",
   "metadata": {},
   "source": [
    "Q12. Write a program with class Vehicle having method move(). Inherit class Car from Vehicle, and further inherit class ElectricCar from Car. Demonstrate calling methods from all levels using an ElectricCar object"
   ]
  },
  {
   "cell_type": "code",
   "execution_count": 28,
   "id": "333935f5",
   "metadata": {},
   "outputs": [
    {
     "name": "stdout",
     "output_type": "stream",
     "text": [
      "ElectricCar is cost effectient\n",
      "Car has best\n",
      "Traveling\n"
     ]
    }
   ],
   "source": [
    "class Vehicle:\n",
    "    def move1(self):\n",
    "        print('Traveling')\n",
    "\n",
    "class Car(Vehicle):\n",
    "    def move2(self):\n",
    "        print('Car has best')\n",
    "\n",
    "class ElectricCar(Car):\n",
    "    def move3(self):\n",
    "        print('ElectricCar is cost effectient')\n",
    "\n",
    "\n",
    "c=ElectricCar()\n",
    "c.move3()\n",
    "c.move2()\n",
    "c.move1()"
   ]
  },
  {
   "cell_type": "markdown",
   "id": "4b209fd3",
   "metadata": {},
   "source": [
    "Q13. Define a base class Appliance with a method power_on(). Inherit WashingMachine from it with method wash(), and then SmartWasher from WashingMachine with method connect_wifi(). Create a SmartWasher object and call all three methods."
   ]
  },
  {
   "cell_type": "code",
   "execution_count": 31,
   "id": "bc8ed92a",
   "metadata": {},
   "outputs": [
    {
     "name": "stdout",
     "output_type": "stream",
     "text": [
      "connect to wifi\n",
      "Washing Machine using to washing the clothes\n",
      "Turn on the switch\n"
     ]
    }
   ],
   "source": [
    "class Appliance:\n",
    "    def power_on(self):\n",
    "        print('Turn on the switch')\n",
    "\n",
    "class WashingMachine(Appliance):\n",
    "    def wash(self):\n",
    "        print('Washing Machine using to washing the clothes')\n",
    "    \n",
    "class SmartWasher(WashingMachine):\n",
    "    def connect_wifi(self):\n",
    "        print('connect to wifi')\n",
    "\n",
    "\n",
    "s= SmartWasher()\n",
    "s.connect_wifi() \n",
    "s.wash()\n",
    "s.power_on()"
   ]
  },
  {
   "cell_type": "markdown",
   "id": "996c44a9",
   "metadata": {},
   "source": [
    "### Hierarchical Inheritance (3 Questions)"
   ]
  },
  {
   "cell_type": "markdown",
   "id": "1e80142f",
   "metadata": {},
   "source": [
    "Q14. Create a base class Shape with a method area(). Inherit two classes Square and Circle from it. Implement area calculation in both and demonstrate with objects."
   ]
  },
  {
   "cell_type": "markdown",
   "id": "3e510bda",
   "metadata": {},
   "source": []
  }
 ],
 "metadata": {
  "kernelspec": {
   "display_name": "Python 3",
   "language": "python",
   "name": "python3"
  },
  "language_info": {
   "codemirror_mode": {
    "name": "ipython",
    "version": 3
   },
   "file_extension": ".py",
   "mimetype": "text/x-python",
   "name": "python",
   "nbconvert_exporter": "python",
   "pygments_lexer": "ipython3",
   "version": "3.11.9"
  }
 },
 "nbformat": 4,
 "nbformat_minor": 5
}
