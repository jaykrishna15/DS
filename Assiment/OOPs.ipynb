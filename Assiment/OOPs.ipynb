{
 "cells": [
  {
   "cell_type": "markdown",
   "id": "2a64e7e5",
   "metadata": {},
   "source": [
    "### Class with Objects"
   ]
  },
  {
   "cell_type": "markdown",
   "id": "ad133906",
   "metadata": {},
   "source": [
    "Q1. Create a class Car with attributes brand and model. Assign values using an object and print them."
   ]
  },
  {
   "cell_type": "code",
   "execution_count": 2,
   "id": "0d64a8c5",
   "metadata": {},
   "outputs": [
    {
     "name": "stdout",
     "output_type": "stream",
     "text": [
      "BMW x5\n"
     ]
    }
   ],
   "source": [
    "class Car:\n",
    "    def car_deatils(self,brand,model):\n",
    "        self.brand=brand\n",
    "        self.model= model\n",
    "        print(self.brand,self.model)\n",
    "\n",
    "c=Car()\n",
    "c.car_deatils('BMW','x5')"
   ]
  },
  {
   "cell_type": "markdown",
   "id": "18748ac0",
   "metadata": {},
   "source": [
    "Q2. Define a class Fan with a method rotate() that prints \"Fan is rotating\". Call this method using an object."
   ]
  },
  {
   "cell_type": "code",
   "execution_count": 3,
   "id": "da6bc7d0",
   "metadata": {},
   "outputs": [
    {
     "name": "stdout",
     "output_type": "stream",
     "text": [
      "Fan is rotating\n"
     ]
    }
   ],
   "source": [
    "class Fan:\n",
    "    def rotate(self):\n",
    "        print('Fan is rotating')\n",
    "\n",
    "\n",
    "F=Fan()\n",
    "F.rotate()"
   ]
  },
  {
   "cell_type": "markdown",
   "id": "abe3ccdb",
   "metadata": {},
   "source": [
    "Q3. Write a class Book with __init__() to take title and author as input. Create two Book objects and print their information."
   ]
  },
  {
   "cell_type": "code",
   "execution_count": 6,
   "id": "06117280",
   "metadata": {},
   "outputs": [
    {
     "name": "stdout",
     "output_type": "stream",
     "text": [
      "Title: Wings of Fire, Author: A.P.J. Abdul Kalam\n"
     ]
    }
   ],
   "source": [
    "class Book:\n",
    "    def __init__(self,title,auther):\n",
    "        self.title=title\n",
    "        self.auther=auther\n",
    "    \n",
    "    def display(self):\n",
    "        print(f\"Title: {self.title}, Author: {self.auther}\")\n",
    "\n",
    "\n",
    "b=Book(\"Wings of Fire\", \"A.P.J. Abdul Kalam\")\n",
    "b.display()\n",
    "\n"
   ]
  },
  {
   "cell_type": "markdown",
   "id": "d009da04",
   "metadata": {},
   "source": [
    "Q4. Create a class Laptop with a method specs() that prints RAM and processor details. Set the values using an object."
   ]
  },
  {
   "cell_type": "code",
   "execution_count": 7,
   "id": "ed24fdb0",
   "metadata": {},
   "outputs": [
    {
     "name": "stdout",
     "output_type": "stream",
     "text": [
      "Laptop specs -> RAM :16Gb,Processor:Ryzen7\n"
     ]
    }
   ],
   "source": [
    "class Laptop:\n",
    "    def specs(self,RAM,processor):\n",
    "        self.RAM = RAM\n",
    "        self.processor = processor\n",
    "        print(f'Laptop specs -> RAM :{self.RAM},Processor:{self.processor}')\n",
    "\n",
    "l=Laptop()\n",
    "l.specs('16Gb','Ryzen7')"
   ]
  },
  {
   "cell_type": "markdown",
   "id": "fb474dc7",
   "metadata": {},
   "source": [
    "### Single Inheritance (3 Questions)"
   ]
  },
  {
   "cell_type": "markdown",
   "id": "6894d4a8",
   "metadata": {},
   "source": [
    "Q5. Create a base class Animal with a method make_sound(). Inherit it in class Cat and call make_sound() using a Cat object."
   ]
  },
  {
   "cell_type": "code",
   "execution_count": 11,
   "id": "8a161305",
   "metadata": {},
   "outputs": [
    {
     "name": "stdout",
     "output_type": "stream",
     "text": [
      "Meow\n"
     ]
    }
   ],
   "source": [
    "class Animal:\n",
    "    def make_sound(self):\n",
    "        pass  \n",
    "\n",
    "class Cat(Animal):\n",
    "    def make_sound(self):\n",
    "        print(\"Meow\")\n",
    "\n",
    "\n",
    "\n",
    "c = Cat()\n",
    "c.make_sound()\n"
   ]
  },
  {
   "cell_type": "markdown",
   "id": "eb2e7fe9",
   "metadata": {},
   "source": [
    "Q6. Define a class Employee with method details(). Inherit it in class Manager and add a method assign_task(). Use a Manager object to call both methods."
   ]
  },
  {
   "cell_type": "code",
   "execution_count": 16,
   "id": "bb329f54",
   "metadata": {},
   "outputs": [
    {
     "name": "stdout",
     "output_type": "stream",
     "text": [
      "Employee name:Jay,Employee_id:4870\n",
      "Manager Jay is assigning task: Zoho Analytics\n"
     ]
    }
   ],
   "source": [
    "class Employee:\n",
    "    def details(self,emp_name,emp_id):\n",
    "        self.emp_name=emp_name\n",
    "        self.emp_id=emp_id\n",
    "        print(f'Employee name:{self.emp_name},Employee_id:{self.emp_id}')\n",
    "\n",
    "class Manager(Employee):\n",
    "    def work(self,task):\n",
    "        self.task=task\n",
    "        print(f\"Manager {self.emp_name} is assigning task: {self.task}\")\n",
    "m=Manager()\n",
    "m.details(\"Jay\", 4870)\n",
    "m.work(\"Zoho Analytics\")"
   ]
  },
  {
   "cell_type": "markdown",
   "id": "b704c5c1",
   "metadata": {},
   "source": [
    "Q7. Write a program where class Account has a method deposit(). Inherit it in class SavingsAccount and add a method add_interest(). Demonstrate both methods using a SavingsAccount object.\n"
   ]
  },
  {
   "cell_type": "code",
   "execution_count": 17,
   "id": "921006c6",
   "metadata": {},
   "outputs": [
    {
     "name": "stdout",
     "output_type": "stream",
     "text": [
      "Deposited:10000,current Balance:10000\n",
      "Interest Added:500.0, and Nerw Balance:10500.0\n"
     ]
    }
   ],
   "source": [
    "class Account:\n",
    "    def __init__(self,balance=0):\n",
    "        self.balance=balance\n",
    "    \n",
    "    def deposit(self,amount):\n",
    "        self.balance+=amount\n",
    "        print(f'Deposited:{amount},current Balance:{self.balance}')\n",
    "\n",
    "class Savingaccount(Account):\n",
    "    def interest(self,rate_interset):\n",
    "        rate_interset=self.balance*(rate_interset/100)\n",
    "        self.balance+=rate_interset\n",
    "        print(f'Interest Added:{rate_interset}, and Nerw Balance:{self.balance}')\n",
    "    \n",
    "s=Savingaccount()\n",
    "s.deposit(10000)\n",
    "s.interest(5)"
   ]
  },
  {
   "cell_type": "markdown",
   "id": "c6d21e04",
   "metadata": {},
   "source": [
    "### Multiple Inheritance (3 Questions)"
   ]
  },
  {
   "cell_type": "markdown",
   "id": "fd0c2c95",
   "metadata": {},
   "source": [
    "Q8. Create class Father with method work() and class Mother with method care(). Inherit both into class Child and call both methods using a Child object"
   ]
  },
  {
   "cell_type": "code",
   "execution_count": 20,
   "id": "329efc61",
   "metadata": {},
   "outputs": [
    {
     "name": "stdout",
     "output_type": "stream",
     "text": [
      "father is working\n",
      "Mother is very caring\n",
      "child is playing in the ground\n"
     ]
    }
   ],
   "source": [
    "class Father:\n",
    "    def work(self):\n",
    "        print('father is working')\n",
    "\n",
    "class Mother:\n",
    "    def care(self):\n",
    "        print('Mother is very caring')\n",
    "class child(Father,Mother):\n",
    "    def play(self):\n",
    "        print('child is playing in the ground')\n",
    "\n",
    "c=child()\n",
    "c.work()\n",
    "c.care()\n",
    "c.play()\n"
   ]
  },
  {
   "cell_type": "markdown",
   "id": "a8027777",
   "metadata": {},
   "source": [
    "Q9. Define class Teacher with method teach(), and class Mentor with method guide(). Inherit both in class Trainer. Create a Trainer object and call both methods."
   ]
  },
  {
   "cell_type": "code",
   "execution_count": 21,
   "id": "f1b290c0",
   "metadata": {},
   "outputs": [
    {
     "name": "stdout",
     "output_type": "stream",
     "text": [
      "The Trainer doing the task \n",
      "The Teacher teach the subject\n",
      "The Mentor is guiding the student\n"
     ]
    }
   ],
   "source": [
    "class Teacher:\n",
    "    def teach(self):\n",
    "        print('The Teacher teach the subject')\n",
    "    \n",
    "class Mentor:\n",
    "    def guide(self):\n",
    "        print('The Mentor is guiding the student')\n",
    "\n",
    "class Trainer(Teacher,Mentor):\n",
    "    def train(self):\n",
    "        print('The Trainer doing the task ')\n",
    "\n",
    "t=Trainer()\n",
    "t.train()\n",
    "t.teach()\n",
    "t.guide()\n"
   ]
  },
  {
   "cell_type": "markdown",
   "id": "b94f1b7c",
   "metadata": {},
   "source": [
    "Q10. Create classes A and B each with methods showA() and showB() respectively. Inherit both in class C. Demonstrate method resolution order (MRO) by calling both methods using a C object."
   ]
  },
  {
   "cell_type": "code",
   "execution_count": 23,
   "id": "3e8a7ce9",
   "metadata": {},
   "outputs": [
    {
     "name": "stdout",
     "output_type": "stream",
     "text": [
      "Class C\n",
      "Class B\n",
      "Class A\n"
     ]
    }
   ],
   "source": [
    "class A:\n",
    "    def a(self):\n",
    "        print('Class A')\n",
    "\n",
    "class B:\n",
    "    def b(self):\n",
    "        print('Class B')\n",
    "\n",
    "class C(A,B):\n",
    "    def c(self):\n",
    "        print('Class C')\n",
    "\n",
    "x=C()\n",
    "x.c()\n",
    "x.b()\n",
    "x.a()"
   ]
  },
  {
   "cell_type": "markdown",
   "id": "2c8895f8",
   "metadata": {},
   "source": [
    "### Multilevel Inheritance (3 Questions)"
   ]
  },
  {
   "cell_type": "markdown",
   "id": "f27dbb4d",
   "metadata": {},
   "source": [
    "Q11. Create class Person with method show_name(). Inherit class Student from Person, and then class CollegeStudent from Student. Call the method chain using a CollegeStudent object."
   ]
  },
  {
   "cell_type": "code",
   "execution_count": 26,
   "id": "f7b553b6",
   "metadata": {},
   "outputs": [
    {
     "name": "stdout",
     "output_type": "stream",
     "text": [
      "Person Name:Jay The Enroll_id :4870 college name :KARE\n"
     ]
    }
   ],
   "source": [
    "class Person:\n",
    "    def show_name(self,name):\n",
    "        self.name = name\n",
    "     \n",
    "    \n",
    "class Student(Person):\n",
    "    def show_student(self,Enroll_id):\n",
    "        self.Enroll_id =Enroll_id\n",
    "        \n",
    "\n",
    "class CollegeStudent(Student):\n",
    "    def show_college(self,college):\n",
    "        self.college = college\n",
    "        print(f'Person Name:{self.name} The Enroll_id :{self.Enroll_id} college name :{self.college}')\n",
    "\n",
    "p=CollegeStudent()\n",
    "p.show_name('Jay')\n",
    "p.show_student('4870')\n",
    "p.show_college(\"KARE\")"
   ]
  },
  {
   "cell_type": "markdown",
   "id": "f0d5aab5",
   "metadata": {},
   "source": [
    "Q12. Write a program with class Vehicle having method move(). Inherit class Car from Vehicle, and further inherit class ElectricCar from Car. Demonstrate calling methods from all levels using an ElectricCar object"
   ]
  },
  {
   "cell_type": "code",
   "execution_count": 28,
   "id": "333935f5",
   "metadata": {},
   "outputs": [
    {
     "name": "stdout",
     "output_type": "stream",
     "text": [
      "ElectricCar is cost effectient\n",
      "Car has best\n",
      "Traveling\n"
     ]
    }
   ],
   "source": [
    "class Vehicle:\n",
    "    def move1(self):\n",
    "        print('Traveling')\n",
    "\n",
    "class Car(Vehicle):\n",
    "    def move2(self):\n",
    "        print('Car has best')\n",
    "\n",
    "class ElectricCar(Car):\n",
    "    def move3(self):\n",
    "        print('ElectricCar is cost effectient')\n",
    "\n",
    "\n",
    "c=ElectricCar()\n",
    "c.move3()\n",
    "c.move2()\n",
    "c.move1()"
   ]
  },
  {
   "cell_type": "markdown",
   "id": "4b209fd3",
   "metadata": {},
   "source": [
    "Q13. Define a base class Appliance with a method power_on(). Inherit WashingMachine from it with method wash(), and then SmartWasher from WashingMachine with method connect_wifi(). Create a SmartWasher object and call all three methods."
   ]
  },
  {
   "cell_type": "code",
   "execution_count": 31,
   "id": "bc8ed92a",
   "metadata": {},
   "outputs": [
    {
     "name": "stdout",
     "output_type": "stream",
     "text": [
      "connect to wifi\n",
      "Washing Machine using to washing the clothes\n",
      "Turn on the switch\n"
     ]
    }
   ],
   "source": [
    "class Appliance:\n",
    "    def power_on(self):\n",
    "        print('Turn on the switch')\n",
    "\n",
    "class WashingMachine(Appliance):\n",
    "    def wash(self):\n",
    "        print('Washing Machine using to washing the clothes')\n",
    "    \n",
    "class SmartWasher(WashingMachine):\n",
    "    def connect_wifi(self):\n",
    "        print('connect to wifi')\n",
    "\n",
    "\n",
    "s= SmartWasher()\n",
    "s.connect_wifi() \n",
    "s.wash()\n",
    "s.power_on()"
   ]
  },
  {
   "cell_type": "markdown",
   "id": "996c44a9",
   "metadata": {},
   "source": [
    "### Hierarchical Inheritance (3 Questions)"
   ]
  },
  {
   "cell_type": "markdown",
   "id": "1e80142f",
   "metadata": {},
   "source": [
    "Q14. Create a base class Shape with a method area(). Inherit two classes Square and Circle from it. Implement area calculation in both and demonstrate with objects."
   ]
  },
  {
   "cell_type": "code",
   "execution_count": 1,
   "id": "bef6e00d",
   "metadata": {},
   "outputs": [
    {
     "name": "stdout",
     "output_type": "stream",
     "text": [
      "314.1592653589793\n",
      "25\n"
     ]
    }
   ],
   "source": [
    "import math\n",
    "class Shape:\n",
    "    def area(self):\n",
    "        pass\n",
    "\n",
    "class Square(Shape):\n",
    "    def area(self,side):\n",
    "        self.side = side\n",
    "        print(self.side*self.side)\n",
    "\n",
    "class Circle(Shape):\n",
    "    def area(self,radius):\n",
    "        self.radius=radius\n",
    "        print(math.pi*self.radius*self.radius)\n",
    "    \n",
    "\n",
    "C=Circle()\n",
    "C.area(10)\n",
    "S=Square()\n",
    "S.area(5)\n",
    "        \n"
   ]
  },
  {
   "cell_type": "markdown",
   "id": "3e510bda",
   "metadata": {},
   "source": [
    "Q15. Write a program where class Employee is the parent. Inherit classes Developer and Tester from it. Each subclass should have its own method. Call all methods using their objects.\n"
   ]
  },
  {
   "cell_type": "code",
   "execution_count": 2,
   "id": "0badaf77",
   "metadata": {},
   "outputs": [
    {
     "name": "stdout",
     "output_type": "stream",
     "text": [
      "Test the code\n"
     ]
    }
   ],
   "source": [
    "class Employee:\n",
    "    def work(self):\n",
    "        print('Employee is working')\n",
    "class Developer(Employee):\n",
    "    def code(self):\n",
    "        print('Developer write a code')\n",
    "class Tester(Employee):\n",
    "    def test(self):\n",
    "        print('Test the code')\n",
    "\n",
    "T=Tester()\n",
    "T.test()\n"
   ]
  },
  {
   "cell_type": "markdown",
   "id": "25455585",
   "metadata": {},
   "source": [
    "Q16. Define a class Vehicle. Inherit Bike and Bus from it. Add separate methods like two_wheeler() and public_transport() in subclasses. Create objects and call respective methods."
   ]
  },
  {
   "cell_type": "code",
   "execution_count": 3,
   "id": "c93c7e09",
   "metadata": {},
   "outputs": [
    {
     "name": "stdout",
     "output_type": "stream",
     "text": [
      "Bus is the public Trasnsport\n"
     ]
    }
   ],
   "source": [
    "class Vehicle:\n",
    "    def travel(self):\n",
    "        pass\n",
    "\n",
    "\n",
    "class Bike(Vehicle):\n",
    "    def two_wheeler(self):\n",
    "        print('This is two wheeler vehicle')\n",
    "\n",
    "class Bus(Vehicle):\n",
    "    def public_transport(self):\n",
    "        print('Bus is the public Trasnsport')\n",
    "\n",
    "b= Bus()\n",
    "b.public_transport()"
   ]
  },
  {
   "cell_type": "markdown",
   "id": "f802de02",
   "metadata": {},
   "source": [
    "### Hybrid Inheritance (3 Questions)"
   ]
  },
  {
   "cell_type": "markdown",
   "id": "8da9ca4b",
   "metadata": {},
   "source": [
    "Q17. Create classes A (base), B and C inherit from A, and class D inherits from both B and C. Demonstrate method calls to show hybrid inheritance.\n"
   ]
  },
  {
   "cell_type": "code",
   "execution_count": 4,
   "id": "7aa0da98",
   "metadata": {},
   "outputs": [
    {
     "name": "stdout",
     "output_type": "stream",
     "text": [
      "This is class D\n"
     ]
    }
   ],
   "source": [
    "class A:\n",
    "    def show_A(self):\n",
    "        print('This is the class A')\n",
    "\n",
    "class B(A):\n",
    "    def show_B(self):\n",
    "        print('This is class B')\n",
    "\n",
    "class C(A):\n",
    "    def show_c(self):\n",
    "        print('This is class C')\n",
    "\n",
    "class D(B,C):\n",
    "    def show_D(self):\n",
    "        print('This is class D')\n",
    "\n",
    "\n",
    "d=D()\n",
    "d.show_D()\n"
   ]
  },
  {
   "cell_type": "markdown",
   "id": "dae8c6cb",
   "metadata": {},
   "source": [
    "Q18. Write a program where class University is the parent. College and Library inherit from University. Another class Student inherits from both College and Library. Create a Student object and call methods from all classes."
   ]
  },
  {
   "cell_type": "code",
   "execution_count": 2,
   "id": "9b0120ff",
   "metadata": {},
   "outputs": [],
   "source": [
    "class University:\n",
    "    def uni(self,U_name):\n",
    "        self.name=U_name\n",
    "        print(f'The Unviersity name is :{self.name}')\n",
    "        \n",
    "\n",
    "class College(University):\n",
    "    def clg(self,collge):\n",
    "        self.collge=collge\n",
    "        print(f'The College name is : {self.collge}')\n",
    "    \n",
    "class Library(University):\n",
    "    def lib(self,Lib):\n",
    "        self.Lib=Lib\n",
    "        print(f'The Library')\n",
    "\n",
    "class Student(College,Library):\n",
    "    def student(self,s_name,reg_no):\n",
    "        self.s_name= s_name\n",
    "        self.reg_no=reg_no\n",
    "        print(f'{self.s_name} {reg_no} can acsess{self.Lib} because is a student at {self.collge} in our {self.name}')\n",
    "\n"
   ]
  },
  {
   "cell_type": "markdown",
   "id": "329165c0",
   "metadata": {},
   "source": [
    "\n",
    "Q19. Define class ElectronicDevice as the base. Create classes Computer and Mobile inheriting from it. Then create class SmartDevice inheriting from both Computer and Mobile. Show how methods from all classes are accessible."
   ]
  },
  {
   "cell_type": "code",
   "execution_count": 3,
   "id": "44a94c23",
   "metadata": {},
   "outputs": [
    {
     "name": "stdout",
     "output_type": "stream",
     "text": [
      "Electronic device is powered on\n"
     ]
    }
   ],
   "source": [
    "class ElectronicDevice:\n",
    "    def power_on(self):\n",
    "        print('Electronic device is powered on')\n",
    "    \n",
    "class Computer(ElectronicDevice):\n",
    "    def comp(self):\n",
    "        print('Computer is performing calculation')\n",
    "\n",
    "class Mobile(ElectronicDevice):\n",
    "    def sell(self):\n",
    "        print('Mobile is making a call')\n",
    "\n",
    "class SmartDevice(Computer,Mobile):\n",
    "    def smart_feature(self):\n",
    "        print('smart device')\n",
    "\n",
    "\n",
    "s=SmartDevice()\n",
    "s.power_on()"
   ]
  },
  {
   "cell_type": "markdown",
   "id": "62a0bb54",
   "metadata": {},
   "source": [
    "### Polymorphism (3 Questions)"
   ]
  },
  {
   "cell_type": "markdown",
   "id": "cd88f7ef",
   "metadata": {},
   "source": [
    "1 What is method overriding in Python? Write a program to demonstrate it using a Parent and Child class.\n"
   ]
  },
  {
   "cell_type": "code",
   "execution_count": null,
   "id": "7dc593ee",
   "metadata": {},
   "outputs": [
    {
     "name": "stdout",
     "output_type": "stream",
     "text": [
      "Child class\n",
      "Parent class\n"
     ]
    }
   ],
   "source": [
    "class Parent:\n",
    "    def show(self):\n",
    "        print('Parent class')\n",
    "    \n",
    "class Child(Parent):\n",
    "    def show(self):\n",
    "        print('Child class')\n",
    "\n",
    "\n",
    "c=Child()\n",
    "c.show()\n",
    "\n",
    "p=Parent()\n",
    "p.show()"
   ]
  },
  {
   "cell_type": "markdown",
   "id": "e099e69d",
   "metadata": {},
   "source": [
    "2 Create a program where a function area() calculates the area of both a circle and a rectangle (demonstrating polymorphism)."
   ]
  },
  {
   "cell_type": "code",
   "execution_count": 6,
   "id": "c9abc89b",
   "metadata": {},
   "outputs": [
    {
     "name": "stdout",
     "output_type": "stream",
     "text": [
      "6\n"
     ]
    }
   ],
   "source": [
    "import math\n",
    "\n",
    "class Shape:\n",
    "    def area(self):\n",
    "        pass\n",
    "\n",
    "class Circle(Shape):\n",
    "    def area(self,radius):\n",
    "        self.radius = radius\n",
    "        print(math.pi*self.radius*self.radius)\n",
    "\n",
    "class Reactangle(Shape):\n",
    "        def area(self,length,breadth):\n",
    "             self.l=length\n",
    "             self.b=breadth\n",
    "             print(self.l*self.b)\n",
    "\n",
    "A=Reactangle()\n",
    "A.area(2,3)"
   ]
  },
  {
   "cell_type": "markdown",
   "id": "88644c45",
   "metadata": {},
   "source": [
    "3 Write a base class Animal with a method sound(). Override sound() in subclasses Dog and Cat to demonstrate polymorphism."
   ]
  },
  {
   "cell_type": "code",
   "execution_count": 8,
   "id": "b9995012",
   "metadata": {},
   "outputs": [
    {
     "name": "stdout",
     "output_type": "stream",
     "text": [
      "Meow\n",
      "bark\n"
     ]
    }
   ],
   "source": [
    "class Animal:\n",
    "    def sound():\n",
    "        pass\n",
    "\n",
    "class Dog(Animal):\n",
    "    def sound(self):\n",
    "        print('bark')\n",
    "    \n",
    "\n",
    "class Cat(Animal):\n",
    "    def sound(self):\n",
    "        print('Meow')\n",
    "\n",
    "c=Cat()\n",
    "c.sound()\n",
    "d= Dog()\n",
    "d.sound()"
   ]
  },
  {
   "cell_type": "markdown",
   "id": "ec2036ab",
   "metadata": {},
   "source": [
    "### Abstraction (3 Questions)\n"
   ]
  },
  {
   "cell_type": "markdown",
   "id": "0a18ca0f",
   "metadata": {},
   "source": [
    "4 What is abstraction in Python? Show how it is implemented using the abc module with an example."
   ]
  },
  {
   "cell_type": "markdown",
   "id": "639d957c",
   "metadata": {},
   "source": [
    "Definition: Abstraction is the process of hiding implementation details and showing only the essential features of an object.  \n",
    "\n",
    "Abstract classes act as a blueprint for other classes."
   ]
  },
  {
   "cell_type": "code",
   "execution_count": 10,
   "id": "b10a9ce4",
   "metadata": {},
   "outputs": [
    {
     "name": "stdout",
     "output_type": "stream",
     "text": [
      "78.53981633974483\n",
      "24\n"
     ]
    }
   ],
   "source": [
    "from abc import ABC, abstractmethod\n",
    "\n",
    "class Shape(ABC):\n",
    "    \n",
    "    @abstractmethod\n",
    "    def area(self):\n",
    "        pass\n",
    "    \n",
    "    @abstractmethod\n",
    "    def perimeter(self):\n",
    "        pass\n",
    "\n",
    "\n",
    "\n",
    "import math\n",
    "class Circle(Shape):\n",
    "    def __init__(self, radius):\n",
    "        self.radius = radius\n",
    "\n",
    "    def area(self):\n",
    "        return math.pi * self.radius * self.radius\n",
    "\n",
    "    def perimeter(self):\n",
    "        return 2 * math.pi * self.radius\n",
    "\n",
    "\n",
    "\n",
    "class Rectangle(Shape):\n",
    "    def __init__(self, length, breadth):\n",
    "        self.length = length\n",
    "        self.breadth = breadth\n",
    "\n",
    "    def area(self):\n",
    "        return self.length * self.breadth\n",
    "\n",
    "    def perimeter(self):\n",
    "        return 2 * (self.length + self.breadth)\n",
    "\n",
    "\n",
    "\n",
    "shapes1 = Circle(5)\n",
    "shape2=Rectangle(4, 6)\n",
    "\n",
    "print(shapes1.area())\n",
    "print(shape2.area())\n"
   ]
  },
  {
   "cell_type": "markdown",
   "id": "6700256d",
   "metadata": {},
   "source": [
    "5 Create an abstract class BankAccount with abstract methods deposit() and withdraw(). Implement them in a subclass SavingsAccount.\n"
   ]
  },
  {
   "cell_type": "code",
   "execution_count": 3,
   "id": "1a53bf80",
   "metadata": {},
   "outputs": [
    {
     "name": "stdout",
     "output_type": "stream",
     "text": [
      "Deposited: 5000, New Balance: 15000\n",
      "Withdrawn: 3000, Remaining Balance: 12000\n",
      "Insufficient balance or invalid amount\n"
     ]
    }
   ],
   "source": [
    "from abc import ABC, abstractmethod\n",
    "\n",
    "\n",
    "class BankAccount(ABC):\n",
    "    def __init__(self, balance=0):\n",
    "        self.balance = balance\n",
    "\n",
    "    @abstractmethod\n",
    "    def deposit(self, amount):\n",
    "        pass\n",
    "\n",
    "    @abstractmethod\n",
    "    def withdraw(self, amount):\n",
    "        pass\n",
    "\n",
    "\n",
    "class SavingsAccount(BankAccount):\n",
    "    def deposit(self, amount):\n",
    "        if amount > 0:\n",
    "            self.balance += amount\n",
    "            print(f\"Deposited: {amount}, New Balance: {self.balance}\")\n",
    "        else:\n",
    "            print(\"Deposit amount must be positive\")\n",
    "\n",
    "    def withdraw(self, amount):\n",
    "        if 0 < amount <= self.balance:\n",
    "            self.balance -= amount\n",
    "            print(f\"Withdrawn: {amount}, Remaining Balance: {self.balance}\")\n",
    "        else:\n",
    "            print(\"Insufficient balance or invalid amount\")\n",
    "\n",
    "\n",
    "\n",
    "account = SavingsAccount(10000)\n",
    "account.deposit(5000)\n",
    "account.withdraw(3000)\n",
    "account.withdraw(15000)   \n"
   ]
  },
  {
   "cell_type": "markdown",
   "id": "0c1b7bb1",
   "metadata": {},
   "source": [
    "6 Create an abstract class Vehicle with a method start(). Implement it in subclasses Car and Bike, showing different ways of starting each vehicle."
   ]
  },
  {
   "cell_type": "code",
   "execution_count": 4,
   "id": "8574328d",
   "metadata": {},
   "outputs": [
    {
     "name": "stdout",
     "output_type": "stream",
     "text": [
      "Car started\n"
     ]
    }
   ],
   "source": [
    "from abc import ABC,abstractmethod\n",
    "\n",
    "class Vehicle(ABC):\n",
    "    @abstractmethod\n",
    "    def start(self):\n",
    "        pass\n",
    "\n",
    "class Bike(Vehicle):\n",
    "    def start(self):\n",
    "        print('Bike starts with a self-start button or kick start.')\n",
    "\n",
    "class Car(Vehicle):\n",
    "    def start(self):\n",
    "        print('Car started')\n",
    "\n",
    "v= Car()\n",
    "v.start()\n"
   ]
  },
  {
   "cell_type": "markdown",
   "id": "643b2fab",
   "metadata": {},
   "source": [
    "###  Encapsulation (4 Questions)"
   ]
  },
  {
   "cell_type": "markdown",
   "id": "799a9f55",
   "metadata": {},
   "source": [
    "7 What is public, protected, and private access in Python? Demonstrate all three using an Employee class."
   ]
  },
  {
   "cell_type": "markdown",
   "id": "c362a1e9",
   "metadata": {},
   "source": [
    "Public (name) – Accessible everywhere (default in Python).\n",
    "\n",
    "Protected (_name) – Indicated by a single underscore. Treated as “protected” (meant for internal use, but still accessible outside).\n",
    "\n",
    "Private (__name) – Indicated by double underscores. Python performs name mangling (_ClassName__name) to restrict direct access."
   ]
  },
  {
   "cell_type": "code",
   "execution_count": 6,
   "id": "d7ddf454",
   "metadata": {},
   "outputs": [
    {
     "name": "stdout",
     "output_type": "stream",
     "text": [
      "Jay\n",
      "Name: Jay\n",
      "50000\n",
      "Salary: 50000\n",
      "Department: IT\n",
      "IT\n"
     ]
    }
   ],
   "source": [
    "class Employee:\n",
    "    def __init__(self, name, salary, dept):\n",
    "        \n",
    "        self.name = name\n",
    "        \n",
    "        self._salary = salary\n",
    "        \n",
    "        \n",
    "        self.__department = dept\n",
    "\n",
    "    \n",
    "    def show_public(self):\n",
    "        print(f\"Name: {self.name}\")  \n",
    "\n",
    "    \n",
    "    def _show_protected(self):\n",
    "        print(f\"Salary: {self._salary}\") \n",
    "\n",
    "    \n",
    "    def __show_private(self):\n",
    "        print(f\"Department: {self.__department}\")  \n",
    "\n",
    "    \n",
    "    def access_private(self):\n",
    "        self.__show_private()\n",
    "\n",
    "\n",
    "\n",
    "emp = Employee(\"Jay\", 50000, \"IT\")\n",
    "\n",
    "\n",
    "print(emp.name)  \n",
    "emp.show_public()\n",
    "\n",
    "\n",
    "print(emp._salary)  \n",
    "emp._show_protected()\n",
    "\n",
    "\n",
    "\n",
    "\n",
    "emp.access_private()\n",
    "\n",
    "\n",
    "print(emp._Employee__department)   \n"
   ]
  },
  {
   "cell_type": "markdown",
   "id": "2f472a92",
   "metadata": {},
   "source": [
    "8 Write a Student class where marks are kept private and can only be accessed/modified using getter and setter methods."
   ]
  },
  {
   "cell_type": "code",
   "execution_count": 7,
   "id": "5f330397",
   "metadata": {},
   "outputs": [
    {
     "name": "stdout",
     "output_type": "stream",
     "text": [
      "85\n",
      "Marks updated to 92\n",
      "Invalid marks! Must be between 0 and 100.\n",
      "92\n"
     ]
    }
   ],
   "source": [
    "class Student:\n",
    "    def __init__(self, name, marks):\n",
    "        self.name = name\n",
    "        self.__marks = marks  \n",
    "  \n",
    "    def get_marks(self):\n",
    "        return self.__marks\n",
    "\n",
    "   \n",
    "    def set_marks(self, marks):\n",
    "        if 0 <= marks <= 100:  \n",
    "            self.__marks = marks\n",
    "            print(f\"Marks updated to {marks}\")\n",
    "        else:\n",
    "            print(\"Invalid marks! Must be between 0 and 100.\")\n",
    "\n",
    "\n",
    "\n",
    "s1 = Student(\"Arya\", 85)\n",
    "\n",
    "\n",
    "print(s1.get_marks())   \n",
    "\n",
    "\n",
    "s1.set_marks(92)        \n",
    "s1.set_marks(120)      \n",
    "\n",
    "\n",
    "\n",
    "print(s1._Student__marks)   \n"
   ]
  },
  {
   "cell_type": "markdown",
   "id": "d00efaf5",
   "metadata": {},
   "source": [
    "Create a BankAccount class where the account balance is private. Provide methods for deposit, withdraw, and check balance to demonstrate encapsulation."
   ]
  },
  {
   "cell_type": "code",
   "execution_count": 8,
   "id": "afde0852",
   "metadata": {},
   "outputs": [
    {
     "name": "stdout",
     "output_type": "stream",
     "text": [
      "Deposited: 500, New Balance: 1500\n",
      "Withdrew: 200, Remaining Balance: 1300\n",
      "Final Balance: 1300\n"
     ]
    }
   ],
   "source": [
    "class BankAccount:\n",
    "    def __init__(self, account_holder, balance=0):\n",
    "        self.account_holder = account_holder\n",
    "        self.__balance = balance   \n",
    "   \n",
    "    def deposit(self, amount):\n",
    "        if amount > 0:\n",
    "            self.__balance += amount\n",
    "            print(f\"Deposited: {amount}, New Balance: {self.__balance}\")\n",
    "        else:\n",
    "            print(\"Deposit amount must be positive.\")\n",
    "\n",
    "    def withdraw(self, amount):\n",
    "        if 0 < amount <= self.__balance:\n",
    "            self.__balance -= amount\n",
    "            print(f\"Withdrew: {amount}, Remaining Balance: {self.__balance}\")\n",
    "        else:\n",
    "            print(\"Insufficient balance or invalid amount.\")\n",
    "\n",
    "   \n",
    "    def check_balance(self):\n",
    "        return self.__balance\n",
    "        \n",
    "\n",
    "\n",
    "acc = BankAccount(\"Arya\", 1000)\n",
    "acc.deposit(500)\n",
    "acc.withdraw(200)\n",
    "print(\"Final Balance:\", acc.check_balance())\n"
   ]
  },
  {
   "cell_type": "markdown",
   "id": "d527cd0d",
   "metadata": {},
   "source": [
    "Write a Car class where speed is private. Provide methods to accelerate, brake, and check speed. Encapsulation"
   ]
  },
  {
   "cell_type": "code",
   "execution_count": 9,
   "id": "50e9e522",
   "metadata": {},
   "outputs": [
    {
     "name": "stdout",
     "output_type": "stream",
     "text": [
      "Tesla accelerated by 60 km/h. Current Speed: 60 km/h\n",
      "Tesla slowed down by 20 km/h. Current Speed: 40 km/h\n",
      "Final Speed: 40\n"
     ]
    }
   ],
   "source": [
    "class Car:\n",
    "    def __init__(self, brand):\n",
    "        self.brand = brand\n",
    "        self.__speed = 0   \n",
    "\n",
    "  \n",
    "    def accelerate(self, value):\n",
    "        if value > 0:\n",
    "            self.__speed += value\n",
    "            print(f\"{self.brand} accelerated by {value} km/h. Current Speed: {self.__speed} km/h\")\n",
    "        else:\n",
    "            print(\"Acceleration must be positive.\")\n",
    "\n",
    "    def brake(self, value):\n",
    "        if 0 < value <= self.__speed:\n",
    "            self.__speed -= value\n",
    "            print(f\"{self.brand} slowed down by {value} km/h. Current Speed: {self.__speed} km/h\")\n",
    "        else:\n",
    "            print(\"Invalid braking value.\")\n",
    "\n",
    "    \n",
    "    def check_speed(self):\n",
    "        return self.__speed\n",
    "\n",
    "\n",
    "\n",
    "car1 = Car(\"Tesla\")\n",
    "car1.accelerate(60)\n",
    "car1.brake(20)\n",
    "print(\"Final Speed:\", car1.check_speed())\n"
   ]
  },
  {
   "cell_type": "code",
   "execution_count": null,
   "id": "27cb17fb",
   "metadata": {},
   "outputs": [],
   "source": []
  }
 ],
 "metadata": {
  "kernelspec": {
   "display_name": "base",
   "language": "python",
   "name": "python3"
  },
  "language_info": {
   "codemirror_mode": {
    "name": "ipython",
    "version": 3
   },
   "file_extension": ".py",
   "mimetype": "text/x-python",
   "name": "python",
   "nbconvert_exporter": "python",
   "pygments_lexer": "ipython3",
   "version": "3.13.5"
  }
 },
 "nbformat": 4,
 "nbformat_minor": 5
}
