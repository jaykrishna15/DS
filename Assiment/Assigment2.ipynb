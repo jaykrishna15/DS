{
 "cells": [
  {
   "cell_type": "markdown",
   "id": "85aaeb28",
   "metadata": {},
   "source": [
    "### Part A: String Creation & Indexing (1–10)"
   ]
  },
  {
   "cell_type": "code",
   "execution_count": 1,
   "id": "563352a9",
   "metadata": {},
   "outputs": [
    {
     "name": "stdout",
     "output_type": "stream",
     "text": [
      " \n"
     ]
    }
   ],
   "source": [
    "# 1. Create a string \"\" and print it.\n",
    "\n",
    "a = \" \"\n",
    "print(a)  \n"
   ]
  },
  {
   "cell_type": "code",
   "execution_count": 2,
   "id": "3235f5c1",
   "metadata": {},
   "outputs": [
    {
     "name": "stdout",
     "output_type": "stream",
     "text": [
      "D\n"
     ]
    }
   ],
   "source": [
    "# 2. Print the first character of \"Data\".  \n",
    "a = \"Data\"\n",
    "print(a[0])"
   ]
  },
  {
   "cell_type": "code",
   "execution_count": 3,
   "id": "d2acaa0c",
   "metadata": {},
   "outputs": [
    {
     "name": "stdout",
     "output_type": "stream",
     "text": [
      "e\n"
     ]
    }
   ],
   "source": [
    "# 3. Print the last character of \"Science\".  \n",
    "\n",
    "a = \"Science\"\n",
    "print(a[-1])"
   ]
  },
  {
   "cell_type": "code",
   "execution_count": 4,
   "id": "db22ca61",
   "metadata": {},
   "outputs": [
    {
     "name": "stdout",
     "output_type": "stream",
     "text": [
      "g\n"
     ]
    }
   ],
   "source": [
    "# 4. Get the character at index 3 from \"Programming\".  \n",
    "a =\"Programming\"\n",
    "print(a[3])"
   ]
  },
  {
   "cell_type": "code",
   "execution_count": 6,
   "id": "e858b762",
   "metadata": {},
   "outputs": [
    {
     "name": "stdout",
     "output_type": "stream",
     "text": [
      "Mach\n"
     ]
    }
   ],
   "source": [
    "# 5. Slice the first 4 letters from \"Machine\".  \n",
    "\n",
    "a =\"Machine\"\n",
    "print(a[:4])"
   ]
  },
  {
   "cell_type": "code",
   "execution_count": 7,
   "id": "c8eb9e7a",
   "metadata": {},
   "outputs": [
    {
     "name": "stdout",
     "output_type": "stream",
     "text": [
      "earn\n"
     ]
    }
   ],
   "source": [
    "# 6. Slice \"Learning\" to get \"earn\". \n",
    "a = \"Learning\"\n",
    "print(a[1:5])"
   ]
  },
  {
   "cell_type": "code",
   "execution_count": 8,
   "id": "2bfc4ebb",
   "metadata": {},
   "outputs": [
    {
     "name": "stdout",
     "output_type": "stream",
     "text": [
      "Art\n"
     ]
    }
   ],
   "source": [
    "# 7. Slice \"Artificial\" to get \"Art\".  \n",
    "a = \"Artificial\"\n",
    "print(a[:3])"
   ]
  },
  {
   "cell_type": "code",
   "execution_count": 9,
   "id": "27c8cd4f",
   "metadata": {},
   "outputs": [
    {
     "name": "stdout",
     "output_type": "stream",
     "text": [
      "nce\n"
     ]
    }
   ],
   "source": [
    "# 8. Get the last 3 characters from \"Intelligence\".  \n",
    "a = \"Intelligence\"\n",
    "print(a[-3:])"
   ]
  },
  {
   "cell_type": "code",
   "execution_count": 10,
   "id": "72cfea14",
   "metadata": {},
   "outputs": [
    {
     "name": "stdout",
     "output_type": "stream",
     "text": [
      "Tcnlg\n"
     ]
    }
   ],
   "source": [
    "# 9. Get every second character from \"Technology\". \n",
    "a = \"Technology\"\n",
    "print(a[::2])"
   ]
  },
  {
   "cell_type": "code",
   "execution_count": 12,
   "id": "1047f8ef",
   "metadata": {},
   "outputs": [
    {
     "name": "stdout",
     "output_type": "stream",
     "text": [
      "gnirtS\n"
     ]
    }
   ],
   "source": [
    "# 10. Reverse the string \"String\". \n",
    "a = \"String\"\n",
    "print(a[::-1])\n"
   ]
  },
  {
   "cell_type": "markdown",
   "id": "622061aa",
   "metadata": {},
   "source": [
    "### Part B: Case Conversion Methods (11–16)"
   ]
  },
  {
   "cell_type": "code",
   "execution_count": 13,
   "id": "c76036b8",
   "metadata": {},
   "outputs": [
    {
     "name": "stdout",
     "output_type": "stream",
     "text": [
      "DEEP LEARNING\n"
     ]
    }
   ],
   "source": [
    "# 11. Convert \"deep learning\" to uppercase using upper().\n",
    "a = \"deep learning\"\n",
    "print(a.upper())"
   ]
  },
  {
   "cell_type": "code",
   "execution_count": 14,
   "id": "dc7e603a",
   "metadata": {},
   "outputs": [
    {
     "name": "stdout",
     "output_type": "stream",
     "text": [
      "data science\n"
     ]
    }
   ],
   "source": [
    "# 2. Convert \"DATA SCIENCE\" to lowercase using lower(). \n",
    "\n",
    "a = \"DATA SCIENCE\"\n",
    "print(a.lower())"
   ]
  },
  {
   "cell_type": "code",
   "execution_count": 15,
   "id": "0f33f9ee",
   "metadata": {},
   "outputs": [
    {
     "name": "stdout",
     "output_type": "stream",
     "text": [
      "Neural networks\n"
     ]
    }
   ],
   "source": [
    "# 13. Capitalize \"neural networks\" using capitalize().  \n",
    "\n",
    "a= \"neural networks\"\n",
    "print(a.capitalize())"
   ]
  },
  {
   "cell_type": "code",
   "execution_count": 16,
   "id": "78abca29",
   "metadata": {},
   "outputs": [
    {
     "data": {
      "text/plain": [
       "'Natural Language Processing'"
      ]
     },
     "execution_count": 16,
     "metadata": {},
     "output_type": "execute_result"
    }
   ],
   "source": [
    "# 14. Convert \"natural language processing\" to title case.\n",
    "a = \"natural language processing\"\n",
    "a.title()"
   ]
  },
  {
   "cell_type": "code",
   "execution_count": 17,
   "id": "44da062d",
   "metadata": {},
   "outputs": [
    {
     "data": {
      "text/plain": [
       "'yOUR_nAME'"
      ]
     },
     "execution_count": 17,
     "metadata": {},
     "output_type": "execute_result"
    }
   ],
   "source": [
    "# 15. Swap case of \"Your_Name\" using swapcase(). \n",
    "a = \"Your_Name\"\n",
    "a.swapcase()"
   ]
  },
  {
   "cell_type": "code",
   "execution_count": 3,
   "id": "830e6d3b",
   "metadata": {},
   "outputs": [
    {
     "data": {
      "text/plain": [
       "'sensitive'"
      ]
     },
     "execution_count": 3,
     "metadata": {},
     "output_type": "execute_result"
    }
   ],
   "source": [
    "# 16. Convert \"SENSITIVE\" to case-insensitive version using casefold().  \n",
    "a = \"SENSITIVE\"\n",
    "b=a.lower()\n",
    "b.casefold()"
   ]
  },
  {
   "cell_type": "markdown",
   "id": "8bb71955",
   "metadata": {},
   "source": [
    "###  Part C: Search, Find, Count Methods (17–22)"
   ]
  },
  {
   "cell_type": "code",
   "execution_count": 19,
   "id": "d0d934a4",
   "metadata": {},
   "outputs": [
    {
     "data": {
      "text/plain": [
       "0"
      ]
     },
     "execution_count": 19,
     "metadata": {},
     "output_type": "execute_result"
    }
   ],
   "source": [
    "# 17. Find the position of \"i\" in \"intelligence\" using find(). \n",
    "a = \"intelligence\"\n",
    "a.find('i')"
   ]
  },
  {
   "cell_type": "code",
   "execution_count": 20,
   "id": "e9949328",
   "metadata": {},
   "outputs": [
    {
     "data": {
      "text/plain": [
       "5"
      ]
     },
     "execution_count": 20,
     "metadata": {},
     "output_type": "execute_result"
    }
   ],
   "source": [
    "# 18. Find last index of \"a\" in \"Canada\" using rfind().  \n",
    "\n",
    "a = \"Canada\"\n",
    "a.rfind('a')"
   ]
  },
  {
   "cell_type": "code",
   "execution_count": 23,
   "id": "e062e3e4",
   "metadata": {},
   "outputs": [
    {
     "data": {
      "text/plain": [
       "3"
      ]
     },
     "execution_count": 23,
     "metadata": {},
     "output_type": "execute_result"
    }
   ],
   "source": [
    "# 19. Count how many times \"e\" occurs in \"Deep Learning\".  \n",
    "a = \"Deep Learning\"\n",
    "a.count('e')\n"
   ]
  },
  {
   "cell_type": "code",
   "execution_count": 5,
   "id": "3d1f20b1",
   "metadata": {},
   "outputs": [
    {
     "data": {
      "text/plain": [
       "2"
      ]
     },
     "execution_count": 5,
     "metadata": {},
     "output_type": "execute_result"
    }
   ],
   "source": [
    "# 20. Find the index of \"n\" in \"Find\" using index().\n",
    "a = \"Findn\"\n",
    "a.index('n')"
   ]
  },
  {
   "cell_type": "code",
   "execution_count": null,
   "id": "e849576b",
   "metadata": {},
   "outputs": [
    {
     "data": {
      "text/plain": [
       "6"
      ]
     },
     "execution_count": 25,
     "metadata": {},
     "output_type": "execute_result"
    }
   ],
   "source": [
    "# 21. Use rindex() to find last position of \"t\" in \"statistic\".  \n",
    "a = \"statistic\"\n",
    "a.rindex('t')"
   ]
  },
  {
   "cell_type": "code",
   "execution_count": 26,
   "id": "7ce9a22e",
   "metadata": {},
   "outputs": [
    {
     "data": {
      "text/plain": [
       "2"
      ]
     },
     "execution_count": 26,
     "metadata": {},
     "output_type": "execute_result"
    }
   ],
   "source": [
    "# 22. Use count() to count spaces in \"Machine Learning Model\".  \n",
    "\n",
    "a = \"Machine Learning Model\"\n",
    "a.count(' ')"
   ]
  },
  {
   "cell_type": "markdown",
   "id": "a7281694",
   "metadata": {},
   "source": [
    "###  Part D: is... Methods (23–30)"
   ]
  },
  {
   "cell_type": "code",
   "execution_count": 29,
   "id": "aa4c7f18",
   "metadata": {},
   "outputs": [
    {
     "data": {
      "text/plain": [
       "True"
      ]
     },
     "execution_count": 29,
     "metadata": {},
     "output_type": "execute_result"
    }
   ],
   "source": [
    "#23. Check if \"data123\" is alphanumeric.  \n",
    "\n",
    "\n",
    "a = \"data123\"\n",
    "a.isalnum()\n"
   ]
  },
  {
   "cell_type": "code",
   "execution_count": 1,
   "id": "32ff847d",
   "metadata": {},
   "outputs": [
    {
     "data": {
      "text/plain": [
       "True"
      ]
     },
     "execution_count": 1,
     "metadata": {},
     "output_type": "execute_result"
    }
   ],
   "source": [
    "# 24. Check if \"OnlyLetters\" is alphabetic using isalpha().\n",
    "\n",
    "a = \"OnlyLetters\"\n",
    "a.isalpha()\n",
    "\n"
   ]
  },
  {
   "cell_type": "code",
   "execution_count": 2,
   "id": "2f6c421a",
   "metadata": {},
   "outputs": [
    {
     "data": {
      "text/plain": [
       "True"
      ]
     },
     "execution_count": 2,
     "metadata": {},
     "output_type": "execute_result"
    }
   ],
   "source": [
    "# 25. Check if \"123456\" is all digits using isdigit(). \n",
    "\n",
    "a =\"123456\"\n",
    "a.isdigit()"
   ]
  },
  {
   "cell_type": "code",
   "execution_count": 3,
   "id": "7ee86b6c",
   "metadata": {},
   "outputs": [
    {
     "data": {
      "text/plain": [
       "True"
      ]
     },
     "execution_count": 3,
     "metadata": {},
     "output_type": "execute_result"
    }
   ],
   "source": [
    "# 26. Check if \"   \" is space using isspace().  \n",
    "a = \"  \"\n",
    "a.isspace()"
   ]
  },
  {
   "cell_type": "code",
   "execution_count": 4,
   "id": "a611515c",
   "metadata": {},
   "outputs": [
    {
     "data": {
      "text/plain": [
       "False"
      ]
     },
     "execution_count": 4,
     "metadata": {},
     "output_type": "execute_result"
    }
   ],
   "source": [
    "# 27. Check if \"Name_\" is uppercase using isupper(). \n",
    "a = \"Name_\"\n",
    "a.isalpha()"
   ]
  },
  {
   "cell_type": "code",
   "execution_count": 5,
   "id": "ade2f4ea",
   "metadata": {},
   "outputs": [
    {
     "data": {
      "text/plain": [
       "True"
      ]
     },
     "execution_count": 5,
     "metadata": {},
     "output_type": "execute_result"
    }
   ],
   "source": [
    "# 28. Check if \"machine learning\" is lowercase using islower(). \n",
    "\n",
    "a = \"machine learning\"\n",
    "a.islower()"
   ]
  },
  {
   "cell_type": "code",
   "execution_count": 6,
   "id": "e78d5819",
   "metadata": {},
   "outputs": [
    {
     "data": {
      "text/plain": [
       "True"
      ]
     },
     "execution_count": 6,
     "metadata": {},
     "output_type": "execute_result"
    }
   ],
   "source": [
    "# 29. Check if \"Deep Learning\" is title case using istitle().  \n",
    "a = \"Deep Learning\"\n",
    "a.istitle()"
   ]
  },
  {
   "cell_type": "code",
   "execution_count": 7,
   "id": "1ed17b7c",
   "metadata": {},
   "outputs": [
    {
     "data": {
      "text/plain": [
       "True"
      ]
     },
     "execution_count": 7,
     "metadata": {},
     "output_type": "execute_result"
    }
   ],
   "source": [
    "# 30. Check if \"data_science\" is a valid identifier using isidentifier(). \n",
    "\n",
    "a = \"data_science\"\n",
    "a.isidentifier()"
   ]
  },
  {
   "cell_type": "markdown",
   "id": "b3e0b774",
   "metadata": {},
   "source": [
    "###  Part E: Strip & Replace Methods (31–35)"
   ]
  },
  {
   "cell_type": "code",
   "execution_count": 9,
   "id": "87061a54",
   "metadata": {},
   "outputs": [
    {
     "data": {
      "text/plain": [
       "'Hello'"
      ]
     },
     "execution_count": 9,
     "metadata": {},
     "output_type": "execute_result"
    }
   ],
   "source": [
    "# 31. Remove leading spaces from \"   Hello\" using lstrip(). \n",
    "\n",
    "a = \"   Hello\"\n",
    "a.lstrip()"
   ]
  },
  {
   "cell_type": "code",
   "execution_count": 10,
   "id": "b5bc7652",
   "metadata": {},
   "outputs": [
    {
     "data": {
      "text/plain": [
       "'World'"
      ]
     },
     "execution_count": 10,
     "metadata": {},
     "output_type": "execute_result"
    }
   ],
   "source": [
    "# 32. Remove trailing spaces from \"World   \" using rstrip().  \n",
    "a  = \"World   \"\n",
    "a.rstrip()"
   ]
  },
  {
   "cell_type": "code",
   "execution_count": 11,
   "id": "6f6ead79",
   "metadata": {},
   "outputs": [
    {
     "data": {
      "text/plain": [
       "'AI Model'"
      ]
     },
     "execution_count": 11,
     "metadata": {},
     "output_type": "execute_result"
    }
   ],
   "source": [
    "# 33. Remove both ends spaces from \"  AI Model  \" using strip().  \n",
    "\n",
    "a = \"  AI Model  \"\n",
    "a.strip()"
   ]
  },
  {
   "cell_type": "code",
   "execution_count": 12,
   "id": "a468ae69",
   "metadata": {},
   "outputs": [
    {
     "data": {
      "text/plain": [
       "'D@t@ An@lysis'"
      ]
     },
     "execution_count": 12,
     "metadata": {},
     "output_type": "execute_result"
    }
   ],
   "source": [
    "# 34. Replace \"a\" with \"@\" in \"Data Analysis\". \n",
    "a = \"Data Analysis\"\n",
    "a.replace('a', '@')"
   ]
  },
  {
   "cell_type": "code",
   "execution_count": 13,
   "id": "f1fa6a0c",
   "metadata": {},
   "outputs": [
    {
     "data": {
      "text/plain": [
       "'deep_learning'"
      ]
     },
     "execution_count": 13,
     "metadata": {},
     "output_type": "execute_result"
    }
   ],
   "source": [
    "# 35. Replace \" \" with \"_\" in \"deep learning\".  \n",
    "a = \"deep learning\"\n",
    "a.replace(\" \",\"_\")"
   ]
  },
  {
   "cell_type": "markdown",
   "id": "41ed3282",
   "metadata": {},
   "source": [
    "###  Part F: Join, Split (36)"
   ]
  },
  {
   "cell_type": "code",
   "execution_count": 7,
   "id": "78fff4f4",
   "metadata": {},
   "outputs": [
    {
     "data": {
      "text/plain": [
       "['', 'Java', 'C++']"
      ]
     },
     "execution_count": 7,
     "metadata": {},
     "output_type": "execute_result"
    }
   ],
   "source": [
    "# 36. Split \",Java,C++\" by \",\" using split(). \n",
    "a = \",Java,C++\"\n",
    "a.split(\",\")"
   ]
  },
  {
   "cell_type": "markdown",
   "id": "b394a252",
   "metadata": {},
   "source": [
    "### Part G: Alignment, Formatting (37)"
   ]
  },
  {
   "cell_type": "code",
   "execution_count": 15,
   "id": "ec82b188",
   "metadata": {},
   "outputs": [
    {
     "data": {
      "text/plain": [
       "'My name is Srihari'"
      ]
     },
     "execution_count": 15,
     "metadata": {},
     "output_type": "execute_result"
    }
   ],
   "source": [
    "### 37. Format \"My name is {}\" with \"Srihari\" using format()\n",
    "\n",
    "a = \"My name is {}\"\n",
    "a.format(\"Srihari\")"
   ]
  },
  {
   "cell_type": "code",
   "execution_count": 4,
   "id": "a68f92f9",
   "metadata": {},
   "outputs": [
    {
     "data": {
      "text/plain": [
       "'your_name'"
      ]
     },
     "execution_count": 4,
     "metadata": {},
     "output_type": "execute_result"
    }
   ],
   "source": [
    "# 15. Swap case of \"Your_Name\" using swapcase(). \n",
    "a = \"yoUr_Name\"\n",
    "a.casefold()"
   ]
  },
  {
   "cell_type": "code",
   "execution_count": 8,
   "id": "d3136592",
   "metadata": {},
   "outputs": [
    {
     "name": "stdout",
     "output_type": "stream",
     "text": [
      "my name is jay\n"
     ]
    }
   ],
   "source": [
    "a ='jay'\n",
    "print(f'my name is {a}')"
   ]
  },
  {
   "cell_type": "code",
   "execution_count": 10,
   "id": "f5438b49",
   "metadata": {},
   "outputs": [
    {
     "name": "stdout",
     "output_type": "stream",
     "text": [
      "My name is jay\n"
     ]
    }
   ],
   "source": [
    "print('My name is {}'.format('jay'))"
   ]
  },
  {
   "cell_type": "code",
   "execution_count": null,
   "id": "b74d00b6",
   "metadata": {},
   "outputs": [],
   "source": []
  }
 ],
 "metadata": {
  "kernelspec": {
   "display_name": "Python 3",
   "language": "python",
   "name": "python3"
  },
  "language_info": {
   "codemirror_mode": {
    "name": "ipython",
    "version": 3
   },
   "file_extension": ".py",
   "mimetype": "text/x-python",
   "name": "python",
   "nbconvert_exporter": "python",
   "pygments_lexer": "ipython3",
   "version": "3.11.9"
  }
 },
 "nbformat": 4,
 "nbformat_minor": 5
}
