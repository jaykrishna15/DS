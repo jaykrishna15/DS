{
 "cells": [
  {
   "cell_type": "markdown",
   "id": "9dbf23b7",
   "metadata": {},
   "source": [
    "### List-Based Questions"
   ]
  },
  {
   "cell_type": "code",
   "execution_count": 7,
   "id": "64f0af9c",
   "metadata": {},
   "outputs": [
    {
     "data": {
      "text/plain": [
       "['Vijayawada', 'Eluru', 'Vizag', 'Mumbai', 'Delhi']"
      ]
     },
     "execution_count": 7,
     "metadata": {},
     "output_type": "execute_result"
    }
   ],
   "source": [
    "# 1.You’re creating a list of cities. Add a new city called \"Delhi\" and display the final list.\n",
    "\n",
    "lst =['Vijayawada','Eluru','Vizag','Mumbai']\n",
    "lst.append('Delhi')\n",
    "lst\n",
    "\n",
    "\n"
   ]
  },
  {
   "cell_type": "code",
   "execution_count": 8,
   "id": "5c379313",
   "metadata": {},
   "outputs": [
    {
     "name": "stdout",
     "output_type": "stream",
     "text": [
      "[1, 2, 3, 4, 5, 6]\n"
     ]
    }
   ],
   "source": [
    "# Start with two lists: one has [1, 2, 3], and another has [4, 5, 6]. Combine them into one and print the result.\n",
    "\n",
    "lst1= [1,2,3]\n",
    "lst2=[4,5,6]\n",
    "print(lst1+lst2)"
   ]
  },
  {
   "cell_type": "code",
   "execution_count": 14,
   "id": "af45481f",
   "metadata": {},
   "outputs": [
    {
     "name": "stdout",
     "output_type": "stream",
     "text": [
      "[10, 99, 30]\n"
     ]
    }
   ],
   "source": [
    "# In the list [10, 20, 30], place the number 99 in the second position (index 1) and show the updated list.\n",
    "\n",
    "lst = [10, 20, 30]\n",
    "lst[1]=99\n",
    "print(lst)"
   ]
  },
  {
   "cell_type": "code",
   "execution_count": 17,
   "id": "4011b9da",
   "metadata": {},
   "outputs": [
    {
     "data": {
      "text/plain": [
       "['banana', 'cherry']"
      ]
     },
     "execution_count": 17,
     "metadata": {},
     "output_type": "execute_result"
    }
   ],
   "source": [
    "# A fruit basket list contains [\"apple\", \"banana\", \"cherry\"]. Take out only \"apple\" from it and print what remains.\n",
    "\n",
    "lst = [\"apple\", \"banana\", \"cherry\"]\n",
    "lst.pop(0)\n",
    "lst"
   ]
  },
  {
   "cell_type": "code",
   "execution_count": 19,
   "id": "efe8e530",
   "metadata": {},
   "outputs": [
    {
     "name": "stdout",
     "output_type": "stream",
     "text": [
      "400\n",
      "[100, 200, 300]\n"
     ]
    }
   ],
   "source": [
    "# You have [100, 200, 300, 400]. Remove the last item from this list, show the value that was removed, and display the new list.\n",
    "lst = [100, 200, 300, 400]\n",
    "print(lst.pop())\n",
    "print(lst)"
   ]
  },
  {
   "cell_type": "code",
   "execution_count": 21,
   "id": "ece6bf40",
   "metadata": {},
   "outputs": [
    {
     "name": "stdout",
     "output_type": "stream",
     "text": [
      "1\n"
     ]
    }
   ],
   "source": [
    "# From the list [\"dog\", \"cat\", \"parrot\", \"cat\"], find where the first \"cat\" appears (give its position/index).\n",
    "\n",
    "lst = [\"dog\", \"cat\", \"parrot\", \"cat\"]\n",
    "print(lst.index('cat'))\n"
   ]
  },
  {
   "cell_type": "code",
   "execution_count": 22,
   "id": "b66f085a",
   "metadata": {},
   "outputs": [
    {
     "data": {
      "text/plain": [
       "3"
      ]
     },
     "execution_count": 22,
     "metadata": {},
     "output_type": "execute_result"
    }
   ],
   "source": [
    "# How many times does the number 7 appear in this list: [7, 3, 7, 1, 7, 9]? Count and print it.\n",
    "\n",
    "lst = [7, 3, 7, 1, 7, 9]\n",
    "lst.count(7)"
   ]
  },
  {
   "cell_type": "code",
   "execution_count": 24,
   "id": "6ba45ec4",
   "metadata": {},
   "outputs": [
    {
     "data": {
      "text/plain": [
       "[1, 2, 5, 7, 9]"
      ]
     },
     "execution_count": 24,
     "metadata": {},
     "output_type": "execute_result"
    }
   ],
   "source": [
    "# Rearrange the numbers in this list [5, 2, 9, 1, 7] from smallest to largest and print them.\n",
    "\n",
    "\n",
    "lst = [5, 2, 9, 1, 7]\n",
    "lst.sort()\n",
    "lst"
   ]
  },
  {
   "cell_type": "code",
   "execution_count": 25,
   "id": "05f9d580",
   "metadata": {},
   "outputs": [
    {
     "data": {
      "text/plain": [
       "[5, 4, 3, 2, 1]"
      ]
     },
     "execution_count": 25,
     "metadata": {},
     "output_type": "execute_result"
    }
   ],
   "source": [
    "# You have a sequence [1, 2, 3, 4, 5]. Flip it so the order is reversed, and then show the result.\n",
    "\n",
    "lst= [1, 2, 3, 4, 5]\n",
    "lst.sort(reverse=True)\n",
    "lst\n"
   ]
  },
  {
   "cell_type": "code",
   "execution_count": 1,
   "id": "d2531b3c",
   "metadata": {},
   "outputs": [
    {
     "name": "stdout",
     "output_type": "stream",
     "text": [
      "original: ['red', 'green', 'blue', 'yellow']\n",
      "copy: ['red', 'green', 'blue']\n"
     ]
    }
   ],
   "source": [
    "# Duplicate the list [\"red\", \"green\", \"blue\"] into a new one. Then modify the original and prove the copy remains unaffected.\n",
    "colors = [\"red\", \"green\", \"blue\"]\n",
    "copy_colors = colors.copy()\n",
    "colors.append(\"yellow\")\n",
    "print(\"original:\",colors)\n",
    "print(\"copy:\",copy_colors)"
   ]
  },
  {
   "cell_type": "code",
   "execution_count": 27,
   "id": "23cb3e39",
   "metadata": {},
   "outputs": [
    {
     "data": {
      "text/plain": [
       "[]"
      ]
     },
     "execution_count": 27,
     "metadata": {},
     "output_type": "execute_result"
    }
   ],
   "source": [
    "# Remove all items from the list [10, 20, 30] so that it becomes an empty list, and print the result.\n",
    "\n",
    "lst =  [10, 20, 30]\n",
    "lst.clear()\n",
    "lst"
   ]
  },
  {
   "cell_type": "markdown",
   "id": "0908d29c",
   "metadata": {},
   "source": [
    "### Tuple-Based Questions"
   ]
  },
  {
   "cell_type": "code",
   "execution_count": 2,
   "id": "c125a597",
   "metadata": {},
   "outputs": [
    {
     "name": "stdout",
     "output_type": "stream",
     "text": [
      "3\n"
     ]
    }
   ],
   "source": [
    "#From the tuple colors = ('red', 'blue', 'green', 'red', 'yellow', 'red'), how many times does \"red\" appear?\n",
    "\n",
    "colors = ('red', 'blue', 'green', 'red', 'yellow', 'red')\n",
    "print(colors.count('red'))\n"
   ]
  },
  {
   "cell_type": "code",
   "execution_count": 3,
   "id": "c3611a0b",
   "metadata": {},
   "outputs": [
    {
     "data": {
      "text/plain": [
       "2"
      ]
     },
     "execution_count": 3,
     "metadata": {},
     "output_type": "execute_result"
    }
   ],
   "source": [
    "## 2.Where (at what index) does \"green\" appear in the tuple ('red', 'blue', 'green', 'yellow')?\n",
    "colors=('red', 'blue', 'green', 'yellow')\n",
    "colors.index('green')\n"
   ]
  },
  {
   "cell_type": "markdown",
   "id": "7adee863",
   "metadata": {},
   "source": [
    "### Set-Based Questions\n"
   ]
  },
  {
   "cell_type": "code",
   "execution_count": 4,
   "id": "ac126413",
   "metadata": {},
   "outputs": [
    {
     "data": {
      "text/plain": [
       "{'apple', 'banana', 'cherry'}"
      ]
     },
     "execution_count": 4,
     "metadata": {},
     "output_type": "execute_result"
    }
   ],
   "source": [
    "# 1.A set of fruits contains {'apple', 'banana'}. Add a new fruit \"cherry\" into it and display the result.\n",
    "fruits= {'apple', 'banana'}\n",
    "fruits.add('cherry')\n",
    "fruits"
   ]
  },
  {
   "cell_type": "code",
   "execution_count": 5,
   "id": "381b77b9",
   "metadata": {},
   "outputs": [
    {
     "data": {
      "text/plain": [
       "{'apple', 'grape', 'orange'}"
      ]
     },
     "execution_count": 5,
     "metadata": {},
     "output_type": "execute_result"
    }
   ],
   "source": [
    "# 2.You have two sets: {'apple'} and {'orange', 'grape'}. Add all items from the second set into the first and show the new set.\n",
    "fruits1={'apple'}\n",
    "fruits2={'orange', 'grape'}\n",
    "fruits1.union(fruits2)"
   ]
  },
  {
   "cell_type": "code",
   "execution_count": 6,
   "id": "20610d42",
   "metadata": {},
   "outputs": [
    {
     "data": {
      "text/plain": [
       "{'apple', 'cherry'}"
      ]
     },
     "execution_count": 6,
     "metadata": {},
     "output_type": "execute_result"
    }
   ],
   "source": [
    "# 3.From the set {'apple', 'banana', 'cherry'}, remove \"banana\" and show the result.\n",
    "fruits={'apple', 'banana', 'cherry'}\n",
    "fruits.remove('banana')\n",
    "fruits"
   ]
  },
  {
   "cell_type": "code",
   "execution_count": 7,
   "id": "9f094eaf",
   "metadata": {},
   "outputs": [
    {
     "data": {
      "text/plain": [
       "{'grape'}"
      ]
     },
     "execution_count": 7,
     "metadata": {},
     "output_type": "execute_result"
    }
   ],
   "source": [
    "# 4.Take out \"apple\" from the set {'apple', 'grape'} and print what’s left.\n",
    "fruits={'apple', 'grape'} \n",
    "fruits.remove('apple')\n",
    "fruits"
   ]
  },
  {
   "cell_type": "code",
   "execution_count": 9,
   "id": "a338e32d",
   "metadata": {},
   "outputs": [
    {
     "name": "stdout",
     "output_type": "stream",
     "text": [
      "blue\n",
      "Updated set: {'green', 'red'}\n"
     ]
    }
   ],
   "source": [
    "# 5.From the set {'red', 'green', 'blue'}, take out any one element, store it in a variable, and print both the removed item and the updated set.\n",
    "colors = {'red', 'green', 'blue'}\n",
    "print(colors.pop())\n",
    "\n",
    "print(\"Updated set:\", colors) "
   ]
  },
  {
   "cell_type": "code",
   "execution_count": 10,
   "id": "3a790a46",
   "metadata": {},
   "outputs": [
    {
     "data": {
      "text/plain": [
       "set()"
      ]
     },
     "execution_count": 10,
     "metadata": {},
     "output_type": "execute_result"
    }
   ],
   "source": [
    "# 6.You have a set {1, 2, 3, 4}. Clear all its elements and print the now-empty set.\n",
    "numbers={1, 2, 3, 4}\n",
    "numbers.clear()\n",
    "numbers"
   ]
  },
  {
   "cell_type": "code",
   "execution_count": 11,
   "id": "dec93d21",
   "metadata": {},
   "outputs": [
    {
     "name": "stdout",
     "output_type": "stream",
     "text": [
      "{1, 2, 3}\n",
      "{1, 2, 3}\n"
     ]
    }
   ],
   "source": [
    "# 7.Make a copy of the set {1, 2, 3}, store it in another variable, and print both to show they are identical but independent.\n",
    "set1={1, 2, 3}\n",
    "set2=set1.copy()\n",
    "print(set1)\n",
    "print(set2)"
   ]
  },
  {
   "cell_type": "code",
   "execution_count": 12,
   "id": "ff9743af",
   "metadata": {},
   "outputs": [
    {
     "name": "stdout",
     "output_type": "stream",
     "text": [
      "{1, 2}\n"
     ]
    }
   ],
   "source": [
    "# 8.Identify which elements are in {1, 2, 3, 4} but not in {3, 4, 5, 6}\n",
    "elements1={1, 2, 3, 4} \n",
    "elements2={3, 4, 5, 6}\n",
    "result=elements1-elements2\n",
    "print(result)"
   ]
  },
  {
   "cell_type": "code",
   "execution_count": 13,
   "id": "d2674f06",
   "metadata": {},
   "outputs": [
    {
     "data": {
      "text/plain": [
       "{'x', 'y', 'z'}"
      ]
     },
     "execution_count": 13,
     "metadata": {},
     "output_type": "execute_result"
    }
   ],
   "source": [
    "# 9.Combine all elements from two sets: {'x', 'y'} and {'y', 'z'} and print the combined version.\n",
    "set1= {'x', 'y'} \n",
    "set2={'y', 'z'} \n",
    "set1.union(set2)"
   ]
  },
  {
   "cell_type": "code",
   "execution_count": 14,
   "id": "3b23ed73",
   "metadata": {},
   "outputs": [
    {
     "data": {
      "text/plain": [
       "{20}"
      ]
     },
     "execution_count": 14,
     "metadata": {},
     "output_type": "execute_result"
    }
   ],
   "source": [
    "# 10.Print only those numbers that appear in both sets: {10, 20, 30} and {20, 40, 60}.\n",
    "set1={10, 20, 30}\n",
    "set2={20, 40, 60}\n",
    "set1.intersection(set2)"
   ]
  },
  {
   "cell_type": "code",
   "execution_count": 15,
   "id": "6190d0ed",
   "metadata": {},
   "outputs": [
    {
     "name": "stdout",
     "output_type": "stream",
     "text": [
      "True\n"
     ]
    }
   ],
   "source": [
    "# 11.Verify whether all elements of {1, 2} are also present in {1, 2, 3, 4}.\n",
    "elements1={1, 2}\n",
    "elements2={1,2,3,4}\n",
    "print(elements1.issubset(elements2))"
   ]
  },
  {
   "cell_type": "code",
   "execution_count": 16,
   "id": "42ccc05d",
   "metadata": {},
   "outputs": [
    {
     "name": "stdout",
     "output_type": "stream",
     "text": [
      "True\n"
     ]
    }
   ],
   "source": [
    "# 12.Check whether {1, 2, 3} contains all elements from {2, 3}.\n",
    "set1={1, 2, 3}\n",
    "set2={2, 3}\n",
    "print(set1.issuperset(set2))"
   ]
  },
  {
   "cell_type": "code",
   "execution_count": 17,
   "id": "1933079c",
   "metadata": {},
   "outputs": [
    {
     "data": {
      "text/plain": [
       "{1, 2, 4, 5}"
      ]
     },
     "execution_count": 17,
     "metadata": {},
     "output_type": "execute_result"
    }
   ],
   "source": [
    "# 13 Show which items are not shared between a = {1, 2, 3} and b = {3, 4, 5}.\n",
    "a={1, 2, 3}\n",
    "b={3, 4, 5}\n",
    "result = a.symmetric_difference(b)\n",
    "result"
   ]
  },
  {
   "cell_type": "code",
   "execution_count": 6,
   "id": "32300174",
   "metadata": {},
   "outputs": [],
   "source": [
    "def dice_battle(p1,p2):\n",
    "    if not (1<=p1<=6 and 1<=p2<=6):\n",
    "        return 'invaild'\n",
    "    if(p1>p2):\n",
    "        return 'Player 1 wins'\n",
    "    if(p1<p2):\n",
    "        return 'Player 2 wins'\n",
    "    if(p1==p2):\n",
    "        return 'Draw'"
   ]
  },
  {
   "cell_type": "code",
   "execution_count": 7,
   "id": "824ecac3",
   "metadata": {},
   "outputs": [
    {
     "data": {
      "text/plain": [
       "'invaild'"
      ]
     },
     "execution_count": 7,
     "metadata": {},
     "output_type": "execute_result"
    }
   ],
   "source": [
    "dice_battle(0,5)"
   ]
  },
  {
   "cell_type": "code",
   "execution_count": null,
   "id": "432997d1",
   "metadata": {},
   "outputs": [],
   "source": []
  }
 ],
 "metadata": {
  "kernelspec": {
   "display_name": "Python 3",
   "language": "python",
   "name": "python3"
  },
  "language_info": {
   "codemirror_mode": {
    "name": "ipython",
    "version": 3
   },
   "file_extension": ".py",
   "mimetype": "text/x-python",
   "name": "python",
   "nbconvert_exporter": "python",
   "pygments_lexer": "ipython3",
   "version": "3.11.9"
  }
 },
 "nbformat": 4,
 "nbformat_minor": 5
}
