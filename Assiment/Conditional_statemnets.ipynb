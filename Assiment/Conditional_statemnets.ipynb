{
 "cells": [
  {
   "cell_type": "markdown",
   "id": "4b89fe59",
   "metadata": {},
   "source": [
    "### 1.  Scenario: Email Format Validator  \n",
    "Create a program to check if the entered email is valid:\n",
    "Must contain @\n",
    "\n",
    "\n",
    "Must end with .com\n",
    "\n",
    "\n",
    "No starting blank spaces\n",
    "\n",
    "\n",
    " Test Cases:\n",
    " Input: john.doe@gmail.com ➞ Output: Valid Email\n",
    " Input: john@domain ➞ Output: Invalid Email\n",
    " Input: user@site.com ➞ Output: Invalid Email"
   ]
  },
  {
   "cell_type": "code",
   "execution_count": null,
   "id": "a2c4cd6d",
   "metadata": {},
   "outputs": [
    {
     "name": "stdout",
     "output_type": "stream",
     "text": [
      "Valid Email\n",
      "Invalid Email\n",
      "Invalid Email\n"
     ]
    }
   ],
   "source": [
    "def email_validator(email):\n",
    "    \n",
    "    if email != email.strip():\n",
    "        return \"Invalid Email\"\n",
    "    if email.count('@') != 1:\n",
    "        return \"Invalid Email\"\n",
    "    if not email.endswith(\"@gmail.com\"):\n",
    "        return \"Invalid Email\"\n",
    "    return \"Valid Email\"\n",
    "\n",
    "\n",
    "# Test Cases\n",
    "print(email_validator(\"john.doe@gmail.com\"))  \n",
    "print(email_validator(\"john@domain\"))         \n",
    "print(email_validator(\"user@site.com\"))       \n"
   ]
  },
  {
   "cell_type": "markdown",
   "id": "f4b926b5",
   "metadata": {},
   "source": [
    "### 2.  Scenario: Username Format Checker\n",
    "Create a program to validate username format:\n",
    "Must start with a lowercase letter\n",
    "\n",
    "\n",
    "Can contain letters and numbers\n",
    "\n",
    "\n",
    "No symbols or spaces\n",
    "\n",
    "\n",
    " Test Cases:\n",
    " Input: john123 ➞ Output: Username Accepted\n",
    " Input: @john ➞ Output: Invalid Username\n",
    " Input: JohnDoe ➞ Output: Invalid Username\n"
   ]
  },
  {
   "cell_type": "code",
   "execution_count": 3,
   "id": "35e88029",
   "metadata": {},
   "outputs": [
    {
     "name": "stdout",
     "output_type": "stream",
     "text": [
      "Username Accepted\n",
      "Invalid Username\n",
      "Invalid Username\n"
     ]
    }
   ],
   "source": [
    "def format_checker(username):\n",
    "    \n",
    "    if not username[0].islower():\n",
    "        return 'Invalid Username'\n",
    "\n",
    "    if not username.isalnum():\n",
    "        return 'Invalid Username'\n",
    "    \n",
    "    \n",
    "    if username != username.strip():\n",
    "        return 'Invalid Username'\n",
    "    else:\n",
    "        return 'Username Accepted'\n",
    "\n",
    "\n",
    "# Test\n",
    "print(format_checker('john123'))  \n",
    "print(format_checker('@john'))    \n",
    "print(format_checker('JohnDoe'))  \n"
   ]
  },
  {
   "cell_type": "markdown",
   "id": "7151ddee",
   "metadata": {},
   "source": [
    "###   Scenario: File Format Identifier\n",
    "Write a program to classify file type based on its extension:\n",
    ".pdf ➞ PDF File\n",
    "\n",
    "\n",
    ".docx ➞ Word File\n",
    "\n",
    "\n",
    ".xlsx ➞ Excel File\n",
    "\n",
    "\n",
    "Any other → Unknown Format\n",
    "\n",
    "\n",
    " Test Cases:\n",
    " Input: report.pdf ➞ Output: PDF File\n",
    " Input: resume.docx ➞ Output: Word File\n",
    " Input: data.xls ➞ Output: Unknown Format\n"
   ]
  },
  {
   "cell_type": "code",
   "execution_count": 4,
   "id": "19db6896",
   "metadata": {},
   "outputs": [
    {
     "name": "stdout",
     "output_type": "stream",
     "text": [
      "PDF File\n",
      "Word File\n",
      "Unknown Format\n"
     ]
    }
   ],
   "source": [
    "def file_format_identifier(file):\n",
    "    file = file.strip()   \n",
    "    if file.endswith('.pdf'):\n",
    "        return 'PDF File'\n",
    "    elif file.endswith('.docx'):\n",
    "        return 'Word File'\n",
    "    elif file.endswith('.xlsx'):\n",
    "        return 'Excel File'\n",
    "    else:\n",
    "        return 'Unknown Format'\n",
    "\n",
    "\n",
    "print(file_format_identifier('report.pdf '))\n",
    "print(file_format_identifier('resume.docx '))\n",
    "print(file_format_identifier('data.xls'))\n"
   ]
  },
  {
   "cell_type": "markdown",
   "id": "aed0a4cc",
   "metadata": {},
   "source": [
    "### 4.  Scenario: Blank Input Detector\n",
    "Create a program to detect if the input is blank or whitespace:\n",
    "Only whitespace → Blank Input\n",
    "\n",
    "\n",
    "Else → Input Received\n",
    "\n",
    "\n",
    " Test Cases:\n",
    " Input: \" \" ➞ Output: Blank Input\n",
    " Input: \" hello\" ➞ Output: Input Received\n",
    " Input: \"\\t\\n\" ➞ Output: Input Received\n"
   ]
  },
  {
   "cell_type": "code",
   "execution_count": 4,
   "id": "dc5b6dd4",
   "metadata": {},
   "outputs": [
    {
     "name": "stdout",
     "output_type": "stream",
     "text": [
      "Blank Input\n",
      "Input Received\n",
      "Input Received\n"
     ]
    }
   ],
   "source": [
    "def blank_input_detector(a):\n",
    "    if a==' ':\n",
    "        return 'Blank Input'\n",
    "    else:\n",
    "        return 'Input Received'\n",
    "\n",
    "print(blank_input_detector(' '))\n",
    "print(blank_input_detector(' hello'))\n",
    "print(blank_input_detector('\\t\\n'))\n"
   ]
  },
  {
   "cell_type": "markdown",
   "id": "a140cdff",
   "metadata": {},
   "source": [
    "###  Scenario: Proper Noun Validator\n",
    "Create a program to check if a word is a properly formatted proper noun:\n",
    "Starts with capital letter\n",
    "\n",
    "\n",
    "Remaining letters are lowercase\n",
    "\n",
    "\n",
    " Test Cases:\n",
    " Input: India ➞ Output: Proper Noun\n",
    " Input: india ➞ Output: Incorrect Capitalization\n",
    " Input: INdia ➞ Output: Incorrect Capitalization\n"
   ]
  },
  {
   "cell_type": "code",
   "execution_count": 5,
   "id": "9f42d43c",
   "metadata": {},
   "outputs": [
    {
     "name": "stdout",
     "output_type": "stream",
     "text": [
      "Proper Noun\n",
      "Incorrect Capitalization\n",
      "Incorrect Capitalization\n"
     ]
    }
   ],
   "source": [
    "def proper_noun(noun):\n",
    "   if noun[0].isupper() and noun[1:].islower():\n",
    "      return 'Proper Noun'\n",
    "   else:\n",
    "      return 'Incorrect Capitalization'\n",
    "\n",
    "\n",
    "print(proper_noun('India'))\n",
    "print(proper_noun('india'))\n",
    "print(proper_noun('INdia'))"
   ]
  },
  {
   "cell_type": "markdown",
   "id": "f846e9e1",
   "metadata": {},
   "source": [
    "### 6.  Scenario: Mobile Number Validator\n",
    "Write a program to validate a mobile number:\n",
    "Exactly 10 digits\n",
    "\n",
    "\n",
    "Only numeric characters allowed\n",
    "\n",
    "\n",
    " Test Cases:\n",
    " Input: 9876543210 ➞ Output: Valid Number\n",
    " Input: 123456789 ➞ Output: Invalid Number\n",
    " Input: 12345abcde ➞ Output: Invalid Number\n"
   ]
  },
  {
   "cell_type": "code",
   "execution_count": 2,
   "id": "df985c6b",
   "metadata": {},
   "outputs": [
    {
     "name": "stdout",
     "output_type": "stream",
     "text": [
      "Valid Number\n",
      "Invalid Number\n",
      "Invalid Number\n"
     ]
    }
   ],
   "source": [
    "def valid_phone_number(num):\n",
    "    num_str = str(num)\n",
    "    if len(num_str) == 10 and num_str.isdigit():\n",
    "        return 'Valid Number'\n",
    "    else:\n",
    "        return 'Invalid Number'\n",
    "\n",
    "# Test Cases\n",
    "print(valid_phone_number(9876543210))    \n",
    "print(valid_phone_number(123456789))      \n",
    "print(valid_phone_number('12345abcde'))  "
   ]
  },
  {
   "cell_type": "markdown",
   "id": "e3d71921",
   "metadata": {},
   "source": [
    "### Create a program to check name formatting:\n",
    "Each word must start with a capital letter\n",
    "\n",
    "\n",
    "No all-caps or all-lowercase allowed\n",
    "\n",
    "\n",
    " Test Cases:\n",
    " Input: John Doe ➞ Output: Formatted Name\n",
    " Input: john doe ➞ Output: Name not formatted properly\n",
    " Input: JOHN Doe ➞ Output: Name not formatted properly"
   ]
  },
  {
   "cell_type": "code",
   "execution_count": 15,
   "id": "b965b915",
   "metadata": {},
   "outputs": [
    {
     "name": "stdout",
     "output_type": "stream",
     "text": [
      "Formatted Name\n",
      "Name not formatted properly\n",
      "Name not formatted properly\n"
     ]
    }
   ],
   "source": [
    "def proper_name(name):\n",
    "    word = name.split()\n",
    "    for i in word:\n",
    "        if not (i[0].isupper() and i[1:].islower()):\n",
    "            return \"Name not formatted properly\"\n",
    "        else:\n",
    "            return \"Formatted Name\"\n",
    "print(proper_name(\"John Doe\"))   \n",
    "print(proper_name(\"john doe\"))    \n",
    "print(proper_name(\"JOHN Doe\")) "
   ]
  },
  {
   "cell_type": "markdown",
   "id": "affbabee",
   "metadata": {},
   "source": [
    "###  Scenario: Password Strength Checker\n",
    "Create a password checker with these rules:\n",
    "Minimum 8 characters\n",
    "\n",
    "\n",
    "Must contain both letters and numbers\n",
    "\n",
    "\n",
    " Test Cases:\n",
    " Input: hello123 ➞ Output: Strong Password\n",
    " Input: 12345678 ➞ Output: Weak Password\n",
    " Input: helloworld ➞ Output: Weak Password\n"
   ]
  },
  {
   "cell_type": "code",
   "execution_count": 9,
   "id": "8c6bcce3",
   "metadata": {},
   "outputs": [
    {
     "name": "stdout",
     "output_type": "stream",
     "text": [
      "Strong Password\n",
      "Weak Password\n",
      "Weak Password\n"
     ]
    }
   ],
   "source": [
    "def is_strong_password(password):\n",
    "    \"\"\"this function checks if the password is strong or not\"\"\"\n",
    "    if(len(password)<8):\n",
    "        return 'Weak Password'\n",
    "    if not any(char.isdigit() for char in password):\n",
    "        return 'Weak Password'\n",
    "    if not any(char.islower()for char in password):\n",
    "        return 'Weak Password'\n",
    "    \n",
    "    \n",
    "    return 'Strong Password'\n",
    "print(is_strong_password('hello123'))\n",
    "print(is_strong_password('12345678' ))\n",
    "print(is_strong_password('helloworld'))"
   ]
  },
  {
   "cell_type": "markdown",
   "id": "c0af85f1",
   "metadata": {},
   "source": [
    "###  Scenario: Sentence Format Checker\n",
    "Check if the sentence structure is proper:\n",
    "Starts with a capital letter\n",
    "\n",
    "\n",
    "Ends with a period .\n",
    "\n",
    "\n",
    " Test Cases:\n",
    " Input: This is a sentence. ➞ Output: Well-structured\n",
    " Input: this is wrong ➞ Output: Needs correction\n",
    " Input: Hello world ➞ Output: Needs correction\n"
   ]
  },
  {
   "cell_type": "code",
   "execution_count": 24,
   "id": "a5c30a0b",
   "metadata": {},
   "outputs": [
    {
     "name": "stdout",
     "output_type": "stream",
     "text": [
      "Well-structured\n",
      "Needs correction\n",
      "Needs correction\n"
     ]
    }
   ],
   "source": [
    "def foramt_checker(sent):\n",
    "   \n",
    "        if not (sent[0].isupper()):\n",
    "            return 'Needs correction'\n",
    "        if not sent[-1]=='.':\n",
    "            return 'Needs correction'\n",
    "        else:\n",
    "            return 'Well-structured'\n",
    "print(foramt_checker('This is a sentence.'))\n",
    "print(foramt_checker('this is wrong'))\n",
    "print(foramt_checker('Hello world '))\n",
    "\n"
   ]
  },
  {
   "cell_type": "markdown",
   "id": "ec722f2b",
   "metadata": {},
   "source": [
    "### 10.  Scenario: Character Category Checker\n",
    "Write a program to categorize a single character:\n",
    "Alphabet\n",
    "\n",
    "\n",
    "Digit\n",
    "\n",
    "\n",
    "Space\n",
    "\n",
    "\n",
    "Special Character\n",
    "\n",
    "\n",
    " Test Cases:\n",
    " Input: a ➞ Output: Alphabet\n",
    " Input: 9 ➞ Output: Digit\n",
    " Input: \" \" ➞ Output: Space\n",
    " Input: # ➞ Output: Special Character\n"
   ]
  },
  {
   "cell_type": "code",
   "execution_count": 28,
   "id": "a539f88a",
   "metadata": {},
   "outputs": [
    {
     "name": "stdout",
     "output_type": "stream",
     "text": [
      "Alphabet\n",
      "Digit\n",
      "Space\n",
      "Special Character\n"
     ]
    }
   ],
   "source": [
    "def category_checker(ch):\n",
    "    if ch.isalpha():\n",
    "        return 'Alphabet'\n",
    "    if ch.isdigit():\n",
    "        return 'Digit'\n",
    "    if ch==' ':\n",
    "        return 'Space'\n",
    "    else:\n",
    "        return 'Special Character'\n",
    "print(category_checker('a'))\n",
    "print(category_checker('9'))\n",
    "print(category_checker(' '))\n",
    "print(category_checker('#'))"
   ]
  },
  {
   "cell_type": "markdown",
   "id": "f2efc526",
   "metadata": {},
   "source": [
    "### 11.  Scenario: Country Code Identifier\n",
    "Identify the country based on phone number prefix:\n",
    "+91 ➞ India\n",
    "\n",
    "\n",
    "+44 ➞ UK\n",
    "\n",
    "\n",
    "Others ➞ Other\n",
    "\n",
    "\n",
    " Test Cases:\n",
    " Input: +919876543210 ➞ Output: India\n",
    " Input: +441234567890 ➞ Output: UK\n",
    " Input: +33123456789 ➞ Output: Other\n"
   ]
  },
  {
   "cell_type": "code",
   "execution_count": 31,
   "id": "03b5c49f",
   "metadata": {},
   "outputs": [
    {
     "name": "stdout",
     "output_type": "stream",
     "text": [
      "India\n",
      "UK\n",
      "Other\n"
     ]
    }
   ],
   "source": [
    "def country_code(num):\n",
    "    if num.startswith('+91'):\n",
    "        return 'India'\n",
    "    if num.startswith('+44'):\n",
    "        return 'UK'\n",
    "    else:\n",
    "        return 'Other'\n",
    "\n",
    "\n",
    "print(country_code('+919876543210'))\n",
    "print(country_code('+441234567890'))\n",
    "print(country_code('+33123456789'))"
   ]
  },
  {
   "cell_type": "markdown",
   "id": "abacffee",
   "metadata": {},
   "source": [
    "### 12.  Scenario: Priority Message Classifier\n",
    "Classify messages by urgency based on keywords:\n",
    "Contains urgent, immediately ➞ High Priority\n",
    "\n",
    "\n",
    "Contains report, update ➞ Informational\n",
    "\n",
    "\n",
    "Else ➞ Normal\n",
    "\n",
    "\n",
    " Test Cases:\n",
    " Input: This is urgent, please act now ➞ Output: High Priority\n",
    " Input: Here is the report you requested ➞ Output: Informational\n",
    " Input: Just checking in ➞ Output: Normal\n"
   ]
  },
  {
   "cell_type": "code",
   "execution_count": 36,
   "id": "a0c9bded",
   "metadata": {},
   "outputs": [
    {
     "name": "stdout",
     "output_type": "stream",
     "text": [
      "High Priority\n",
      "Informational\n",
      "Normal\n"
     ]
    }
   ],
   "source": [
    "def Priority_Message_Classifier(sent):\n",
    "    sent=sent.lower()\n",
    "    if 'urgent' in sent or 'immediately' in sent:\n",
    "        return 'High Priority'\n",
    "    if 'report' in sent or 'update' in sent:\n",
    "        return 'Informational'\n",
    "    else:\n",
    "        return 'Normal'\n",
    "    \n",
    "print(Priority_Message_Classifier('This is urgent, please act now'))\n",
    "print(Priority_Message_Classifier('Here is the report you requested'))\n",
    "print(Priority_Message_Classifier('Just checking in'))"
   ]
  },
  {
   "cell_type": "markdown",
   "id": "23d45916",
   "metadata": {},
   "source": [
    "### 13.  Scenario: Coupon Code Validator\n",
    "Validate a coupon code using the following rules:\n",
    "Must start with \"SAVE\"\n",
    "\n",
    "\n",
    "Only alphanumeric characters allowed\n",
    "\n",
    "\n",
    " Test Cases:\n",
    " Input: SAVE20A1 ➞ Output: Coupon Applied\n",
    " Input: DISCOUNT ➞ Output: Invalid Coupon\n",
    " Input: SAVE20!! ➞ Output: Invalid Coupon\n"
   ]
  },
  {
   "cell_type": "code",
   "execution_count": 38,
   "id": "ab2774ba",
   "metadata": {},
   "outputs": [
    {
     "name": "stdout",
     "output_type": "stream",
     "text": [
      "Coupon Applied\n",
      "Invalid Coupon\n",
      "Invalid Coupon\n"
     ]
    }
   ],
   "source": [
    "def coupon_code(code):\n",
    "    if code.startswith('SAVE') and code.isalnum():\n",
    "        return 'Coupon Applied'\n",
    "    else:\n",
    "        return 'Invalid Coupon'\n",
    "\n",
    "print(coupon_code('SAVE20A1'))\n",
    "print(coupon_code('DISCOUNT'))\n",
    "print(coupon_code('SAVE20!!'))"
   ]
  },
  {
   "cell_type": "markdown",
   "id": "0f26180e",
   "metadata": {},
   "source": [
    "### 14.  Scenario: Word Length Categorizer\n",
    "Categorize a word based on its character count:\n",
    "Length ≤ 3 → Short\n",
    "\n",
    "\n",
    "Length 4–6 → Medium\n",
    "\n",
    "\n",
    "Length > 6 → Long\n",
    "\n",
    "\n",
    " Test Cases:\n",
    " Input: Cat ➞ Output: Short\n",
    " Input: Book ➞ Output: Medium\n",
    " Input: Elephant ➞ Output: Long\n"
   ]
  },
  {
   "cell_type": "code",
   "execution_count": 14,
   "id": "c200c2c7",
   "metadata": {},
   "outputs": [
    {
     "name": "stdout",
     "output_type": "stream",
     "text": [
      "Short\n",
      "Medium\n",
      "Long\n"
     ]
    }
   ],
   "source": [
    "def word_length(word):\n",
    "    if len(word)<=3:\n",
    "        return 'Short'\n",
    "    if 4<=len(word)<=6:\n",
    "        return \"Medium\"\n",
    "    if len(word)>6:\n",
    "        return 'Long'\n",
    "print(word_length('Cat'))\n",
    "print(word_length('Book'))\n",
    "print(word_length('Elephant'))"
   ]
  },
  {
   "cell_type": "markdown",
   "id": "c47e291a",
   "metadata": {},
   "source": [
    "### 15.  Scenario: Vowel Word Checker\n",
    "Create a program to check if a word starts with a vowel:\n",
    "Vowels: a, e, i, o, u (case-insensitive)\n",
    "\n",
    "\n",
    "If it starts with a vowel ➞ Vowel Word\n",
    "\n",
    "\n",
    "Else ➞ Consonant Word\n",
    "\n",
    "\n",
    " Test Cases:\n",
    " Input: apple ➞ Output: Vowel Word\n",
    " Input: Orange ➞ Output: Vowel Word\n",
    " Input: banana ➞ Output: Consonant Word\n"
   ]
  },
  {
   "cell_type": "code",
   "execution_count": 46,
   "id": "85663569",
   "metadata": {},
   "outputs": [
    {
     "name": "stdout",
     "output_type": "stream",
     "text": [
      "Vowel Word\n",
      "Vowel Word\n",
      "Consonant Word\n"
     ]
    }
   ],
   "source": [
    "def vowel_word(word):\n",
    "    \n",
    "    \n",
    "        word= word.lower()\n",
    "        if word.startswith('a') or word.startswith('e') or word.startswith('i') or word.startswith('o') or word.startswith('u'):\n",
    "            return 'Vowel Word' \n",
    "        else:\n",
    "            return 'Consonant Word'\n",
    "print(vowel_word('apple'))\n",
    "print(vowel_word('Orage'))\n",
    "print(vowel_word('banana'))"
   ]
  },
  {
   "cell_type": "code",
   "execution_count": null,
   "id": "704e21d6",
   "metadata": {},
   "outputs": [],
   "source": []
  }
 ],
 "metadata": {
  "kernelspec": {
   "display_name": "Python 3",
   "language": "python",
   "name": "python3"
  },
  "language_info": {
   "codemirror_mode": {
    "name": "ipython",
    "version": 3
   },
   "file_extension": ".py",
   "mimetype": "text/x-python",
   "name": "python",
   "nbconvert_exporter": "python",
   "pygments_lexer": "ipython3",
   "version": "3.11.9"
  }
 },
 "nbformat": 4,
 "nbformat_minor": 5
}
