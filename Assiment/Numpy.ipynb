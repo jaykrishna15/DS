{
 "cells": [
  {
   "cell_type": "markdown",
   "id": "b88e369c",
   "metadata": {},
   "source": [
    "## NumPy Basics"
   ]
  },
  {
   "cell_type": "code",
   "execution_count": null,
   "id": "83364d48",
   "metadata": {},
   "outputs": [
    {
     "data": {
      "text/plain": [
       "'jay'"
      ]
     },
     "execution_count": 1,
     "metadata": {},
     "output_type": "execute_result"
    }
   ],
   "source": []
  },
  {
   "cell_type": "markdown",
   "id": "a74a20bc",
   "metadata": {},
   "source": [
    "2 What is NumPy and why is it used in Python?"
   ]
  },
  {
   "cell_type": "code",
   "execution_count": 2,
   "id": "23259c9f",
   "metadata": {},
   "outputs": [
    {
     "name": "stderr",
     "output_type": "stream",
     "text": [
      "\n",
      "[notice] A new release of pip is available: 24.0 -> 25.2\n",
      "[notice] To update, run: C:\\Users\\lenovo\\AppData\\Local\\Microsoft\\WindowsApps\\PythonSoftwareFoundation.Python.3.11_qbz5n2kfra8p0\\python.exe -m pip install --upgrade pip\n"
     ]
    },
    {
     "name": "stdout",
     "output_type": "stream",
     "text": [
      "Requirement already satisfied: numpy in c:\\users\\lenovo\\appdata\\local\\packages\\pythonsoftwarefoundation.python.3.11_qbz5n2kfra8p0\\localcache\\local-packages\\python311\\site-packages (2.1.3)\n"
     ]
    }
   ],
   "source": [
    "# they are 3 ways to install the numpy in the system\n",
    "# 1 ways\n",
    "!pip install numpy\n",
    "# 2 ways is take the new file in the folder name it has the requirements.txt (as any thing) and write numpy in the in the installing the requirements.txt in the terminal\n",
    "# 3 in the termial write the pip install numpy "
   ]
  },
  {
   "cell_type": "markdown",
   "id": "2cf51b02",
   "metadata": {},
   "source": [
    "3 Write a code to create a 1D NumPy array from a list.\n"
   ]
  },
  {
   "cell_type": "code",
   "execution_count": 4,
   "id": "5e97a7a8",
   "metadata": {},
   "outputs": [
    {
     "data": {
      "text/plain": [
       "array([1, 2, 3, 4])"
      ]
     },
     "execution_count": 4,
     "metadata": {},
     "output_type": "execute_result"
    }
   ],
   "source": [
    "import numpy as np\n",
    "arr = np.array([1,2,3,4])\n",
    "arr"
   ]
  },
  {
   "cell_type": "markdown",
   "id": "c8a548fe",
   "metadata": {},
   "source": [
    "4 How to find the data type of elements in a NumPy array?"
   ]
  },
  {
   "cell_type": "code",
   "execution_count": 5,
   "id": "bf6024a2",
   "metadata": {},
   "outputs": [
    {
     "name": "stdout",
     "output_type": "stream",
     "text": [
      "<class 'numpy.int64'>\n"
     ]
    }
   ],
   "source": [
    "print(type(arr[0]))"
   ]
  },
  {
   "cell_type": "markdown",
   "id": "f27ac21d",
   "metadata": {},
   "source": [
    "5 Write a code to create a 2D array using NumPy."
   ]
  },
  {
   "cell_type": "code",
   "execution_count": 8,
   "id": "153fb850",
   "metadata": {},
   "outputs": [
    {
     "name": "stdout",
     "output_type": "stream",
     "text": [
      "[[1 2 3 4 5]]\n",
      "2\n"
     ]
    }
   ],
   "source": [
    "arr1 = np.array([[1,2,3,4,5]])\n",
    "print(arr1)\n",
    "print(arr1.ndim)"
   ]
  },
  {
   "cell_type": "markdown",
   "id": "63b569ea",
   "metadata": {},
   "source": [
    "### Reshape"
   ]
  },
  {
   "cell_type": "markdown",
   "id": "4a989961",
   "metadata": {},
   "source": [
    "6 Write code to reshape a 1D array of 12 elements into a 3x4 array."
   ]
  },
  {
   "cell_type": "code",
   "execution_count": 28,
   "id": "ba7e248e",
   "metadata": {},
   "outputs": [
    {
     "name": "stdout",
     "output_type": "stream",
     "text": [
      "[ 0  1  2  3  4  5  6  7  8  9 10 11]\n",
      " \n"
     ]
    }
   ],
   "source": [
    "arr3 = np.arange(12)\n",
    "print(arr3) # 1D array\n",
    "print(' ')\n",
    "\n",
    "\n"
   ]
  },
  {
   "cell_type": "code",
   "execution_count": 31,
   "id": "0c03636e",
   "metadata": {},
   "outputs": [
    {
     "data": {
      "text/plain": [
       "array([[[ 0,  1,  2],\n",
       "        [ 3,  4,  5]],\n",
       "\n",
       "       [[ 6,  7,  8],\n",
       "        [ 9, 10, 11]]])"
      ]
     },
     "execution_count": 31,
     "metadata": {},
     "output_type": "execute_result"
    }
   ],
   "source": [
    "arr3.reshape(2,2,3)"
   ]
  },
  {
   "cell_type": "markdown",
   "id": "2e7f9caa",
   "metadata": {},
   "source": [
    "7 What will happen if you try to reshape an array with incompatible dimensions?"
   ]
  },
  {
   "cell_type": "markdown",
   "id": "08838f82",
   "metadata": {},
   "source": [
    "8 Convert a 2x6 array into a 3x4 array using reshape."
   ]
  },
  {
   "cell_type": "code",
   "execution_count": 23,
   "id": "4435e937",
   "metadata": {},
   "outputs": [
    {
     "data": {
      "text/plain": [
       "array([[ 0,  1,  2,  3,  4,  5],\n",
       "       [ 6,  7,  8,  9, 10, 11]])"
      ]
     },
     "execution_count": 23,
     "metadata": {},
     "output_type": "execute_result"
    }
   ],
   "source": [
    "arr3 = np.arange(12)\n",
    "arr3.reshape(2,6)\n"
   ]
  },
  {
   "cell_type": "code",
   "execution_count": 21,
   "id": "b14d994b",
   "metadata": {},
   "outputs": [
    {
     "data": {
      "text/plain": [
       "array([[ 0,  1,  2,  3],\n",
       "       [ 4,  5,  6,  7],\n",
       "       [ 8,  9, 10, 11]])"
      ]
     },
     "execution_count": 21,
     "metadata": {},
     "output_type": "execute_result"
    }
   ],
   "source": [
    "arr3.reshape(3,4)\n",
    "arr3"
   ]
  },
  {
   "cell_type": "markdown",
   "id": "f383b251",
   "metadata": {},
   "source": [
    "9 How to reshape a 3x3 array into a 1D array?"
   ]
  },
  {
   "cell_type": "code",
   "execution_count": 20,
   "id": "9ea52f60",
   "metadata": {},
   "outputs": [
    {
     "data": {
      "text/plain": [
       "array([1, 2, 3, 4, 5])"
      ]
     },
     "execution_count": 20,
     "metadata": {},
     "output_type": "execute_result"
    }
   ],
   "source": [
    "arr4= np.array([[[1,2,3,4,5]]])\n",
    "arr4.flatten()\n",
    "\n",
    "\n"
   ]
  },
  {
   "cell_type": "markdown",
   "id": "80928307",
   "metadata": {},
   "source": [
    "10 What is the use of -1 in reshape function?"
   ]
  },
  {
   "cell_type": "markdown",
   "id": "2b03ebc9",
   "metadata": {},
   "source": [
    "Ans:-\n",
    " it will turn it into orginal shape"
   ]
  },
  {
   "cell_type": "markdown",
   "id": "db9056ad",
   "metadata": {},
   "source": [
    "### Resize\n"
   ]
  },
  {
   "cell_type": "markdown",
   "id": "b6ad0614",
   "metadata": {},
   "source": [
    "11 Differentiate between reshape and resize in NumPy."
   ]
  },
  {
   "cell_type": "markdown",
   "id": "5a71ee15",
   "metadata": {},
   "source": []
  },
  {
   "cell_type": "markdown",
   "id": "38425ac0",
   "metadata": {},
   "source": [
    "12 Write code to resize a 2x3 array to 3x2."
   ]
  },
  {
   "cell_type": "code",
   "execution_count": 39,
   "id": "75edece9",
   "metadata": {},
   "outputs": [
    {
     "data": {
      "text/plain": [
       "array([[0, 1, 2],\n",
       "       [3, 4, 5]])"
      ]
     },
     "execution_count": 39,
     "metadata": {},
     "output_type": "execute_result"
    }
   ],
   "source": [
    "a=np.arange(6)\n",
    "a.resize(2,3)\n",
    "a\n"
   ]
  },
  {
   "cell_type": "code",
   "execution_count": 41,
   "id": "b3054d3c",
   "metadata": {},
   "outputs": [
    {
     "data": {
      "text/plain": [
       "array([[0, 1],\n",
       "       [2, 3],\n",
       "       [4, 5]])"
      ]
     },
     "execution_count": 41,
     "metadata": {},
     "output_type": "execute_result"
    }
   ],
   "source": [
    "a=np.arange(6)\n",
    "a.resize(3,2)\n",
    "a"
   ]
  },
  {
   "cell_type": "code",
   "execution_count": null,
   "id": "8659e159",
   "metadata": {},
   "outputs": [],
   "source": []
  }
 ],
 "metadata": {
  "kernelspec": {
   "display_name": "Python 3",
   "language": "python",
   "name": "python3"
  },
  "language_info": {
   "codemirror_mode": {
    "name": "ipython",
    "version": 3
   },
   "file_extension": ".py",
   "mimetype": "text/x-python",
   "name": "python",
   "nbconvert_exporter": "python",
   "pygments_lexer": "ipython3",
   "version": "3.11.9"
  }
 },
 "nbformat": 4,
 "nbformat_minor": 5
}
