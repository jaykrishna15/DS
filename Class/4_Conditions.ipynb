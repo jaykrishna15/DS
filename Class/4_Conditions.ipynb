{
 "cells": [
  {
   "cell_type": "markdown",
   "id": "6bc52afd",
   "metadata": {},
   "source": []
  },
  {
   "cell_type": "code",
   "execution_count": 1,
   "id": "93bd6cba",
   "metadata": {},
   "outputs": [
    {
     "name": "stdout",
     "output_type": "stream",
     "text": [
      "Out side of the id statement\n"
     ]
    }
   ],
   "source": [
    "a , b =1,3\n",
    "if(a==b):\n",
    "    print(True)\n",
    "    print(\"this is a if statemnet\")\n",
    "    print(a+b)\n",
    "print(\"Out side of the id statement\")\n"
   ]
  },
  {
   "cell_type": "code",
   "execution_count": 2,
   "id": "959806c0",
   "metadata": {},
   "outputs": [
    {
     "name": "stdout",
     "output_type": "stream",
     "text": [
      "True\n",
      "this is a if statemnet\n",
      "2\n",
      "Out side of the id statement\n"
     ]
    }
   ],
   "source": [
    "a , b =1,1\n",
    "if(a==b):\n",
    "    print(True)\n",
    "    print(\"this is a if statemnet\")\n",
    "    print(a+b)\n",
    "print(\"Out side of the id statement\")\n"
   ]
  },
  {
   "cell_type": "markdown",
   "id": "fec12f3e",
   "metadata": {},
   "source": [
    "##### spaceing should be consistent"
   ]
  },
  {
   "cell_type": "code",
   "execution_count": 5,
   "id": "4ff12e4a",
   "metadata": {},
   "outputs": [
    {
     "name": "stdout",
     "output_type": "stream",
     "text": [
      "This is an else statement\n",
      "Out side of the conditional statements\n"
     ]
    }
   ],
   "source": [
    "a ,b =1,2\n",
    "if(a==b):\n",
    "    print(\"this is a if statement\")\n",
    "else:\n",
    "    print(\"This is an else statement\")\n",
    "\n",
    "print(\"Out side of the conditional statements\")"
   ]
  },
  {
   "cell_type": "code",
   "execution_count": 9,
   "id": "18a63ce6",
   "metadata": {},
   "outputs": [
    {
     "name": "stdout",
     "output_type": "stream",
     "text": [
      "['pen', 'paper']\n",
      "Not matched\n"
     ]
    }
   ],
   "source": [
    "my_word=\"projector\"\n",
    "guess_words=eval(input(\"give the words\").lower())\n",
    "print(guess_words)\n",
    "if my_word in guess_words:\n",
    "    print(\"matched\")\n",
    "else:\n",
    "    print(\"Not matched\")\n"
   ]
  },
  {
   "cell_type": "code",
   "execution_count": 10,
   "id": "c2089b09",
   "metadata": {},
   "outputs": [
    {
     "name": "stdout",
     "output_type": "stream",
     "text": [
      "['projector', 'pen', 'paper']\n",
      "matched\n"
     ]
    }
   ],
   "source": [
    "my_word=\"projector\"\n",
    "guess_words=eval(input(\"give the words\").lower())\n",
    "print(guess_words)\n",
    "if my_word in guess_words:\n",
    "    print(\"matched\")\n",
    "else:\n",
    "    print(\"Not matched\")"
   ]
  },
  {
   "cell_type": "code",
   "execution_count": 12,
   "id": "9314a517",
   "metadata": {},
   "outputs": [
    {
     "name": "stdout",
     "output_type": "stream",
     "text": [
      "80\n",
      "Pass\n"
     ]
    }
   ],
   "source": [
    "student_marks= int(input(\"Enter the marks:\"))\n",
    "print(student_marks)\n",
    "if (student_marks>=35):\n",
    "    print(\"Pass\")\n",
    "else:\n",
    "    print(\"fail\")"
   ]
  },
  {
   "cell_type": "code",
   "execution_count": 14,
   "id": "7b9cdb75",
   "metadata": {},
   "outputs": [
    {
     "name": "stdout",
     "output_type": "stream",
     "text": [
      "80\n",
      "Pass\n"
     ]
    }
   ],
   "source": [
    "student_marks= eval(input(\"Enter the marks:\"))\n",
    "print(student_marks)\n",
    "if (student_marks>=35):\n",
    "    print(\"Pass\")\n",
    "else:\n",
    "    print(\"fail\")"
   ]
  },
  {
   "cell_type": "code",
   "execution_count": 15,
   "id": "03edd7eb",
   "metadata": {},
   "outputs": [
    {
     "name": "stdout",
     "output_type": "stream",
     "text": [
      "outer if\n",
      "Inner if\n",
      "ENd of the program\n"
     ]
    }
   ],
   "source": [
    "#Nested If\n",
    "\n",
    "b = 30\n",
    "if (b >5):\n",
    "    print(\"outer if\")\n",
    "    if (b >10):\n",
    "        print(\"Inner if\")\n",
    "    else:\n",
    "        print(\"inner else\")\n",
    "else:\n",
    "    print(\"outer else\")\n",
    "\n",
    "\n",
    "print(\"ENd of the program\")"
   ]
  },
  {
   "cell_type": "code",
   "execution_count": 16,
   "id": "1e1e7136",
   "metadata": {},
   "outputs": [
    {
     "name": "stdout",
     "output_type": "stream",
     "text": [
      "outer else\n",
      "ENd of the program\n"
     ]
    }
   ],
   "source": [
    "b = 3\n",
    "if (b >5):\n",
    "    print(\"outer if\")\n",
    "    if (b >10):\n",
    "        print(\"Inner if\")\n",
    "    else:\n",
    "        print(\"inner else\")\n",
    "else:\n",
    "    print(\"outer else\")\n",
    "\n",
    "\n",
    "print(\"ENd of the program\")"
   ]
  },
  {
   "cell_type": "code",
   "execution_count": 17,
   "id": "a3b2abe9",
   "metadata": {},
   "outputs": [
    {
     "name": "stdout",
     "output_type": "stream",
     "text": [
      "outer if\n",
      "inner else\n",
      "ENd of the program\n"
     ]
    }
   ],
   "source": [
    "b = 7\n",
    "if (b >5):\n",
    "    print(\"outer if\")\n",
    "    if (b >10):\n",
    "        print(\"Inner if\")\n",
    "    else:\n",
    "        print(\"inner else\")\n",
    "else:\n",
    "    print(\"outer else\")\n",
    "\n",
    "\n",
    "print(\"ENd of the program\")"
   ]
  },
  {
   "cell_type": "code",
   "execution_count": 18,
   "id": "45be5e0d",
   "metadata": {},
   "outputs": [
    {
     "name": "stdout",
     "output_type": "stream",
     "text": [
      "pass\n",
      "Excellent\n"
     ]
    }
   ],
   "source": [
    "marks =int(input(\"Enter the marks: \"))\n",
    "\n",
    "if marks >=35:\n",
    "    print(\"pass\")\n",
    "    if(marks>=90):\n",
    "        print(\"Excellent\")\n",
    "else:\n",
    "    print(\"Fail\")"
   ]
  },
  {
   "cell_type": "code",
   "execution_count": 19,
   "id": "2f058ce0",
   "metadata": {},
   "outputs": [
    {
     "name": "stdout",
     "output_type": "stream",
     "text": [
      "pass\n",
      "Good\n"
     ]
    }
   ],
   "source": [
    "marks =int(input(\"Enter the marks: \"))\n",
    "\n",
    "if marks >=35:\n",
    "    print(\"pass\")\n",
    "    if(marks>=90):\n",
    "        print(\"Excellent\")\n",
    "    else:\n",
    "        print(\"Good\")\n",
    "else:\n",
    "    print(\"Fail\")"
   ]
  },
  {
   "cell_type": "code",
   "execution_count": 3,
   "id": "3850335c",
   "metadata": {},
   "outputs": [
    {
     "name": "stdout",
     "output_type": "stream",
     "text": [
      "3\n",
      "5\n",
      "0\n",
      "9\n",
      "6\n",
      "2\n"
     ]
    }
   ],
   "source": [
    "Class1 = {'karan', 'sirisha', 'krish', 'nagesh', 'saurabh'}\n",
    "Class2 = {'sakshi', 'shrikant', 'sruthi', 'srishti'}\n",
    "\n",
    "c1 = {'karan', 'sruthi', 'sakshi'}\n",
    "c2 = {'karan', 'sirisha', 'nagesh', 'saurabh'}\n",
    "\n",
    "# how many students in classA only participated in competition2\n",
    "print(len((Class1 & c2) - (c1 & c2)))\n",
    "\n",
    "# how many students participated in only 1 competition\n",
    "print(len((c1 | c2) - (c1 & c2)))\n",
    "\n",
    "#how many students participated in both the competition who were not part of classA\n",
    "print(len((c1 & c2) - Class1))\n",
    "\n",
    "#total number of students in school\n",
    "print(len(Class1 | Class2))\n",
    "\n",
    "#total number of students in the competition\n",
    "print(len(c1 | c2))\n",
    "\n",
    "#toal number of students in the competition who were not from class A\n",
    "print(len((c1 | c2) - Class1))\n"
   ]
  },
  {
   "cell_type": "code",
   "execution_count": null,
   "id": "17ab6ef2",
   "metadata": {},
   "outputs": [
    {
     "name": "stdout",
     "output_type": "stream",
     "text": [
      "the value of a is [1, 2] and b is [8, 9] and a+b is [1, 2, 8, 9]\n",
      "the value of a is {a} and b is {b} and a+b is {c}\n"
     ]
    },
    {
     "ename": "AttributeError",
     "evalue": "'NoneType' object has no attribute 'format'",
     "output_type": "error",
     "traceback": [
      "\u001b[1;31m---------------------------------------------------------------------------\u001b[0m",
      "\u001b[1;31mAttributeError\u001b[0m                            Traceback (most recent call last)",
      "Cell \u001b[1;32mIn[10], line 5\u001b[0m\n\u001b[0;32m      3\u001b[0m c \u001b[38;5;241m=\u001b[39m a\u001b[38;5;241m+\u001b[39mb\n\u001b[0;32m      4\u001b[0m \u001b[38;5;28mprint\u001b[39m(\u001b[38;5;124mf\u001b[39m\u001b[38;5;124m'\u001b[39m\u001b[38;5;124mthe value of a is \u001b[39m\u001b[38;5;132;01m{\u001b[39;00ma\u001b[38;5;132;01m}\u001b[39;00m\u001b[38;5;124m and b is \u001b[39m\u001b[38;5;132;01m{\u001b[39;00mb\u001b[38;5;132;01m}\u001b[39;00m\u001b[38;5;124m and a+b is \u001b[39m\u001b[38;5;132;01m{\u001b[39;00mc\u001b[38;5;132;01m}\u001b[39;00m\u001b[38;5;124m'\u001b[39m)\n\u001b[1;32m----> 5\u001b[0m \u001b[38;5;28;43mprint\u001b[39;49m\u001b[43m(\u001b[49m\u001b[38;5;124;43m'\u001b[39;49m\u001b[38;5;124;43mthe value of a is \u001b[39;49m\u001b[38;5;132;43;01m{a}\u001b[39;49;00m\u001b[38;5;124;43m and b is \u001b[39;49m\u001b[38;5;132;43;01m{b}\u001b[39;49;00m\u001b[38;5;124;43m and a+b is \u001b[39;49m\u001b[38;5;132;43;01m{c}\u001b[39;49;00m\u001b[38;5;124;43m'\u001b[39;49m\u001b[43m)\u001b[49m\u001b[38;5;241;43m.\u001b[39;49m\u001b[43mformat\u001b[49m(a,b,c)\n",
      "\u001b[1;31mAttributeError\u001b[0m: 'NoneType' object has no attribute 'format'"
     ]
    }
   ],
   "source": [
    "a = [1,2]\n",
    "b = [8,9]\n",
    "c = a+b\n",
    "print(f'the value of a is {a} and b is {b} and a+b is {c}')"
   ]
  },
  {
   "cell_type": "code",
   "execution_count": null,
   "id": "0ab3f3fb",
   "metadata": {},
   "outputs": [
    {
     "name": "stdout",
     "output_type": "stream",
     "text": [
      "M\n",
      "a\n",
      "h\n",
      "e\n",
      "s\n",
      "h\n"
     ]
    }
   ],
   "source": [
    "# vowels are present or not \n",
    "\n"
   ]
  },
  {
   "cell_type": "code",
   "execution_count": null,
   "id": "bb7c6b51",
   "metadata": {},
   "outputs": [
    {
     "name": "stdout",
     "output_type": "stream",
     "text": [
      "if\n"
     ]
    }
   ],
   "source": [
    "a = int(input())\n",
    "\n",
    "if a<11:\n",
    "    print(\"if\")\n",
    "elif a<18:\n",
    "    print('elif')\n",
    "else:\n",
    "    print('No')\n",
    "\n"
   ]
  },
  {
   "cell_type": "code",
   "execution_count": 42,
   "id": "f39d9979",
   "metadata": {},
   "outputs": [
    {
     "name": "stdout",
     "output_type": "stream",
     "text": [
      "70\n",
      "Pass\n",
      "B\n"
     ]
    }
   ],
   "source": [
    "# based on the marks provide a grade\n",
    "\n",
    "marks =int(input())\n",
    "print(marks)\n",
    "\n",
    "\n",
    "if(marks <=30):\n",
    "    print(\"Fail\")\n",
    "elif (marks>30 and marks<=50):\n",
    "    print(\"pass\")\n",
    "    print(\"C\")\n",
    "elif (marks> 50 and marks <=70):\n",
    "    print(\"Pass\")\n",
    "    print(\"B\")\n",
    "elif (marks >70 and marks <=80):\n",
    "    print('pass')\n",
    "    print(\"A\")\n",
    "else:\n",
    "    print(\"Pass\")\n",
    "    print(\"A1\")"
   ]
  },
  {
   "cell_type": "code",
   "execution_count": 44,
   "id": "658178f3",
   "metadata": {},
   "outputs": [
    {
     "name": "stdout",
     "output_type": "stream",
     "text": [
      "Invaild\n"
     ]
    }
   ],
   "source": [
    "marks = int(input())\n",
    "\n",
    "if(marks >= 30 and marks <=100):\n",
    "    print(\"Pass\")\n",
    "    if(marks>=30 and marks <50):\n",
    "        print(\"C\")\n",
    "    elif((marks>= 50 and marks <70)):\n",
    "        print(\"B\")\n",
    "    elif( (marks >=70 and marks <80)):\n",
    "        print(\"A\")\n",
    "    else:\n",
    "        print(\"A1\")\n",
    "elif(marks>0 and marks<30):\n",
    "    print('Fail')\n",
    "else:\n",
    "    print('Invaild')\n"
   ]
  },
  {
   "cell_type": "code",
   "execution_count": 49,
   "id": "a8e50021",
   "metadata": {},
   "outputs": [
    {
     "name": "stdout",
     "output_type": "stream",
     "text": [
      "10\n",
      "Even\n"
     ]
    }
   ],
   "source": [
    "num = eval(input())\n",
    "print(num)\n",
    "\n",
    "if(num>0):\n",
    "    if(num%2==0):\n",
    "        print(\"Even\")\n",
    "    else:\n",
    "        print(\"Odd\")\n",
    "else:\n",
    "    print(\"invaild\")"
   ]
  },
  {
   "cell_type": "code",
   "execution_count": 21,
   "id": "f19ff659",
   "metadata": {},
   "outputs": [
    {
     "name": "stdout",
     "output_type": "stream",
     "text": [
      "Prime\n"
     ]
    }
   ],
   "source": [
    "a= 2\n",
    "num = 9\n",
    "if (a>1 and a<num):\n",
    "    if(num%a==0):\n",
    "        print(\"composite\")\n",
    "        a+=1\n",
    "    else:\n",
    "        print('Prime')\n",
    "        a+=1\n",
    "\n",
    "# there is no way for a to go back when its value increments and perform the modulo operation again.the program stops when it is executed one time"
   ]
  },
  {
   "cell_type": "code",
   "execution_count": null,
   "id": "d6e97984",
   "metadata": {},
   "outputs": [],
   "source": [
    "# we can do the this problem using the if else but it will take the lot of time for that we use the for loop\n",
    "num= int(input())\n",
    "if num>1:\n",
    "    for i in range(2,num):\n",
    "        if(num%i!=0):\n",
    "            print(\"Prime\")\n",
    "            break\n",
    "        \n",
    "        else:\n",
    "            print(\"com\")\n",
    "            break\n",
    "       \n",
    "else:\n",
    "    print('invalid')\n"
   ]
  },
  {
   "cell_type": "code",
   "execution_count": null,
   "id": "da05fa90",
   "metadata": {},
   "outputs": [],
   "source": [
    "\n",
    "\n"
   ]
  },
  {
   "cell_type": "code",
   "execution_count": 44,
   "id": "bdda4185",
   "metadata": {},
   "outputs": [
    {
     "name": "stdout",
     "output_type": "stream",
     "text": [
      "! is Invalid\n"
     ]
    }
   ],
   "source": [
    "## if there is a number, check if it is even-odd and check if it has vowel\n",
    "\n",
    "a = input()\n",
    "\n",
    "\n",
    "if a.isdigit():\n",
    "    a = int(a)\n",
    "\n",
    "    if(a%2==0):\n",
    "        print('Even')\n",
    "    else:\n",
    "        print('Odd')\n",
    "elif a.isalpha():\n",
    "    if ('a' in a or 'e' in a or 'i' in a or 'o' in a or 'u' in a):\n",
    "        print(a,'has Vowel')\n",
    "    else:\n",
    "        print(a,'no vowels')\n",
    "else:\n",
    "    print(a,'is Invalid')\n"
   ]
  },
  {
   "cell_type": "code",
   "execution_count": 53,
   "id": "53732d08",
   "metadata": {},
   "outputs": [
    {
     "name": "stdout",
     "output_type": "stream",
     "text": [
      "jjyj\n"
     ]
    }
   ],
   "source": [
    "a = input().lower()\n",
    "\n",
    "\n",
    "if('a' in a):\n",
    "    a=a.replace('a','j')\n",
    "    print(a)\n",
    "else:\n",
    "    print(a)\n"
   ]
  },
  {
   "cell_type": "code",
   "execution_count": null,
   "id": "ab1eeb17",
   "metadata": {},
   "outputs": [
    {
     "data": {
      "text/plain": [
       "12"
      ]
     },
     "execution_count": 50,
     "metadata": {},
     "output_type": "execute_result"
    }
   ],
   "source": []
  },
  {
   "cell_type": "code",
   "execution_count": null,
   "id": "abe76503",
   "metadata": {},
   "outputs": [],
   "source": []
  }
 ],
 "metadata": {
  "kernelspec": {
   "display_name": "Python 3",
   "language": "python",
   "name": "python3"
  },
  "language_info": {
   "codemirror_mode": {
    "name": "ipython",
    "version": 3
   },
   "file_extension": ".py",
   "mimetype": "text/x-python",
   "name": "python",
   "nbconvert_exporter": "python",
   "pygments_lexer": "ipython3",
   "version": "3.11.9"
  }
 },
 "nbformat": 4,
 "nbformat_minor": 5
}
