{
 "cells": [
  {
   "cell_type": "code",
   "execution_count": 1,
   "id": "5bdbbf9f",
   "metadata": {},
   "outputs": [
    {
     "data": {
      "text/plain": [
       "'jay'"
      ]
     },
     "execution_count": 1,
     "metadata": {},
     "output_type": "execute_result"
    }
   ],
   "source": [
    "'jay'"
   ]
  },
  {
   "cell_type": "markdown",
   "id": "e3e40ad8",
   "metadata": {},
   "source": [
    "### Function\n",
    "\n",
    "function is created to create a pieace of code that can be called whenever required.  \n",
    "thereby minimizing the line of code"
   ]
  },
  {
   "cell_type": "code",
   "execution_count": 2,
   "id": "9071ace9",
   "metadata": {},
   "outputs": [],
   "source": [
    "#printing the a number is even or odd\n",
    "\n",
    "def even_odd():\n",
    "    a = 12\n",
    "    if a %2 == 0:\n",
    "        print('even')\n",
    "    else:\n",
    "        print('odd')\n"
   ]
  },
  {
   "cell_type": "code",
   "execution_count": 3,
   "id": "b041d463",
   "metadata": {},
   "outputs": [
    {
     "name": "stdout",
     "output_type": "stream",
     "text": [
      "even\n"
     ]
    }
   ],
   "source": [
    "even_odd()"
   ]
  },
  {
   "cell_type": "code",
   "execution_count": 10,
   "id": "6b23df97",
   "metadata": {},
   "outputs": [],
   "source": [
    "def even_odd(a):\n",
    "\n",
    "    if a %2 == 0:\n",
    "        print(a,'is even')\n",
    "    else:\n",
    "        print(a,'is odd')"
   ]
  },
  {
   "cell_type": "code",
   "execution_count": 11,
   "id": "1feecb5a",
   "metadata": {},
   "outputs": [
    {
     "name": "stdout",
     "output_type": "stream",
     "text": [
      "3 is odd\n"
     ]
    }
   ],
   "source": [
    "even_odd(3)"
   ]
  },
  {
   "cell_type": "code",
   "execution_count": null,
   "id": "9056155e",
   "metadata": {},
   "outputs": [
    {
     "name": "stdout",
     "output_type": "stream",
     "text": [
      "value of a 2\n",
      "value of a 5\n"
     ]
    }
   ],
   "source": [
    "def value(a):#a is the parameter\n",
    "    print('value of a',a)\n",
    "\n",
    "\n",
    "value(2)# calling the function with value\n",
    "value(5)"
   ]
  },
  {
   "cell_type": "code",
   "execution_count": null,
   "id": "ddfad7ba",
   "metadata": {},
   "outputs": [
    {
     "name": "stdout",
     "output_type": "stream",
     "text": [
      "the value of a jay krishna\n",
      "the value of a 1 3\n",
      "the value of a [1, 2] [1, 4]\n"
     ]
    }
   ],
   "source": [
    "def fun1(a,b):\n",
    "    print('the value of a',a,b)\n",
    "\n",
    "fun1('jay','krishna')\n",
    "fun1(1,3)\n",
    "fun1([1,2],[1,4])\n",
    "\n"
   ]
  },
  {
   "cell_type": "code",
   "execution_count": 19,
   "id": "94dee814",
   "metadata": {},
   "outputs": [],
   "source": [
    "# take the list and sqaure each number in the list using func\n",
    "\n",
    "def sqaure(a):\n",
    "    for i in a:\n",
    "        print(i**2)\n",
    "\n",
    "\n",
    "\n",
    "        "
   ]
  },
  {
   "cell_type": "code",
   "execution_count": 25,
   "id": "604e68ef",
   "metadata": {},
   "outputs": [
    {
     "name": "stdout",
     "output_type": "stream",
     "text": [
      "1\n",
      "4\n",
      "9\n"
     ]
    }
   ],
   "source": [
    "sqaure([1,2,3])"
   ]
  },
  {
   "cell_type": "code",
   "execution_count": 28,
   "id": "6af07ca6",
   "metadata": {},
   "outputs": [],
   "source": [
    "def square(a):\n",
    "    lst=[]\n",
    "    for i in a:\n",
    "        lst.append(i**2)\n",
    "    print(lst)"
   ]
  },
  {
   "cell_type": "code",
   "execution_count": 29,
   "id": "5f15d501",
   "metadata": {},
   "outputs": [
    {
     "name": "stdout",
     "output_type": "stream",
     "text": [
      "[1, 4, 9]\n"
     ]
    }
   ],
   "source": [
    "square([1,2,3])"
   ]
  },
  {
   "cell_type": "code",
   "execution_count": 1,
   "id": "52824ae3",
   "metadata": {},
   "outputs": [
    {
     "name": "stdout",
     "output_type": "stream",
     "text": [
      "1\n"
     ]
    }
   ],
   "source": [
    "def fun1(a):\n",
    "    return a # throwing the o/p\n",
    "x= fun1(1)# x is caugh by the variable in the function call\n",
    "print(x)\n"
   ]
  },
  {
   "cell_type": "code",
   "execution_count": 3,
   "id": "430e3529",
   "metadata": {},
   "outputs": [
    {
     "name": "stdout",
     "output_type": "stream",
     "text": [
      "10\n",
      "None\n"
     ]
    }
   ],
   "source": [
    "def fun1(a):\n",
    "    print(a)\n",
    "x = fun1(10)\n",
    "print(x)"
   ]
  },
  {
   "cell_type": "code",
   "execution_count": 5,
   "id": "e796944f",
   "metadata": {},
   "outputs": [
    {
     "name": "stdout",
     "output_type": "stream",
     "text": [
      "customer s1 user name is jayakrishna\n"
     ]
    }
   ],
   "source": [
    "email_id ='jayakrishna@gmail.com'\n",
    "info={}\n",
    "b =email_id.split('@')\n",
    "info['s1']=b\n",
    "key=list(info.keys())\n",
    "print('customer {} user name is {}'.format(key[0],b[0]))\n"
   ]
  },
  {
   "cell_type": "code",
   "execution_count": 21,
   "id": "de1303fb",
   "metadata": {},
   "outputs": [
    {
     "ename": "TypeError",
     "evalue": "'int' object is not subscriptable",
     "output_type": "error",
     "traceback": [
      "\u001b[1;31m---------------------------------------------------------------------------\u001b[0m",
      "\u001b[1;31mTypeError\u001b[0m                                 Traceback (most recent call last)",
      "Cell \u001b[1;32mIn[21], line 15\u001b[0m\n\u001b[0;32m     13\u001b[0m \u001b[38;5;28;01mfor\u001b[39;00m i \u001b[38;5;129;01min\u001b[39;00m \u001b[38;5;28mrange\u001b[39m(\u001b[38;5;28mlen\u001b[39m(p)):\n\u001b[0;32m     14\u001b[0m     info[cust_id[i]]\u001b[38;5;241m=\u001b[39mp[i]\n\u001b[1;32m---> 15\u001b[0m \u001b[38;5;28mprint\u001b[39m(\u001b[38;5;124m'\u001b[39m\u001b[38;5;124mthe cust_id id \u001b[39m\u001b[38;5;132;01m{}\u001b[39;00m\u001b[38;5;124m and user_name is \u001b[39m\u001b[38;5;132;01m{}\u001b[39;00m\u001b[38;5;124m'\u001b[39m\u001b[38;5;241m.\u001b[39mformat( info[cust_id[i]],j[\u001b[38;5;241m0\u001b[39m]))\n",
      "\u001b[1;31mTypeError\u001b[0m: 'int' object is not subscriptable"
     ]
    }
   ],
   "source": [
    "lst = ['jaykrishnagolla@15gmail.com','jaygupta15@gmail.com']\n",
    "info={}\n",
    "p=[]\n",
    "cust_id=[]\n",
    "for i in lst:\n",
    "    user_details=i.split('@')\n",
    "    p.append(user_details)\n",
    "\n",
    "# to get the customer id\n",
    "for i in range(len(lst)):\n",
    "    cust_id.append('s'+str(i))\n",
    "# add to dect\n",
    "for i in range(len(p)):\n",
    "    info[cust_id[i]]=p[i]\n",
    "print('the cust_id id {} and user_name is {}'.format( info[cust_id[i]],j[0]))\n",
    "\n",
    "\n",
    "\n",
    "    "
   ]
  },
  {
   "cell_type": "code",
   "execution_count": 19,
   "id": "abf5fdcf",
   "metadata": {},
   "outputs": [
    {
     "name": "stdout",
     "output_type": "stream",
     "text": [
      "the cust_id id s0 and user_name is jaykrishnagolla\n",
      "the cust_id id s1 and user_name is jaygupta15\n",
      "None\n"
     ]
    }
   ],
   "source": [
    "def email_encode(a):\n",
    "    info={}\n",
    "    p=[]\n",
    "    cust_id=[]\n",
    "    for i in lst:\n",
    "        user_details=i.split('@')\n",
    "        p.append(user_details)\n",
    "\n",
    "# to get the customer id\n",
    "    for i in range(len(lst)):\n",
    "        cust_id.append('s'+str(i))\n",
    "# add to dect\n",
    "    for i in range(len(p)):\n",
    "        info[cust_id[i]]=p[i]\n",
    "    for i,j in info.items():\n",
    "        print('the cust_id id {} and user_name is {}'.format(i,j[0]))\n",
    "a= ['jaykrishnagolla@15gmail.com','jaygupta15@gmail.com']\n",
    "print(email_encode(a))"
   ]
  },
  {
   "cell_type": "code",
   "execution_count": 33,
   "id": "9db43a58",
   "metadata": {},
   "outputs": [
    {
     "name": "stdout",
     "output_type": "stream",
     "text": [
      "customer s1 user name is jaykrishnagolla\n",
      "customer s1 user name is jaygupta15\n"
     ]
    }
   ],
   "source": [
    "def email(emails):\n",
    "    #email_id ='jayakrishna@gmail.com'\n",
    "    info={}\n",
    "    i =emails.split('@')\n",
    "    info['s1']=i\n",
    "    key=list(info.keys())\n",
    "    print('customer {} user name is {}'.format(key[0],i[0]))\n",
    "emails=['jaykrishnagolla@15gmail.com','jaygupta15@gmail.com']\n",
    "for i in emails:\n",
    "    email(i)\n"
   ]
  },
  {
   "cell_type": "code",
   "execution_count": 35,
   "id": "392e579d",
   "metadata": {},
   "outputs": [
    {
     "name": "stdout",
     "output_type": "stream",
     "text": [
      "1\n",
      "2\n",
      "3\n",
      "4\n",
      "5\n",
      "6\n",
      "7\n",
      "8\n",
      "9\n",
      "jay\n"
     ]
    }
   ],
   "source": [
    "def fun1(*a): # varibale length arguments\n",
    "    for i in a:\n",
    "        print(i)\n",
    "fun1(1,2,3,4,5,6,7,8,9,'jay')"
   ]
  },
  {
   "cell_type": "code",
   "execution_count": 1,
   "id": "726ce8a1",
   "metadata": {},
   "outputs": [
    {
     "name": "stdout",
     "output_type": "stream",
     "text": [
      "a 1\n",
      "b 2\n",
      "c 3\n"
     ]
    }
   ],
   "source": [
    "def fun1(**a):\n",
    "    # variable length argument\n",
    "    for i ,j in a.items():\n",
    "        print(i,j)\n",
    "fun1(a=1,b=2,c=3)"
   ]
  },
  {
   "cell_type": "code",
   "execution_count": 3,
   "id": "86b7573d",
   "metadata": {},
   "outputs": [
    {
     "data": {
      "text/plain": [
       "'Jay'"
      ]
     },
     "execution_count": 3,
     "metadata": {},
     "output_type": "execute_result"
    }
   ],
   "source": [
    "'Jay'"
   ]
  },
  {
   "cell_type": "code",
   "execution_count": 1,
   "id": "248f43f6",
   "metadata": {},
   "outputs": [
    {
     "data": {
      "text/plain": [
       "'Jay'"
      ]
     },
     "execution_count": 1,
     "metadata": {},
     "output_type": "execute_result"
    }
   ],
   "source": [
    "'Jay'"
   ]
  },
  {
   "cell_type": "code",
   "execution_count": 2,
   "id": "a1b33cc1",
   "metadata": {},
   "outputs": [
    {
     "name": "stdout",
     "output_type": "stream",
     "text": [
      "9\n"
     ]
    }
   ],
   "source": [
    "#default parameter\n",
    "def fun1(a=9):\n",
    "    print(a)\n",
    "fun1()"
   ]
  },
  {
   "cell_type": "code",
   "execution_count": null,
   "id": "d41c2506",
   "metadata": {},
   "outputs": [
    {
     "data": {
      "text/plain": [
       "3"
      ]
     },
     "execution_count": 3,
     "metadata": {},
     "output_type": "execute_result"
    }
   ],
   "source": [
    "# calucalte:\n",
    "\n",
    "def calcualator(a,b,op):\n",
    "    if op=='+':\n",
    "        return a+b\n",
    "    if op== '-':\n",
    "        return a-b\n",
    "    if op=='*':\n",
    "        return a*b\n",
    "    if op=='/':\n",
    "        return a/b\n",
    "    if op=='//':\n",
    "        return a//b\n",
    "    if op=='%':\n",
    "        return a%b\n",
    "    if op=='**':\n",
    "        return a**b\n",
    "    else:\n",
    "        return 'invalid'\n",
    "\n",
    "calcualator(1,2,'+')    "
   ]
  },
  {
   "cell_type": "code",
   "execution_count": null,
   "id": "7e078bd7",
   "metadata": {},
   "outputs": [],
   "source": [
    "# calucalte:\n",
    "\n",
    "def calcualator(*a):\n",
    "    op =input('provide the operation')\n",
    "    if '+' in a:\n",
    "        return a+b\n",
    "    if op== '-':\n",
    "        return a-b\n",
    "    if op=='*':\n",
    "        return a*b\n",
    "    if op=='/':\n",
    "        return a/b\n",
    "    if op=='//':\n",
    "        return a//b\n",
    "    if op=='%':\n",
    "        return a%b\n",
    "    else:\n",
    "        return 'invalid'\n",
    "\n",
    "calcualator(1,2,'+')    "
   ]
  },
  {
   "cell_type": "code",
   "execution_count": null,
   "id": "95315bcf",
   "metadata": {},
   "outputs": [],
   "source": []
  }
 ],
 "metadata": {
  "kernelspec": {
   "display_name": "base",
   "language": "python",
   "name": "python3"
  },
  "language_info": {
   "codemirror_mode": {
    "name": "ipython",
    "version": 3
   },
   "file_extension": ".py",
   "mimetype": "text/x-python",
   "name": "python",
   "nbconvert_exporter": "python",
   "pygments_lexer": "ipython3",
   "version": "3.13.5"
  }
 },
 "nbformat": 4,
 "nbformat_minor": 5
}
