{
 "cells": [
  {
   "cell_type": "code",
   "execution_count": 1,
   "id": "b3d36b6e",
   "metadata": {},
   "outputs": [
    {
     "data": {
      "text/plain": [
       "'jay'"
      ]
     },
     "execution_count": 1,
     "metadata": {},
     "output_type": "execute_result"
    }
   ],
   "source": [
    "'jay'"
   ]
  },
  {
   "cell_type": "markdown",
   "id": "27b7ffd5",
   "metadata": {},
   "source": [
    "### OOPS"
   ]
  },
  {
   "cell_type": "code",
   "execution_count": null,
   "id": "5dfbbe9a",
   "metadata": {},
   "outputs": [
    {
     "name": "stdout",
     "output_type": "stream",
     "text": [
      "first class\n"
     ]
    }
   ],
   "source": [
    "class classname: #classname is the imaginer variable/blueprint of the code\n",
    "    print('first class')\n",
    "x = classname() # x is the real / object"
   ]
  },
  {
   "cell_type": "code",
   "execution_count": 5,
   "id": "22e64d8f",
   "metadata": {},
   "outputs": [
    {
     "name": "stdout",
     "output_type": "stream",
     "text": [
      "12\n"
     ]
    }
   ],
   "source": [
    "class class_name:\n",
    "    def meth1(self,a):\n",
    "        self.a=a\n",
    "        print(self.a)\n",
    "\n",
    "c=class_name()\n",
    "c.meth1(12)"
   ]
  },
  {
   "cell_type": "code",
   "execution_count": 7,
   "id": "f4f51813",
   "metadata": {},
   "outputs": [
    {
     "name": "stdout",
     "output_type": "stream",
     "text": [
      "jay\n"
     ]
    }
   ],
   "source": [
    "class class_name:\n",
    "    def names(self ,name):\n",
    "        self.name = name\n",
    "        print(self.name)\n",
    "c=class_name()\n",
    "c.names('jay')"
   ]
  },
  {
   "cell_type": "code",
   "execution_count": 9,
   "id": "fb0f5d42",
   "metadata": {},
   "outputs": [
    {
     "name": "stdout",
     "output_type": "stream",
     "text": [
      "jay\n",
      "jay\n"
     ]
    }
   ],
   "source": [
    "class name1:\n",
    "    def names(self,name):\n",
    "        self.name =name\n",
    "        print(self.name)\n",
    "    def meth(self):\n",
    "        print(self.name)\n",
    "a=name1()\n",
    "a.names('jay')\n",
    "a.meth()        "
   ]
  },
  {
   "cell_type": "code",
   "execution_count": 14,
   "id": "7af380fe",
   "metadata": {},
   "outputs": [
    {
     "name": "stdout",
     "output_type": "stream",
     "text": [
      "45 89\n",
      "136\n"
     ]
    }
   ],
   "source": [
    "class new_class:\n",
    "    def __init__(self,a,c): #init method,dunder method,constructor\n",
    "        self.a=a\n",
    "        self.c =c\n",
    "        print(self.a,self.c)\n",
    "    def fun1(self,b):\n",
    "        self.b = b\n",
    "        print(self.a+self.b+self.c)\n",
    "\n",
    "g = new_class(45,89)\n",
    "g.fun1(2)\n"
   ]
  },
  {
   "cell_type": "code",
   "execution_count": null,
   "id": "cd639995",
   "metadata": {},
   "outputs": [
    {
     "name": "stdout",
     "output_type": "stream",
     "text": [
      "sr_ntr 78 dance\n",
      "the sr_ntr in the heven do the dancing with the anr .\n"
     ]
    }
   ],
   "source": [
    "class heaven:\n",
    "    def __init__(self,actor_name,age,hobby):\n",
    "        self.actor=actor_name\n",
    "        self.age=age\n",
    "        self.hobby= hobby\n",
    "        print(self.actor,self.age,self.hobby)\n",
    "    def active(self,f_actor,actie):\n",
    "        self.f_actor=f_actor\n",
    "        self.actie = actie\n",
    "        print(f'the {self.actor} in the heven do the {self.actie} with the {self.f_actor} .')\n",
    "\n",
    "        \n",
    "a=heaven('sr_ntr',78,'dance')\n",
    "a.active('anr','dancing')"
   ]
  },
  {
   "cell_type": "code",
   "execution_count": 31,
   "id": "0a455cf4",
   "metadata": {},
   "outputs": [
    {
     "name": "stdout",
     "output_type": "stream",
     "text": [
      "satya 23 dancing\n"
     ]
    },
    {
     "ename": "UnboundLocalError",
     "evalue": "cannot access local variable 'extra' where it is not associated with a value",
     "output_type": "error",
     "traceback": [
      "\u001b[1;31m---------------------------------------------------------------------------\u001b[0m",
      "\u001b[1;31mUnboundLocalError\u001b[0m                         Traceback (most recent call last)",
      "Cell \u001b[1;32mIn[31], line 21\u001b[0m\n\u001b[0;32m     18\u001b[0m             \u001b[38;5;28mprint\u001b[39m(\u001b[38;5;124mf\u001b[39m\u001b[38;5;124m'\u001b[39m\u001b[38;5;124mgoing to perform \u001b[39m\u001b[38;5;132;01m{\u001b[39;00mact\u001b[38;5;132;01m}\u001b[39;00m\u001b[38;5;124m as their hobby is \u001b[39m\u001b[38;5;132;01m{\u001b[39;00m\u001b[38;5;28mself\u001b[39m\u001b[38;5;241m.\u001b[39mhobby\u001b[38;5;132;01m}\u001b[39;00m\u001b[38;5;124m with \u001b[39m\u001b[38;5;132;01m{\u001b[39;00muser\u001b[38;5;132;01m}\u001b[39;00m\u001b[38;5;124m.\u001b[39m\u001b[38;5;124m'\u001b[39m)      \n\u001b[0;32m     20\u001b[0m a\u001b[38;5;241m=\u001b[39mheaven1(\u001b[38;5;124m'\u001b[39m\u001b[38;5;124msatya\u001b[39m\u001b[38;5;124m'\u001b[39m,\u001b[38;5;241m23\u001b[39m,\u001b[38;5;124m'\u001b[39m\u001b[38;5;124mdancing\u001b[39m\u001b[38;5;124m'\u001b[39m)\n\u001b[1;32m---> 21\u001b[0m a\u001b[38;5;241m.\u001b[39mactivity()\n",
      "Cell \u001b[1;32mIn[31], line 16\u001b[0m, in \u001b[0;36mheaven1.activity\u001b[1;34m(self)\u001b[0m\n\u001b[0;32m     14\u001b[0m     act_\u001b[38;5;241m=\u001b[39mj[\u001b[38;5;241m0\u001b[39m]\n\u001b[0;32m     15\u001b[0m     extra\u001b[38;5;241m=\u001b[39mj[\u001b[38;5;241m1\u001b[39m]\n\u001b[1;32m---> 16\u001b[0m \u001b[38;5;28mprint\u001b[39m(\u001b[38;5;124mf\u001b[39m\u001b[38;5;124m'\u001b[39m\u001b[38;5;124mgive your \u001b[39m\u001b[38;5;132;01m{\u001b[39;00mextra\u001b[38;5;132;01m}\u001b[39;00m\u001b[38;5;124m'\u001b[39m)\n\u001b[0;32m     17\u001b[0m user\u001b[38;5;241m=\u001b[39m\u001b[38;5;28minput\u001b[39m()\n\u001b[0;32m     18\u001b[0m \u001b[38;5;28mprint\u001b[39m(\u001b[38;5;124mf\u001b[39m\u001b[38;5;124m'\u001b[39m\u001b[38;5;124mgoing to perform \u001b[39m\u001b[38;5;132;01m{\u001b[39;00mact\u001b[38;5;132;01m}\u001b[39;00m\u001b[38;5;124m as their hobby is \u001b[39m\u001b[38;5;132;01m{\u001b[39;00m\u001b[38;5;28mself\u001b[39m\u001b[38;5;241m.\u001b[39mhobby\u001b[38;5;132;01m}\u001b[39;00m\u001b[38;5;124m with \u001b[39m\u001b[38;5;132;01m{\u001b[39;00muser\u001b[38;5;132;01m}\u001b[39;00m\u001b[38;5;124m.\u001b[39m\u001b[38;5;124m'\u001b[39m)\n",
      "\u001b[1;31mUnboundLocalError\u001b[0m: cannot access local variable 'extra' where it is not associated with a value"
     ]
    }
   ],
   "source": [
    "class heaven1:\n",
    "    def __init__(self,name,age,hobby):\n",
    "        self.name=name\n",
    "        self.age =age\n",
    "        self.hobby=hobby\n",
    "        print(self.name,self.age,self.hobby)\n",
    "    def activity(self):\n",
    "        act={'dance':['dance performace','background dancer'],\n",
    "             'acting':['drama','c_actor',],\n",
    "             'singing':['song name','instrumnet']}\n",
    "        for i,j in act.items():\n",
    "\n",
    "            if i==self.hobby:\n",
    "                act_=j[0]\n",
    "                extra=j[1]\n",
    "            print(f'give your {extra}')\n",
    "            user=input()\n",
    "            print(f'going to perform {act} as their hobby is {self.hobby} with {user}.')      \n",
    "        \n",
    "a=heaven1('satya',23,'dancing')\n",
    "a.activity()"
   ]
  },
  {
   "cell_type": "code",
   "execution_count": null,
   "id": "c2de6375",
   "metadata": {},
   "outputs": [
    {
     "name": "stdout",
     "output_type": "stream",
     "text": [
      "12\n",
      "15\n",
      "odd\n",
      "even\n"
     ]
    }
   ],
   "source": [
    "class even_odd:\n",
    "    m= 90 # class variable\n",
    "    def __init__(self,a):#a is the instance variable(asked form the user)\n",
    "        self.a =a\n",
    "       \n",
    "        print(self.a)\n",
    "    def evenodd(self):\n",
    "        if self.a%2==0:\n",
    "            return 'even'\n",
    "        else:\n",
    "            return 'odd'\n",
    "a=even_odd(12) ## we use __init__so that if some variables are being in my methods,then they do not have to be dependent on calling any particlar method first to accept the input\n",
    "b = even_odd(15)\n",
    "print(b.evenodd())\n",
    "print(a.evenodd())\n",
    "''' object in an instance of the class\n",
    "instance mean oe specific example of a collection ex.cat is an instance of the entire feline species lliy we can create many object of a class and each of them'''\n",
    "\n"
   ]
  },
  {
   "cell_type": "code",
   "execution_count": 14,
   "id": "38560269",
   "metadata": {},
   "outputs": [
    {
     "name": "stdout",
     "output_type": "stream",
     "text": [
      "12\n",
      "13\n",
      "odd\n",
      "even\n"
     ]
    }
   ],
   "source": [
    "class even_odd:\n",
    "    def fun1(self,a):\n",
    "        self.a =a\n",
    "       \n",
    "        print(self.a)\n",
    "    def evenodd(self):\n",
    "        if self.a%2==0:\n",
    "            return 'even'\n",
    "        else:\n",
    "            return 'odd'\n",
    "a=even_odd()\n",
    "a.fun1(12)\n",
    "b = even_odd()\n",
    "b.fun1(13)\n",
    "print(b.evenodd())\n",
    "print(a.evenodd())\n",
    "\n"
   ]
  },
  {
   "cell_type": "code",
   "execution_count": 16,
   "id": "6c2d4502",
   "metadata": {},
   "outputs": [
    {
     "name": "stdout",
     "output_type": "stream",
     "text": [
      "[1, 2, 3]\n",
      "(1, 2, 3)\n",
      "1 odd\n",
      "2 even\n",
      "3 odd\n",
      "None\n",
      "1 odd\n",
      "2 even\n",
      "3 odd\n",
      "None\n"
     ]
    }
   ],
   "source": [
    "class even_odd_list:\n",
    "    def __init__(self,lst):\n",
    "        self.lst=lst\n",
    "        print(self.lst)\n",
    "    def nums(self):\n",
    "        for i in self.lst:\n",
    "            if i%2==0:\n",
    "                print(i,'even')\n",
    "            else:\n",
    "                print(i,'odd')\n",
    "x=even_odd_list([1,2,3])\n",
    "y = even_odd_list((1,2,3))\n",
    "print(x.nums())\n",
    "print(y.nums())"
   ]
  },
  {
   "cell_type": "code",
   "execution_count": null,
   "id": "127c4d0d",
   "metadata": {},
   "outputs": [
    {
     "data": {
      "text/plain": [
       "' why we use the oops\\nthey are 2 things\\n1:- modularization:- reusing methods and variables\\n1.1 inheritance\\n1.2 polymorphism\\n2:- protection:method and variable\\n2.1 encapsulation (hidding the method)\\n2.2 Abstraction(hiding the variables)'"
      ]
     },
     "execution_count": 17,
     "metadata": {},
     "output_type": "execute_result"
    }
   ],
   "source": []
  },
  {
   "cell_type": "markdown",
   "id": "f055f994",
   "metadata": {},
   "source": [
    "''' why we use the oops  \n",
    "they are 2 things  \n",
    "1:- modularization:- reusing methods and variables  \n",
    "1.1 inheritance  \n",
    "1.2 polymorphism  \n",
    "2:- protection:- method and variable  \n",
    "2.1 encapsulation (hidding the method)  \n",
    "2.2 Abstraction(hiding the variables)'''\n"
   ]
  },
  {
   "cell_type": "code",
   "execution_count": 20,
   "id": "3865a40a",
   "metadata": {},
   "outputs": [
    {
     "name": "stdout",
     "output_type": "stream",
     "text": [
      "this is class A 12\n",
      "this is class B 15\n"
     ]
    }
   ],
   "source": [
    "# single inheritance:-passing ine class to another\n",
    "class A:\n",
    "    def fun1(self,a):\n",
    "        self.a = a\n",
    "        print('this is class A',self.a)\n",
    "class B(A):# taking the data from A\n",
    "    def fun2(self,b):\n",
    "        self.b =b\n",
    "        print('this is class B',self.b)\n",
    "s=B()\n",
    "s.fun1(12)\n",
    "s.fun2(15)\n"
   ]
  },
  {
   "cell_type": "code",
   "execution_count": null,
   "id": "6099e9b0",
   "metadata": {},
   "outputs": [
    {
     "name": "stdout",
     "output_type": "stream",
     "text": [
      "this is class A 12\n",
      "this is class B 15\n",
      "this is class C 3\n"
     ]
    }
   ],
   "source": [
    "# multiple inheritance\n",
    "class A:\n",
    "    def fun1(self,a):\n",
    "        self.a = a\n",
    "        print('this is class A',self.a)\n",
    "class B(A):# taking the data from A\n",
    "    def fun2(self,b):\n",
    "        self.b =b\n",
    "        print('this is class B',self.b)\n",
    "class C(B,A):# taking the data from A\n",
    "    def fun3(self,c):\n",
    "        self.c =c\n",
    "        print('this is class C',self.c)\n",
    "s=C()\n",
    "s.fun1(12)\n",
    "s.fun2(15)\n",
    "s.fun3(3)"
   ]
  },
  {
   "cell_type": "code",
   "execution_count": 26,
   "id": "070476b4",
   "metadata": {},
   "outputs": [
    {
     "name": "stdout",
     "output_type": "stream",
     "text": [
      "this is class A 45\n",
      "this is class B 12 45\n"
     ]
    }
   ],
   "source": [
    "\n",
    "class A:\n",
    "    def fun1(self,a):\n",
    "        self.a = a\n",
    "        print('this is class A',self.a)\n",
    "class B(A):# taking the data from A\n",
    "    def fun2(self,b):\n",
    "        self.b =b\n",
    "\n",
    "        super().fun1(45) # super() method is used to call the parent class\n",
    "        print('this is class B',self.b,self.a)\n",
    "s=B()\n",
    "s.fun2(12)\n",
    "\n",
    "\n"
   ]
  },
  {
   "cell_type": "code",
   "execution_count": null,
   "id": "498e0ebf",
   "metadata": {},
   "outputs": [
    {
     "name": "stdout",
     "output_type": "stream",
     "text": [
      "12\n",
      "10\n",
      "3\n"
     ]
    },
    {
     "ename": "AttributeError",
     "evalue": "'B' object has no attribute 'fun1'",
     "output_type": "error",
     "traceback": [
      "\u001b[1;31m---------------------------------------------------------------------------\u001b[0m",
      "\u001b[1;31mAttributeError\u001b[0m                            Traceback (most recent call last)",
      "Cell \u001b[1;32mIn[31], line 18\u001b[0m\n\u001b[0;32m     16\u001b[0m \u001b[38;5;28mprint\u001b[39m(c\u001b[38;5;241m.\u001b[39mfun1(\u001b[38;5;241m3\u001b[39m))\n\u001b[0;32m     17\u001b[0m b\u001b[38;5;241m=\u001b[39mB()\n\u001b[1;32m---> 18\u001b[0m \u001b[38;5;28mprint\u001b[39m(b\u001b[38;5;241m.\u001b[39mfun1(\u001b[38;5;241m12\u001b[39m))\n",
      "\u001b[1;31mAttributeError\u001b[0m: 'B' object has no attribute 'fun1'"
     ]
    }
   ],
   "source": [
    "#multple inheritance\n",
    "class A:\n",
    "    def fun1(self,a):\n",
    "        self.a = a\n",
    "        return self.a\n",
    "class B:\n",
    "    def fun2(self,b):\n",
    "        self.b= b\n",
    "        return self.b\n",
    "class C(A,B):\n",
    "    def fun3(self,c):\n",
    "        self.c =c\n",
    "        return self.c\n",
    "c=C()\n",
    "print(c.fun3(12))\n",
    "print(c.fun2(10))\n",
    "print(c.fun1(3))\n",
    "b=B()\n",
    "print(b.fun1(12))\n",
    "\n",
    "\n",
    "\n"
   ]
  },
  {
   "cell_type": "code",
   "execution_count": 37,
   "id": "e1764b12",
   "metadata": {},
   "outputs": [
    {
     "name": "stdout",
     "output_type": "stream",
     "text": [
      "4\n",
      "5\n",
      "3\n",
      "5\n"
     ]
    }
   ],
   "source": [
    "class A:\n",
    "    def fun1(self,a):\n",
    "        self.a = a\n",
    "        return self.a\n",
    "\n",
    "class B(A):\n",
    "    def fun2(self,b):\n",
    "        self.b = b\n",
    "        return self.b\n",
    "\n",
    "class C(A):\n",
    "    def fun3(self,c):\n",
    "        self.c = c\n",
    "        return self.c\n",
    "\n",
    "y = B()\n",
    "print(y.fun2(4))   \n",
    "print(y.fun1(5))   \n",
    "\n",
    "x = C()\n",
    "print(x.fun3(3))   \n",
    "print(x.fun1(5))   \n"
   ]
  },
  {
   "cell_type": "code",
   "execution_count": 40,
   "id": "1504fd77",
   "metadata": {},
   "outputs": [
    {
     "name": "stdout",
     "output_type": "stream",
     "text": [
      "4\n",
      "5\n",
      "3\n",
      "5\n",
      "2\n"
     ]
    }
   ],
   "source": [
    "class A:\n",
    "    def fun1(self,a):\n",
    "        self.a = a\n",
    "        return self.a\n",
    "\n",
    "class B(A):\n",
    "    def fun2(self,b):\n",
    "        self.b = b\n",
    "        return self.b\n",
    "\n",
    "class C(A):\n",
    "    def fun3(self,c):\n",
    "        self.c = c\n",
    "        return self.c\n",
    "class D(B,C):\n",
    "    def fun4(self,d):\n",
    "        self.d= d\n",
    "        return self.d\n",
    "\n",
    "y = B()\n",
    "print(y.fun2(4))   \n",
    "print(y.fun1(5))   \n",
    "\n",
    "x = C()\n",
    "print(x.fun3(3))   \n",
    "print(x.fun1(5)) \n",
    "z= D()\n",
    "print(z.fun1(2))"
   ]
  },
  {
   "cell_type": "markdown",
   "id": "e9404033",
   "metadata": {},
   "source": [
    "### Polymorphism \n",
    "many faces  \n",
    "1:- Over loading\n",
    "2:- Over ridding"
   ]
  },
  {
   "cell_type": "code",
   "execution_count": 41,
   "id": "6bc5dd05",
   "metadata": {},
   "outputs": [
    {
     "data": {
      "text/plain": [
       "99"
      ]
     },
     "execution_count": 41,
     "metadata": {},
     "output_type": "execute_result"
    }
   ],
   "source": [
    "## Over loading :- over loading one with diferent opeations\n",
    "# python cannot perform direct overloading\n",
    "a = 90\n",
    "b =9\n",
    "a+b"
   ]
  },
  {
   "cell_type": "code",
   "execution_count": null,
   "id": "ea5dff8d",
   "metadata": {},
   "outputs": [
    {
     "name": "stdout",
     "output_type": "stream",
     "text": [
      "12\n"
     ]
    }
   ],
   "source": [
    "### Over ridding :-\n",
    "class A:\n",
    "    def m1(self,a):\n",
    "        self.a=a\n",
    "        return self.a\n",
    "class B(A):\n",
    "    def m1(self,a):\n",
    "        self.a =a\n",
    "        print('this is m2',self.a)\n",
    "x=A()\n",
    "print(x.m1(12))"
   ]
  },
  {
   "cell_type": "code",
   "execution_count": 1,
   "id": "bb0fa358",
   "metadata": {},
   "outputs": [
    {
     "data": {
      "text/plain": [
       "'jsy'"
      ]
     },
     "execution_count": 1,
     "metadata": {},
     "output_type": "execute_result"
    }
   ],
   "source": [
    "'jsy'"
   ]
  },
  {
   "cell_type": "code",
   "execution_count": 4,
   "id": "8f991c9f",
   "metadata": {},
   "outputs": [
    {
     "name": "stdout",
     "output_type": "stream",
     "text": [
      "0\n",
      "1\n",
      "2\n"
     ]
    }
   ],
   "source": [
    "def fun1():\n",
    "    for i in range(5):\n",
    "        yield i\n",
    "\n",
    "d =fun1()\n",
    "print(next(d))\n",
    "print(next(d))\n",
    "print(next(d))"
   ]
  },
  {
   "cell_type": "code",
   "execution_count": 7,
   "id": "da284a12",
   "metadata": {},
   "outputs": [
    {
     "name": "stdout",
     "output_type": "stream",
     "text": [
      "(0, 'even')\n",
      "(1, 'odd')\n",
      "(2, 'even')\n"
     ]
    }
   ],
   "source": [
    "def fun2():\n",
    "    for i in range(5):\n",
    "        if i%2==0:\n",
    "            yield i,'even'\n",
    "        else:\n",
    "           yield i,'odd'\n",
    "\n",
    "\n",
    "d = fun2()\n",
    "\n",
    "print(next(d))\n",
    "print(next(d))\n",
    "print(next(d))"
   ]
  },
  {
   "cell_type": "code",
   "execution_count": 8,
   "id": "225fecec",
   "metadata": {},
   "outputs": [],
   "source": [
    "# what is different blw the return and print and yield"
   ]
  },
  {
   "cell_type": "code",
   "execution_count": 16,
   "id": "a14c19c6",
   "metadata": {},
   "outputs": [],
   "source": [
    "from random import random as r"
   ]
  },
  {
   "cell_type": "code",
   "execution_count": null,
   "id": "65f200bd",
   "metadata": {},
   "outputs": [
    {
     "name": "stdout",
     "output_type": "stream",
     "text": [
      "jay\n",
      "jay : 21\n"
     ]
    }
   ],
   "source": [
    "\n",
    "class names:\n",
    "    def student(self,name):\n",
    "        self.name =name\n",
    "        print(self.name)\n",
    "\n",
    "\n",
    "    def student_rollNo(self,roll_no):\n",
    "        self.roll_no= roll_no\n",
    "        print(self.name,':',self.roll_no)\n",
    "c= names()\n",
    "c.student('jay')\n",
    "c.student_rollNo(21)\n",
    "\n",
    "\n"
   ]
  },
  {
   "cell_type": "code",
   "execution_count": 24,
   "id": "1223619e",
   "metadata": {},
   "outputs": [
    {
     "name": "stdout",
     "output_type": "stream",
     "text": [
      "jay\n",
      "jay : 977\n",
      "{'jay', 977, 4, 'KARE'}\n"
     ]
    }
   ],
   "source": [
    "class names:\n",
    "    def student(self,name):\n",
    "        self.name =name\n",
    "        print(self.name)\n",
    "\n",
    "\n",
    "    def student_rollNo(self,roll_no):\n",
    "        from random import randint as rint\n",
    "        roll_no=rint(1,1000)\n",
    "        self.roll_no= roll_no\n",
    "        print(self.name,':',self.roll_no)\n",
    "    \n",
    "    def clg(self,year,c_name):\n",
    "        self.c_name = c_name\n",
    "        self.year = year\n",
    "        college={self.c_name,self.name,self.roll_no,self.year}\n",
    "        print(college)\n",
    "\n",
    "c= names()\n",
    "c.student('jay')\n",
    "c.student_rollNo(21)\n",
    "c.clg(4,'KARE')"
   ]
  },
  {
   "cell_type": "code",
   "execution_count": 61,
   "id": "b9d1c8c3",
   "metadata": {},
   "outputs": [
    {
     "name": "stdout",
     "output_type": "stream",
     "text": [
      "('jay', 'krishna', 'Gupta')\n",
      "('jay', 'krishna', 'Gupta') : [955]\n",
      "('jay', 'krishna', 'Gupta') : [955, 822]\n",
      "('jay', 'krishna', 'Gupta') : [955, 822, 283]\n",
      "{'jay': 955, 'krishna': 822, 'Gupta': 283}\n"
     ]
    }
   ],
   "source": [
    "class uni:\n",
    "    def student(self,*name):\n",
    "        self.name =name\n",
    "        print(self.name)\n",
    "\n",
    "\n",
    "    def student_rollNo(self):\n",
    "        roll_no=[]\n",
    "        from random import randint as rint\n",
    "        for _ in range(len(self.name)):\n",
    "            roll_no.append(rint(1,1000))\n",
    "            self.roll_no= roll_no\n",
    "            print(self.name,':',self.roll_no)\n",
    "    \n",
    "    def clg(self):\n",
    "        college={}\n",
    "        for i in range(len(self.name)):\n",
    "\n",
    "            college[self.name[i]]=self.roll_no[i]\n",
    "        print(college)\n",
    "\n",
    "obj= uni()\n",
    "obj.student('jay','krishna','Gupta')\n",
    "obj.student_rollNo()\n",
    "obj.clg()"
   ]
  },
  {
   "cell_type": "code",
   "execution_count": 46,
   "id": "f412ec40",
   "metadata": {},
   "outputs": [],
   "source": [
    "class Uni:\n",
    "    def University(self,Uname,Uid):\n",
    "        self.Uname = Uname\n",
    "        self.Uid = Uid\n",
    "class Collges(Uni):\n",
    "    def collge(self,dep_id,HOD,students_count,principal):\n",
    "        self.dep_id = dep_id\n",
    "        self.HOD= HOD\n",
    "        self.student_count= students_count\n",
    "        self.principal = principal\n",
    "class student_info(Collges):\n",
    "    def student(self,*student_name):\n",
    "        self.student_name =student_name\n",
    "        print(self.student_name)\n",
    "\n",
    "    def student_details(self,student_id):\n",
    "\n",
    "        students=[]\n",
    "        from random import randint as rint\n",
    "        for _ in range(len(self.student_count)):\n",
    "            students.append(rint(1,1000))\n",
    "            self.student_count[i]= student_id\n",
    "            print(self.student_name,':',self.student_id)\n",
    "        \n",
    "        print(self.Uname,self.Uid,self.dep_id,self.student_count,self.principal,self.student_id,self.student_name )\n"
   ]
  },
  {
   "cell_type": "code",
   "execution_count": 47,
   "id": "281ddf07",
   "metadata": {},
   "outputs": [
    {
     "ename": "TypeError",
     "evalue": "student_info.student_details() takes 2 positional arguments but 5 were given",
     "output_type": "error",
     "traceback": [
      "\u001b[1;31m---------------------------------------------------------------------------\u001b[0m",
      "\u001b[1;31mTypeError\u001b[0m                                 Traceback (most recent call last)",
      "Cell \u001b[1;32mIn[47], line 4\u001b[0m\n\u001b[0;32m      2\u001b[0m u\u001b[38;5;241m.\u001b[39mUniversity(\u001b[38;5;124m'\u001b[39m\u001b[38;5;124mKalasaligam\u001b[39m\u001b[38;5;124m'\u001b[39m,\u001b[38;5;124m\"\u001b[39m\u001b[38;5;124mKARE\u001b[39m\u001b[38;5;124m\"\u001b[39m)\n\u001b[0;32m      3\u001b[0m u\u001b[38;5;241m.\u001b[39mcollge(\u001b[38;5;124m'\u001b[39m\u001b[38;5;124mCSE_AIML\u001b[39m\u001b[38;5;124m'\u001b[39m,\u001b[38;5;124m'\u001b[39m\u001b[38;5;124mSuresh\u001b[39m\u001b[38;5;124m'\u001b[39m,\u001b[38;5;241m4\u001b[39m,\u001b[38;5;124m'\u001b[39m\u001b[38;5;124mDeepa\u001b[39m\u001b[38;5;124m'\u001b[39m)\n\u001b[1;32m----> 4\u001b[0m u\u001b[38;5;241m.\u001b[39mstudent_details(\u001b[38;5;124m'\u001b[39m\u001b[38;5;124mJay\u001b[39m\u001b[38;5;124m'\u001b[39m,\u001b[38;5;124m'\u001b[39m\u001b[38;5;124mkrishna\u001b[39m\u001b[38;5;124m'\u001b[39m,\u001b[38;5;124m'\u001b[39m\u001b[38;5;124mgupta\u001b[39m\u001b[38;5;124m'\u001b[39m,\u001b[38;5;124m'\u001b[39m\u001b[38;5;124myeshu\u001b[39m\u001b[38;5;124m'\u001b[39m)\n",
      "\u001b[1;31mTypeError\u001b[0m: student_info.student_details() takes 2 positional arguments but 5 were given"
     ]
    }
   ],
   "source": [
    "u=student_info()\n",
    "u.University('Kalasaligam',\"KARE\")\n",
    "u.collge('CSE_AIML','Suresh',4,'Deepa')\n",
    "u.student_details('Jay','krishna','gupta','yeshu')"
   ]
  },
  {
   "cell_type": "code",
   "execution_count": null,
   "id": "be4b04d2",
   "metadata": {},
   "outputs": [],
   "source": [
    "class Uni:\n",
    "    def University(self,Uname,Uid):\n",
    "        self.Uname = Uname\n",
    "        self.Uid = Uid\n",
    "class Collges(Uni):\n",
    "    def collge(self,dep_id,HOD,students_count,principal):\n",
    "        self.dep_id = dep_id\n",
    "        self.HOD= HOD\n",
    "        self.student_count= students_count\n",
    "        self.principal = principal\n",
    "class student_info(Collges):     \n",
    "    def student(self,*name):\n",
    "        self.name =name\n",
    "        print(self.name)\n",
    "\n",
    "\n",
    "    def student_rollNo(self):\n",
    "        roll_no=[]\n",
    "        from random import randint as rint\n",
    "        for _ in range(len(self.name)):\n",
    "            roll_no.append(rint(1,1000))\n",
    "            self.roll_no= roll_no\n",
    "            print(self.name,':',self.roll_no)\n",
    "    \n",
    "    def clg(self):\n",
    "        college={}\n",
    "        for i in range(len(self.name)):\n",
    "\n",
    "            college[self.name[i]]=self.roll_no[i]\n",
    "        print(college)\n",
    "\n",
    "r = Uni()\n",
    "r.University('Kare',\"Kare1\")\n",
    "r."
   ]
  },
  {
   "cell_type": "code",
   "execution_count": 1,
   "id": "d7b0623e",
   "metadata": {},
   "outputs": [
    {
     "name": "stdout",
     "output_type": "stream",
     "text": [
      "Students added: ('John', 'Alice', 'Bob')\n",
      "Assigned Roll Numbers: {'John': 185, 'Alice': 2, 'Bob': 94}\n",
      "College Student Data: {'John': 185, 'Alice': 2, 'Bob': 94}\n"
     ]
    }
   ],
   "source": [
    "import random\n",
    "\n",
    "class Uni:\n",
    "    def __init__(self, Uname, Uid):\n",
    "        self.Uname = Uname\n",
    "        self.Uid = Uid\n",
    "\n",
    "class Colleges(Uni):\n",
    "    def __init__(self, Uname, Uid, dep_id, HOD, students_count, principal):\n",
    "        super().__init__(Uname, Uid)\n",
    "        self.dep_id = dep_id\n",
    "        self.HOD = HOD\n",
    "        self.students_count = students_count\n",
    "        self.principal = principal\n",
    "\n",
    "class StudentInfo(Colleges):\n",
    "    def __init__(self, Uname, Uid, dep_id, HOD, students_count, principal):\n",
    "        super().__init__(Uname, Uid, dep_id, HOD, students_count, principal)\n",
    "        self.name = []\n",
    "        self.roll_no = []\n",
    "\n",
    "    def add_students(self, *names):\n",
    "        self.name = names\n",
    "        print(\"Students added:\", self.name)\n",
    "\n",
    "    def assign_rollNo(self):\n",
    "        self.roll_no = [random.randint(1, 1000) for _ in self.name]\n",
    "        print(\"Assigned Roll Numbers:\", dict(zip(self.name, self.roll_no)))\n",
    "\n",
    "    def clg(self):\n",
    "        college = dict(zip(self.name, self.roll_no))\n",
    "        print(\"College Student Data:\", college)\n",
    "\n",
    "\n",
    "\n",
    "r = StudentInfo(\"KARE University\", \"KARE1\", \"CSE\", \"Dr. XYZ\", 120, \"Dr. ABC\")\n",
    "\n",
    "r.add_students(\"John\", \"Alice\", \"Bob\")\n",
    "r.assign_rollNo()\n",
    "r.clg()\n"
   ]
  },
  {
   "cell_type": "code",
   "execution_count": null,
   "id": "e40f42e5",
   "metadata": {},
   "outputs": [],
   "source": []
  },
  {
   "cell_type": "code",
   "execution_count": 2,
   "id": "a7db801a",
   "metadata": {},
   "outputs": [],
   "source": [
    "# Polymorphism \n",
    "\n",
    "class Rice_item():\n",
    "    def rice(self,rice):\n",
    "        self.rice = rice\n",
    "        print(self.rice)\n",
    "\n",
    "class Tomato_rice(Rice_item):\n",
    "    def rice(self,tomatos,chili,garic,onion,spicy):\n",
    "        self.tomatos= tomatos\n",
    "        self.chili=chili\n",
    "        self.garic= garic\n",
    "        self.onion=onion\n",
    "        self.spicy = spicy\n",
    "        print(f'the tamoto rice take the {self.rice} in the blow and {self.tomatos} in the other bowl and take the cooking bol and {self.onion} and {self.chili} and fry them and and {self.rice} and cook')\n",
    "class Polihore(Rice_item):\n",
    "    def rice(self,chili,peanuts,grams,lemons):\n",
    "        self.chili=chili\n",
    "        self.peanuts = peanuts\n",
    "        self.grams = grams\n",
    "        self.lemons = lemons\n",
    "        print(f'the Polihore  take the {self.rice} in the blow and {self.lemons} in the other bowl and take the cooking bol and {self.grams} and {self.chili} and fry them and and {self.rice} and cook')\n"
   ]
  },
  {
   "cell_type": "code",
   "execution_count": null,
   "id": "350acec4",
   "metadata": {},
   "outputs": [
    {
     "ename": "AttributeError",
     "evalue": "'Rice_item' object has no attribute 'Polihore'",
     "output_type": "error",
     "traceback": [
      "\u001b[1;31m---------------------------------------------------------------------------\u001b[0m",
      "\u001b[1;31mAttributeError\u001b[0m                            Traceback (most recent call last)",
      "Cell \u001b[1;32mIn[25], line 3\u001b[0m\n\u001b[0;32m      1\u001b[0m r \u001b[38;5;241m=\u001b[39m Rice_item()\n\u001b[1;32m----> 3\u001b[0m r\u001b[38;5;241m.\u001b[39mPolihore()\n\u001b[0;32m      4\u001b[0m r\u001b[38;5;241m.\u001b[39mrice(\u001b[38;5;124m'\u001b[39m\u001b[38;5;124m4 chili\u001b[39m\u001b[38;5;124m'\u001b[39m,\u001b[38;5;124m'\u001b[39m\u001b[38;5;124m250 grams of penouts\u001b[39m\u001b[38;5;124m'\u001b[39m,\u001b[38;5;124m'\u001b[39m\u001b[38;5;124m50gms of grams\u001b[39m\u001b[38;5;124m'\u001b[39m,\u001b[38;5;124m'\u001b[39m\u001b[38;5;124m2 lemons\u001b[39m\u001b[38;5;124m'\u001b[39m)\n",
      "\u001b[1;31mAttributeError\u001b[0m: 'Rice_item' object has no attribute 'Polihore'"
     ]
    }
   ],
   "source": [
    "r = Rice_item()\n",
    "r.rice('1 blow')\n",
    "c=Polihore()\n",
    "c.rice('4 chili','250 grams of penouts','50gms of grams','2 lemons')"
   ]
  },
  {
   "cell_type": "code",
   "execution_count": 1,
   "id": "3f46b95d",
   "metadata": {},
   "outputs": [
    {
     "data": {
      "text/plain": [
       "'jay'"
      ]
     },
     "execution_count": 1,
     "metadata": {},
     "output_type": "execute_result"
    }
   ],
   "source": [
    "'jay'"
   ]
  },
  {
   "cell_type": "code",
   "execution_count": 7,
   "id": "9316f133",
   "metadata": {},
   "outputs": [],
   "source": [
    "### Encapsulation:- hiding the variables\n",
    "\n",
    "class A:\n",
    "    def fun1(self,a,b):\n",
    "        self.a=a\n",
    "        self.__b = b\n",
    "        #print(self.a,self.__b)\n",
    "    def getter(self):\n",
    "        print(self.__b)\n",
    "    def setter(self,value):\n",
    "        self.__b = value\n",
    "        "
   ]
  },
  {
   "cell_type": "code",
   "execution_count": 9,
   "id": "2b507138",
   "metadata": {},
   "outputs": [
    {
     "name": "stdout",
     "output_type": "stream",
     "text": [
      "45\n",
      "100\n"
     ]
    }
   ],
   "source": [
    "d=A()\n",
    "d.fun1(12,45)\n",
    "d.a\n",
    "#d.__b\n",
    "d.getter()\n",
    "d.setter(100)\n",
    "d.getter()"
   ]
  },
  {
   "cell_type": "code",
   "execution_count": 23,
   "id": "7547cd3d",
   "metadata": {},
   "outputs": [],
   "source": [
    "class Car:\n",
    "    def car(self,brand,model,year,horsePower,color,price):\n",
    "        self.barnd= brand\n",
    "        self.model=model\n",
    "        self.year= year\n",
    "        self.hoursePower =horsePower\n",
    "        self.color=color\n",
    "        self.__price = price\n",
    "        #print(f'the car details are {self.brand} {self.model},{self.year} with the {self.horsePower} and the color is {self.color} and the price is {self.__price}')\n",
    "    def getter(self):\n",
    "        print(self.__price)# to the new price for the car\n",
    "    def setter(self,value):\n",
    "        self.__price=value\n",
    "        \n",
    "        print(' the price of the car is updated and the price of the car is',self.__price)"
   ]
  },
  {
   "cell_type": "code",
   "execution_count": 24,
   "id": "a98d8822",
   "metadata": {},
   "outputs": [
    {
     "name": "stdout",
     "output_type": "stream",
     "text": [
      "50000000\n",
      " the price of the car is updated and the price of the car is 80000000\n",
      "80000000\n"
     ]
    }
   ],
   "source": [
    "a=Car()\n",
    "a.car('BMW','X5',2023,400,'balck',50000000)\n",
    "a.getter()\n",
    "a.setter(80000000)\n",
    "a.getter()"
   ]
  },
  {
   "cell_type": "code",
   "execution_count": 35,
   "id": "56cb4293",
   "metadata": {},
   "outputs": [],
   "source": [
    "class Bankdetails:\n",
    "    def bank(self,bank_name,ifsc_code,branch,account_type,account_number,password):\n",
    "        self.bank_name = bank_name\n",
    "        self.ifsc_code = ifsc_code\n",
    "        self.branch = branch\n",
    "        self.account_type = account_type\n",
    "        self.account_number = account_number\n",
    "        self.__password = password\n",
    "        #print(f'the bank details are {self.bank_name},{self.ifsc_code},{self.branch},{self.account_type},{self.account_number},{self.password}')\n",
    "    def getter(self):\n",
    "        print(self.__password)\n",
    "    def setter(self,value):\n",
    "        self.__password = value\n",
    "        print('the password is updated and the new password is ',self.__password)\n"
   ]
  },
  {
   "cell_type": "code",
   "execution_count": 37,
   "id": "04e4d32d",
   "metadata": {},
   "outputs": [
    {
     "name": "stdout",
     "output_type": "stream",
     "text": [
      "12345\n",
      "the password is updated and the new password is  54231\n"
     ]
    }
   ],
   "source": [
    "b= Bankdetails()\n",
    "b.bank('SBI','SBIN0001234','BANGLORE','SAVING',1234567890,'12345')\n",
    "b.getter()\n",
    "b.setter(54231)"
   ]
  },
  {
   "cell_type": "code",
   "execution_count": 41,
   "id": "c2f9709f",
   "metadata": {},
   "outputs": [
    {
     "name": "stdout",
     "output_type": "stream",
     "text": [
      "enter the new password\n",
      "the new password is updated and the new password is 1234567\n"
     ]
    }
   ],
   "source": [
    "class Bank_Password():\n",
    "        def bank(self,bank_name,ifsc_code,branch,account_type,account_number,password):\n",
    "            self.bank_name = bank_name\n",
    "            self.ifsc_code = ifsc_code\n",
    "            self.branch = branch\n",
    "            self.account_type = account_type\n",
    "            self.account_number = account_number\n",
    "            self.__password = password\n",
    "        def user_enter(self):\n",
    "               self.forgot= input('if you forgot the password type forgot else type no')\n",
    "               if self.forgot == 'forgot':\n",
    "                   print('enter the new password')\n",
    "                   new_password = input()\n",
    "                   self.__password = new_password\n",
    "                   print('the new password is updated and the new password is',self.__password)\n",
    "               else:\n",
    "                   print('the password is incorrect')   \n",
    "        \n",
    "               \n",
    "        def getter(self):\n",
    "              print(self.__password)\n",
    "        def setter(self,value):\n",
    "                self.__password = value\n",
    "                print('the password is updated and the new password is ',self.__password)\n",
    "\n",
    "\n",
    "\n",
    "b = Bank_Password()\n",
    "b.bank('SBI','SBIN0001234','BANGLORE','SAVING',1234567890,'12345')\n",
    "b.user_enter()\n",
    "\n",
    "        \n"
   ]
  },
  {
   "cell_type": "code",
   "execution_count": 2,
   "id": "e66e4889",
   "metadata": {},
   "outputs": [],
   "source": [
    "class Bank:\n",
    "    def details(self,name,password):\n",
    "        self.name = name\n",
    "        self.__password = password\n",
    "    def total_amount(self,amount):\n",
    "        self.__amount = amount\n",
    "    def getter(self):\n",
    "        pet=input('enter the petname')\n",
    "        if pet=='dog':\n",
    "            print('the password is ',self.__password)\n",
    "            print('the total amount is ',self.__amount)\n",
    "        else:\n",
    "            print('try again')\n",
    "    def setter(self,new):\n",
    "        self.__password = new\n",
    "\n",
    "\n",
    "s=Bank()\n",
    "s.details('jay',12345)\n",
    "s.total_amount(100000)\n",
    "see =bool(input(' do u want to see the amount and password'))\n",
    "if see==True:\n",
    "    password=input('enter the password,else say forgot')\n",
    "    if password =='forgot':\n",
    "        a=input('do u wnat to see the password or update')\n",
    "        if password=='see':\n",
    "            s.getter()\n",
    "        else:\n",
    "            new_password = input('enter the new password')\n",
    "            s.setter(new_password)\n",
    "    else:\n",
    "        s.getter()\n",
    "\n",
    "\n"
   ]
  },
  {
   "cell_type": "code",
   "execution_count": null,
   "id": "4cdf8dc6",
   "metadata": {},
   "outputs": [
    {
     "name": "stdout",
     "output_type": "stream",
     "text": [
      "the password is  Jay@15\n",
      "the total amount is  100000\n"
     ]
    }
   ],
   "source": [
    "class Bank:\n",
    "    def details(self,name,password):\n",
    "        self.name = name\n",
    "        self.__password = password\n",
    "    def total_amount(self,amount):\n",
    "        self.__amount = amount\n",
    "        \n",
    "    def getter(self):\n",
    "        pet=input('enter the petname')\n",
    "        if pet=='dog':\n",
    "            print('the password is ',self.__password)\n",
    "            print('the total amount is ',self.__amount)\n",
    "        else:\n",
    "            print('try again')\n",
    "    def setter(self,new):\n",
    "        self.__password = new\n",
    "\n",
    "y = Bank()\n",
    "y.details('jay','Jay@15')\n",
    "y.total_amount(100000)\n",
    "inputs=input('enter the password,else say forgot')\n",
    "if inputs == 'forgot':\n",
    "    a = input(' do you want to see the password or update')\n",
    "    if a == 'see':\n",
    "        y.getter()\n",
    "    elif a=='forgot':\n",
    "        new_password = input('enter the new password')\n",
    "else:\n",
    "    y.getter()\n",
    "    "
   ]
  },
  {
   "cell_type": "code",
   "execution_count": 1,
   "id": "0dff4569",
   "metadata": {},
   "outputs": [],
   "source": [
    "#abstraction\n",
    "\n",
    "from abc import ABC,abstractmethod\n",
    "\n",
    "class A(ABC):\n",
    "    @abstractmethod\n",
    "    def fun1(self):\n",
    "        pass\n",
    "    def fun2(self):\n",
    "        pass\n",
    "\n",
    "class subclass(A):\n",
    "    def fun1(self):\n",
    "        print('this is fun1')"
   ]
  },
  {
   "cell_type": "code",
   "execution_count": null,
   "id": "6d5da7de",
   "metadata": {},
   "outputs": [
    {
     "ename": "TypeError",
     "evalue": "Can't instantiate abstract class A without an implementation for abstract method 'fun1'",
     "output_type": "error",
     "traceback": [
      "\u001b[1;31m---------------------------------------------------------------------------\u001b[0m",
      "\u001b[1;31mTypeError\u001b[0m                                 Traceback (most recent call last)",
      "Cell \u001b[1;32mIn[2], line 1\u001b[0m\n\u001b[1;32m----> 1\u001b[0m s\u001b[38;5;241m=\u001b[39mA()\n\u001b[0;32m      2\u001b[0m s\u001b[38;5;241m.\u001b[39mfun1()\n",
      "\u001b[1;31mTypeError\u001b[0m: Can't instantiate abstract class A without an implementation for abstract method 'fun1'"
     ]
    }
   ],
   "source": [
    "s=A()\n",
    "s.fun1() ## error as we cannot create the object of the abstract class"
   ]
  },
  {
   "cell_type": "code",
   "execution_count": 4,
   "id": "f33cd93b",
   "metadata": {},
   "outputs": [
    {
     "name": "stdout",
     "output_type": "stream",
     "text": [
      "this is fun1\n"
     ]
    }
   ],
   "source": [
    "g=subclass()\n",
    "g.fun1()"
   ]
  },
  {
   "cell_type": "code",
   "execution_count": 8,
   "id": "5046473c",
   "metadata": {},
   "outputs": [],
   "source": [
    "from abc import ABC,abstractmethod\n",
    "\n",
    "class Payment(ABC):\n",
    "    @abstractmethod\n",
    "\n",
    "    def UPI(self,amount):\n",
    "        pass\n",
    "    def Netbanking(self,amount):\n",
    "        pass\n",
    "    def QRCode(self,amount):\n",
    "        pass\n",
    "    def creditcard(self,amount):\n",
    "        pass\n",
    "    def debritcard(self,amount):\n",
    "        pass\n",
    "class subclass(Payment):\n",
    "    def UPI(self,amount):\n",
    "        self.amount = amount\n",
    "        print(f'the amount paid throght UPI is :{self.amount}')\n",
    "    def Netbanking(self,amount):\n",
    "        self.amount = amount\n",
    "        print(f'the amount paid throght Netbanking is :{self.amount}')\n",
    "    def QRCode(self,amount):\n",
    "        self.amount = amount\n",
    "        print(f'the amount paid throght QRCode is :{self.amount}')\n",
    "    def creditcard(self,amount):\n",
    "        self.amount = amount\n",
    "        print(f'the amount paid throght creditcard is :{self.amount}')\n",
    "    def debritcard(self,amount):\n",
    "        self.amount = amount\n",
    "        print(f'the amount paid throght debritcard is :{self.amount}')\n",
    "\n"
   ]
  },
  {
   "cell_type": "code",
   "execution_count": 10,
   "id": "6dfa0881",
   "metadata": {},
   "outputs": [
    {
     "name": "stdout",
     "output_type": "stream",
     "text": [
      "the amount paid throght UPI is :10000\n"
     ]
    }
   ],
   "source": [
    "p1=subclass()\n",
    "p1.UPI(10000)"
   ]
  },
  {
   "cell_type": "code",
   "execution_count": 9,
   "id": "08297bb6",
   "metadata": {},
   "outputs": [
    {
     "ename": "TypeError",
     "evalue": "Can't instantiate abstract class Payment without an implementation for abstract method 'UPI'",
     "output_type": "error",
     "traceback": [
      "\u001b[1;31m---------------------------------------------------------------------------\u001b[0m",
      "\u001b[1;31mTypeError\u001b[0m                                 Traceback (most recent call last)",
      "Cell \u001b[1;32mIn[9], line 1\u001b[0m\n\u001b[1;32m----> 1\u001b[0m p\u001b[38;5;241m=\u001b[39mPayment()\n\u001b[0;32m      2\u001b[0m p\u001b[38;5;241m.\u001b[39mUPI(\u001b[38;5;241m10000\u001b[39m)\n",
      "\u001b[1;31mTypeError\u001b[0m: Can't instantiate abstract class Payment without an implementation for abstract method 'UPI'"
     ]
    }
   ],
   "source": [
    "p=Payment()\n",
    "p.UPI(10000)"
   ]
  },
  {
   "cell_type": "code",
   "execution_count": null,
   "id": "f82c795d",
   "metadata": {},
   "outputs": [
    {
     "name": "stdout",
     "output_type": "stream",
     "text": [
      "the amount paid throght UPI is :10000\n"
     ]
    }
   ],
   "source": [
    "from abc import ABC,abstractmethod\n",
    "\n",
    "class Payment(ABC):\n",
    "    @abstractmethod\n",
    "    def UPI(self,amount):\n",
    "        pass\n",
    "    def Netbanking(self,amount):\n",
    "        pass\n",
    "    def QRCode(self,amount):\n",
    "        pass\n",
    "    def creditcard(self,amount):\n",
    "        pass\n",
    "    def debritcard(self,amount):\n",
    "        pass\n",
    "class sub1(Payment):\n",
    "    def UPI(self,amount):\n",
    "        self.amount = amount\n",
    "        print(f'the amount paid throght UPI is :{self.amount}')\n",
    "\n",
    "class sub2(Payment):\n",
    "        \n",
    "    def Netbanking(self,amount):\n",
    "        self.amount = amount\n",
    "        print(f'the amount paid throght Netbanking is :{self.amount}')\n",
    "class sub3(Payment):\n",
    "    def QRCode(self,amount):\n",
    "        self.amount = amount\n",
    "        print(f'the amount paid throght QRCode is :{self.amount}')\n",
    "class sub4(Payment):\n",
    "    def creditcard(self,amount):\n",
    "        self.amount = amount\n",
    "        print(f'the amount paid throght creditcard is :{self.amount}')\n",
    "class sub5(Payment):\n",
    "    def debritcard(self,amount):\n",
    "        self.amount = amount\n",
    "        print(f'the amount paid throght debritcard is :{self.amount}')\n",
    "\n",
    "a=input('enter the payment method UPI,Netbanking,QRCode,creditcard,debritcard')\n",
    "if a in ['UPI','Netbanking','QRCode','creditcard','debritcard']:\n",
    "    print('valid input')\n",
    "    a=sub1()\n",
    "    a.UPI(10000)\n",
    "\n",
    "if a=='UPI':\n",
    "    a=sub1()\n",
    "    a.UPI(10000)\n",
    "elif a=='Netbanking':\n",
    "    a=sub2() \n",
    "    a.Netbanking(10000)\n",
    "elif a=='QRCode':\n",
    "    a=sub3()\n",
    "    a.QRCode(10000)\n",
    "elif a=='creditcard':\n",
    "    a=sub4()\n",
    "    a.creditcard(10000)\n",
    "elif a =='debritcard':\n",
    "    a=sub5()\n",
    "    a.debritcard(10000)\n",
    "else:\n",
    "    print('invalid input')\n",
    "\n"
   ]
  },
  {
   "cell_type": "code",
   "execution_count": null,
   "id": "2878a0ad",
   "metadata": {},
   "outputs": [
    {
     "name": "stdout",
     "output_type": "stream",
     "text": [
      "the amount paid throght Netbanking is :10000\n"
     ]
    }
   ],
   "source": []
  },
  {
   "cell_type": "code",
   "execution_count": null,
   "id": "ce49db48",
   "metadata": {},
   "outputs": [
    {
     "name": "stdout",
     "output_type": "stream",
     "text": [
      "The amount paid through Credit Card is: 10000\n"
     ]
    }
   ],
   "source": [
    "from abc import ABC, abstractmethod\n",
    "\n",
    "class Payment(ABC):\n",
    "    @abstractmethod\n",
    "    def UPI(self, amount):\n",
    "        pass\n",
    "    def Netbanking(self, amount): \n",
    "        pass\n",
    "    def QRCode(self, amount):\n",
    "        pass\n",
    "    def creditcard(self, amount):\n",
    "        pass\n",
    "    def debritcard(self, amount): \n",
    "        pass\n",
    "\n",
    "class sub1(Payment):\n",
    "    def UPI(self, amount):\n",
    "        print(f'The amount paid through UPI is: {amount}')\n",
    "\n",
    "class sub2(Payment):\n",
    "    def UPI(self, amount):  #  must implement UPI to avoid abstract error\n",
    "        pass\n",
    "    def Netbanking(self, amount):\n",
    "        print(f'The amount paid through Netbanking is: {amount}')\n",
    "\n",
    "class sub3(Payment):\n",
    "    def UPI(self, amount):  #  dummy implementation\n",
    "        pass\n",
    "    def QRCode(self, amount):\n",
    "        print(f'The amount paid through QRCode is: {amount}')\n",
    "\n",
    "class sub4(Payment):\n",
    "    def UPI(self, amount):\n",
    "        pass\n",
    "    def creditcard(self, amount):\n",
    "        print(f'The amount paid through Credit Card is: {amount}')\n",
    "\n",
    "class sub5(Payment):\n",
    "    def UPI(self, amount):\n",
    "        pass\n",
    "    def debritcard(self, amount):\n",
    "        print(f'The amount paid through Debit Card is: {amount}')\n",
    "\n",
    "\n",
    "# User Input\n",
    "a = input(\"Enter the payment method (UPI, Netbanking, QRCode, creditcard, debritcard): \")\n",
    "\n",
    "if a == 'UPI':\n",
    "    obj = sub1()\n",
    "    obj.UPI(10000)\n",
    "elif a == 'Netbanking':\n",
    "    obj = sub2()\n",
    "    obj.Netbanking(10000)\n",
    "elif a == 'QRCode':\n",
    "    obj = sub3()\n",
    "    obj.QRCode(10000)\n",
    "elif a == 'creditcard':\n",
    "    obj = sub4()\n",
    "    obj.creditcard(10000)\n",
    "elif a == 'debritcard':\n",
    "    obj = sub5()\n",
    "    obj.debritcard(10000)\n",
    "else:\n",
    "    print(\"Invalid input\")\n"
   ]
  },
  {
   "cell_type": "code",
   "execution_count": 35,
   "id": "fb70a795",
   "metadata": {},
   "outputs": [],
   "source": [
    "#using the OOPs even or odd, prime,armstrong,palindrome "
   ]
  },
  {
   "cell_type": "code",
   "execution_count": 40,
   "id": "36cdb45a",
   "metadata": {},
   "outputs": [
    {
     "name": "stdout",
     "output_type": "stream",
     "text": [
      "153 is odd\n"
     ]
    }
   ],
   "source": [
    "class p:\n",
    "    def even_odd(self,num):\n",
    "        self.num = num\n",
    "        if self.num%2==0:\n",
    "            print(f'{self.num} is even')\n",
    "        else:\n",
    "            print(f'{self.num} is odd')\n",
    "    def prime(self,num):\n",
    "        self.num = num\n",
    "        if self.num>1:\n",
    "            for i in range(2,self.num):\n",
    "                if self.num%i==0:\n",
    "                    print(f'{self.num} is not prime')\n",
    "                    break\n",
    "            else:\n",
    "                print(f'{self.num} is prime')\n",
    "        else:\n",
    "            print(f'{self.num} is not prime')\n",
    "    def armstrong(self,num):\n",
    "        self.num = num\n",
    "        sum=0\n",
    "        temp=self.num\n",
    "        power=len(temp)\n",
    "        while temp>0:\n",
    "            digit = temp%10\n",
    "            sum+=digit**power\n",
    "            temp//=10\n",
    "        if self.num==sum:\n",
    "            print(f'{self.num} is armstrong')\n",
    "        else:\n",
    "            print(f'{self.num} is not armstrong')\n",
    "    def palindrome(self,num):\n",
    "        self.num = num\n",
    "        \n",
    "        temp = str(self.num)\n",
    "        \n",
    "        if temp==temp[::-1]:\n",
    "            print(f'{self.num} is palindrome')\n",
    "        else:\n",
    "            print(f'{self.num} is not palindrome')\n",
    "a=input('enter the method even_odd,prime,armstrong,palindrome')\n",
    "if a=='even_odd':\n",
    "    n=int(input('enter the number'))\n",
    "    obj=p()\n",
    "    obj.even_odd(n)\n",
    "elif a=='prime':\n",
    "    n=int(input('enter the number'))\n",
    "    obj=p()\n",
    "    obj.prime(n)\n",
    "elif a=='armstrong':\n",
    "    n=int(input('enter the number'))\n",
    "    obj=p()\n",
    "    obj.armstrong(n)\n",
    "elif a=='palindrome':\n",
    "    n=int(input('enter the number'))\n",
    "    obj=p()\n",
    "    obj.palindrome(n)"
   ]
  },
  {
   "cell_type": "code",
   "execution_count": 2,
   "id": "7d65760d",
   "metadata": {},
   "outputs": [
    {
     "name": "stdout",
     "output_type": "stream",
     "text": [
      "121 is not prime\n"
     ]
    }
   ],
   "source": [
    "class p:\n",
    "    def even_odd(self,num):\n",
    "        self.num = num\n",
    "        if self.num%2==0:\n",
    "            print(f'{self.num} is even')\n",
    "        else:\n",
    "            print(f'{self.num} is odd')\n",
    "    def prime(self,num):\n",
    "        self.num = num\n",
    "        if self.num>1:\n",
    "            for i in range(2,self.num):\n",
    "                if self.num%i==0:\n",
    "                    print(f'{self.num} is not prime')\n",
    "                    break\n",
    "            else:\n",
    "                print(f'{self.num} is prime')\n",
    "        else:\n",
    "            print(f'{self.num} is not prime')\n",
    "    def armstrong(self,num):\n",
    "        self.num = num\n",
    "        sum=0\n",
    "        temp=self.num\n",
    "        power=len(temp)\n",
    "        while temp>0:\n",
    "            digit = temp%10\n",
    "            sum+=digit**power\n",
    "            temp//=10\n",
    "        if self.num==sum:\n",
    "            print(f'{self.num} is armstrong')\n",
    "        else:\n",
    "            print(f'{self.num} is not armstrong')\n",
    "    def palindrome(self,num):\n",
    "        self.num = num\n",
    "        \n",
    "        temp = str(self.num)\n",
    "        \n",
    "        if temp==temp[::-1]:\n",
    "            print(f'{self.num} is palindrome')\n",
    "        else:\n",
    "            print(f'{self.num} is not palindrome')\n",
    "a=input('enter the method even_odd,prime,armstrong,palindrome')\n",
    "if a=='even_odd':\n",
    "    n=int(input('enter the number'))\n",
    "    obj=p()\n",
    "    obj.even_odd(n)\n",
    "elif a=='prime':\n",
    "    n=int(input('enter the number'))\n",
    "    obj=p()\n",
    "    obj.prime(n)\n",
    "elif a=='armstrong':\n",
    "    n=int(input('enter the number'))\n",
    "    obj=p()\n",
    "    obj.armstrong(n)\n",
    "elif a=='palindrome':\n",
    "    n=int(input('enter the number'))\n",
    "    obj=p()\n",
    "    obj.palindrome(n)"
   ]
  },
  {
   "cell_type": "code",
   "execution_count": null,
   "id": "e66cc636",
   "metadata": {},
   "outputs": [],
   "source": [
    "class A:\n",
    "    p=30 # class variable\n",
    "    def meth1(self,a):#instance variable\n",
    "        self.a=a\n",
    "    \n",
    "    @classmethod\n",
    "    def meth2(cls,b):# classmethod cannot access the instance variable directly\n",
    "        cls.b=b\n",
    "        print(cls.p,cls.b)\n",
    "    @staticmethod\n",
    "    def meth3():\n",
    "        c=90\n",
    "        print(c)"
   ]
  },
  {
   "cell_type": "code",
   "execution_count": 42,
   "id": "da45f5e4",
   "metadata": {},
   "outputs": [],
   "source": [
    "m=A()\n",
    "m.meth1(12)"
   ]
  },
  {
   "cell_type": "code",
   "execution_count": 44,
   "id": "282df0ff",
   "metadata": {},
   "outputs": [
    {
     "name": "stdout",
     "output_type": "stream",
     "text": [
      "30 45\n",
      "90\n"
     ]
    }
   ],
   "source": [
    "m.meth2(45)\n",
    "m.meth3()"
   ]
  },
  {
   "cell_type": "code",
   "execution_count": null,
   "id": "cff66718",
   "metadata": {},
   "outputs": [],
   "source": []
  }
 ],
 "metadata": {
  "kernelspec": {
   "display_name": "base",
   "language": "python",
   "name": "python3"
  },
  "language_info": {
   "codemirror_mode": {
    "name": "ipython",
    "version": 3
   },
   "file_extension": ".py",
   "mimetype": "text/x-python",
   "name": "python",
   "nbconvert_exporter": "python",
   "pygments_lexer": "ipython3",
   "version": "3.13.5"
  }
 },
 "nbformat": 4,
 "nbformat_minor": 5
}
