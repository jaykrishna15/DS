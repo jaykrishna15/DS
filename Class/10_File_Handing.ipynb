{
 "cells": [
  {
   "cell_type": "code",
   "execution_count": 1,
   "id": "266c4410",
   "metadata": {},
   "outputs": [
    {
     "data": {
      "text/plain": [
       "'jay'"
      ]
     },
     "execution_count": 1,
     "metadata": {},
     "output_type": "execute_result"
    }
   ],
   "source": [
    "'jay'"
   ]
  },
  {
   "cell_type": "code",
   "execution_count": 8,
   "id": "b63dd509",
   "metadata": {},
   "outputs": [],
   "source": [
    "a=open(\"D:/DS/Class/file1.txt\",mode='r')"
   ]
  },
  {
   "cell_type": "code",
   "execution_count": 9,
   "id": "d8d9dd12",
   "metadata": {},
   "outputs": [
    {
     "data": {
      "text/plain": [
       "'jay krishna\\n22\\n5.7\\nDS'"
      ]
     },
     "execution_count": 9,
     "metadata": {},
     "output_type": "execute_result"
    }
   ],
   "source": [
    "a.read()"
   ]
  },
  {
   "cell_type": "code",
   "execution_count": 10,
   "id": "c8420335",
   "metadata": {},
   "outputs": [],
   "source": [
    "b = open('file1.txt')"
   ]
  },
  {
   "cell_type": "code",
   "execution_count": 11,
   "id": "1a015f4b",
   "metadata": {},
   "outputs": [
    {
     "data": {
      "text/plain": [
       "'jay krishna\\n22\\n5.7\\nDS'"
      ]
     },
     "execution_count": 11,
     "metadata": {},
     "output_type": "execute_result"
    }
   ],
   "source": [
    "b.read()"
   ]
  },
  {
   "cell_type": "code",
   "execution_count": 4,
   "id": "78573373",
   "metadata": {},
   "outputs": [
    {
     "data": {
      "text/plain": [
       "''"
      ]
     },
     "execution_count": 4,
     "metadata": {},
     "output_type": "execute_result"
    }
   ],
   "source": [
    "a=open(\"D:/DS/Class/file1.txt\",mode='r')\n",
    "a.read()\n",
    "a.read()\n",
    "# cursor is at the end of the file\n",
    "a.readline()"
   ]
  },
  {
   "cell_type": "code",
   "execution_count": 5,
   "id": "00241f65",
   "metadata": {},
   "outputs": [
    {
     "data": {
      "text/plain": [
       "'jay krishna\\n'"
      ]
     },
     "execution_count": 5,
     "metadata": {},
     "output_type": "execute_result"
    }
   ],
   "source": [
    "a=open(\"D:/DS/Class/file1.txt\",mode='r')\n",
    "a.readline()"
   ]
  },
  {
   "cell_type": "code",
   "execution_count": 10,
   "id": "5e1a27ef",
   "metadata": {},
   "outputs": [
    {
     "data": {
      "text/plain": [
       "['jay krishna\\n', '22\\n', '5.7\\n', 'DS']"
      ]
     },
     "execution_count": 10,
     "metadata": {},
     "output_type": "execute_result"
    }
   ],
   "source": [
    "a=open(\"D:/DS/Class/file1.txt\",mode='r')\n",
    "c=a.readlines()\n",
    "c"
   ]
  },
  {
   "cell_type": "code",
   "execution_count": 11,
   "id": "8f5f9513",
   "metadata": {},
   "outputs": [
    {
     "name": "stdout",
     "output_type": "stream",
     "text": [
      "jay krishna\n",
      "\n",
      "22\n",
      "\n",
      "5.7\n",
      "\n",
      "DS\n"
     ]
    }
   ],
   "source": [
    "a=open(\"D:/DS/Class/file1.txt\",mode='r')\n",
    "c=a.readlines()\n",
    "for i in c:\n",
    "    print(i)"
   ]
  },
  {
   "cell_type": "code",
   "execution_count": 7,
   "id": "8ede4aee",
   "metadata": {},
   "outputs": [
    {
     "data": {
      "text/plain": [
       "True"
      ]
     },
     "execution_count": 7,
     "metadata": {},
     "output_type": "execute_result"
    }
   ],
   "source": [
    "a.readable()"
   ]
  },
  {
   "cell_type": "code",
   "execution_count": 12,
   "id": "0fba544a",
   "metadata": {},
   "outputs": [],
   "source": [
    "with open(file ='file2.txt',mode='w') as f:\n",
    "    f.write('this is new file')\n",
    "    f.close()"
   ]
  },
  {
   "cell_type": "code",
   "execution_count": null,
   "id": "a41415e9",
   "metadata": {},
   "outputs": [
    {
     "data": {
      "text/plain": [
       "'this is new file'"
      ]
     },
     "execution_count": 13,
     "metadata": {},
     "output_type": "execute_result"
    }
   ],
   "source": [
    "a=open('file2.txt',mode='r')\n",
    "a.read()"
   ]
  },
  {
   "cell_type": "code",
   "execution_count": 14,
   "id": "317b28d2",
   "metadata": {},
   "outputs": [],
   "source": [
    "a=open('file3.txt',mode='w')\n",
    "a.write('this is file 3')\n",
    "a.close()\n"
   ]
  },
  {
   "cell_type": "code",
   "execution_count": 16,
   "id": "ae22fcf6",
   "metadata": {},
   "outputs": [
    {
     "ename": "ValueError",
     "evalue": "I/O operation on closed file.",
     "output_type": "error",
     "traceback": [
      "\u001b[1;31m---------------------------------------------------------------------------\u001b[0m",
      "\u001b[1;31mValueError\u001b[0m                                Traceback (most recent call last)",
      "Cell \u001b[1;32mIn[16], line 1\u001b[0m\n\u001b[1;32m----> 1\u001b[0m a\u001b[38;5;241m.\u001b[39mread()\n",
      "\u001b[1;31mValueError\u001b[0m: I/O operation on closed file."
     ]
    }
   ],
   "source": [
    "a.read() # cannot write in read mode,i cannot open file in write mode and read from it "
   ]
  },
  {
   "cell_type": "code",
   "execution_count": 18,
   "id": "57a05bbb",
   "metadata": {},
   "outputs": [
    {
     "data": {
      "text/plain": [
       "'this is file 3'"
      ]
     },
     "execution_count": 18,
     "metadata": {},
     "output_type": "execute_result"
    }
   ],
   "source": [
    "b =open('file3.txt','r')\n",
    "b.read()"
   ]
  },
  {
   "cell_type": "code",
   "execution_count": 19,
   "id": "b68af4f1",
   "metadata": {},
   "outputs": [
    {
     "data": {
      "text/plain": [
       "'this is new file'"
      ]
     },
     "execution_count": 19,
     "metadata": {},
     "output_type": "execute_result"
    }
   ],
   "source": [
    "a=open('file2.txt',mode='r')\n",
    "a.read()"
   ]
  },
  {
   "cell_type": "code",
   "execution_count": 23,
   "id": "1d86d0ec",
   "metadata": {},
   "outputs": [],
   "source": [
    "a=open('file2.txt',mode='w')\n",
    "a.write('111')\n",
    "a.write('222')\n",
    "a.write('333')\n",
    "a.write('444')\n",
    "a.close()\n",
    "# the writw method take the input and remove the old data in the file"
   ]
  },
  {
   "cell_type": "code",
   "execution_count": null,
   "id": "a68a0939",
   "metadata": {},
   "outputs": [
    {
     "data": {
      "text/plain": [
       "'111222333444'"
      ]
     },
     "execution_count": 24,
     "metadata": {},
     "output_type": "execute_result"
    }
   ],
   "source": [
    "b= open('file2.txt','r')\n",
    "b.read()\n",
    "# it showing in the single line because we have not used \\n for new line while writing the file"
   ]
  },
  {
   "cell_type": "code",
   "execution_count": 25,
   "id": "3966fdf1",
   "metadata": {},
   "outputs": [],
   "source": [
    "a=open('file2.txt',mode='w')\n",
    "a.write('111\\n')\n",
    "a.write('222\\n')\n",
    "a.write('333\\n')\n",
    "a.write('444\\n')\n",
    "a.close()\n",
    "# the writw method take the input and remove the old data in the file"
   ]
  },
  {
   "cell_type": "code",
   "execution_count": 26,
   "id": "c84453b2",
   "metadata": {},
   "outputs": [
    {
     "data": {
      "text/plain": [
       "'111\\n222\\n333\\n444\\n'"
      ]
     },
     "execution_count": 26,
     "metadata": {},
     "output_type": "execute_result"
    }
   ],
   "source": [
    "b=open('file2.txt','r')\n",
    "b.read()"
   ]
  },
  {
   "cell_type": "code",
   "execution_count": 1,
   "id": "cacb3d6d",
   "metadata": {},
   "outputs": [],
   "source": [
    "a=open('file3.txt','a')#append mode\n",
    "a.write('111\\n')\n",
    "a.write('222\\n')\n",
    "a.write('333\\n')\n",
    "a.write('444\\n')\n",
    "a.close()"
   ]
  },
  {
   "cell_type": "code",
   "execution_count": 6,
   "id": "1a4cdac3",
   "metadata": {},
   "outputs": [
    {
     "data": {
      "text/plain": [
       "'this is file 3111\\n222\\n333\\n444\\n111\\n222\\n333\\n444\\n555\\n'"
      ]
     },
     "execution_count": 6,
     "metadata": {},
     "output_type": "execute_result"
    }
   ],
   "source": [
    "b = open('file3.txt','r')\n",
    "b.read()\n"
   ]
  },
  {
   "cell_type": "code",
   "execution_count": 4,
   "id": "1d40fc6c",
   "metadata": {},
   "outputs": [],
   "source": [
    "a=open('file3.txt','a')#append mode\n",
    "a.write('555\\n')\n",
    "a.close()\n"
   ]
  },
  {
   "cell_type": "code",
   "execution_count": 39,
   "id": "de031197",
   "metadata": {},
   "outputs": [
    {
     "name": "stdout",
     "output_type": "stream",
     "text": [
      "this is functions file\n"
     ]
    },
    {
     "ename": "NameError",
     "evalue": "name 'even_odd' is not defined",
     "output_type": "error",
     "traceback": [
      "\u001b[1;31m---------------------------------------------------------------------------\u001b[0m",
      "\u001b[1;31mNameError\u001b[0m                                 Traceback (most recent call last)",
      "Cell \u001b[1;32mIn[39], line 3\u001b[0m\n\u001b[0;32m      1\u001b[0m \u001b[38;5;28;01mfrom\u001b[39;00m\u001b[38;5;250m \u001b[39m\u001b[38;5;21;01mnew_python\u001b[39;00m\u001b[38;5;250m \u001b[39m\u001b[38;5;28;01mimport\u001b[39;00m \u001b[38;5;241m*\u001b[39m \n\u001b[0;32m      2\u001b[0m fun()\n\u001b[1;32m----> 3\u001b[0m even_odd()\n",
      "\u001b[1;31mNameError\u001b[0m: name 'even_odd' is not defined"
     ]
    }
   ],
   "source": [
    "from new_python import * \n",
    "fun()\n",
    "even_odd()\n",
    "\n"
   ]
  },
  {
   "cell_type": "code",
   "execution_count": 37,
   "id": "55cfe66f",
   "metadata": {},
   "outputs": [
    {
     "ename": "ImportError",
     "evalue": "cannot import name 'even_odd' from 'new_python' (d:\\DS\\Class\\new_python.py)",
     "output_type": "error",
     "traceback": [
      "\u001b[1;31m---------------------------------------------------------------------------\u001b[0m",
      "\u001b[1;31mImportError\u001b[0m                               Traceback (most recent call last)",
      "Cell \u001b[1;32mIn[37], line 1\u001b[0m\n\u001b[1;32m----> 1\u001b[0m \u001b[38;5;28;01mfrom\u001b[39;00m\u001b[38;5;250m \u001b[39m\u001b[38;5;21;01mnew_python\u001b[39;00m\u001b[38;5;250m \u001b[39m\u001b[38;5;28;01mimport\u001b[39;00m even_odd\n\u001b[0;32m      3\u001b[0m even_odd(\u001b[38;5;241m10\u001b[39m)\n",
      "\u001b[1;31mImportError\u001b[0m: cannot import name 'even_odd' from 'new_python' (d:\\DS\\Class\\new_python.py)"
     ]
    }
   ],
   "source": [
    "from new_python import even_odd\n",
    "\n",
    "even_odd(10)"
   ]
  },
  {
   "cell_type": "code",
   "execution_count": 43,
   "id": "7f1583ab",
   "metadata": {},
   "outputs": [
    {
     "name": "stdout",
     "output_type": "stream",
     "text": [
      "this is functions file\n",
      "10 is even\n",
      "not prime\n",
      "not prime\n",
      "not prime\n",
      "prime\n"
     ]
    }
   ],
   "source": [
    "from new_python2 import * \n",
    "fun()\n",
    "even_odd(10)\n",
    "prime_num(5)\n"
   ]
  },
  {
   "cell_type": "code",
   "execution_count": 54,
   "id": "520388a0",
   "metadata": {},
   "outputs": [],
   "source": [
    "from random import *\n",
    "def pop(guess_num):\n",
    "    s=[]\n",
    "    i=0\n",
    "    while i<=10:\n",
    "        s.append(randint(1,1000))\n",
    "        i+=1\n",
    "    print(s)\n",
    "    \n",
    "    if guess_num == s:\n",
    "        print('you win')\n",
    "    else:\n",
    "        print('try again')"
   ]
  },
  {
   "cell_type": "code",
   "execution_count": 55,
   "id": "8f1fb92b",
   "metadata": {},
   "outputs": [
    {
     "name": "stdout",
     "output_type": "stream",
     "text": [
      "[353, 883, 201, 279, 277, 818, 834, 674, 923, 557, 608]\n",
      "try again\n"
     ]
    }
   ],
   "source": [
    "pop(3)\n"
   ]
  },
  {
   "cell_type": "code",
   "execution_count": 53,
   "id": "309c97bd",
   "metadata": {},
   "outputs": [
    {
     "name": "stdout",
     "output_type": "stream",
     "text": [
      "[991, 42, 513, 475, 337, 576, 624, 189, 250, 122, 180]\n"
     ]
    }
   ],
   "source": [
    "from random import *\n",
    "s=[]\n",
    "i=0\n",
    "while i<=10:\n",
    "    s.append(randint(1,1000))\n",
    "    i+=1\n",
    "print(s)\n"
   ]
  },
  {
   "cell_type": "code",
   "execution_count": 1,
   "id": "4d8fe482",
   "metadata": {},
   "outputs": [
    {
     "data": {
      "text/plain": [
       "'this is file 3111\\n222\\n333\\n444\\n111\\n222\\n333\\n444\\n555\\n'"
      ]
     },
     "execution_count": 1,
     "metadata": {},
     "output_type": "execute_result"
    }
   ],
   "source": [
    "a= open('file3.txt','r')\n",
    "a.read()"
   ]
  },
  {
   "cell_type": "code",
   "execution_count": 2,
   "id": "3a748d65",
   "metadata": {},
   "outputs": [
    {
     "data": {
      "text/plain": [
       "\"def fun():\\n    print('this is functions file')\\n\\ndef even_odd(n):\\n    \\n    ''' this is function to check even odd'''\\n\\n    if n%2==0:\\n        print(n,'is even')\\n    else:\\n        print(n,'is odd')\\n\\n\\ndef prime_num(n):\\n    ''' this is function for prime number'''\\n    if n<=1:\\n        print('not prime')\\n    for i in range(2,n):\\n        if n%i==0:\\n            print('not prime')\\n            break\\n        \\n    else:\\n        print('prime')\\n\\nfrom random import *\\ndef pop(guess_num):\\n    ''' this is function guess number in set'''\\n    s=[]\\n    i=0\\n    while i<=10:\\n        s.append(randint(1,1000))\\n        i+=1\\n    print(s)\\n    \\n    if guess_num == s:\\n        print('you win')\\n    else:\\n        print('try again')\""
      ]
     },
     "execution_count": 2,
     "metadata": {},
     "output_type": "execute_result"
    }
   ],
   "source": [
    "a= open('new_python3.py','r')\n",
    "a.read()"
   ]
  },
  {
   "cell_type": "code",
   "execution_count": 3,
   "id": "c09efee8",
   "metadata": {},
   "outputs": [],
   "source": [
    "a.close()"
   ]
  },
  {
   "cell_type": "code",
   "execution_count": 7,
   "id": "6c3e92c1",
   "metadata": {},
   "outputs": [
    {
     "name": "stdout",
     "output_type": "stream",
     "text": [
      "[811, 265, 20, 156, 287, 786, 669, 852, 186, 333, 246]\n",
      "try again\n",
      "[492, 989, 107, 51, 755, 578, 883, 226, 685, 953, 547]\n",
      "try again\n",
      "[298, 3, 694, 86, 119, 916, 269, 579, 170, 883, 541]\n",
      "try again\n"
     ]
    }
   ],
   "source": [
    "from new_python3 import *\n",
    "pop(21)\n",
    "pop(31)\n",
    "pop(0)"
   ]
  },
  {
   "cell_type": "code",
   "execution_count": 1,
   "id": "c4b17c73",
   "metadata": {},
   "outputs": [
    {
     "name": "stdout",
     "output_type": "stream",
     "text": [
      "try again\n"
     ]
    }
   ],
   "source": [
    "from new_python3 import *\n",
    "pop(21)"
   ]
  },
  {
   "cell_type": "code",
   "execution_count": null,
   "id": "41602b2b",
   "metadata": {},
   "outputs": [],
   "source": []
  }
 ],
 "metadata": {
  "kernelspec": {
   "display_name": "base",
   "language": "python",
   "name": "python3"
  },
  "language_info": {
   "codemirror_mode": {
    "name": "ipython",
    "version": 3
   },
   "file_extension": ".py",
   "mimetype": "text/x-python",
   "name": "python",
   "nbconvert_exporter": "python",
   "pygments_lexer": "ipython3",
   "version": "3.13.5"
  }
 },
 "nbformat": 4,
 "nbformat_minor": 5
}
