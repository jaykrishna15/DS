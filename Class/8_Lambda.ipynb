{
 "cells": [
  {
   "cell_type": "code",
   "execution_count": 1,
   "id": "6c3cde74",
   "metadata": {},
   "outputs": [
    {
     "data": {
      "text/plain": [
       "'Jay'"
      ]
     },
     "execution_count": 1,
     "metadata": {},
     "output_type": "execute_result"
    }
   ],
   "source": [
    "'Jay'"
   ]
  },
  {
   "cell_type": "code",
   "execution_count": 2,
   "id": "706281c2",
   "metadata": {},
   "outputs": [
    {
     "data": {
      "text/plain": [
       "'yes'"
      ]
     },
     "execution_count": 2,
     "metadata": {},
     "output_type": "execute_result"
    }
   ],
   "source": [
    "a = lambda i:'yes' if i else 'No'\n",
    "a(1)"
   ]
  },
  {
   "cell_type": "code",
   "execution_count": 4,
   "id": "f5eb9410",
   "metadata": {},
   "outputs": [
    {
     "data": {
      "text/plain": [
       "'odd'"
      ]
     },
     "execution_count": 4,
     "metadata": {},
     "output_type": "execute_result"
    }
   ],
   "source": [
    "even_odd1 = lambda num :'even' if num%2==0 else 'odd'\n",
    "even_odd1(1)"
   ]
  },
  {
   "cell_type": "code",
   "execution_count": 5,
   "id": "c18f93a7",
   "metadata": {},
   "outputs": [
    {
     "name": "stdout",
     "output_type": "stream",
     "text": [
      "1 <class 'int'>\n",
      "2 <class 'int'>\n",
      "3 <class 'int'>\n"
     ]
    },
    {
     "data": {
      "text/plain": [
       "[None, None, None]"
      ]
     },
     "execution_count": 5,
     "metadata": {},
     "output_type": "execute_result"
    }
   ],
   "source": [
    "def fun1(a):\n",
    "    print(a,type(a))\n",
    "\n",
    "\n",
    "a=[1,2,3]\n",
    "s = list(map(fun1,a))\n",
    "s"
   ]
  },
  {
   "cell_type": "code",
   "execution_count": null,
   "id": "6e9e0585",
   "metadata": {},
   "outputs": [
    {
     "data": {
      "text/plain": [
       "[(1, int), (2, int), (3, int)]"
      ]
     },
     "execution_count": 6,
     "metadata": {},
     "output_type": "execute_result"
    }
   ],
   "source": [
    "def fun1(a):\n",
    "    return a,type(a)\n",
    "\n",
    "\n",
    "a=[1,2,3]\n",
    "s = list(map(fun1,a)) # combines a function and a iterable\n",
    "s"
   ]
  },
  {
   "cell_type": "code",
   "execution_count": 7,
   "id": "bbfd8e62",
   "metadata": {},
   "outputs": [],
   "source": [
    "### return throws the output and print is print of o/p"
   ]
  },
  {
   "cell_type": "code",
   "execution_count": 8,
   "id": "4bb89007",
   "metadata": {},
   "outputs": [
    {
     "data": {
      "text/plain": [
       "[1, 8, 27]"
      ]
     },
     "execution_count": 8,
     "metadata": {},
     "output_type": "execute_result"
    }
   ],
   "source": [
    "def cube(a):\n",
    "    return a**3\n",
    "a = [1,2,3]\n",
    "s = list(map(cube,a))\n",
    "s"
   ]
  },
  {
   "cell_type": "code",
   "execution_count": 9,
   "id": "388bcab4",
   "metadata": {},
   "outputs": [
    {
     "data": {
      "text/plain": [
       "[2, 4]"
      ]
     },
     "execution_count": 9,
     "metadata": {},
     "output_type": "execute_result"
    }
   ],
   "source": [
    "def even(a):\n",
    "    if a%2==0:\n",
    "        return True\n",
    "    return False\n",
    "a=[1,2,3,4]\n",
    "f =list(filter(even,a))\n",
    "f"
   ]
  },
  {
   "cell_type": "code",
   "execution_count": 11,
   "id": "73ec27ce",
   "metadata": {},
   "outputs": [
    {
     "data": {
      "text/plain": [
       "15"
      ]
     },
     "execution_count": 11,
     "metadata": {},
     "output_type": "execute_result"
    }
   ],
   "source": [
    "from functools import reduce\n",
    "def red(a,b):\n",
    "    return a+b\n",
    "m = [1,2,3,4,5]\n",
    "d = reduce(red,m)\n",
    "d"
   ]
  },
  {
   "cell_type": "code",
   "execution_count": 12,
   "id": "554e3eca",
   "metadata": {},
   "outputs": [
    {
     "data": {
      "text/plain": [
       "120"
      ]
     },
     "execution_count": 12,
     "metadata": {},
     "output_type": "execute_result"
    }
   ],
   "source": [
    "\n",
    "def red(a,b):\n",
    "    return a*b\n",
    "m = [1,2,3,4,5]\n",
    "d = reduce(red,m)\n",
    "d"
   ]
  },
  {
   "cell_type": "code",
   "execution_count": null,
   "id": "9738d2a3",
   "metadata": {},
   "outputs": [
    {
     "data": {
      "text/plain": [
       "0.3091437390183325"
      ]
     },
     "execution_count": 16,
     "metadata": {},
     "output_type": "execute_result"
    }
   ],
   "source": [
    "import random as r\n",
    "r.random()\n"
   ]
  },
  {
   "cell_type": "code",
   "execution_count": 14,
   "id": "adad4bfd",
   "metadata": {},
   "outputs": [],
   "source": [
    "import numpy as np\n",
    "import pandas as pd\n",
    "import matplotlib.pyplot as plt\n",
    "import seaborn as sns\n",
    "import plotly as py"
   ]
  },
  {
   "cell_type": "code",
   "execution_count": 17,
   "id": "d4125bb0",
   "metadata": {},
   "outputs": [
    {
     "data": {
      "text/plain": [
       "0.30764064401256863"
      ]
     },
     "execution_count": 17,
     "metadata": {},
     "output_type": "execute_result"
    }
   ],
   "source": [
    "from random import random as r\n",
    "r()"
   ]
  },
  {
   "cell_type": "code",
   "execution_count": 18,
   "id": "496053bf",
   "metadata": {},
   "outputs": [
    {
     "data": {
      "text/plain": [
       "0.8966475091617637"
      ]
     },
     "execution_count": 18,
     "metadata": {},
     "output_type": "execute_result"
    }
   ],
   "source": [
    "from random import *\n",
    "random()"
   ]
  },
  {
   "cell_type": "code",
   "execution_count": 24,
   "id": "96577ad2",
   "metadata": {},
   "outputs": [
    {
     "name": "stdout",
     "output_type": "stream",
     "text": [
      "2\n",
      "3\n"
     ]
    },
    {
     "data": {
      "text/plain": [
       "4.0"
      ]
     },
     "execution_count": 24,
     "metadata": {},
     "output_type": "execute_result"
    }
   ],
   "source": [
    "from math import *\n",
    "print(floor(2.2))\n",
    "print(ceil(2.5))\n",
    "sqrt(16)\n"
   ]
  },
  {
   "cell_type": "code",
   "execution_count": 25,
   "id": "77afbc51",
   "metadata": {},
   "outputs": [
    {
     "data": {
      "text/plain": [
       "8"
      ]
     },
     "execution_count": 25,
     "metadata": {},
     "output_type": "execute_result"
    }
   ],
   "source": [
    "from random import *\n",
    "random()\n",
    "randint(1,20)"
   ]
  },
  {
   "cell_type": "code",
   "execution_count": 1,
   "id": "73cf9e98",
   "metadata": {},
   "outputs": [
    {
     "data": {
      "text/plain": [
       "'yes '"
      ]
     },
     "execution_count": 1,
     "metadata": {},
     "output_type": "execute_result"
    }
   ],
   "source": [
    "a = lambda i,j:'yes ' if i%j ==0 else 'no'\n",
    "a(10,2)"
   ]
  },
  {
   "cell_type": "code",
   "execution_count": 6,
   "id": "fcd3b005",
   "metadata": {},
   "outputs": [
    {
     "data": {
      "text/plain": [
       "5040"
      ]
     },
     "execution_count": 6,
     "metadata": {},
     "output_type": "execute_result"
    }
   ],
   "source": [
    "def fact(num):\n",
    "    if num==0 or num==1:\n",
    "        return 1\n",
    "    else:\n",
    "        return num*fact(num-1)\n",
    "    \n",
    "fact(5)\n",
    "fact(7)"
   ]
  },
  {
   "cell_type": "code",
   "execution_count": 5,
   "id": "a86ea5a2",
   "metadata": {},
   "outputs": [
    {
     "ename": "SyntaxError",
     "evalue": "invalid syntax (1847177700.py, line 5)",
     "output_type": "error",
     "traceback": [
      "\u001b[1;36m  Cell \u001b[1;32mIn[5], line 5\u001b[1;36m\u001b[0m\n\u001b[1;33m    b* = a-i\u001b[0m\n\u001b[1;37m       ^\u001b[0m\n\u001b[1;31mSyntaxError\u001b[0m\u001b[1;31m:\u001b[0m invalid syntax\n"
     ]
    }
   ],
   "source": [
    "def fact(a):\n",
    "    i =0\n",
    "    b =1\n",
    "    while(i<a):\n",
    "        b* = a-i\n",
    "        i+=1\n",
    "    return b\n",
    "fact(1)"
   ]
  },
  {
   "cell_type": "code",
   "execution_count": 13,
   "id": "88654f79",
   "metadata": {},
   "outputs": [],
   "source": [
    "def fun(n):\n",
    "    i =10\n",
    "\n",
    "    while (n>i):\n",
    "        if i==0:\n",
    "            print('Happy new year')\n",
    "        else:\n",
    "            print(i)\n",
    "            i-=1\n",
    "\n",
    "\n",
    "    \n",
    "fun(10)"
   ]
  },
  {
   "cell_type": "code",
   "execution_count": 18,
   "id": "614bbf80",
   "metadata": {},
   "outputs": [
    {
     "name": "stdout",
     "output_type": "stream",
     "text": [
      "5\n",
      "4\n",
      "3\n",
      "2\n",
      "1\n",
      "Happy new year\n"
     ]
    }
   ],
   "source": [
    "def fun(n):\n",
    "    while n >= 0:   # run until 0 also\n",
    "        if n == 0:\n",
    "            print(\"Happy new year\")\n",
    "        else:\n",
    "            print(n)\n",
    "        n -= 1\n",
    "\n",
    "fun(5)\n"
   ]
  },
  {
   "cell_type": "code",
   "execution_count": 19,
   "id": "81344411",
   "metadata": {},
   "outputs": [
    {
     "name": "stdout",
     "output_type": "stream",
     "text": [
      "0 1 1 2 3 "
     ]
    }
   ],
   "source": [
    "def fib(n):\n",
    "    a,b =0,1\n",
    "    for i in range(n):\n",
    "        print(a,end =' ')\n",
    "        a,b=b,a+b\n",
    "fib(5)"
   ]
  },
  {
   "cell_type": "code",
   "execution_count": 20,
   "id": "19563228",
   "metadata": {},
   "outputs": [
    {
     "name": "stdout",
     "output_type": "stream",
     "text": [
      "5\n",
      "4\n",
      "3\n",
      "2\n",
      "1\n"
     ]
    },
    {
     "data": {
      "text/plain": [
       "'happy'"
      ]
     },
     "execution_count": 20,
     "metadata": {},
     "output_type": "execute_result"
    }
   ],
   "source": [
    "def new(n):\n",
    "    if n ==0:\n",
    "        return 'happy'\n",
    "    else:\n",
    "        print(n)\n",
    "        return new(n-1)\n",
    "new(5)"
   ]
  },
  {
   "cell_type": "code",
   "execution_count": null,
   "id": "e7123823",
   "metadata": {},
   "outputs": [],
   "source": []
  }
 ],
 "metadata": {
  "kernelspec": {
   "display_name": "base",
   "language": "python",
   "name": "python3"
  },
  "language_info": {
   "codemirror_mode": {
    "name": "ipython",
    "version": 3
   },
   "file_extension": ".py",
   "mimetype": "text/x-python",
   "name": "python",
   "nbconvert_exporter": "python",
   "pygments_lexer": "ipython3",
   "version": "3.13.5"
  }
 },
 "nbformat": 4,
 "nbformat_minor": 5
}
