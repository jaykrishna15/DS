{
 "cells": [
  {
   "cell_type": "code",
   "execution_count": 11,
   "id": "a6227d0d",
   "metadata": {},
   "outputs": [
    {
     "ename": "IndexError",
     "evalue": "list index out of range",
     "output_type": "error",
     "traceback": [
      "\u001b[1;31m---------------------------------------------------------------------------\u001b[0m",
      "\u001b[1;31mIndexError\u001b[0m                                Traceback (most recent call last)",
      "Cell \u001b[1;32mIn[11], line 4\u001b[0m\n\u001b[0;32m      2\u001b[0m s\u001b[38;5;241m=\u001b[39mlst[\u001b[38;5;241m0\u001b[39m]\n\u001b[0;32m      3\u001b[0m \u001b[38;5;28;01mfor\u001b[39;00m i \u001b[38;5;129;01min\u001b[39;00m lst:\n\u001b[1;32m----> 4\u001b[0m     \u001b[38;5;28;01mif\u001b[39;00m(s\u001b[38;5;241m<\u001b[39mlst[i]):\n\u001b[0;32m      5\u001b[0m         lst[i]\u001b[38;5;241m=\u001b[39ms\n\u001b[0;32m      6\u001b[0m \u001b[38;5;28mprint\u001b[39m(s)\n",
      "\u001b[1;31mIndexError\u001b[0m: list index out of range"
     ]
    }
   ],
   "source": [
    "lst=[1,2,3,4,10]\n",
    "s=lst[0]\n",
    "for i in lst:\n",
    "    if(s<lst[i]):\n",
    "        lst[i]=s\n",
    "print(s)"
   ]
  },
  {
   "cell_type": "markdown",
   "id": "99a158cf",
   "metadata": {},
   "source": [
    "### Types of Error"
   ]
  },
  {
   "cell_type": "markdown",
   "id": "c069091a",
   "metadata": {},
   "source": [
    "Error handling:- helps us create code that identifies future error and gives a helpful response to the user,so that they can work better the code\n",
    "\n",
    "\n"
   ]
  },
  {
   "cell_type": "code",
   "execution_count": null,
   "id": "f2fafacf",
   "metadata": {},
   "outputs": [],
   "source": [
    "##types of error\n"
   ]
  },
  {
   "cell_type": "code",
   "execution_count": 13,
   "id": "87c4cef7",
   "metadata": {},
   "outputs": [
    {
     "name": "stdout",
     "output_type": "stream",
     "text": [
      "Give integer value\n"
     ]
    }
   ],
   "source": [
    "#Typeerror:- data types error\n",
    "# error hadling is done using try except block\n",
    "\n",
    "try:\n",
    "    a= int(input('enter the values'))\n",
    "    print(a)\n",
    "    for i in range(a):\n",
    "        print(i)\n",
    "except:\n",
    "    print('Give integer value')"
   ]
  },
  {
   "cell_type": "code",
   "execution_count": null,
   "id": "9c19cdc7",
   "metadata": {},
   "outputs": [
    {
     "name": "stdout",
     "output_type": "stream",
     "text": [
      "jay\n",
      "Give integer value\n"
     ]
    }
   ],
   "source": [
    "try:\n",
    "    a='jay'\n",
    "    b= (input('enter the values for b'))\n",
    "    b=int(b)\n",
    "    print(a)\n",
    "    for i in range(a):\n",
    "        print(i)\n",
    "    \n",
    "except TypeError:\n",
    "    print('Give integer value')\n",
    "except ValueError:\n",
    "    print('Give proper value')"
   ]
  },
  {
   "cell_type": "code",
   "execution_count": 18,
   "id": "93bfc8e5",
   "metadata": {},
   "outputs": [
    {
     "name": "stdout",
     "output_type": "stream",
     "text": [
      "jay\n",
      "0\n",
      "1\n",
      "2\n",
      "cannot divide by zero\n"
     ]
    }
   ],
   "source": [
    "try:\n",
    "    a='jay'\n",
    "    b= (input('enter the values for b'))\n",
    "    b=int(b)\n",
    "    print(a)\n",
    "    for i in range(len(a)):\n",
    "        print(i)\n",
    "    print(b/0)\n",
    "    \n",
    "except TypeError:\n",
    "    print('Give integer value')\n",
    "except ValueError:\n",
    "    print('Give proper value')\n",
    "except:\n",
    "    print('cannot divide by zero')"
   ]
  },
  {
   "cell_type": "code",
   "execution_count": 23,
   "id": "20195392",
   "metadata": {},
   "outputs": [
    {
     "name": "stdout",
     "output_type": "stream",
     "text": [
      "jay\n",
      "0\n",
      "1\n",
      "2\n",
      "cannot divide by zero\n"
     ]
    }
   ],
   "source": [
    "try:\n",
    "    a='jay'\n",
    "    b= (input('enter the values for b'))\n",
    "    b=int(b)\n",
    "    print(a)\n",
    "    for i in range(len(a)):\n",
    "        print(i)\n",
    "    print(b/0)\n",
    "    \n",
    "except (TypeError,ValueError):\n",
    "    print('Give integer value')\n",
    "\n",
    "except:\n",
    "    print('cannot divide by zero')"
   ]
  },
  {
   "cell_type": "code",
   "execution_count": null,
   "id": "fac081e5",
   "metadata": {},
   "outputs": [
    {
     "name": "stdout",
     "output_type": "stream",
     "text": [
      "cannot divide by zero\n"
     ]
    }
   ],
   "source": [
    "try:\n",
    "    a=int(input())\n",
    "    b=int(input()) \n",
    "    result= a/b\n",
    "#except ZeroDivisionError:\n",
    "    #print('cannot divide by zero') \n",
    "except Exception:\n",
    "     print('cannot divide by zero') "
   ]
  },
  {
   "cell_type": "code",
   "execution_count": 24,
   "id": "4f58737c",
   "metadata": {},
   "outputs": [
    {
     "name": "stdout",
     "output_type": "stream",
     "text": [
      "0\n",
      "1\n",
      "2\n",
      "3\n",
      "4\n",
      "5\n",
      "give 2nd number proper\n"
     ]
    }
   ],
   "source": [
    "try:\n",
    "    a= 'manish'\n",
    "    for i in range(len(a)):\n",
    "        print(i)\n",
    "    try:\n",
    "        b=input('enter the 1st values')\n",
    "        b=int(b)\n",
    "        m=input('enter the 2nd value')\n",
    "        m= int(m)\n",
    "        print(b/m)\n",
    "    except ZeroDivisionError:\n",
    "        print('give 2nd number proper')\n",
    "\n",
    "except:\n",
    "    print('give the interger')"
   ]
  },
  {
   "cell_type": "code",
   "execution_count": 25,
   "id": "9d88d6ea",
   "metadata": {},
   "outputs": [
    {
     "name": "stdout",
     "output_type": "stream",
     "text": [
      "5\n",
      "this is finally block\n"
     ]
    }
   ],
   "source": [
    "try:\n",
    "    a= 5\n",
    "    print(a)\n",
    "except : # when the try throws the error it will come to except\n",
    "    print('error occur')\n",
    "finally: # finally block excute any where\n",
    "    print('this is finally block')"
   ]
  },
  {
   "cell_type": "code",
   "execution_count": null,
   "id": "2dee9bae",
   "metadata": {},
   "outputs": [
    {
     "name": "stdout",
     "output_type": "stream",
     "text": [
      "5\n",
      "this is else block\n",
      "this is finally block\n"
     ]
    }
   ],
   "source": [
    "try:\n",
    "    a= 5\n",
    "    print(a)\n",
    "except : # when the try throws the error it will come to except\n",
    "    print('error occur')\n",
    "else:\n",
    "    print('this is else block')\n",
    "finally: # finally block excute any where\n",
    "    print('this is finally block') #what is priadas"
   ]
  },
  {
   "cell_type": "code",
   "execution_count": 28,
   "id": "41b8efec",
   "metadata": {},
   "outputs": [
    {
     "name": "stdout",
     "output_type": "stream",
     "text": [
      "[1, 2, 3, 12, 13, 14]\n"
     ]
    }
   ],
   "source": [
    "a=[1,2,3]\n",
    "for i in range(12,15):\n",
    "    a.append(i)\n",
    "print(a)"
   ]
  },
  {
   "cell_type": "code",
   "execution_count": 31,
   "id": "e8341f74",
   "metadata": {},
   "outputs": [
    {
     "data": {
      "text/plain": [
       "[1, 2, 3, 12, 13, 14, (7, 8, 9), (7, 8, 9), (7, 8, 9)]"
      ]
     },
     "execution_count": 31,
     "metadata": {},
     "output_type": "execute_result"
    }
   ],
   "source": [
    "b=(7,8,9)\n",
    "a.append(b)\n",
    "a"
   ]
  },
  {
   "cell_type": "code",
   "execution_count": 32,
   "id": "0f2be705",
   "metadata": {},
   "outputs": [
    {
     "data": {
      "text/plain": [
       "{1, 2, 3}"
      ]
     },
     "execution_count": 32,
     "metadata": {},
     "output_type": "execute_result"
    }
   ],
   "source": [
    "a={1,2,3}\n",
    "a"
   ]
  },
  {
   "cell_type": "code",
   "execution_count": 33,
   "id": "a9684bf5",
   "metadata": {},
   "outputs": [],
   "source": [
    "a.add(2)"
   ]
  },
  {
   "cell_type": "code",
   "execution_count": 34,
   "id": "e1e9b4ba",
   "metadata": {},
   "outputs": [
    {
     "data": {
      "text/plain": [
       "{1, 2, 3}"
      ]
     },
     "execution_count": 34,
     "metadata": {},
     "output_type": "execute_result"
    }
   ],
   "source": [
    "a"
   ]
  },
  {
   "cell_type": "code",
   "execution_count": 36,
   "id": "613691a6",
   "metadata": {},
   "outputs": [
    {
     "data": {
      "text/plain": [
       "{1, 2, 3, 4}"
      ]
     },
     "execution_count": 36,
     "metadata": {},
     "output_type": "execute_result"
    }
   ],
   "source": [
    "a.add(4)\n",
    "a"
   ]
  },
  {
   "cell_type": "code",
   "execution_count": 37,
   "id": "1146e852",
   "metadata": {},
   "outputs": [],
   "source": [
    "a.update({5,6,7})"
   ]
  },
  {
   "cell_type": "code",
   "execution_count": 38,
   "id": "548f754e",
   "metadata": {},
   "outputs": [
    {
     "data": {
      "text/plain": [
       "{1, 2, 3, 4, 5, 6, 7}"
      ]
     },
     "execution_count": 38,
     "metadata": {},
     "output_type": "execute_result"
    }
   ],
   "source": [
    "a"
   ]
  },
  {
   "cell_type": "code",
   "execution_count": 39,
   "id": "3e8f03e0",
   "metadata": {},
   "outputs": [
    {
     "data": {
      "text/plain": [
       "1"
      ]
     },
     "execution_count": 39,
     "metadata": {},
     "output_type": "execute_result"
    }
   ],
   "source": [
    "a.pop()"
   ]
  },
  {
   "cell_type": "code",
   "execution_count": 40,
   "id": "b461b475",
   "metadata": {},
   "outputs": [
    {
     "data": {
      "text/plain": [
       "{2, 3, 4, 5, 6, 7}"
      ]
     },
     "execution_count": 40,
     "metadata": {},
     "output_type": "execute_result"
    }
   ],
   "source": [
    "a"
   ]
  },
  {
   "cell_type": "code",
   "execution_count": null,
   "id": "a5e1b0dc",
   "metadata": {},
   "outputs": [
    {
     "data": {
      "text/plain": [
       "\"['p', 'y', 's', 't', 'r', 'o', 'n', 'g']\""
      ]
     },
     "execution_count": 48,
     "metadata": {},
     "output_type": "execute_result"
    }
   ],
   "source": [
    "a='python'\n",
    "b=list(a)\n",
    "b[2:]='strong'\n",
    "b\n",
    "b.\n"
   ]
  },
  {
   "cell_type": "code",
   "execution_count": 49,
   "id": "bf3389b7",
   "metadata": {},
   "outputs": [
    {
     "data": {
      "text/plain": [
       "'pystrong'"
      ]
     },
     "execution_count": 49,
     "metadata": {},
     "output_type": "execute_result"
    }
   ],
   "source": [
    "a='python'\n",
    "a.replace('thon','strong')"
   ]
  },
  {
   "cell_type": "code",
   "execution_count": 2,
   "id": "d0988e67",
   "metadata": {},
   "outputs": [
    {
     "name": "stdout",
     "output_type": "stream",
     "text": [
      "th$s\n",
      "is\n",
      "ma$esh.\n",
      "ma$esh\n",
      "li$e\n",
      "py$hon.\n",
      "Py$hon\n",
      "is\n",
      "my\n",
      "fa$orite\n",
      "su$ject\n"
     ]
    }
   ],
   "source": [
    "a='this is mahesh. mahesh like python. Python is my favorite subject'\n",
    "words=a.split(' ')\n",
    "for word in (words):\n",
    "    if len(word) > 2:  \n",
    "        word = word[:2] + '$' + word[3:]\n",
    "    print(word)\n",
    "    "
   ]
  },
  {
   "cell_type": "code",
   "execution_count": 3,
   "id": "424ec8ac",
   "metadata": {},
   "outputs": [],
   "source": [
    "## system will not handle syntax or indetation error"
   ]
  },
  {
   "cell_type": "code",
   "execution_count": null,
   "id": "8721d4bd",
   "metadata": {},
   "outputs": [],
   "source": []
  },
  {
   "cell_type": "code",
   "execution_count": null,
   "id": "42e2ab97",
   "metadata": {},
   "outputs": [],
   "source": []
  }
 ],
 "metadata": {
  "kernelspec": {
   "display_name": "base",
   "language": "python",
   "name": "python3"
  },
  "language_info": {
   "codemirror_mode": {
    "name": "ipython",
    "version": 3
   },
   "file_extension": ".py",
   "mimetype": "text/x-python",
   "name": "python",
   "nbconvert_exporter": "python",
   "pygments_lexer": "ipython3",
   "version": "3.13.5"
  }
 },
 "nbformat": 4,
 "nbformat_minor": 5
}
