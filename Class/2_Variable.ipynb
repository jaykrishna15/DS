{
 "cells": [
  {
   "cell_type": "code",
   "execution_count": 1,
   "id": "9ee192d2",
   "metadata": {},
   "outputs": [],
   "source": [
    "a= 10"
   ]
  },
  {
   "cell_type": "code",
   "execution_count": 2,
   "id": "e9b8a146",
   "metadata": {},
   "outputs": [],
   "source": [
    "A='Jay'"
   ]
  },
  {
   "cell_type": "code",
   "execution_count": 3,
   "id": "724528af",
   "metadata": {},
   "outputs": [],
   "source": [
    "a1=23"
   ]
  },
  {
   "cell_type": "code",
   "execution_count": 4,
   "id": "bc69935a",
   "metadata": {},
   "outputs": [],
   "source": [
    "yourname = \"jay\""
   ]
  },
  {
   "cell_type": "code",
   "execution_count": null,
   "id": "ecabe0d9",
   "metadata": {},
   "outputs": [],
   "source": [
    "is"
   ]
  }
 ],
 "metadata": {
  "kernelspec": {
   "display_name": "Python 3",
   "language": "python",
   "name": "python3"
  },
  "language_info": {
   "codemirror_mode": {
    "name": "ipython",
    "version": 3
   },
   "file_extension": ".py",
   "mimetype": "text/x-python",
   "name": "python",
   "nbconvert_exporter": "python",
   "pygments_lexer": "ipython3",
   "version": "3.11.9"
  }
 },
 "nbformat": 4,
 "nbformat_minor": 5
}
